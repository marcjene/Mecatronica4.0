{
 "cells": [
  {
   "cell_type": "markdown",
   "metadata": {},
   "source": [
    "# Examen Machine Learning MECATRÒNICA 4.0"
   ]
  },
  {
   "cell_type": "markdown",
   "metadata": {},
   "source": [
    "El examen práctico consiste en 3 ejercicios:\n",
    "* **Introducción a Python:** Ejercicio de 3 puntos con 3 subejercicios.\n",
    "* **Estadística descriptiva y EDA:** Ejercicio de 2 puntos con 5 subejercicios.\n",
    "* **Aprendizaje Supervisado - Clasificación:** Ejercicio de 5 puntos con 11 pasos y una última pregunta.\n",
    "\n",
    "Información relevante:\n",
    "- El examen tiene una duración de 1:30h. En caso de que se crea conveniente, se dará media hora más para acabar el examen.\n",
    "- Se pueden usar apuntes y consultar a Internet.\n",
    "- También se puede preguntar al profesor, el cual podrá ayudar a entender la pregunta pero nunca dará la solución. \n",
    "- El Notebook resuelto se entregará via el campus virtual cambiando el nombre del archivo."
   ]
  },
  {
   "cell_type": "markdown",
   "metadata": {},
   "source": [
    "## Introducción a Python (3 puntos)"
   ]
  },
  {
   "cell_type": "code",
   "execution_count": 28,
   "metadata": {},
   "outputs": [],
   "source": [
    "# Importamos librerías genéricas\n",
    "# Si necesitáis otras librerías podéis añadirlas\n",
    "import numpy as np\n",
    "import pandas as pd\n",
    "import matplotlib.pyplot as plt\n",
    "import seaborn as sns\n",
    "\n",
    "# Las siguientes dos línias sirven para deshabilitar los FutureWarnings\n",
    "import warnings\n",
    "warnings.simplefilter(action='ignore', category=FutureWarning)"
   ]
  },
  {
   "cell_type": "markdown",
   "metadata": {},
   "source": [
    "#### Ejercicio 1\n",
    "Con una línia de codigo, conseguir los siguientes sets de carácteres:\n",
    "- La última letra.\n",
    "- La segunda palabra.\n",
    "- El primer carácter, el cuarto, el séptimo... y así cada 3.\n",
    "- La última palabra.\n",
    "- Todo el texto al revés."
   ]
  },
  {
   "cell_type": "code",
   "execution_count": 60,
   "metadata": {},
   "outputs": [],
   "source": [
    "texto = \"No tengáis nervios, es un examen fácil\"\n",
    "\n",
    "##########################################################\n",
    "# print('La última letra:', )\n",
    "# print('La segunda palabra:', )\n",
    "# print('Cada 3 carácteres:', )\n",
    "# print('Última palabra:', )\n",
    "# print('Todo el texto al revés:', )"
   ]
  },
  {
   "cell_type": "markdown",
   "metadata": {},
   "source": [
    "#### Ejercicio 2\n",
    "Dado el array de la siguiente figura, devuelve los elementos marcados.\n",
    "- Elementos rojos.\n",
    "- Elementos amarillos.\n",
    "- Elementos verdes.\n",
    "- Elementos azules."
   ]
  },
  {
   "cell_type": "markdown",
   "metadata": {},
   "source": [
    "<img src=\"Figuras/array.png\" alt=\"Drawing\" style=\"width: 300px;\"/>"
   ]
  },
  {
   "cell_type": "code",
   "execution_count": 61,
   "metadata": {},
   "outputs": [
    {
     "data": {
      "text/plain": [
       "array([[ 0,  1,  2,  3,  4,  5,  6],\n",
       "       [10, 11, 12, 13, 14, 15, 16],\n",
       "       [20, 21, 22, 23, 24, 25, 26],\n",
       "       [30, 31, 32, 33, 34, 35, 36],\n",
       "       [40, 41, 42, 43, 44, 45, 46],\n",
       "       [50, 51, 52, 53, 54, 55, 56],\n",
       "       [60, 61, 62, 63, 64, 65, 66]])"
      ]
     },
     "execution_count": 61,
     "metadata": {},
     "output_type": "execute_result"
    }
   ],
   "source": [
    "arr = np.array([[0,1,2,3,4,5,6],[10,11,12,13,14,15,16],[20,21,22,23,24,25,26],[30,31,32,33,34,35,36],[40,41,42,43,44,45,46],[50,51,52,53,54,55,56],[60,61,62,63,64,65,66]])\n",
    "arr\n",
    "\n",
    "## Nueva array con selección elementos rojos:\n",
    "# arr2 = \n",
    "# print(arr2)\n",
    "## Nueva array con selección elementos amarillos:\n",
    "# arr3 = \n",
    "# print(arr3)\n",
    "## Nueva array con selección elementos verdes:\n",
    "# arr4 = \n",
    "# print(arr4)\n",
    "## Nueva array con selección elementos azules:\n",
    "# arr5 = \n",
    "# print(arr5)"
   ]
  },
  {
   "cell_type": "markdown",
   "metadata": {},
   "source": [
    "#### Ejercicio 3\n",
    "- Importar archivo \"marketing_campaign.csv\"\n",
    "- Obtener resumen del dataset (variables numéricas)\n",
    "- Mirar si hay valores nulos o NaN y eliminar las filas en las que se encuentren estos\n",
    "- Filtrar el dataset y quedarse solo con los clientes que esten casados (\"Married\")\n",
    "- Calcular promedio del año de nacimiento (\"Year_Birth\") de los clientes casados\n",
    "- Hacer un gráfico para comparar las variables \"Income\" (ingresos) con \"MntWines\" (gastos en vino) de los clientes casados\n",
    "- Calcular cuantos clientes casados no gastan nada en vinos"
   ]
  },
  {
   "cell_type": "code",
   "execution_count": 62,
   "metadata": {},
   "outputs": [],
   "source": [
    "# Importar dataset y guardar en la variable \"df_3\"\n",
    "# df_3 = \n"
   ]
  },
  {
   "cell_type": "code",
   "execution_count": 63,
   "metadata": {},
   "outputs": [],
   "source": [
    "# Resumen dataset\n"
   ]
  },
  {
   "cell_type": "code",
   "execution_count": 65,
   "metadata": {},
   "outputs": [],
   "source": [
    "# Hay NaN? Eliminar las filas con NaN\n"
   ]
  },
  {
   "cell_type": "code",
   "execution_count": 66,
   "metadata": {},
   "outputs": [],
   "source": [
    "# Filtrar dataset: clientes casados\n"
   ]
  },
  {
   "cell_type": "code",
   "execution_count": 67,
   "metadata": {},
   "outputs": [],
   "source": [
    "# Promedio 'Year_Birth' de los clientes casados\n"
   ]
  },
  {
   "cell_type": "code",
   "execution_count": 68,
   "metadata": {},
   "outputs": [],
   "source": [
    "# Gráfico 'Income' - 'MntWines'\n"
   ]
  },
  {
   "cell_type": "code",
   "execution_count": 69,
   "metadata": {},
   "outputs": [],
   "source": [
    "# Cuantos clientes casados no gastan nada en vinos?\n"
   ]
  },
  {
   "cell_type": "markdown",
   "metadata": {},
   "source": [
    "## Estadística descriptiva y EDA (2 puntos)\n",
    "Para esta parte del examen, que repasa los conceptos estudiados en la sesión 3 (Estadística descriptiva y EDA), trabajaremos con un dataset de Pokemon."
   ]
  },
  {
   "cell_type": "code",
   "execution_count": 70,
   "metadata": {},
   "outputs": [],
   "source": [
    "# Importamos el dataset que usaremos\n",
    "# pokemones = "
   ]
  },
  {
   "cell_type": "markdown",
   "metadata": {},
   "source": [
    "#### Ejercicio 4\n",
    "Obtener el número total de pokemones que son LEGENDARIOS"
   ]
  },
  {
   "cell_type": "code",
   "execution_count": 71,
   "metadata": {},
   "outputs": [],
   "source": [
    "# Número pokemones legendarios\n"
   ]
  },
  {
   "cell_type": "markdown",
   "metadata": {},
   "source": [
    "#### Ejercicio 5\n",
    "Devolver un dataframe con los pokemones ordenados de mayor a menor ataque"
   ]
  },
  {
   "cell_type": "code",
   "execution_count": 72,
   "metadata": {},
   "outputs": [],
   "source": [
    "# Devolver un dataframe con los pokemones ordenados de mayor a menor ataque\n"
   ]
  },
  {
   "cell_type": "markdown",
   "metadata": {},
   "source": [
    "#### Ejercicio 6\n",
    "¿Cuáles son los 5 pokemones de tipo Water mas poderosos (con mayor ataque)?"
   ]
  },
  {
   "cell_type": "code",
   "execution_count": 73,
   "metadata": {},
   "outputs": [],
   "source": [
    "# Obtener los 5 pokemones de agua más poderosos\n"
   ]
  },
  {
   "cell_type": "markdown",
   "metadata": {},
   "source": [
    "#### Ejercicio 7\n",
    "Obtener la media de Ataque de los Pokemones tipo Fuego (Fire)"
   ]
  },
  {
   "cell_type": "code",
   "execution_count": 74,
   "metadata": {},
   "outputs": [],
   "source": [
    "# Obtener la media de ataques de los pokemones tipo fuego\n"
   ]
  },
  {
   "cell_type": "markdown",
   "metadata": {},
   "source": [
    "#### Ejercicio 8\n",
    "Obtener la moda en los tipos de Pokemon. ¿Que tipo de pokemon predomina? (Ej. Grass, Bug, Water etc...)"
   ]
  },
  {
   "cell_type": "code",
   "execution_count": 75,
   "metadata": {},
   "outputs": [],
   "source": [
    "# Obtener el tipo de pokemon que aparece más veces en el dataset\n"
   ]
  },
  {
   "cell_type": "markdown",
   "metadata": {},
   "source": [
    "## Aprendizaje Supervisado: Clasificación (5 puntos)"
   ]
  },
  {
   "cell_type": "markdown",
   "metadata": {},
   "source": [
    "Ejercicio de clasificación de la calidad de agua.\n",
    "El dataset contiene la concentración de los distintos componentes del agua y una última columna que indica si es seguro para beber o no ('is_safe').\n",
    "- El ejercicio es guiado, se indican los pasos que se tienen que seguir. \n",
    "- En negrita, se encuentran los pasos imprescindibles a seguir con el ejercicio. \n",
    "- Todos los pasos suman puntos."
   ]
  },
  {
   "cell_type": "markdown",
   "metadata": {},
   "source": [
    "**Paso 1: Importar dataset ('water_quality.xlsx')**"
   ]
  },
  {
   "cell_type": "code",
   "execution_count": 76,
   "metadata": {},
   "outputs": [],
   "source": [
    "# Importar dataset\n"
   ]
  },
  {
   "cell_type": "markdown",
   "metadata": {},
   "source": [
    "Paso 2: Comprobar tipo de datos de cada columna"
   ]
  },
  {
   "cell_type": "code",
   "execution_count": 77,
   "metadata": {},
   "outputs": [],
   "source": [
    "# Comprobar tipo de datos\n"
   ]
  },
  {
   "cell_type": "markdown",
   "metadata": {},
   "source": [
    "**Paso 3: Comprobar si hay algun dato NaN y, en caso de que lo haya, soluciónalo (estrategia a tu elección)**"
   ]
  },
  {
   "cell_type": "code",
   "execution_count": 78,
   "metadata": {},
   "outputs": [],
   "source": [
    "# Comprobar si hay NaN\n"
   ]
  },
  {
   "cell_type": "code",
   "execution_count": 36,
   "metadata": {},
   "outputs": [],
   "source": [
    "# Rellenar los missing values de cada atributo con la estrategia que se decida \n"
   ]
  },
  {
   "cell_type": "code",
   "execution_count": 79,
   "metadata": {},
   "outputs": [],
   "source": [
    "# Comprobar que ya no haya valores nulos\n"
   ]
  },
  {
   "cell_type": "markdown",
   "metadata": {},
   "source": [
    "**Paso 4: Transformar datos cualitativos a cuantitativos (ej: \"is_safe\" de \"Yes/No\" a 1/0)**"
   ]
  },
  {
   "cell_type": "code",
   "execution_count": 80,
   "metadata": {},
   "outputs": [],
   "source": [
    "# Transformar datos cualitativos a cuantitativos\n"
   ]
  },
  {
   "cell_type": "markdown",
   "metadata": {},
   "source": [
    "Paso 5: Comprobar si las etiquetas están desbalanceadas"
   ]
  },
  {
   "cell_type": "code",
   "execution_count": 81,
   "metadata": {},
   "outputs": [],
   "source": [
    "# Comprobar si las etiquetas están desbalanceadas\n"
   ]
  },
  {
   "cell_type": "markdown",
   "metadata": {},
   "source": [
    "Paso 6: Hacer una matriz de correlación y responder a las siguientes preguntas.\n",
    "* **Qué atributo tiene una mayor correlación con la variable objetivo ('is_safe')?**\n",
    "* **Qué atributo tiene una menor correlación con la variable objetivo?**"
   ]
  },
  {
   "cell_type": "code",
   "execution_count": 82,
   "metadata": {},
   "outputs": [],
   "source": [
    "# Matriz de correlación\n"
   ]
  },
  {
   "cell_type": "markdown",
   "metadata": {},
   "source": [
    "**Paso 7: Normalización de los datos** (ej: usando el MinMaxScaler)"
   ]
  },
  {
   "cell_type": "code",
   "execution_count": 83,
   "metadata": {},
   "outputs": [],
   "source": [
    "# Seleccionar todos los atributos (Sin considerar 'is_safe')\n",
    "\n",
    "\n",
    "# Importar MinMaxScaler\n",
    "\n",
    "\n",
    "# Escalar los datos\n"
   ]
  },
  {
   "cell_type": "markdown",
   "metadata": {},
   "source": [
    "**Paso 8: Dividir los datos**\n",
    "\n",
    "En este paso se tendra que realizar la división de los datos para que quede aproximadamente:\n",
    "- Datos de entrenamiento 70%\n",
    "- Datos de Validación 15%\n",
    "- Datos de Prueba 15%.\n",
    "\n",
    "Primero, divido los datos en:\n",
    "\n",
    "- Features/características/atributos/variables de entrada: X\n",
    "- Target/etiquetas: Y\n",
    "\n",
    "Después, divido la X y la Y en train, test y validation."
   ]
  },
  {
   "cell_type": "code",
   "execution_count": 84,
   "metadata": {},
   "outputs": [],
   "source": [
    "# Atributos X (features); etiquetas y (target) y transformar a numpy\n"
   ]
  },
  {
   "cell_type": "code",
   "execution_count": 85,
   "metadata": {},
   "outputs": [],
   "source": [
    "# Importar train_test_split\n",
    "\n",
    "\n",
    "# Fijar un porcentaje de \"test_size\"\n",
    "\n",
    "\n",
    "# Divido los datos en datos de entreno, validación y prueba\n"
   ]
  },
  {
   "cell_type": "markdown",
   "metadata": {},
   "source": [
    "**Paso 9: Construcción y evaluación de modelos**\n",
    "\n",
    "Usar (como mínimo) los siguientes modelos:\n",
    "\n",
    "- Logistic Regression\n",
    "- Random Forest Classifier\n",
    "- KNeighbors Classifier\n",
    "\n",
    "Responder a las siguientes preguntas:\n",
    "* **¿Cuál obtiene mejores resultados?** \n",
    "* **¿Qué balanced_accuracy obtiene?** "
   ]
  },
  {
   "cell_type": "code",
   "execution_count": 86,
   "metadata": {},
   "outputs": [],
   "source": [
    "# Importar modelos\n"
   ]
  },
  {
   "cell_type": "code",
   "execution_count": 87,
   "metadata": {},
   "outputs": [],
   "source": [
    "# Definir folds, metrica de error (ej: balanced_accuracy) y crear modelos\n"
   ]
  },
  {
   "cell_type": "code",
   "execution_count": 88,
   "metadata": {},
   "outputs": [],
   "source": [
    "# Importar librerias necesarias\n",
    "\n",
    "\n",
    "# Entrenar con validación cruzada y comparar resultados entre algoritmos\n",
    "\n",
    "\n",
    "    # Comparar resultados entre algoritmos\n",
    "    "
   ]
  },
  {
   "cell_type": "markdown",
   "metadata": {},
   "source": [
    "Paso 10: Ajustar hiperparámetros\n",
    "\n",
    "Pasos para realizar el hiperajuste de los parámetros:\n",
    "\n",
    "* Métrica para optimizar: *balanced_accuracy*\n",
    "* Definir los rangos de los parámetros de búsqueda: *params*\n",
    "* Entrenar con los datos de validación: *X_val*\n",
    "* Escalar los valores de validación si es necesario\n",
    "\n",
    "Responder a la siguiente pregunta:\n",
    "* **¿Qué hiperparámetros dan los mejores resultados?** "
   ]
  },
  {
   "cell_type": "code",
   "execution_count": 89,
   "metadata": {
    "scrolled": true
   },
   "outputs": [],
   "source": [
    "# Importar librerias necesarias\n",
    "\n",
    "\n",
    "# Definir hiperparámetros para el modelo con mejores resultados\n",
    "\n",
    "\n",
    "# Hacer validación cruzada\n"
   ]
  },
  {
   "cell_type": "markdown",
   "metadata": {},
   "source": [
    "**Paso 11: Evaluación final del modelo**\n",
    "\n",
    "Métricas de evaluación:\n",
    "  * 1. Matriz de confusión\n",
    "  * 2. Coeficiente de Matthews (MCC)\n",
    "  * 3. Curva ROC/AUC\n",
    "\n",
    "    \n",
    "Entrena el modelo con los hiperparámetros óptimos encontrados en el apartado anterior y realiza las predicciones. "
   ]
  },
  {
   "cell_type": "code",
   "execution_count": 90,
   "metadata": {},
   "outputs": [],
   "source": [
    "# Definir modelo final con hiperparámetros óptimos\n",
    "\n",
    "\n",
    "# Realizar las predicciones con X_test\n"
   ]
  },
  {
   "cell_type": "code",
   "execution_count": 91,
   "metadata": {},
   "outputs": [],
   "source": [
    "# Importar librerías necesarias\n",
    "\n",
    "\n",
    "# Matriz de confusión\n"
   ]
  },
  {
   "cell_type": "code",
   "execution_count": 92,
   "metadata": {},
   "outputs": [],
   "source": [
    "# Importar libreria y calcular MCC\n"
   ]
  },
  {
   "cell_type": "code",
   "execution_count": 93,
   "metadata": {},
   "outputs": [],
   "source": [
    "# Curva ROC/AUC\n"
   ]
  },
  {
   "cell_type": "markdown",
   "metadata": {},
   "source": [
    "**Última pregunta**\n",
    "\n",
    "Explica 3 estrategias que podrias seguir para mejorar el rendimiento del algoritmo"
   ]
  },
  {
   "cell_type": "markdown",
   "metadata": {},
   "source": [
    "* Estrategia 1:\n",
    "* Estrategia 2:\n",
    "* Estrategia 3: "
   ]
  },
  {
   "cell_type": "code",
   "execution_count": null,
   "metadata": {},
   "outputs": [],
   "source": []
  }
 ],
 "metadata": {
  "kernelspec": {
   "display_name": "Python 3",
   "language": "python",
   "name": "python3"
  },
  "language_info": {
   "codemirror_mode": {
    "name": "ipython",
    "version": 3
   },
   "file_extension": ".py",
   "mimetype": "text/x-python",
   "name": "python",
   "nbconvert_exporter": "python",
   "pygments_lexer": "ipython3",
   "version": "3.7.4"
  }
 },
 "nbformat": 4,
 "nbformat_minor": 2
}
