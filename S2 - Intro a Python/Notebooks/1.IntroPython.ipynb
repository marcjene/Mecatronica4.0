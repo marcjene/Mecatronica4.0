{
 "cells": [
  {
   "cell_type": "markdown",
   "metadata": {},
   "source": [
    "#### <img src=\"Figures/top_ML.png\" alt=\"Drawing\" style=\"width: 1000px;\"/>"
   ]
  },
  {
   "cell_type": "markdown",
   "metadata": {
    "slideshow": {
     "slide_type": "slide"
    }
   },
   "source": [
    "# Introducción a Python    "
   ]
  },
  {
   "cell_type": "markdown",
   "metadata": {},
   "source": [
    "### CONTENIDOS\n",
    "1. Introducción a Jupyter Notebooks \n",
    "2. Variables y estructuras de datos \n",
    "3. Estructuras condicionales \n",
    "4. Listas y loops \n",
    "5. Diccionarios y tablas de frecuencia\n",
    "6. Funciones \n",
    "7. Funciones avanzadas \n",
    "8. Lenguaje orientado a objetos \n",
    "9. Introducción a NumPy \n",
    "10. Introducción a Pandas\n",
    "11. Creación de gráficos y visualización"
   ]
  },
  {
   "cell_type": "markdown",
   "metadata": {},
   "source": [
    "## 1. Introducción a Jupyter Notebooks\n",
    "\n",
    "<img src=\"Figures/Jupyter.png\" alt=\"Drawing\" style=\"width: 200px;\"/>\n",
    "\n",
    "Jupyter notebooks es un entorno (IDE) que nos permite intercalar contenido de texto (se llamará cela 'Markdown') con código Python (tipo de cela 'Code') que se puede ejecutar cela por cela como se puede ver en los siguientes ejemplos. \n",
    "\n",
    "Los comando básicos para poder seguir este curso y empezar a usar Jupyter Notebooks son:\n",
    "\n",
    "<img src=\"Figures/menu.png\" alt=\"Drawing\" style=\"width: 500px;\"/>\n",
    "\n",
    "* `Shift+Enter`: Ejecutar cela y seleccionar siguiente cela\n",
    "* `Alt+Enter`: Ejecutar cela y insertar una cela nueva\n",
    "* `ESC`: para entrar en modo 'command'. Una vez en este modo:\n",
    "    * `H` lista de comandos\n",
    "    * `A` insertar cela debajo\n",
    "    * `B` insterar cela arriba\n",
    "    * `D,D` D dos veces elimina la cela\n",
    "    * `Y` cambiar cela a tipo 'Code'\n",
    "    * `M` cambiar cela a 'Markdown'\n",
    "    * `Enter`pasar a modo edit"
   ]
  },
  {
   "cell_type": "code",
   "execution_count": 3,
   "metadata": {
    "scrolled": true,
    "slideshow": {
     "slide_type": "subslide"
    }
   },
   "outputs": [
    {
     "data": {
      "text/plain": [
       "16"
      ]
     },
     "execution_count": 3,
     "metadata": {},
     "output_type": "execute_result"
    }
   ],
   "source": [
    "3 + 4 + 9"
   ]
  },
  {
   "cell_type": "code",
   "execution_count": 4,
   "metadata": {
    "scrolled": true
   },
   "outputs": [
    {
     "name": "stdout",
     "output_type": "stream",
     "text": [
      "El resultado de sumar 87 y 34 es 121.\n"
     ]
    }
   ],
   "source": [
    "# Ejemplo de código en Python\n",
    "# Cambiar los valores de a y b, y observar el resultado al ejecutar la cela \n",
    "\n",
    "a=87\n",
    "b=34\n",
    "c=a+b\n",
    "\n",
    "print('El resultado de sumar {} y {} es {}.'.format(a,b,c))"
   ]
  },
  {
   "cell_type": "markdown",
   "metadata": {},
   "source": [
    "## 2. Variables y estructuras de datos\n",
    "\n",
    "Las variables en Python se crean cuando se definen por primera vez, es decir, cuando se les asigna un valor por primera vez (utilizando el operador <code> = </code>). Por esta razón, en Python no hace falta declarar las variables. \n",
    "\n",
    "Los principales tipos de variables que se pueden encontrar son:\n",
    "* **Numéricas**\n",
    "    * **Integer (int):** Números naturales positivos y negativos.\n",
    "    * **Float:** Números reales.\n",
    "    * **Complex:** Números complejos. La parte imaginaria se multiplica por `j` para representar la raíz de `-1`. Por ejemplo: <code>a = 2+3j</code>\n",
    "* **Boleanas**\n",
    "    Son variables que pueden tomar como valor cierto o falso, representados en Python por `True` y `False` usando mayúsculas.\n",
    "* **Estructuras de datos (secuencias de datos)**\n",
    "    Lista ordenada de valores del mismo o distinto tipo. En Python existen:\n",
    "    * **String:** cadenas de texto\n",
    "    * **Lista:** conjuntos ordenados de elementos\n",
    "    * **Tupla:** conjuntos ordenados e inmutables de elementos\n",
    "    * **Diccionario:** conjuntos de elementos caracterizados por un identificador y un valor    "
   ]
  },
  {
   "cell_type": "markdown",
   "metadata": {},
   "source": [
    "Existen algunas reglas generales para los nombres de variables:\n",
    "+ Se usan solo letras, números y \"guiones bajos\" (_)\n",
    "+ NO se usan espacios en ningún lugar del nombre\n",
    "+ El nombre no puede empezar con un número\n",
    "+ Las letras mayúsculas se tratan como distintas de las minúsculas (es decir, Python distingue entre mayúsculas y minúsculas)"
   ]
  },
  {
   "cell_type": "code",
   "execution_count": null,
   "metadata": {
    "scrolled": true
   },
   "outputs": [],
   "source": [
    "# EL nombre no puede empezar como un número\n",
    "3a = 10"
   ]
  },
  {
   "cell_type": "markdown",
   "metadata": {},
   "source": [
    "Cada vez que se crea o modifica una variable, Python interpreta qué tipo de variable es. Cuando se asigna un nuevo valor a un objeto existente (*escritura dinámica*), los valores anteriores de ese objeto se borran de la memoria de la computadora. El primer valor de **a** es el número real 13.0, pero después de una nueva asignación:"
   ]
  },
  {
   "cell_type": "code",
   "execution_count": null,
   "metadata": {},
   "outputs": [],
   "source": [
    "# Escritura dinámica\n",
    "a = 13.0\n",
    "a = 'b'\n",
    "print(a)"
   ]
  },
  {
   "cell_type": "markdown",
   "metadata": {},
   "source": [
    "La función ``type()`` muestra el TIPO del dato que le pasamos como argumento:"
   ]
  },
  {
   "cell_type": "code",
   "execution_count": null,
   "metadata": {
    "scrolled": true
   },
   "outputs": [],
   "source": [
    "# Declarar una variable a y mirar qué tipo de variable es utilizando \"type(nombre_variable)\"\n",
    "\n",
    "a = 2\n",
    "type(a)"
   ]
  },
  {
   "cell_type": "code",
   "execution_count": null,
   "metadata": {
    "scrolled": true
   },
   "outputs": [],
   "source": [
    "# Probar de declarar otro tipo de variable y mirar qué tipo es\n",
    "\n",
    "a = 2.0\n",
    "type(a)"
   ]
  },
  {
   "cell_type": "markdown",
   "metadata": {},
   "source": [
    "### 2.1 Tipos y operadores básicos\n",
    "\n",
    "Los operadores básicos en Python son:\n",
    "\n",
    "+ Suma (también para strings, tuplas o listas): <code>a + b</code>\n",
    "+ Resta: <code>a - b</code>\n",
    "+ Multiplicación (también para strings, tuplas y listas): <code>a * b</code>\n",
    "+ División: <code>a / b</code>\n",
    "+ Division entera: <code>a // b</code>\n",
    "+ Resto de la división o residuo: <code>a % b</code>\n",
    "+ Exponencial: <code>a ** b</code>\n",
    "+ Asignamiento: <code>=</code>, <code>-=</code>, <code>+=</code>,<code>/=</code>,<code>*=</code>, <code>%=</code>, <code>//=</code>, <code>**=</code>\n",
    "+ Comparaciones booleanas: <code>==</code>, <code>!=</code>, <code><</code>,<code>></code>,<code><=</code>, <code>>=</code>\n",
    "+ Operaciones booleanas: <code>and</code>, <code>or</code>, <code>not</code>\n",
    "+ Operaciones para comprobar pertenecencia: <code>in</code>, <code>not in</code>\n",
    "+ Operaciones para identificar objetos: <code>is</code>, <code>is not</code>\n",
    "<!-- + Bitwise operators (or, xor, and, complement): <code>|</code>, <code>^</code>, <code>&</code>, <code>~</code> -->\n",
    "<!-- + Left and right bit shift: <code><<</code>, <code>>></code> -->"
   ]
  },
  {
   "cell_type": "code",
   "execution_count": 1,
   "metadata": {},
   "outputs": [
    {
     "name": "stdout",
     "output_type": "stream",
     "text": [
      "Operadores de asignación\n",
      "x+= 9\n",
      "x-= 5\n",
      "x*= 14\n",
      "x//= 3\n"
     ]
    }
   ],
   "source": [
    "# Operadores de asignación\n",
    "\n",
    "a=7; b=2\n",
    "\n",
    "print(\"Operadores de asignación\")\n",
    "x=a; x+=b;  print(\"x+=\", x)  # 9\n",
    "x=a; x-=b;  print(\"x-=\", x)  # 5\n",
    "x=a; x*=b;  print(\"x*=\", x)  # 14\n",
    "x=a; x//=b; print(\"x//=\", x) # 3"
   ]
  },
  {
   "cell_type": "code",
   "execution_count": 3,
   "metadata": {},
   "outputs": [
    {
     "data": {
      "text/plain": [
       "True"
      ]
     },
     "execution_count": 3,
     "metadata": {},
     "output_type": "execute_result"
    }
   ],
   "source": [
    "# Comparaciones booleanas (operaciones relacionales)\n",
    "\n",
    "\n",
    "a>=b\n"
   ]
  },
  {
   "cell_type": "code",
   "execution_count": 2,
   "metadata": {},
   "outputs": [
    {
     "name": "stdout",
     "output_type": "stream",
     "text": [
      "True\n",
      "False\n",
      "True\n"
     ]
    }
   ],
   "source": [
    "# Operadores booleranos o lógicos\n",
    "\n",
    "print(a>b and b<a)   # True\n",
    "print(a==7 and b==5)   # False\n",
    "\n",
    "print(a==7 or b==5)   # True\n"
   ]
  },
  {
   "cell_type": "code",
   "execution_count": null,
   "metadata": {},
   "outputs": [],
   "source": [
    "\n",
    "# Operadores para identificar pertenencia\n",
    "\n",
    "mi_lista = [1, 3, 2, 7, 9, 8, 6]\n",
    "print(4 in mi_lista)\n"
   ]
  },
  {
   "cell_type": "code",
   "execution_count": 4,
   "metadata": {},
   "outputs": [
    {
     "name": "stdout",
     "output_type": "stream",
     "text": [
      "True\n",
      "True\n",
      "False\n"
     ]
    }
   ],
   "source": [
    "# Operadores para identificar objetos \n",
    "\n",
    "a = 7\n",
    "b = 2  \n",
    "c = 7\n",
    "print(a is c) # muestra True\n",
    "print (a is not b) # muestra True\n",
    "print (a is not c) # muestra False"
   ]
  },
  {
   "cell_type": "markdown",
   "metadata": {},
   "source": [
    "### Python como calculadora\n",
    "\n",
    "Python tiene una notación concisa para la aritmética que se parece mucho a la forma tradicional de escribir operaciones."
   ]
  },
  {
   "cell_type": "code",
   "execution_count": null,
   "metadata": {
    "scrolled": true
   },
   "outputs": [],
   "source": [
    "a = 3 + 2\n",
    "b= 3.5 * -8\n",
    "c = 10/6\n",
    "print(a, b, c, 10./6.)"
   ]
  },
  {
   "cell_type": "code",
   "execution_count": null,
   "metadata": {},
   "outputs": [],
   "source": [
    "# Ejemplo\n",
    "\n",
    "a = 12\n",
    "b = 13.3\n",
    "c = a + b\n",
    "print (c, type(a), type(b), type(c))"
   ]
  },
  {
   "cell_type": "markdown",
   "metadata": {},
   "source": [
    "### Módulos \n",
    "\n",
    "Algunas funciones matemáticas más complejas no están disponibles en el módulo básico de Python y deben importarse desde un módulo específico. Para importar librerías, solo se debe escribir \"import + el nombre de la librería\".\n",
    "\n",
    "<img src=\"Figures/python_import.jfif\" alt=\"Drawing\" style=\"width: 250px;\"/>\n",
    "\n",
    "En cada caso se deberá leer bien la documentación de las librerías usadas para concocer sus características y saber como implementarlas. Por ejemplo, para math:\n",
    "\n",
    "https://docs.python.org/3/library/math.html"
   ]
  },
  {
   "cell_type": "code",
   "execution_count": null,
   "metadata": {
    "scrolled": true
   },
   "outputs": [],
   "source": [
    "import math   # solo se ejecutará si la librería no ha estado importada previamente\n",
    "print(math.pi + math.sin(100) + math.ceil(2.3))  # The math.ceil() method rounds a number UP to the nearest integer,"
   ]
  },
  {
   "cell_type": "markdown",
   "metadata": {},
   "source": [
    "### Operadores booleanos"
   ]
  },
  {
   "cell_type": "code",
   "execution_count": null,
   "metadata": {
    "scrolled": true
   },
   "outputs": [],
   "source": [
    "a = 4\n",
    "b = 40\n",
    "(a>2) and (b>30)"
   ]
  },
  {
   "cell_type": "code",
   "execution_count": null,
   "metadata": {
    "scrolled": true
   },
   "outputs": [],
   "source": [
    "(a>2) or (b>100)"
   ]
  },
  {
   "cell_type": "code",
   "execution_count": null,
   "metadata": {
    "scrolled": true
   },
   "outputs": [],
   "source": [
    "not(a>2)"
   ]
  },
  {
   "cell_type": "markdown",
   "metadata": {},
   "source": [
    "### 2.2 Estructuras de datos\n",
    "\n",
    "### Strings o cadenas de texto\n",
    "\n",
    "El texto en Python se trata como una lista de carcateres. De esta manera, la metodología que aplica al tratamiento de listas, puede ser aplicada a las cadenas de texto."
   ]
  },
  {
   "cell_type": "code",
   "execution_count": null,
   "metadata": {
    "scrolled": true
   },
   "outputs": [],
   "source": [
    "a = 'python'\n",
    "type(a)"
   ]
  },
  {
   "cell_type": "code",
   "execution_count": null,
   "metadata": {
    "scrolled": true
   },
   "outputs": [],
   "source": [
    "print(\"Hello\" )"
   ]
  },
  {
   "cell_type": "code",
   "execution_count": null,
   "metadata": {
    "scrolled": true
   },
   "outputs": [],
   "source": [
    "print(\"Esto es 'un ejemplo' de como usar comillas dentro de un texto que se escribe entre comillas dobles\")\n",
    "print('Aquí tenemos \"otro ejemplo\" pero ahora al revés')"
   ]
  },
  {
   "cell_type": "markdown",
   "metadata": {},
   "source": [
    "Para juntar cadenas de carácteres se puede usar el operador '+':"
   ]
  },
  {
   "cell_type": "code",
   "execution_count": null,
   "metadata": {
    "scrolled": true
   },
   "outputs": [],
   "source": [
    "a = 'He'\n",
    "b = 'llo'\n",
    "c = a+b+'!'\n",
    "print(c)"
   ]
  },
  {
   "cell_type": "markdown",
   "metadata": {},
   "source": [
    "Para acceder a solo una parte de una lista o, en este caso, de una *string*, se usa la técnica denominada **slicing**. El formato a seguir para coger solo una parte de la string es el siguiente:\n",
    "\n",
    "# <center>nombre_variable[indice_primer_elemento:indice_final:step]</center>\n",
    "\n",
    "Donde el funcionamiento de los índices se pueden ver en la siguiente imagen\n",
    "\n",
    "![Slicing1](Figures/slicing1.png)\n"
   ]
  },
  {
   "cell_type": "code",
   "execution_count": null,
   "metadata": {
    "scrolled": true
   },
   "outputs": [],
   "source": [
    "#Ejemplos\n",
    "a = 'Python'\n",
    "print(a[:], a[0], a[2:], a[:3], a[2:4], a[::2], a[1::2])"
   ]
  },
  {
   "cell_type": "markdown",
   "metadata": {},
   "source": [
    "#### Ejercicio\n",
    "Con una línia de codigo, conseguir los siguientes sets de caracteres:\n",
    "- Primera letra.\n",
    "- De la letra 2 a la 4\n",
    "- Úlimas 3 letras\n",
    "- Solo las letras en posición par, des de la número 4 al final\n",
    "- Todo el texto al revés\n"
   ]
  },
  {
   "cell_type": "code",
   "execution_count": null,
   "metadata": {},
   "outputs": [],
   "source": [
    "texto = \"Texto de prueba para hacer el ejercicio\"\n",
    "primera_letra = print(texto[0])\n",
    "\n",
    "##########################################################\n"
   ]
  },
  {
   "cell_type": "markdown",
   "metadata": {},
   "source": [
    "En el caso de los *strings* hay métodos en Python que vienen por defecto que nos pueden ser útiles. Por ejemplo las funciones siguientes:\n",
    "- len: devuelve la longitud el texto.\n",
    "- str: convierte eun número en string.\n",
    "- reverse: devuelve el texto al revés.\n",
    "\n",
    "Para usar una fucnión se pondrá nombre_de_la_función(nombre_variable)\n",
    "\n",
    "También podemos usar métodos propios para strings:\n",
    "- lower: convierte todo el texto en mínusculas.\n",
    "- upper: convierte todo el texto en mayúsculas.\n",
    "- capitalize: pone en mayúsculas la primera letra del string.\n",
    "- split(delimitador): devuelve una lista de substrings separados por el delimitador indicado (ver ejemplos más adelante)\n",
    "\n",
    "Para usar un método se pondrá nombre_variable.nombre_del_métdodo\n"
   ]
  },
  {
   "cell_type": "code",
   "execution_count": null,
   "metadata": {},
   "outputs": [],
   "source": [
    "texto='vamos a hacer pruebas con las funciones y métodos de Strings!'\n",
    "print(len(texto))\n",
    "print(texto.lower())\n",
    "print(texto.split(' '))\n",
    "\n",
    "######################################################################3\n",
    "# En una línia, devuelve la 4a palabra del texto todo en mayúsculas!\n"
   ]
  },
  {
   "cell_type": "markdown",
   "metadata": {},
   "source": [
    "### Lists\n",
    "\n",
    "Las listas son un tipo de Python que sirven para agrupar objetos de otros tipos (incluso listas!). Por ejemplo una lista de números, de floats, de strings, de otras listas, etc. \n",
    "\n",
    "Las listas, como los strings, pueden usar la metodología de *slicing*\n"
   ]
  },
  {
   "cell_type": "code",
   "execution_count": null,
   "metadata": {
    "scrolled": true
   },
   "outputs": [],
   "source": [
    "l=[]\n",
    "type(l)"
   ]
  },
  {
   "cell_type": "code",
   "execution_count": null,
   "metadata": {},
   "outputs": [],
   "source": [
    "# Crear lista\n",
    "mi_lista = [0,5,'6',34,'Hola']\n",
    "mi_lista"
   ]
  },
  {
   "cell_type": "code",
   "execution_count": null,
   "metadata": {},
   "outputs": [],
   "source": [
    "# Acceder a un elemento de la lista\n",
    "a = mi_lista[2]\n",
    "a"
   ]
  },
  {
   "cell_type": "code",
   "execution_count": null,
   "metadata": {},
   "outputs": [],
   "source": [
    "# Canviar un elemento de una lista\n",
    "mi_lista[-1]='Adiós'\n",
    "mi_lista"
   ]
  },
  {
   "cell_type": "code",
   "execution_count": null,
   "metadata": {},
   "outputs": [],
   "source": [
    "# Podemos tener lista de listas!\n",
    "mi_lista=[45,[3,5,6],'palabra',34.6,['a','b','c']]\n",
    "print(mi_lista)\n",
    "print(mi_lista[1])\n",
    "print(mi_lista[1][2])\n",
    "\n",
    "#####################################################\n",
    "# acceder a la letra c!\n"
   ]
  },
  {
   "cell_type": "markdown",
   "metadata": {},
   "source": [
    "Para las listas también hay funciones y métodos en Python que vienen por defecto que nos pueden ser útiles. Por ejemplo las funciones siguientes:\n",
    "- len: devuelve la longitud de la lista.\n",
    "- list: crear lista\n",
    "\n",
    "Para usar una fucnión se pondrá nombre_de_la_función(nombre_variable)\n",
    "\n",
    "También podemos usar métodos propios para listas:\n",
    "- append: añadir elemento al final de la lista.\n",
    "- insert: añdir un elemento en una posición particular.\n",
    "- pop: quitar el último elemento de la lista.\n",
    "- remove: quitar un elemento en particular.\n",
    "- sort: ordenar la lista\n",
    "\n",
    "Para usar un método se pondrá nombre_variable.nombre_del_métdodo"
   ]
  },
  {
   "cell_type": "code",
   "execution_count": null,
   "metadata": {
    "scrolled": true
   },
   "outputs": [],
   "source": [
    "mi_lista=['primero','hola','prueba','adiós','zoológico','máster']\n",
    "print(mi_lista)\n",
    "mi_lista.append('último')\n",
    "print(mi_lista)\n",
    "mi_lista.insert(1,'segundo')\n",
    "print(mi_lista)\n",
    "mi_lista.pop()\n",
    "print(mi_lista)\n",
    "mi_lista.remove('prueba')\n",
    "print(mi_lista)\n",
    "mi_lista.sort()\n",
    "print(mi_lista)"
   ]
  },
  {
   "cell_type": "markdown",
   "metadata": {},
   "source": [
    "### Dictionaries\n",
    "\n",
    "Un diccionario es otra manera de agrupar datos donde se puede acceder a un *element* a través de su *key*. Por ejemplo:"
   ]
  },
  {
   "cell_type": "code",
   "execution_count": null,
   "metadata": {},
   "outputs": [],
   "source": [
    "esta_instalacion = {\n",
    "    'Potencia': 10,\n",
    "    'Tipo': 'Solar',\n",
    "    'Año_construccion':2012\n",
    "}"
   ]
  },
  {
   "cell_type": "code",
   "execution_count": null,
   "metadata": {},
   "outputs": [],
   "source": [
    "esta_instalacion['Tipo']"
   ]
  },
  {
   "cell_type": "markdown",
   "metadata": {},
   "source": [
    "Otro ejemplo podría ser:"
   ]
  },
  {
   "cell_type": "code",
   "execution_count": null,
   "metadata": {
    "scrolled": true
   },
   "outputs": [],
   "source": [
    "dict = {\"Instalacion_1\": \"Solar\", \"Instalacion_2\": \"Eólica\", \"Instalacion_3\": \"Eólica\", \"Instalacion_4\": \"Hidráulica\", \"Instalacion_5\": \"Solar\",}\n",
    "print(dict)"
   ]
  },
  {
   "cell_type": "markdown",
   "metadata": {},
   "source": [
    "Para acceder a algun elemento, modificar o añadir, se podrá hacer de forma parecida a las listas:"
   ]
  },
  {
   "cell_type": "code",
   "execution_count": null,
   "metadata": {
    "scrolled": true
   },
   "outputs": [],
   "source": [
    "# Acceder\n",
    "dict[\"Instalacion_1\"]"
   ]
  },
  {
   "cell_type": "code",
   "execution_count": null,
   "metadata": {},
   "outputs": [],
   "source": [
    "# modificar\n",
    "print(dict)\n",
    "dict[\"Instalacion_1\"]=\"Eólica\"\n",
    "print(dict)"
   ]
  },
  {
   "cell_type": "code",
   "execution_count": null,
   "metadata": {},
   "outputs": [],
   "source": [
    "# Añadir\n",
    "print(dict)\n",
    "dict[\"Instalacion_6\"]=\"Solar\"\n",
    "print(dict)"
   ]
  },
  {
   "cell_type": "markdown",
   "metadata": {
    "scrolled": true
   },
   "source": [
    "Los diccionarios pueden contener todos los tipos (int, floats, listas, otros diccionarios, etc.)"
   ]
  },
  {
   "cell_type": "code",
   "execution_count": null,
   "metadata": {},
   "outputs": [],
   "source": [
    "dict = {\"Instalacion_1\": [\"Solar\", '10 MW'], \"Instalacion_2\": [\"Eólica\", '15 MW'], \"Instalacion_3\": [\"Solar\", '18 MW'], \"Instalacion_4\": [\"Hidráulica\", '12 MW'], \"Instalacion_5\": [\"Solar\", '23 MW'], \"Instalacion_6\": [\"Eólica\", '8 MW'],\"Instalacion_7\": [\"Solar\", '11 MW'], \"Instalacion_8\": [\"Hidráulica\", '11 MW']}\n",
    "dict"
   ]
  },
  {
   "cell_type": "code",
   "execution_count": null,
   "metadata": {},
   "outputs": [],
   "source": [
    "dict['Instalacion_3'][1]"
   ]
  },
  {
   "cell_type": "code",
   "execution_count": null,
   "metadata": {},
   "outputs": [],
   "source": [
    "##########################################################\n",
    "# Suma 3 MW a la instalación 4 y modifica el diccionario!\n"
   ]
  },
  {
   "cell_type": "code",
   "execution_count": null,
   "metadata": {},
   "outputs": [],
   "source": [
    "# Ejemplos de dict keys con números\n",
    "\n",
    "dict = {\n",
    "    0: 15,\n",
    "    1: 16,\n",
    "    2: 55\n",
    "}\n",
    "\n",
    "print(dict)\n",
    "print(dict[2])\n",
    "\n",
    "dict2 = {\n",
    "    \n",
    "    (0,0): 1,\n",
    "    (0,1): 2,\n",
    "    (0,1): 3\n",
    "}\n",
    "\n",
    "print(dict2)\n",
    "print(dict2[0,0])"
   ]
  },
  {
   "cell_type": "markdown",
   "metadata": {},
   "source": [
    "### Tuples\n",
    "\n",
    "Tuples son listas **que no permiten ser modificadas!**. \n",
    "\n",
    "Su sintaxis es igual que en las listas, però para escribir una tupla se usan paréntesis y no corchetes."
   ]
  },
  {
   "cell_type": "code",
   "execution_count": null,
   "metadata": {
    "scrolled": true
   },
   "outputs": [],
   "source": [
    "misupertupla = ('Solar', 'Eólica', 'Hidráulica', 'Gas', 'Nuclear', 'NoQueremosMásCarbón')\n",
    "print(type(misupertupla), misupertupla[4:])"
   ]
  },
  {
   "cell_type": "code",
   "execution_count": null,
   "metadata": {
    "scrolled": true
   },
   "outputs": [],
   "source": [
    "misupertupla[0]='PV'"
   ]
  },
  {
   "cell_type": "markdown",
   "metadata": {},
   "source": [
    "## 3. Estructuras condicionales (if) \n",
    "\n",
    "Las estructuras de control condicionales permiten ejecutar una parte del código o otro en función de la evaluación de una o varis condiciones booleanas de SI o NO (**<code>TRUE</code>** o **<code>FALSE</code>**).\n",
    "\n",
    "En Python, las estructuras de control condicionales se definen mediante las palabras **<code>if</code>**, **<code>elif</code>** y **<code>else</code>**.\n",
    "\n",
    "- **<code>if CONDICION:</code>** si se cumple la expresión condicional se ejecuta el bloque de código a continuación.\n",
    "- **<code>elif CONDICION:</code>** de lo contrario, si se cumple esta expresión condicional se ejecuta este otro bloque de código.\n",
    "- **<code>else:</code>** de lo contrario, se ejecuta este bloque de código a continuación sin evaluar ninguna condición.\n",
    "\n",
    "\n",
    "La condición es normalmente evaluada mediante los siguientes operadores relacionales <code> <, <=, ==, >=, >, != </code>.\n",
    "\n",
    "La parte de código dentro de un ``if`` no pueden estar vacía, pero si por alguna razón se debe crear una declaración if sin contenido, se puede utilizar la declaración ``pass`` para evitar de se produzca un error."
   ]
  },
  {
   "cell_type": "code",
   "execution_count": null,
   "metadata": {
    "scrolled": true
   },
   "outputs": [],
   "source": [
    "# Ejemplo\n",
    "\n",
    "celsius = 35\n",
    "fahrenheit = 9.0 /5.0 * celsius + 32\n",
    "\n",
    "print(\"La temperatura en Fahrenheit es\", fahrenheit)\n",
    "\n",
    "if fahrenheit > 90:\n",
    "    print(\"Hace calor\")\n",
    "elif fahrenheit < 30:\n",
    "    print(\"Hace frío\")\n",
    "else: print(\"No hace ni frío ni calor\")"
   ]
  },
  {
   "cell_type": "markdown",
   "metadata": {
    "scrolled": true
   },
   "source": [
    "#### Ejercicio\n",
    "\n",
    "Crear un código para identificar si la variable **<code>numero</code>** es un numero positivo, negativo, o de valor 0. Guardar el resultado en una variable llamada **<code>signo</code>**"
   ]
  },
  {
   "cell_type": "code",
   "execution_count": null,
   "metadata": {},
   "outputs": [],
   "source": [
    "numero = 2\n",
    "\n",
    "###############################\n"
   ]
  },
  {
   "cell_type": "markdown",
   "metadata": {},
   "source": [
    "También se puede expresar en una sola linea la estructura condicional de la siguiente manera, dependindo de si se trata de una, dos o más condiciones:"
   ]
  },
  {
   "cell_type": "code",
   "execution_count": null,
   "metadata": {},
   "outputs": [],
   "source": [
    "#Ejemplo\n",
    "\n",
    "a = 330\n",
    "b = 330\n",
    "\n",
    "# con una sola condición:\n",
    "if a > b: print(\"a es mayor que b\")\n",
    "    \n",
    "#con dos condiciones:\n",
    "print(\"A\") if a > b else print(\"a no es mayor que b\")\n",
    "\n",
    "#con tres condiciones:\n",
    "print(\"A\") if a > b else print(\"=\") if a == b else print(\"B\")"
   ]
  },
  {
   "cell_type": "code",
   "execution_count": null,
   "metadata": {},
   "outputs": [],
   "source": [
    "# Ejercicio: poner en una sola linea el código para determinar el signo de un número \n",
    "numero = 2\n",
    "\n",
    "###########################################\n",
    "\n"
   ]
  },
  {
   "cell_type": "markdown",
   "metadata": {},
   "source": [
    "## 4. Listas y loops"
   ]
  },
  {
   "cell_type": "markdown",
   "metadata": {},
   "source": [
    "### 4.1 Estructuras de control iterativas (for & while)\n",
    "\n",
    "Las estructuras de control iterativas (también llamadas bucles o loops), permiten ejecutar un mismo código de manera repetida mientras se cumpla una condición.\n",
    "\n",
    "Existen dos tipos de estructuras de control iterativas:\n",
    "\n",
    "* For\n",
    "* While\n",
    "\n",
    "La sentencia ``for`` de Python itera sobre los elementos de cualquier secuencia (una lista o una cadena de caracteres por ejemplo), en el orden que aparecen en la secuencia.\n",
    "\n",
    "El ciclo ``while`` permite realizar múltiples iteraciones basándose en el resultado de una expresión lógica que puede tener como resultado un valor ``True`` o ``False``.\n"
   ]
  },
  {
   "cell_type": "code",
   "execution_count": null,
   "metadata": {
    "scrolled": true
   },
   "outputs": [],
   "source": [
    "#Ejemplo de for\n",
    "\n",
    "for i in range(0,10,1):\n",
    "    print(i)"
   ]
  },
  {
   "cell_type": "code",
   "execution_count": null,
   "metadata": {
    "scrolled": true
   },
   "outputs": [],
   "source": [
    "#Ejemplo de while\n",
    "\n",
    "i=0\n",
    "while i < 10 :\n",
    "    print(i)\n",
    "    i= i+1"
   ]
  },
  {
   "cell_type": "markdown",
   "metadata": {},
   "source": [
    "Además, los bucles con ``for`` o ``while`` pueden combinarse con estructuras condicionales ``if`` dando lugar a estructuras más complejas.\n",
    "\n",
    "Con la instrucción ``break`` podemos detener el bucle antes de que haya pasado por todos los elementos.\n",
    "\n",
    "Con la instrucción ``continue`` podemos detener la iteración actual del bucle (tanto en ``for`` como en ``while``) y continuar con la siguiente."
   ]
  },
  {
   "cell_type": "code",
   "execution_count": null,
   "metadata": {
    "scrolled": true
   },
   "outputs": [],
   "source": [
    "# Ejemplo\n",
    "\n",
    "numeros = [-5, 3, 2, -1, 9, 6]\n",
    "total = 0\n",
    "\n",
    "for n in numeros:\n",
    "    if n >= 0:\n",
    "        total += n\n",
    "\n",
    "total2 = 0\n",
    "for n in numeros:\n",
    "    if n < 0:\n",
    "        continue\n",
    "    total2 += n\n",
    "\n",
    "print(total, total2)"
   ]
  },
  {
   "cell_type": "code",
   "execution_count": null,
   "metadata": {
    "scrolled": true
   },
   "outputs": [],
   "source": [
    "#Ejercicio: calcular el valor medio de una lista con un for\n",
    "\n",
    "lista=[1,2,3,4]\n",
    "\n",
    "#####################\n"
   ]
  },
  {
   "cell_type": "code",
   "execution_count": null,
   "metadata": {
    "scrolled": true
   },
   "outputs": [],
   "source": [
    "#Ejercicio: rehacer el código anterior para calcular el valor medio con un while en lugar de un for\n",
    "\n",
    "lista=[1,2,3,4]\n",
    "\n",
    "########################################\n"
   ]
  },
  {
   "cell_type": "markdown",
   "metadata": {},
   "source": [
    "### 4.2 Lists (o dictionary) comprehensions\n",
    "\n",
    "Las comprensiones de listas son una forma de ajustar un bucle ``for``, una declaración ``if`` y una asignación, todo en una sola línea.\n",
    "\n",
    "Una lista de comprensión consta de las siguientes partes:\n",
    "\n",
    "+ Una secuencia de entrada\n",
    "+ Una variable que representa miembros de la secuencia de entrada\n",
    "+ Una expresión opcional\n",
    "+ Una expresión de salida que produce elementos de la lista de salida a partir de miembros de la secuencia de entrada que satisfacen el predicado"
   ]
  },
  {
   "cell_type": "code",
   "execution_count": null,
   "metadata": {
    "scrolled": true
   },
   "outputs": [],
   "source": [
    "# Ejemplo\n",
    "num = [1, 4, -5, 10, -7, 2, 3, -1]\n",
    "squared = []\n",
    "for i in num:\n",
    "     if i > 0:\n",
    "        squared.append(i**2)\n",
    "print(type(squared), squared)\n",
    "\n",
    "# Este for se puede reescribir de la siguiente manera:\n",
    "# En una iteración, primero comprueba si el if es TRUE y luego realiza el cálculo\n",
    "squared = [ x**2 for x in num if x > 0] \n",
    "print(type(squared), squared)"
   ]
  },
  {
   "cell_type": "code",
   "execution_count": null,
   "metadata": {},
   "outputs": [],
   "source": [
    "# Ejercicio: calcular el inverso multiplicativo (1/x) de todos los elementos de una lista \n",
    "# con un for de una sola línea\n",
    "\n",
    "######################################################\n"
   ]
  },
  {
   "cell_type": "markdown",
   "metadata": {},
   "source": [
    "Esta forma compacta de expresar los bucles también se puede utilizar para iterar dentro de listas. A contnuación se muestran diferentes maneras de juntar los valores de dos listas usando zip o usando fors anidados."
   ]
  },
  {
   "cell_type": "code",
   "execution_count": null,
   "metadata": {
    "scrolled": true
   },
   "outputs": [],
   "source": [
    "lista1 = ['a','b','c','d']\n",
    "lista2 = [1,2,3,4]\n",
    "\n",
    "# crear una lista con fors anidados:\n",
    "print ([(i,j) for i in lista1 for j in lista2])\n",
    "\n",
    "# crear una lista usando zip:\n",
    "print ([(i,j) for i,j in zip(lista1,lista2)])\n",
    "\n",
    "# crear un diccionario usando zip:\n",
    "print ( {i:j for i,j in zip(lista1,lista2)} )"
   ]
  },
  {
   "cell_type": "markdown",
   "metadata": {},
   "source": [
    "## 5. Diccionarios y tablas de frecuencia"
   ]
  },
  {
   "cell_type": "markdown",
   "metadata": {},
   "source": [
    "Los diccionarios son muy útiles para contar elementos en una lista, y crear una distribución de estos mediante una tabla de frecuencia. A continuación se puede observar un ejemplo donde se quiere saber qué número del 1 al 9 aparece más veces en una lista desordenada de números."
   ]
  },
  {
   "cell_type": "code",
   "execution_count": null,
   "metadata": {},
   "outputs": [],
   "source": [
    "mi_lista = [2,3,5,2,5,6,7,8,1,2,3,4,5,2,8,9,5,2,4,6,9,1,2,1,3,6,7,4,3,1,2,9,7,5,4,3,1,2,9,5,4,2,7,9,5,3,4,6,7,3,3,4,5]"
   ]
  },
  {
   "cell_type": "code",
   "execution_count": null,
   "metadata": {
    "scrolled": true
   },
   "outputs": [],
   "source": [
    "# Creamos un diccionario vacío \n",
    "freq = {}\n",
    "for numero in mi_lista: \n",
    "    if (numero in freq): \n",
    "        freq[numero] += 1\n",
    "    else: \n",
    "        freq[numero] = 1\n",
    "\n",
    "for key, value in freq.items(): \n",
    "    print (\"% d : % d\"%(key, value))"
   ]
  },
  {
   "cell_type": "markdown",
   "metadata": {},
   "source": [
    "De una lista de instalaciones, obtenemos estas tipologías de plantas de generación. ¿Qué tecnología tiene más plantas instaladas? \n",
    "\n",
    "¿Detectas algún problema con los nombres? ¿Cómo lo solucionarías?"
   ]
  },
  {
   "cell_type": "code",
   "execution_count": null,
   "metadata": {
    "scrolled": true
   },
   "outputs": [],
   "source": [
    "instalaciones = ['Eólica', 'Solar', 'Hidráulica', 'Solar', 'Eólica', 'Hidráulica', 'Gas Natural', 'Solar', 'Eólica', 'Solar', 'Nuclear', 'Solar', 'Hidráulica', 'Hidráulica', 'Solar', 'Carbón', 'Eólica', 'Eólica', 'Solar', 'Solar', 'Solar', 'Hidráulica', 'Gas Natural', 'Hidráulica', 'Nuclear', 'Eólica', 'Eólica', 'Solar', 'Eólica', 'Gas Natural', 'Hidráulica', 'hidráulica', 'Solar', 'Eólica', 'Hidráulica', 'Solar', 'Eolica', 'Solar','eolica', 'Eólica', 'Solar', 'Solar', 'Hidráulica', 'Gas Natural', 'Solar', 'Gas Natural', 'Nuclear', 'eólica', 'Hidráulica', 'Hidráulica', 'Solar']\n",
    "instalaciones"
   ]
  },
  {
   "cell_type": "code",
   "execution_count": null,
   "metadata": {},
   "outputs": [],
   "source": [
    "##################################################\n",
    "# ¿Qué tecnología tiene más plantas instaladas?\n",
    "    \n",
    "    \n",
    "dict = {}\n",
    "count= 0 \n",
    "itm = ''\n",
    "\n",
    "for item in instalaciones:\n",
    "    dict[item] = dict.get(item, 0) + 1\n",
    "    if dict[item] >= count :\n",
    "        count = dict[item]\n",
    "        freq = item\n",
    "        \n",
    "print(dict)\n",
    "\n",
    "print('Tecnología más frecuente: ', freq)  # Most frequent value\n"
   ]
  },
  {
   "cell_type": "code",
   "execution_count": null,
   "metadata": {},
   "outputs": [],
   "source": [
    "# Peeero algo no cuadra. Eolica está esrito de diferentes maneras. Vamos a arreglar esto.\n",
    "\n",
    "# Vamos a poner la primera letra en mayúscula con capitalize() y además. poner acento\n",
    "for item in range(len(instalaciones)):\n",
    "    instalaciones[item] = instalaciones[item].capitalize()\n",
    "    \n",
    "    if instalaciones[item] == 'Eolica':\n",
    "        instalaciones[item] = 'Eólica'\n",
    "\n",
    "print(instalaciones)\n"
   ]
  },
  {
   "cell_type": "code",
   "execution_count": null,
   "metadata": {},
   "outputs": [],
   "source": [
    "# Volvemos a ver que valor es el más frecuente\n",
    "# Observamos que efectivamente, Eólica está toda en una palabra.\n",
    "\n",
    "dict = {}\n",
    "count= 0 \n",
    "itm = ''\n",
    "\n",
    "for item in instalaciones:\n",
    "    dict[item] = dict.get(item, 0) + 1\n",
    "    if dict[item] >= count :\n",
    "        count = dict[item]\n",
    "        freq = item\n",
    "        \n",
    "print(dict)\n",
    "print(freq)  # Most frequent value\n"
   ]
  },
  {
   "cell_type": "code",
   "execution_count": null,
   "metadata": {},
   "outputs": [],
   "source": [
    "\n",
    "from statistics import mode\n",
    "\n",
    "print(mode(instalaciones))\n"
   ]
  },
  {
   "cell_type": "markdown",
   "metadata": {},
   "source": [
    "## 6. Funciones\n",
    "\n",
    "Una función es un bloque de código con un nombre asociado, que recibe cero o más argumentos como entrada, sigue una secuencia de sentencias donde se ejecutan las operaciones deseadas y devuelve un valor y/o realiza una tarea. Este bloque de código puede ser llamado varias veces cuando se necesite.\n",
    "\n",
    "En Python existen una serie de funciones integradas por defecto al lenguaje, pero también se pueden crear funciones definidas por el usuario para utilizarlas en sus propios programas. \n",
    "\n",
    "La lista completa de funciones integradas por defecto puede consultarse en:\n",
    "www.w3schools.com/python/python_ref_functions.asp"
   ]
  },
  {
   "cell_type": "code",
   "execution_count": null,
   "metadata": {},
   "outputs": [],
   "source": [
    "# Ejemplo de función integrada en Python\n",
    "\n",
    "# La función input() nos permite asignar a una variable un valor ingresado por el usuario\n",
    "\n",
    "a = input()\n",
    "\n",
    "print('La variable introducida ha sido ' + a)"
   ]
  },
  {
   "cell_type": "markdown",
   "metadata": {},
   "source": [
    "Para crear una función en python, se debe utilizar la palabra ``def`` para definir la función. La sintaxis para una definición de función en Python es:\n",
    "\n",
    "<code>*def* nombre_funcion(lista_de_parametros_entrada):\n",
    "    sentencias_funcion\n",
    "    *return* [expresion_a_devolver]</code>\n",
    "\n",
    "Donde:\n",
    "* nombre_funcion: es el nombre de la función.\n",
    "* lista_de_parametros_entrada: es la lista de parámetros que puede recibir una función, separados por coma.\n",
    "* sentencias_funcion: es el bloque de sentencias en código fuente Python que realizar cierta operación dada.\n",
    "* expresion_a_devolver: es la expresión o variable que devuelve la sentencia return."
   ]
  },
  {
   "cell_type": "code",
   "execution_count": null,
   "metadata": {
    "scrolled": true
   },
   "outputs": [],
   "source": [
    "# Ejemplo: función para poner a 0 el primer valor de una lista\n",
    "\n",
    "def change_first_element(list):\n",
    "    list[0]=0 #it returns none!\n",
    "\n",
    "numbers=[1,2,3,4]\n",
    "change_first_element(numbers)\n",
    "print(numbers)"
   ]
  },
  {
   "cell_type": "markdown",
   "metadata": {},
   "source": [
    "#### Ejemplo: máximo común denominador\n",
    "\n",
    "El común denominador de dos enteros positivos $a$ y $b$ es el mayor divisor común entre $a$ y $b$.  El algortimo Euclideo es un método iterativo para calcular el máximo común denominador de dos enteros. En pseudocódigo seria:\n",
    "\n",
    "+ Si $a<b$, intercanviar $a$ y $b$.\n",
    "+ Dividir $a$ entre $b$ y obtener el residuo, $r$. \n",
    "+ Si $r=0$, el valor $b$ es el MCD de $a$ y $b$.\n",
    "+ Si $r \\neq 0$, iterar de nuevo reemplazando $a$ por $b$ y reemplazando $b$ por $r$. "
   ]
  },
  {
   "cell_type": "code",
   "execution_count": null,
   "metadata": {
    "scrolled": true
   },
   "outputs": [],
   "source": [
    "def mcd(a,b):\n",
    "    r = 1\n",
    "    while r != 0:\n",
    "        if a<b:\n",
    "            c=a\n",
    "            a=b\n",
    "            b=c\n",
    "        r = a%b \n",
    "        if r == 0:\n",
    "            return b\n",
    "        else:\n",
    "            a = b\n",
    "            b = r\n",
    "\n",
    "mcd(100,16)"
   ]
  },
  {
   "cell_type": "markdown",
   "metadata": {},
   "source": [
    "#### Ejercicio: crear una función para calcular el factorial de un entero\n",
    "\n",
    "El factorial de un entero no negativo 𝑛 es el producto de todos enteros positivos menores o iguales a  𝑛.\n"
   ]
  },
  {
   "cell_type": "code",
   "execution_count": null,
   "metadata": {},
   "outputs": [],
   "source": [
    "# Poner tu código aquí:\n",
    "#########################################\n"
   ]
  },
  {
   "cell_type": "markdown",
   "metadata": {},
   "source": [
    "### 6.1 Argumentos y parámetros de funciones\n",
    "\n",
    "Al definir una función, los valores que se reciben se denominan parámetros, mientras que durante la llamada, los valores que se envían se denominan argumentos.\n",
    "\n",
    "Por defecto, se debe llamar a una función con el número correcto de argumentos. Si la función espera 2 argumentos, debe llamar a la función con 2 argumentos.\n",
    "\n",
    "#### Argumentos por posición\n",
    "\n",
    "Cuando se envian argumentos a una función, por defecto estos se reciben por orden en los parámetros definidos, lo que se conoce como argumentos por posición. En el ejemplo anterior, el argumento 100 es la posición 0, que se corresponde al parámetro de la función a, mientras que el argumento 16 es la posición 1, que se corresponde al parámetro de la función b.\n",
    "\n",
    "#### Argumentos por nombre\n",
    "\n",
    "Sin embargo, es posible saltarse el orden de los parámetros si se indica durante la llamada que valor tiene cada parámetro a partir de su nombre."
   ]
  },
  {
   "cell_type": "code",
   "execution_count": null,
   "metadata": {},
   "outputs": [],
   "source": [
    "mcd(b=100,a=16)"
   ]
  },
  {
   "cell_type": "markdown",
   "metadata": {},
   "source": [
    "#### Parámetros por defecto\n",
    "\n",
    "Para evitar mensajes de error cuando no se llama a una función con los argumentos necesarios, se pueden definir parámetros por defecto dentro de una función."
   ]
  },
  {
   "cell_type": "code",
   "execution_count": null,
   "metadata": {},
   "outputs": [],
   "source": [
    "def mcd(a=None,b=None):\n",
    "    if a == None or b == None:\n",
    "        print (\"Error, debes enviar dos números a la función\")\n",
    "        return\n",
    "    r = 1\n",
    "    while r != 0:\n",
    "        if a<b:\n",
    "            c=a\n",
    "            a=b\n",
    "            b=c\n",
    "        r = a%b \n",
    "        if r == 0:\n",
    "            return b\n",
    "        else:\n",
    "            a = b\n",
    "            b = r\n",
    "\n",
    "mcd()"
   ]
  },
  {
   "cell_type": "markdown",
   "metadata": {},
   "source": [
    "#### Parámetros indeterminados ``*args`` y ``**kwargs`` (opcional)\n",
    "\n",
    "En algunas ocasiones, no se sabe con anterioridad cuantos elementos es necesario enviar a una función.\n",
    "\n",
    "Si no se sabe cuántos argumentos por posición se pasarán a una función, se agrega un * antes del nombre del parámetro en la definición de la función. Por convenio, se suele utilizar el nombre de parámetro ``*args``. De esta forma, la función recibirá una tupla de argumentos y podrá acceder a los elementos en consecuencia.\n",
    "\n",
    "De forma similar, si no se sabe cuántos argumentos por nombre se pasarán a una función, se agregan dos ** antes del nombre del parámetro en la definición de la función. Por convenio, se suele utilizar el nombre de parámetro ``**kwargs``. De esta forma, la función recibirá un diccionario de argumentos y podrá acceder a los elementos en consecuencia."
   ]
  },
  {
   "cell_type": "code",
   "execution_count": null,
   "metadata": {},
   "outputs": [],
   "source": [
    "def super_funcion(*args,**kwargs):\n",
    "    total = 0\n",
    "    for arg in args:\n",
    "        total += arg\n",
    "    print (\"suma => \", total)\n",
    "    for kwarg in kwargs:\n",
    "        print (kwarg, \"=>\", kwargs[kwarg])\n",
    "\n",
    "super_funcion(50, -1, 1.56, 10, 20, 300, nombre=\"Pedro\", edad=38)"
   ]
  },
  {
   "cell_type": "markdown",
   "metadata": {},
   "source": [
    "## 7. Funciones avanzadas "
   ]
  },
  {
   "cell_type": "markdown",
   "metadata": {},
   "source": [
    "En este apartado se verá como en alguna ocasiones, hay funciones simples que solo queremos usar una vez. Este uso no parece muy apropiado para las funciones de las que hemos hablado hasta ahora... Vamos a ver primero ejemplos dónde este tipo de funciones nos pueden ser de utilidad. Se trata de las funciones <code>map, filter y reduce<code>."
   ]
  },
  {
   "cell_type": "markdown",
   "metadata": {},
   "source": [
    "### 7.1 Map\n",
    "\n",
    "Con un \"map\" podemos aplicar una función a toda una lista de inputs. Por ejemplo si queremos coger una lista de números y aplicar el cuadrado a todos sus elementos podríamos hacer:\n"
   ]
  },
  {
   "cell_type": "code",
   "execution_count": null,
   "metadata": {},
   "outputs": [],
   "source": [
    "items = [1, 2, 3, 4, 5]\n",
    "squared = []\n",
    "for i in items:\n",
    "    squared.append(i**2)\n",
    "print(items)\n",
    "print(squared)"
   ]
  },
  {
   "cell_type": "markdown",
   "metadata": {},
   "source": [
    "Usando ``Map`` , tendríamos:"
   ]
  },
  {
   "cell_type": "code",
   "execution_count": null,
   "metadata": {},
   "outputs": [],
   "source": [
    "def square_item (x):\n",
    "    return x**2\n",
    "squared = list(map(square_item, items))\n",
    "print(items)\n",
    "print(squared)"
   ]
  },
  {
   "cell_type": "markdown",
   "metadata": {},
   "source": [
    "Como se puede ver ``map`` es una función que acepta una función como argumento\n",
    "\n",
    "``map(funcion a aplicar, lista de entrada)``\n",
    "\n"
   ]
  },
  {
   "cell_type": "markdown",
   "metadata": {},
   "source": [
    "### 7.2 Filter\n",
    "\n",
    "La función filter de una manera similar, devuelve una lista con aquellso elementos de una lista de entrada que cumple una cierta codició (filtra la lista de etrada con una condición determinada). Véamos como ejemplo, si queremos quitar los elementos negativos de una lista y quedarnos solo con los positivos y que sean pares"
   ]
  },
  {
   "cell_type": "code",
   "execution_count": null,
   "metadata": {},
   "outputs": [],
   "source": [
    "items=[2,5,-6,4,-1,2,7,-8,3,4,7,0,-1,-4,0,4,6,-8,0,1]\n",
    "positivos=[]\n",
    "for item in items:\n",
    "    if item>=0:\n",
    "        if item % 2 == 0:\n",
    "            positivos.append(item) \n",
    "print(items)\n",
    "print(positivos)"
   ]
  },
  {
   "cell_type": "code",
   "execution_count": null,
   "metadata": {},
   "outputs": [],
   "source": [
    "items=[2,5,-6,4,-1,2,7,-8,3,4,7,0,-1,-4,0,4,6,-8,0,1]\n",
    "def es_positivo(x):\n",
    "    return x>=0 and x%2==0\n",
    "positivos=list(filter(es_positivo, items))\n",
    "print(items)\n",
    "print(positivos)"
   ]
  },
  {
   "cell_type": "markdown",
   "metadata": {},
   "source": [
    "Se puede observar como su sitaxis es muy parecisa a la funció ``map``, pero usando ahora ``filter``\n",
    "\n",
    "``filter(funcion a aplicar, lista de entrada)``"
   ]
  },
  {
   "cell_type": "markdown",
   "metadata": {},
   "source": [
    "### 7.3 Reduce\n",
    "\n",
    "La función ``Reduce`` será muy útil cuando se quiera hacer un cálculo sobre una lista y obtener el resultado. Por ejemplo si queremos obtener el resultado de multiplicar los números de una lista haríamos:"
   ]
  },
  {
   "cell_type": "code",
   "execution_count": null,
   "metadata": {},
   "outputs": [],
   "source": [
    "producto = 1\n",
    "lista = [1,5,7,3,4,9,1,4,7,5,3,9,8,7,2]\n",
    "for num in lista:\n",
    "    producto *= num\n",
    "print(producto)"
   ]
  },
  {
   "cell_type": "markdown",
   "metadata": {},
   "source": [
    "Usando ``reduce``:"
   ]
  },
  {
   "cell_type": "code",
   "execution_count": null,
   "metadata": {},
   "outputs": [],
   "source": [
    "from functools import reduce\n",
    "lista = [1,5,7,3,4,9,1,4,7,5,3,9,8,7,2]\n",
    "def multiplicar(x,y):\n",
    "#     print('X', x)\n",
    "#     print('Y', y)\n",
    "    return x*y\n",
    "producto = reduce(multiplicar, lista)\n",
    "print(producto)"
   ]
  },
  {
   "cell_type": "markdown",
   "metadata": {},
   "source": [
    "Vemos que para usar ``reduce`` se tiene que importar de ``functools`` y que tiene una sintaxis idética a los ateriores casos:\n",
    "``reduce(funcion a aplicar, lista de entrada)``"
   ]
  },
  {
   "cell_type": "markdown",
   "metadata": {},
   "source": [
    "### 7.4 Funciones Lambda (opcional)\n",
    "\n",
    "En todos estos casos hemos visto como consegumos comprimir el código, pero siempre tenemos que definir fuciones, normalmente muy simple, solo para ser usadas una vez. Para estas ocasiones, existen las ``funciones anónimas`` o ``lambda functions``. Estas se pueden definir y usar en la misma línia, y nos ahorramos un montón de tiempo!!\n",
    "\n",
    "Su sintaxis es:\n",
    "\n",
    "``lambda entradas: salida``\n",
    "\n",
    "Vamos a volver a escribir las mismas funciones que antes, perpo usado estas funciones para verlo más claro con ejemplos:"
   ]
  },
  {
   "cell_type": "code",
   "execution_count": null,
   "metadata": {},
   "outputs": [],
   "source": [
    "items = [1, 2, 3, 4, 5]\n",
    "squared = list(map(lambda x:x**2, items))\n",
    "print(items)\n",
    "print(squared)"
   ]
  },
  {
   "cell_type": "code",
   "execution_count": null,
   "metadata": {},
   "outputs": [],
   "source": [
    "items=[2,5,-6,4,-1,2,7,-8,3,4,7,0,-1,-4,0,4,6,-8,0,1]\n",
    "positivos=list(filter(lambda x: x>=0 and x%2==0, items))\n",
    "print(items)\n",
    "print(positivos)"
   ]
  },
  {
   "cell_type": "code",
   "execution_count": null,
   "metadata": {},
   "outputs": [],
   "source": [
    "from functools import reduce\n",
    "lista = [1,5,7,3,4,9,1,4,7,5,3,9,8,7,2]\n",
    "producto = reduce(lambda x,y: x*y, lista)\n",
    "print(producto)"
   ]
  },
  {
   "cell_type": "markdown",
   "metadata": {},
   "source": [
    "#### Ejercicio\n",
    "\n",
    "Dada una lista de nombres de clientes, devolver la lista con todos los nombres con la primera letra en mayúsculas"
   ]
  },
  {
   "cell_type": "code",
   "execution_count": null,
   "metadata": {},
   "outputs": [],
   "source": [
    "nombres = ['jordi', 'arnau', 'laia', 'pedro', 'juan', 'pau', 'noemi', 'arya', 'marti', 'lyanna', 'miquel', 'joana', 'ricard', 'daenerys', 'alexandra']\n",
    "# vuestro código aquí!\n",
    "\n",
    "##########################################################################\n"
   ]
  },
  {
   "cell_type": "markdown",
   "metadata": {},
   "source": [
    "#### Otros usos\n",
    "\n",
    "Hay más ocasiones donde una función pide otra función como argumeto, dode usar una función lambda será muy útil. Por ejemplo, si miramos la documentación de la función ``sorted`` que viene en Python por defecto:\n",
    "\n",
    "https://docs.python.org/3/library/functions.html#sorted"
   ]
  },
  {
   "cell_type": "code",
   "execution_count": null,
   "metadata": {
    "scrolled": true
   },
   "outputs": [],
   "source": [
    "desordenado = ['Martí','Anna','daniel','Pau','berta','Roberto','Xavier', 'alexandra']\n",
    "sorted(desordenado)\n"
   ]
  },
  {
   "cell_type": "markdown",
   "metadata": {},
   "source": [
    "Si especificamos una función en el apartado ``key`` opcional:"
   ]
  },
  {
   "cell_type": "code",
   "execution_count": null,
   "metadata": {},
   "outputs": [],
   "source": [
    "sorted(desordenado, key=lambda x: x.lower())"
   ]
  },
  {
   "cell_type": "markdown",
   "metadata": {},
   "source": [
    "## 8. Lenguaje orientado a objetos\n",
    "\n",
    "Python es un lenguaje de programación orientado a objetos. Casi todo en Python es un objeto, con sus propiedades y métodos. Una clase es como un constructor de objetos, o un \"plano\" para crear objetos.\n",
    "\n",
    "Entre los conceptos asociados a una clase destacan los siguientes:\n",
    "\n",
    "+ Clase: una especie de \"plantilla\" en la que se definen los atributos y métodos predeterminados de un tipo de objeto.\n",
    "\n",
    "+ Objeto: instancia de una clase.\n",
    "\n",
    "+ Método: son funciones asociadas a un objeto o a una clase de objetos. Se podria decir que es lo que el objeto puede hacer.\n",
    "\n",
    "+ Atributos: son variables asociadas a un objeto o a una clase de objetos. Se podria decir que son las características que tiene una clase. Hay atributos de instancia para inicializar los atributos mínimos de la clase cuando se crea la clase, y atributos de clase para complmentar la descripción del objeto.\n",
    "\n",
    "<img src=\"Figures/clases.png\" alt=\"Drawing\" style=\"width: 600px;\"/>\n",
    "\n",
    "En Python se define una clase con la palabra reservada ``class``.\n",
    "\n",
    "El parámetro ``self`` es una referencia a la instancia actual de la clase y se usa para acceder a las variables que pertenecen a la clase.\n",
    "\n",
    "Una vez creado un objeto, se pueden referenciar a sus atributos o invocar a un método por medio del operador ``.``."
   ]
  },
  {
   "cell_type": "code",
   "execution_count": null,
   "metadata": {},
   "outputs": [],
   "source": [
    "#Ejemplo: Clase de un rectangulo\n",
    "\n",
    "class Rectangulo:\n",
    "    \"\"\"Clase de un rectangulo\"\"\"\n",
    "    # lista de objetos\n",
    "    x = 0\n",
    "    y = 0\n",
    "    \n",
    "    # lista de métodos\n",
    "    def area(self):\n",
    "        return self.x * self.y\n",
    "\n",
    "# Crear el objeto 'a' haciendo una instancia a la clase Rectangulo    \n",
    "a = Rectangulo()\n",
    "# Inicializar x, y \n",
    "a.x = 10\n",
    "a.y = 4\n",
    "# Calcular el area del rectangulo\n",
    "a.area()"
   ]
  },
  {
   "cell_type": "markdown",
   "metadata": {},
   "source": [
    "### 8.1 Atributos de instancia ``__init__()``\n",
    "\n",
    "Todas las clases tienen una función llamada ``__init __ ()``, que se ejecuta cuando se inicia la clase y sirve para inicializar los atributos de instancia. Los argumentos que se utilizan en la definición de ``__init__()`` corresponden a los parámetros que se deben ingresar al instanciar un objeto."
   ]
  },
  {
   "cell_type": "code",
   "execution_count": null,
   "metadata": {},
   "outputs": [],
   "source": [
    "#Ejemplo: clase de un rectangulo\n",
    "\n",
    "class Rectangulo:\n",
    "    \"\"\"Clase de un rectangulo\"\"\"\n",
    "    \n",
    "    # atributos de instancia\n",
    "    def __init__(self,x,y):\n",
    "        self.x = x\n",
    "        self.y = y\n",
    "\n",
    "    # lista de métodos\n",
    "    def area(self):\n",
    "        return self.x * self.y\n",
    "    \n",
    "a = Rectangulo(10,4)\n",
    "\n",
    "a.area()"
   ]
  },
  {
   "cell_type": "markdown",
   "metadata": {},
   "source": [
    "#### Ejercicio\n",
    "\n",
    "Añadir a la clase anterior un método para calcular el perímetro del rectángulo y otro método para cambiar el tamaño del rectángulo mediante un factor de escala."
   ]
  },
  {
   "cell_type": "code",
   "execution_count": null,
   "metadata": {},
   "outputs": [],
   "source": [
    "# Añadir código aquí\n",
    "###################################\n"
   ]
  },
  {
   "cell_type": "markdown",
   "metadata": {},
   "source": [
    "### 8.2 Herencia\n",
    "\n",
    "En programación orientada a objetos, la herencia es la capacidad de reutilizar una clase extendiendo su funcionalidad. Una clase que hereda de otra puede añadir nuevos atributos, ocultarlos, añadir nuevos métodos o redefinirlos.\n",
    "\n",
    "#### Ejemplo\n",
    "\n",
    "En el siguiente ejemplo, la clase alumno hereda de la clase persona para complementar los atributos que puede tener una persona."
   ]
  },
  {
   "cell_type": "code",
   "execution_count": null,
   "metadata": {},
   "outputs": [],
   "source": [
    "class Persona:\n",
    "    def __init__(self, nombre, apellido):\n",
    "        self.nombre = nombre\n",
    "        self.apellido = apellido\n",
    "\n",
    "    def imprimirnombre(self):\n",
    "        print(self.nombre, self.apellido)\n",
    "\n",
    "class Estudiante(Persona):\n",
    "    nota = 0\n",
    "    clase = 'Clase sin introducir'\n",
    "\n",
    "    def imprimirnota(self):\n",
    "        print(self.nota)\n",
    "\n",
    "        \n",
    "x = Persona(\"Johann Sebastian\", \"Mastropiero \")\n",
    "x.imprimirnombre()\n",
    "\n",
    "y = Estudiante(\"Antonio\", \"Sanchez\")\n",
    "y.nota = 4.99\n",
    "y.imprimirnombre()\n",
    "y.imprimirnota()"
   ]
  },
  {
   "cell_type": "markdown",
   "metadata": {},
   "source": [
    "## 9. Introducción a NumPy\n",
    "\n",
    "NumPy es una librería de Python utilizada para trabajar con matrices. También tiene funciones para trabajar con álgebra lineal o transformadas de Fourier. NumPy significa Numerical Python.\n",
    "\n",
    "<img src=\"Figures/NumPy_logo.png\" alt=\"Drawing\" style=\"width: 400px;\"/>\n",
    "\n",
    "Como hemos visto, en Python ya tenemos listas que sirven al propósito de trabajar con matrices, pero su procesamiento es lento. NumPy tiene como objetivo proporcionar un objeto de matriz que sea hasta 50 veces más rápido que las listas tradicionales de Python, algo importante para la ciencia de datos donde la velocidad y los recursos son muy importantes. Además, se diferencian de las listas en que las matrices de NumPy no se pueden cambiar de tamaño, todos los elementos deben ser del mismo tipo, y se permiten ls operaciones entre matrices.\n",
    "\n",
    "El código fuente de NumPy se encuentra en este repositorio de github https://github.com/numpy/numpy\n",
    "\n",
    "El objeto de matriz en NumPy se llama ``ndarray``, proporciona muchas funciones de soporte que hacen que trabajar con ``ndarray`` sea muy fácil. Se puede crear una ndarray  con NumPy con la función ``.array()``"
   ]
  },
  {
   "cell_type": "code",
   "execution_count": 8,
   "metadata": {},
   "outputs": [
    {
     "name": "stdout",
     "output_type": "stream",
     "text": [
      "[1 2 3 4 5]\n",
      "<class 'numpy.ndarray'>\n"
     ]
    }
   ],
   "source": [
    "#Ejemplo\n",
    "import numpy as np #normalmente se suele importar como np\n",
    "\n",
    "arr = np.array([1, 2, 3, 4, 5])\n",
    "\n",
    "print(arr)\n",
    "\n",
    "print(type(arr))"
   ]
  },
  {
   "cell_type": "markdown",
   "metadata": {},
   "source": [
    "Para crear un ndarray, podemos utilizar una lista, tupla o cualquier objeto tipo matriz al método ``array()``, y se convertirá en un ``ndarray``. Se pueden crear ``ndarrays`` de diferentes dimensiones. Los 0-D son solo números, los 1-D son vectores, los 2-D son matrices, etc. \n",
    "\n",
    "Los principales atributos que se pueden utlizar con ``ndarrays`` son:\n",
    "\n",
    "| Atributo  | Descripción | \n",
    "|-----------|-------------|\n",
    "| ndim      |número de dimensiones de la matriz| \n",
    "| shape     |número de elementos de cada dimensión de la matriz|\n",
    "| size      |número de elementos total de la matriz|\n",
    "| dtype     |tipo de los elementos de la matriz|\n",
    "| astype    |para cambiar el tipo de los elementos de la matriz|"
   ]
  },
  {
   "cell_type": "code",
   "execution_count": 9,
   "metadata": {},
   "outputs": [
    {
     "name": "stdout",
     "output_type": "stream",
     "text": [
      "0\n",
      "1\n",
      "2\n",
      "3\n",
      "(2, 2, 3)\n",
      "12\n",
      "int32\n",
      "[[[1. 2. 3.]\n",
      "  [4. 5. 6.]]\n",
      "\n",
      " [[1. 2. 3.]\n",
      "  [4. 5. 6.]]]\n",
      "float64\n"
     ]
    }
   ],
   "source": [
    "#Ejemplo\n",
    "\n",
    "a = np.array(42)\n",
    "b = np.array([1, 2, 3, 4, 5])\n",
    "c = np.array([[1, 2, 3], [4, 5, 6]])\n",
    "d = np.array([[[1, 2, 3], [4, 5, 6]], [[1, 2, 3], [4, 5, 6]]])\n",
    "\n",
    "print(a.ndim)\n",
    "print(b.ndim)\n",
    "print(c.ndim)\n",
    "print(d.ndim)\n",
    "print(d.shape)\n",
    "print(d.size)\n",
    "print(d.dtype)\n",
    "\n",
    "e = d.astype(float)\n",
    "\n",
    "print(e)\n",
    "print(e.dtype)"
   ]
  },
  {
   "cell_type": "markdown",
   "metadata": {},
   "source": [
    "### 9.1 Acceder a valores de un ndarray\n",
    "\n",
    "Se puede acceder a un elemento de la matriz haciendo referencia a su número de índice. Los índices en las matrices NumPy comienzan con 0, lo que significa que el primer elemento tiene índice 0, y el segundo tiene índice 1, etc.\n",
    "\n",
    "Para acceder a elementos de matrices 2-D podemos usar enteros separados por comas que representan la dimensión y el índice del elemento. Para matrices 3-D o superior, se deben añadir tantos enteros separados por comas como dimensiones tenga la matriz."
   ]
  },
  {
   "cell_type": "code",
   "execution_count": 10,
   "metadata": {},
   "outputs": [
    {
     "name": "stdout",
     "output_type": "stream",
     "text": [
      "2\n"
     ]
    }
   ],
   "source": [
    "#Ejemplo\n",
    "\n",
    "arr = np.array([[1,2,3,4,5], [6,7,8,9,10]])\n",
    "\n",
    "print(arr[0, 1])"
   ]
  },
  {
   "cell_type": "markdown",
   "metadata": {},
   "source": [
    "También se puede utilizar el slicing en ``ndarrays``. En este caso: ``array[indice_primer_elemento:indice_final:step]``"
   ]
  },
  {
   "cell_type": "code",
   "execution_count": 11,
   "metadata": {},
   "outputs": [],
   "source": [
    "#Ejercicio\n",
    "\n",
    "arr = np.array([[1, 2, 3, 4, 5], [6, 7, 8, 9, 10]])\n",
    "\n",
    "# devuelve el indice 2 de las dos dimensiones:\n",
    "\n",
    "\n",
    "# devuelve el intervalo entre el índice 1 y 4 (no incluido) de las dos dimensiones:\n",
    "\n",
    "\n",
    "# devuelve todos los elementos de posiciones pares:\n"
   ]
  },
  {
   "cell_type": "markdown",
   "metadata": {},
   "source": [
    "<img src=\"Figures/numpy_indexing.png\" alt=\"Drawing\" style=\"width: 200px;\"/>"
   ]
  },
  {
   "cell_type": "code",
   "execution_count": 12,
   "metadata": {},
   "outputs": [
    {
     "data": {
      "text/plain": [
       "array([[ 0,  1,  2,  3,  4,  5],\n",
       "       [10, 11, 12, 13, 14, 15],\n",
       "       [20, 21, 22, 23, 24, 25],\n",
       "       [30, 31, 32, 33, 34, 35],\n",
       "       [40, 41, 42, 43, 44, 45],\n",
       "       [50, 51, 52, 53, 54, 55]])"
      ]
     },
     "execution_count": 12,
     "metadata": {},
     "output_type": "execute_result"
    }
   ],
   "source": [
    "#Ejercicio: seleccionar los elementos de cada uno de los conjuntos de elementos de la figura anterior:\n",
    "\n",
    "arr = np.array([[0,1,2,3,4,5],[10,11,12,13,14,15],[20,21,22,23,24,25],[30,31,32,33,34,35],[40,41,42,43,44,45],[50,51,52,53,54,55]])\n",
    "arr\n",
    "\n",
    "# Nueva array con selección elementos rojos:\n",
    "\n",
    "# Nueva array con selección elementos naranjas:\n",
    "\n",
    "# Nueva array con selección elementos verdes:\n",
    "\n",
    "# Nueva array con selección elementos azules:\n"
   ]
  },
  {
   "cell_type": "markdown",
   "metadata": {},
   "source": [
    "### 9.2 Importar arrays de archivos .csv (opcional)\n",
    "\n",
    "Como los archivos ** Comma-separated values (CSV) ** son un tipo de archivo .TXT, se puede importar un archivo .CSV con la función ``np.genfromtxt(ubicacion_archivo)``\n",
    "\n",
    "Los parametros opcionales de **genfromtxt** pueden consultarse en: https://numpy.org/doc/stable/reference/generated/numpy.genfromtxt.html\n",
    "\n",
    "| Función   | Tipo | Descripción | \n",
    "|-----------|----|---------|\n",
    "|skip_header | opcional |número de líneas a evitar al inicio del fichero|\n",
    "|filling_values | opcional |valores a utilizar cuando no haya valores|\n",
    "|delimiter | opcional |string utilizado para separar valores (en CSV es ',')|\n",
    "|usecols | opcional | seleciona que columnas importar, siendo 0 la primera (e.g. ``usecols = (1, 4, 5)``)|\n",
    "\n",
    "\n",
    "#### Ejercicio: \n",
    "\n",
    "Observar el archivo **Data/block_13_diario_reducido.csv** y ver como se ha importado a NumPy.\n",
    "\n",
    "Sustituir valores nan por ``99999`` y evitar importar la primera fila y las dos primeras columnas."
   ]
  },
  {
   "cell_type": "code",
   "execution_count": 13,
   "metadata": {},
   "outputs": [
    {
     "name": "stdout",
     "output_type": "stream",
     "text": [
      "[[        nan         nan         nan         nan         nan         nan\n",
      "          nan         nan         nan]\n",
      " [        nan         nan  1.091       1.06525     1.674      28.\n",
      "   0.30539732 29.827       0.262     ]\n",
      " [        nan         nan  0.371       0.54652084  1.434      48.\n",
      "   0.41012023 26.2330002   0.119     ]\n",
      " [        nan         nan  0.3205      0.53470833  2.0339999  48.\n",
      "   0.46443119 25.6659998   0.129     ]\n",
      " [        nan         nan  0.257       0.4215      1.068      48.\n",
      "   0.27438651 20.232       0.115     ]\n",
      " [        nan         nan  0.3985      0.56533333  2.2179999  48.\n",
      "   0.45071169 27.1359999   0.134     ]\n",
      " [        nan         nan  0.698       0.74647917  2.204      48.\n",
      "   0.4886944  35.8310001   0.131     ]\n",
      " [        nan         nan  0.2485      0.43635417  1.551      48.\n",
      "   0.36278131 20.945       0.139     ]\n",
      " [        nan         nan  0.205       0.42654167  1.818      48.\n",
      "   0.47751141 20.4740001   0.119     ]]\n",
      "[[9.99990000e+04 9.99990000e+04 9.99990000e+04 9.99990000e+04\n",
      "  9.99990000e+04 9.99990000e+04 9.99990000e+04 9.99990000e+04\n",
      "  9.99990000e+04]\n",
      " [9.99990000e+04 9.99990000e+04 1.09100000e+00 1.06525000e+00\n",
      "  1.67400000e+00 2.80000000e+01 3.05397325e-01 2.98270000e+01\n",
      "  2.62000000e-01]\n",
      " [9.99990000e+04 9.99990000e+04 3.71000000e-01 5.46520838e-01\n",
      "  1.43400000e+00 4.80000000e+01 4.10120226e-01 2.62330002e+01\n",
      "  1.19000000e-01]\n",
      " [9.99990000e+04 9.99990000e+04 3.20500000e-01 5.34708329e-01\n",
      "  2.03399990e+00 4.80000000e+01 4.64431190e-01 2.56659998e+01\n",
      "  1.29000000e-01]\n",
      " [9.99990000e+04 9.99990000e+04 2.57000000e-01 4.21500000e-01\n",
      "  1.06800000e+00 4.80000000e+01 2.74386511e-01 2.02320000e+01\n",
      "  1.15000000e-01]\n",
      " [9.99990000e+04 9.99990000e+04 3.98500000e-01 5.65333331e-01\n",
      "  2.21799990e+00 4.80000000e+01 4.50711689e-01 2.71359999e+01\n",
      "  1.34000000e-01]\n",
      " [9.99990000e+04 9.99990000e+04 6.98000000e-01 7.46479169e-01\n",
      "  2.20400000e+00 4.80000000e+01 4.88694400e-01 3.58310001e+01\n",
      "  1.31000000e-01]\n",
      " [9.99990000e+04 9.99990000e+04 2.48500000e-01 4.36354167e-01\n",
      "  1.55100000e+00 4.80000000e+01 3.62781306e-01 2.09450000e+01\n",
      "  1.39000000e-01]\n",
      " [9.99990000e+04 9.99990000e+04 2.05000000e-01 4.26541669e-01\n",
      "  1.81800000e+00 4.80000000e+01 4.77511414e-01 2.04740001e+01\n",
      "  1.19000000e-01]]\n",
      "[[ 1.091       1.06525     1.674      28.          0.30539732 29.827\n",
      "   0.262     ]\n",
      " [ 0.371       0.54652084  1.434      48.          0.41012023 26.2330002\n",
      "   0.119     ]\n",
      " [ 0.3205      0.53470833  2.0339999  48.          0.46443119 25.6659998\n",
      "   0.129     ]\n",
      " [ 0.257       0.4215      1.068      48.          0.27438651 20.232\n",
      "   0.115     ]\n",
      " [ 0.3985      0.56533333  2.2179999  48.          0.45071169 27.1359999\n",
      "   0.134     ]\n",
      " [ 0.698       0.74647917  2.204      48.          0.4886944  35.8310001\n",
      "   0.131     ]\n",
      " [ 0.2485      0.43635417  1.551      48.          0.36278131 20.945\n",
      "   0.139     ]\n",
      " [ 0.205       0.42654167  1.818      48.          0.47751141 20.4740001\n",
      "   0.119     ]]\n"
     ]
    }
   ],
   "source": [
    "data = np.genfromtxt('Data/block_13_diario_reducido.csv',delimiter=',')\n",
    "print (data)\n",
    "\n",
    "##########################\n",
    "\n",
    "# Sustituir valores nan por 99999\n",
    "data1 = np.genfromtxt('Data/block_13_diario_reducido.csv',delimiter=',', filling_values=99999)\n",
    "print (data1)\n",
    "\n",
    "\n",
    "# Evitar importar la primera fila y las dos primeras columnas\n",
    "data2 = np.genfromtxt('Data/block_13_diario_reducido.csv', delimiter=',', skip_header= 1, usecols=(2,3,4,5,6,7,8))\n",
    "print (data2)\n"
   ]
  },
  {
   "cell_type": "markdown",
   "metadata": {},
   "source": [
    "### 9.3 Funciones básicas con NumPy (opcional)\n",
    "\n",
    "Aquí podeis ver una lista de las funciones más interesantes a mirar en la documentación, con algun ejemplo:\n",
    "\n",
    "| Función   | Descripción | \n",
    "|-----------|-------------|\n",
    "| array_name.mean()    |Media| \n",
    "| array_name.min()     |Valor mínimo|\n",
    "| array_name.max()     |Valor máximo|\n",
    "| array_name.sum()     |Suma de valores|\n",
    "| array_name.std()     |Desviación standard|\n",
    "| array_name.var()     |Varianza|\n",
    "| array_name.reshape(nueva_dimension/es) | Permite cambiar las dimensiones|\n",
    "\n",
    "Algunos ejemplos de Methods asociados a NumPy:\n",
    "\n",
    "| Method   | Descripción | \n",
    "|-----------|-------------|\n",
    "| np.amin(array_name)     | valor mínimo|\n",
    "| np.amax(array_name)     | valor máximo|\n",
    "| np.argmax(array_name)          | índice del valor máximo|\n",
    "| np.argmin(array_name)          | índice del valor mínimo|\n",
    "| np.isnan(array_name)           | identificador de valores Nan|\n",
    "\n",
    "Para una matriz multidimensional, es posible hacer el cálculo a lo largo de una sola dimensión, pasando el parámetro ``axis`` para indicar el eje. Por ejemplo, en 2-D, axis=0 es la columna  y axis=1 es la fila.\n",
    "\n",
    "#### Ejercicio\n",
    "\n",
    "Practicad con alguno de estas funciones o Methods a partir del array ``data``."
   ]
  },
  {
   "cell_type": "code",
   "execution_count": 14,
   "metadata": {},
   "outputs": [
    {
     "name": "stdout",
     "output_type": "stream",
     "text": [
      "Valor máximo 48.0\n"
     ]
    }
   ],
   "source": [
    "# vuestro código aquí!\n",
    "\n",
    "################################################\n",
    "\n",
    "# Encontrar valor y posición del valor máximo\n",
    "valor_max = data2. max()\n",
    "print('Valor máximo', valor_max)\n",
    "\n",
    "# Encontrar valor y posición del valor mínimo de la segunda columna\n",
    "\n",
    "\n",
    "# Encontrar valor medio de cada fila\n",
    "\n",
    "\n",
    "# Encontrar posicion de los valores Nan\n"
   ]
  },
  {
   "cell_type": "markdown",
   "metadata": {},
   "source": [
    "### Operaciones Aritméticas\n",
    "\n",
    "Los operadores aritméticos sobre arrays son operadores que se aplican elemnto a elemento. El resultado es un nuevo array cuyos datos dependen de la operación realizada.\n",
    "\n",
    "A continuación se muestran algunos ejemplos:"
   ]
  },
  {
   "cell_type": "code",
   "execution_count": 87,
   "metadata": {},
   "outputs": [],
   "source": [
    "a = np.array([1,2,3], int)\n",
    "b = np.array([4,5,6], int)"
   ]
  },
  {
   "cell_type": "code",
   "execution_count": 88,
   "metadata": {},
   "outputs": [
    {
     "data": {
      "text/plain": [
       "array([5, 7, 9])"
      ]
     },
     "execution_count": 88,
     "metadata": {},
     "output_type": "execute_result"
    }
   ],
   "source": [
    "a + b"
   ]
  },
  {
   "cell_type": "code",
   "execution_count": 73,
   "metadata": {},
   "outputs": [
    {
     "data": {
      "text/plain": [
       "array([10, 20, 30])"
      ]
     },
     "execution_count": 73,
     "metadata": {},
     "output_type": "execute_result"
    }
   ],
   "source": [
    "a * 10"
   ]
  },
  {
   "cell_type": "code",
   "execution_count": 72,
   "metadata": {},
   "outputs": [
    {
     "data": {
      "text/plain": [
       "array([16, 25, 36], dtype=int32)"
      ]
     },
     "execution_count": 72,
     "metadata": {},
     "output_type": "execute_result"
    }
   ],
   "source": [
    "b ** 2"
   ]
  },
  {
   "cell_type": "markdown",
   "metadata": {},
   "source": [
    "En el caso de arrays multidimensionales, se sigue manteniendo el hecho de que las operaciones se realizan elemento a elemento.\n",
    "por ejemplo, en el caso de dos dimensiones, el producto de dos arrays no se corresponde con la multiplicación de matrices, según se ha presentado."
   ]
  },
  {
   "cell_type": "code",
   "execution_count": 81,
   "metadata": {},
   "outputs": [],
   "source": [
    "a = np.array([[1,2], [3,4]], int)\n",
    "b = np.array([[2,0], [1,3]], int)"
   ]
  },
  {
   "cell_type": "code",
   "execution_count": 82,
   "metadata": {},
   "outputs": [],
   "source": [
    "# Ejercicio: Multiplicar a*b y a-b"
   ]
  },
  {
   "cell_type": "markdown",
   "metadata": {},
   "source": [
    "El producto matricial se obtiene mediante el uso de la función np.dot. #X = np.dot(A,B)"
   ]
  },
  {
   "cell_type": "code",
   "execution_count": 85,
   "metadata": {},
   "outputs": [
    {
     "name": "stdout",
     "output_type": "stream",
     "text": [
      "[[5 4]\n",
      " [3 4]]\n"
     ]
    }
   ],
   "source": [
    "A = np.array ([[1,1], [0,1]])\n",
    "B = np.array ([[2,0], [3,4]])\n",
    "M = np.dot(A,B)\n",
    "print(M)"
   ]
  },
  {
   "cell_type": "code",
   "execution_count": 86,
   "metadata": {},
   "outputs": [],
   "source": [
    "# Ejercicio: Multiplicar dos Matrices de 3x3."
   ]
  },
  {
   "cell_type": "markdown",
   "metadata": {},
   "source": [
    "### Para más información sobre NumPy\n",
    "\n",
    "* http://numpy.scipy.org\n",
    "* http://scipy.org/Tentative_NumPy_Tutorial\n",
    "* https://numpy.org/learn/"
   ]
  },
  {
   "cell_type": "markdown",
   "metadata": {},
   "source": [
    "## 10. Introducción a Pandas\n",
    "\n",
    "Padas es de las librerías más importantes en Python para Data Science!!! Básicamente nso permitirá tener ``Datasets`` abiertos como si se trataran de una hoja de cálculo en el excel, es decir, en forma matricial con dos dimensiones y con columnas e idices indexados.\n",
    "\n",
    "<img src=\"Figures/Pandas.jpg\" alt=\"Drawing\" style=\"width: 800px;\"/>\n"
   ]
  },
  {
   "cell_type": "markdown",
   "metadata": {},
   "source": [
    "Pandas sirve para:\n",
    "* Operar en todo el dataset o a una fila o columna (vectores) con alta eficiencia computacional\n",
    "* Ayuda a la limpieza de datos y solucionar datos inexistentes\n",
    "* Acceder a subsets de datos\n",
    "* Añadir o eliminar columnas con nuevas características.\n",
    "* Agrupar datos por características.\n",
    "* Muy eficiente juntando datos de distintas fuentes.\n",
    "* Trabajar con series temporales."
   ]
  },
  {
   "cell_type": "markdown",
   "metadata": {},
   "source": [
    "### 10.1 Leer datos de un csv\n",
    "\n",
    "La mayoría de las veces cargaremos los archivos a través de un archivo .csv. A continuación podeis ver el código básico que se usará casi siempre:"
   ]
  },
  {
   "cell_type": "code",
   "execution_count": 15,
   "metadata": {
    "scrolled": false
   },
   "outputs": [
    {
     "data": {
      "text/html": [
       "<div>\n",
       "<style scoped>\n",
       "    .dataframe tbody tr th:only-of-type {\n",
       "        vertical-align: middle;\n",
       "    }\n",
       "\n",
       "    .dataframe tbody tr th {\n",
       "        vertical-align: top;\n",
       "    }\n",
       "\n",
       "    .dataframe thead th {\n",
       "        text-align: right;\n",
       "    }\n",
       "</style>\n",
       "<table border=\"1\" class=\"dataframe\">\n",
       "  <thead>\n",
       "    <tr style=\"text-align: right;\">\n",
       "      <th></th>\n",
       "      <th>Brand</th>\n",
       "      <th>Model</th>\n",
       "      <th>AccelSec</th>\n",
       "      <th>TopSpeed_KmH</th>\n",
       "      <th>Range_Km</th>\n",
       "      <th>Efficiency_WhKm</th>\n",
       "      <th>FastCharge_KmH</th>\n",
       "      <th>RapidCharge</th>\n",
       "      <th>PowerTrain</th>\n",
       "      <th>PlugType</th>\n",
       "      <th>BodyStyle</th>\n",
       "      <th>Segment</th>\n",
       "      <th>Seats</th>\n",
       "      <th>PriceEuro</th>\n",
       "    </tr>\n",
       "  </thead>\n",
       "  <tbody>\n",
       "    <tr>\n",
       "      <th>0</th>\n",
       "      <td>Tesla</td>\n",
       "      <td>Model 3 Long Range Dual Motor</td>\n",
       "      <td>4.6</td>\n",
       "      <td>233</td>\n",
       "      <td>450</td>\n",
       "      <td>161</td>\n",
       "      <td>940</td>\n",
       "      <td>Yes</td>\n",
       "      <td>AWD</td>\n",
       "      <td>Type 2 CCS</td>\n",
       "      <td>Sedan</td>\n",
       "      <td>D</td>\n",
       "      <td>5</td>\n",
       "      <td>55480</td>\n",
       "    </tr>\n",
       "    <tr>\n",
       "      <th>1</th>\n",
       "      <td>Volkswagen</td>\n",
       "      <td>ID.3 Pure</td>\n",
       "      <td>10.0</td>\n",
       "      <td>160</td>\n",
       "      <td>270</td>\n",
       "      <td>167</td>\n",
       "      <td>250</td>\n",
       "      <td>Yes</td>\n",
       "      <td>RWD</td>\n",
       "      <td>Type 2 CCS</td>\n",
       "      <td>Hatchback</td>\n",
       "      <td>C</td>\n",
       "      <td>5</td>\n",
       "      <td>30000</td>\n",
       "    </tr>\n",
       "    <tr>\n",
       "      <th>2</th>\n",
       "      <td>Polestar</td>\n",
       "      <td>2</td>\n",
       "      <td>4.7</td>\n",
       "      <td>210</td>\n",
       "      <td>400</td>\n",
       "      <td>181</td>\n",
       "      <td>620</td>\n",
       "      <td>Yes</td>\n",
       "      <td>AWD</td>\n",
       "      <td>Type 2 CCS</td>\n",
       "      <td>Liftback</td>\n",
       "      <td>D</td>\n",
       "      <td>5</td>\n",
       "      <td>56440</td>\n",
       "    </tr>\n",
       "    <tr>\n",
       "      <th>3</th>\n",
       "      <td>BMW</td>\n",
       "      <td>iX3</td>\n",
       "      <td>6.8</td>\n",
       "      <td>180</td>\n",
       "      <td>360</td>\n",
       "      <td>206</td>\n",
       "      <td>560</td>\n",
       "      <td>Yes</td>\n",
       "      <td>RWD</td>\n",
       "      <td>Type 2 CCS</td>\n",
       "      <td>SUV</td>\n",
       "      <td>D</td>\n",
       "      <td>5</td>\n",
       "      <td>68040</td>\n",
       "    </tr>\n",
       "    <tr>\n",
       "      <th>4</th>\n",
       "      <td>Honda</td>\n",
       "      <td>e</td>\n",
       "      <td>9.5</td>\n",
       "      <td>145</td>\n",
       "      <td>170</td>\n",
       "      <td>168</td>\n",
       "      <td>190</td>\n",
       "      <td>Yes</td>\n",
       "      <td>RWD</td>\n",
       "      <td>Type 2 CCS</td>\n",
       "      <td>Hatchback</td>\n",
       "      <td>B</td>\n",
       "      <td>4</td>\n",
       "      <td>32997</td>\n",
       "    </tr>\n",
       "  </tbody>\n",
       "</table>\n",
       "</div>"
      ],
      "text/plain": [
       "        Brand                          Model  AccelSec  TopSpeed_KmH  \\\n",
       "0       Tesla  Model 3 Long Range Dual Motor       4.6           233   \n",
       "1  Volkswagen                      ID.3 Pure      10.0           160   \n",
       "2    Polestar                              2       4.7           210   \n",
       "3         BMW                           iX3        6.8           180   \n",
       "4       Honda                             e        9.5           145   \n",
       "\n",
       "   Range_Km  Efficiency_WhKm FastCharge_KmH RapidCharge PowerTrain  \\\n",
       "0       450              161            940         Yes        AWD   \n",
       "1       270              167            250         Yes        RWD   \n",
       "2       400              181            620         Yes        AWD   \n",
       "3       360              206            560         Yes        RWD   \n",
       "4       170              168            190         Yes        RWD   \n",
       "\n",
       "     PlugType  BodyStyle Segment  Seats  PriceEuro  \n",
       "0  Type 2 CCS      Sedan       D      5      55480  \n",
       "1  Type 2 CCS  Hatchback       C      5      30000  \n",
       "2  Type 2 CCS   Liftback       D      5      56440  \n",
       "3  Type 2 CCS        SUV       D      5      68040  \n",
       "4  Type 2 CCS  Hatchback       B      4      32997  "
      ]
     },
     "execution_count": 15,
     "metadata": {},
     "output_type": "execute_result"
    }
   ],
   "source": [
    "import pandas as pd #importamos Pandas!\n",
    "EV_Data = pd.read_csv('Data/ElectricCarData_Clean.csv')\n",
    "EV_Data.head()"
   ]
  },
  {
   "cell_type": "markdown",
   "metadata": {},
   "source": [
    "### 10.2 Inspección datos"
   ]
  },
  {
   "cell_type": "markdown",
   "metadata": {},
   "source": [
    "Si queremos saber qué dimensiones tiene este DataFrame, podemos mirar su 'forma'"
   ]
  },
  {
   "cell_type": "code",
   "execution_count": 16,
   "metadata": {},
   "outputs": [
    {
     "data": {
      "text/plain": [
       "(103, 14)"
      ]
     },
     "execution_count": 16,
     "metadata": {},
     "output_type": "execute_result"
    }
   ],
   "source": [
    "EV_Data.shape"
   ]
  },
  {
   "cell_type": "markdown",
   "metadata": {},
   "source": [
    "Hay 103 entradas y 14 características para cada entrada.\n",
    "\n",
    "Puede ser muy útil ver las primeras o últimas entradas del dataset para entender mejor estos datos:"
   ]
  },
  {
   "cell_type": "code",
   "execution_count": 17,
   "metadata": {},
   "outputs": [
    {
     "data": {
      "text/html": [
       "<div>\n",
       "<style scoped>\n",
       "    .dataframe tbody tr th:only-of-type {\n",
       "        vertical-align: middle;\n",
       "    }\n",
       "\n",
       "    .dataframe tbody tr th {\n",
       "        vertical-align: top;\n",
       "    }\n",
       "\n",
       "    .dataframe thead th {\n",
       "        text-align: right;\n",
       "    }\n",
       "</style>\n",
       "<table border=\"1\" class=\"dataframe\">\n",
       "  <thead>\n",
       "    <tr style=\"text-align: right;\">\n",
       "      <th></th>\n",
       "      <th>Brand</th>\n",
       "      <th>Model</th>\n",
       "      <th>AccelSec</th>\n",
       "      <th>TopSpeed_KmH</th>\n",
       "      <th>Range_Km</th>\n",
       "      <th>Efficiency_WhKm</th>\n",
       "      <th>FastCharge_KmH</th>\n",
       "      <th>RapidCharge</th>\n",
       "      <th>PowerTrain</th>\n",
       "      <th>PlugType</th>\n",
       "      <th>BodyStyle</th>\n",
       "      <th>Segment</th>\n",
       "      <th>Seats</th>\n",
       "      <th>PriceEuro</th>\n",
       "    </tr>\n",
       "  </thead>\n",
       "  <tbody>\n",
       "    <tr>\n",
       "      <th>0</th>\n",
       "      <td>Tesla</td>\n",
       "      <td>Model 3 Long Range Dual Motor</td>\n",
       "      <td>4.6</td>\n",
       "      <td>233</td>\n",
       "      <td>450</td>\n",
       "      <td>161</td>\n",
       "      <td>940</td>\n",
       "      <td>Yes</td>\n",
       "      <td>AWD</td>\n",
       "      <td>Type 2 CCS</td>\n",
       "      <td>Sedan</td>\n",
       "      <td>D</td>\n",
       "      <td>5</td>\n",
       "      <td>55480</td>\n",
       "    </tr>\n",
       "    <tr>\n",
       "      <th>1</th>\n",
       "      <td>Volkswagen</td>\n",
       "      <td>ID.3 Pure</td>\n",
       "      <td>10.0</td>\n",
       "      <td>160</td>\n",
       "      <td>270</td>\n",
       "      <td>167</td>\n",
       "      <td>250</td>\n",
       "      <td>Yes</td>\n",
       "      <td>RWD</td>\n",
       "      <td>Type 2 CCS</td>\n",
       "      <td>Hatchback</td>\n",
       "      <td>C</td>\n",
       "      <td>5</td>\n",
       "      <td>30000</td>\n",
       "    </tr>\n",
       "    <tr>\n",
       "      <th>2</th>\n",
       "      <td>Polestar</td>\n",
       "      <td>2</td>\n",
       "      <td>4.7</td>\n",
       "      <td>210</td>\n",
       "      <td>400</td>\n",
       "      <td>181</td>\n",
       "      <td>620</td>\n",
       "      <td>Yes</td>\n",
       "      <td>AWD</td>\n",
       "      <td>Type 2 CCS</td>\n",
       "      <td>Liftback</td>\n",
       "      <td>D</td>\n",
       "      <td>5</td>\n",
       "      <td>56440</td>\n",
       "    </tr>\n",
       "    <tr>\n",
       "      <th>3</th>\n",
       "      <td>BMW</td>\n",
       "      <td>iX3</td>\n",
       "      <td>6.8</td>\n",
       "      <td>180</td>\n",
       "      <td>360</td>\n",
       "      <td>206</td>\n",
       "      <td>560</td>\n",
       "      <td>Yes</td>\n",
       "      <td>RWD</td>\n",
       "      <td>Type 2 CCS</td>\n",
       "      <td>SUV</td>\n",
       "      <td>D</td>\n",
       "      <td>5</td>\n",
       "      <td>68040</td>\n",
       "    </tr>\n",
       "    <tr>\n",
       "      <th>4</th>\n",
       "      <td>Honda</td>\n",
       "      <td>e</td>\n",
       "      <td>9.5</td>\n",
       "      <td>145</td>\n",
       "      <td>170</td>\n",
       "      <td>168</td>\n",
       "      <td>190</td>\n",
       "      <td>Yes</td>\n",
       "      <td>RWD</td>\n",
       "      <td>Type 2 CCS</td>\n",
       "      <td>Hatchback</td>\n",
       "      <td>B</td>\n",
       "      <td>4</td>\n",
       "      <td>32997</td>\n",
       "    </tr>\n",
       "    <tr>\n",
       "      <th>5</th>\n",
       "      <td>Lucid</td>\n",
       "      <td>Air</td>\n",
       "      <td>2.8</td>\n",
       "      <td>250</td>\n",
       "      <td>610</td>\n",
       "      <td>180</td>\n",
       "      <td>620</td>\n",
       "      <td>Yes</td>\n",
       "      <td>AWD</td>\n",
       "      <td>Type 2 CCS</td>\n",
       "      <td>Sedan</td>\n",
       "      <td>F</td>\n",
       "      <td>5</td>\n",
       "      <td>105000</td>\n",
       "    </tr>\n",
       "    <tr>\n",
       "      <th>6</th>\n",
       "      <td>Volkswagen</td>\n",
       "      <td>e-Golf</td>\n",
       "      <td>9.6</td>\n",
       "      <td>150</td>\n",
       "      <td>190</td>\n",
       "      <td>168</td>\n",
       "      <td>220</td>\n",
       "      <td>Yes</td>\n",
       "      <td>FWD</td>\n",
       "      <td>Type 2 CCS</td>\n",
       "      <td>Hatchback</td>\n",
       "      <td>C</td>\n",
       "      <td>5</td>\n",
       "      <td>31900</td>\n",
       "    </tr>\n",
       "    <tr>\n",
       "      <th>7</th>\n",
       "      <td>Peugeot</td>\n",
       "      <td>e-208</td>\n",
       "      <td>8.1</td>\n",
       "      <td>150</td>\n",
       "      <td>275</td>\n",
       "      <td>164</td>\n",
       "      <td>420</td>\n",
       "      <td>Yes</td>\n",
       "      <td>FWD</td>\n",
       "      <td>Type 2 CCS</td>\n",
       "      <td>Hatchback</td>\n",
       "      <td>B</td>\n",
       "      <td>5</td>\n",
       "      <td>29682</td>\n",
       "    </tr>\n",
       "    <tr>\n",
       "      <th>8</th>\n",
       "      <td>Tesla</td>\n",
       "      <td>Model 3 Standard Range Plus</td>\n",
       "      <td>5.6</td>\n",
       "      <td>225</td>\n",
       "      <td>310</td>\n",
       "      <td>153</td>\n",
       "      <td>650</td>\n",
       "      <td>Yes</td>\n",
       "      <td>RWD</td>\n",
       "      <td>Type 2 CCS</td>\n",
       "      <td>Sedan</td>\n",
       "      <td>D</td>\n",
       "      <td>5</td>\n",
       "      <td>46380</td>\n",
       "    </tr>\n",
       "    <tr>\n",
       "      <th>9</th>\n",
       "      <td>Audi</td>\n",
       "      <td>Q4 e-tron</td>\n",
       "      <td>6.3</td>\n",
       "      <td>180</td>\n",
       "      <td>400</td>\n",
       "      <td>193</td>\n",
       "      <td>540</td>\n",
       "      <td>Yes</td>\n",
       "      <td>AWD</td>\n",
       "      <td>Type 2 CCS</td>\n",
       "      <td>SUV</td>\n",
       "      <td>D</td>\n",
       "      <td>5</td>\n",
       "      <td>55000</td>\n",
       "    </tr>\n",
       "  </tbody>\n",
       "</table>\n",
       "</div>"
      ],
      "text/plain": [
       "        Brand                          Model  AccelSec  TopSpeed_KmH  \\\n",
       "0       Tesla  Model 3 Long Range Dual Motor       4.6           233   \n",
       "1  Volkswagen                      ID.3 Pure      10.0           160   \n",
       "2    Polestar                              2       4.7           210   \n",
       "3         BMW                           iX3        6.8           180   \n",
       "4       Honda                             e        9.5           145   \n",
       "5       Lucid                           Air        2.8           250   \n",
       "6  Volkswagen                        e-Golf        9.6           150   \n",
       "7     Peugeot                         e-208        8.1           150   \n",
       "8       Tesla    Model 3 Standard Range Plus       5.6           225   \n",
       "9        Audi                     Q4 e-tron        6.3           180   \n",
       "\n",
       "   Range_Km  Efficiency_WhKm FastCharge_KmH RapidCharge PowerTrain  \\\n",
       "0       450              161            940         Yes        AWD   \n",
       "1       270              167            250         Yes        RWD   \n",
       "2       400              181            620         Yes        AWD   \n",
       "3       360              206            560         Yes        RWD   \n",
       "4       170              168            190         Yes        RWD   \n",
       "5       610              180            620         Yes        AWD   \n",
       "6       190              168            220         Yes        FWD   \n",
       "7       275              164            420         Yes        FWD   \n",
       "8       310              153            650         Yes        RWD   \n",
       "9       400              193            540         Yes        AWD   \n",
       "\n",
       "     PlugType  BodyStyle Segment  Seats  PriceEuro  \n",
       "0  Type 2 CCS      Sedan       D      5      55480  \n",
       "1  Type 2 CCS  Hatchback       C      5      30000  \n",
       "2  Type 2 CCS   Liftback       D      5      56440  \n",
       "3  Type 2 CCS        SUV       D      5      68040  \n",
       "4  Type 2 CCS  Hatchback       B      4      32997  \n",
       "5  Type 2 CCS      Sedan       F      5     105000  \n",
       "6  Type 2 CCS  Hatchback       C      5      31900  \n",
       "7  Type 2 CCS  Hatchback       B      5      29682  \n",
       "8  Type 2 CCS      Sedan       D      5      46380  \n",
       "9  Type 2 CCS        SUV       D      5      55000  "
      ]
     },
     "execution_count": 17,
     "metadata": {},
     "output_type": "execute_result"
    }
   ],
   "source": [
    "EV_Data.head(10)"
   ]
  },
  {
   "cell_type": "code",
   "execution_count": 18,
   "metadata": {},
   "outputs": [
    {
     "data": {
      "text/html": [
       "<div>\n",
       "<style scoped>\n",
       "    .dataframe tbody tr th:only-of-type {\n",
       "        vertical-align: middle;\n",
       "    }\n",
       "\n",
       "    .dataframe tbody tr th {\n",
       "        vertical-align: top;\n",
       "    }\n",
       "\n",
       "    .dataframe thead th {\n",
       "        text-align: right;\n",
       "    }\n",
       "</style>\n",
       "<table border=\"1\" class=\"dataframe\">\n",
       "  <thead>\n",
       "    <tr style=\"text-align: right;\">\n",
       "      <th></th>\n",
       "      <th>Brand</th>\n",
       "      <th>Model</th>\n",
       "      <th>AccelSec</th>\n",
       "      <th>TopSpeed_KmH</th>\n",
       "      <th>Range_Km</th>\n",
       "      <th>Efficiency_WhKm</th>\n",
       "      <th>FastCharge_KmH</th>\n",
       "      <th>RapidCharge</th>\n",
       "      <th>PowerTrain</th>\n",
       "      <th>PlugType</th>\n",
       "      <th>BodyStyle</th>\n",
       "      <th>Segment</th>\n",
       "      <th>Seats</th>\n",
       "      <th>PriceEuro</th>\n",
       "    </tr>\n",
       "  </thead>\n",
       "  <tbody>\n",
       "    <tr>\n",
       "      <th>98</th>\n",
       "      <td>Nissan</td>\n",
       "      <td>Ariya 63kWh</td>\n",
       "      <td>7.5</td>\n",
       "      <td>160</td>\n",
       "      <td>330</td>\n",
       "      <td>191</td>\n",
       "      <td>440</td>\n",
       "      <td>Yes</td>\n",
       "      <td>FWD</td>\n",
       "      <td>Type 2 CCS</td>\n",
       "      <td>Hatchback</td>\n",
       "      <td>C</td>\n",
       "      <td>5</td>\n",
       "      <td>45000</td>\n",
       "    </tr>\n",
       "    <tr>\n",
       "      <th>99</th>\n",
       "      <td>Audi</td>\n",
       "      <td>e-tron S Sportback 55 quattro</td>\n",
       "      <td>4.5</td>\n",
       "      <td>210</td>\n",
       "      <td>335</td>\n",
       "      <td>258</td>\n",
       "      <td>540</td>\n",
       "      <td>Yes</td>\n",
       "      <td>AWD</td>\n",
       "      <td>Type 2 CCS</td>\n",
       "      <td>SUV</td>\n",
       "      <td>E</td>\n",
       "      <td>5</td>\n",
       "      <td>96050</td>\n",
       "    </tr>\n",
       "    <tr>\n",
       "      <th>100</th>\n",
       "      <td>Nissan</td>\n",
       "      <td>Ariya e-4ORCE 63kWh</td>\n",
       "      <td>5.9</td>\n",
       "      <td>200</td>\n",
       "      <td>325</td>\n",
       "      <td>194</td>\n",
       "      <td>440</td>\n",
       "      <td>Yes</td>\n",
       "      <td>AWD</td>\n",
       "      <td>Type 2 CCS</td>\n",
       "      <td>Hatchback</td>\n",
       "      <td>C</td>\n",
       "      <td>5</td>\n",
       "      <td>50000</td>\n",
       "    </tr>\n",
       "    <tr>\n",
       "      <th>101</th>\n",
       "      <td>Nissan</td>\n",
       "      <td>Ariya e-4ORCE 87kWh Performance</td>\n",
       "      <td>5.1</td>\n",
       "      <td>200</td>\n",
       "      <td>375</td>\n",
       "      <td>232</td>\n",
       "      <td>450</td>\n",
       "      <td>Yes</td>\n",
       "      <td>AWD</td>\n",
       "      <td>Type 2 CCS</td>\n",
       "      <td>Hatchback</td>\n",
       "      <td>C</td>\n",
       "      <td>5</td>\n",
       "      <td>65000</td>\n",
       "    </tr>\n",
       "    <tr>\n",
       "      <th>102</th>\n",
       "      <td>Byton</td>\n",
       "      <td>M-Byte 95 kWh 2WD</td>\n",
       "      <td>7.5</td>\n",
       "      <td>190</td>\n",
       "      <td>400</td>\n",
       "      <td>238</td>\n",
       "      <td>480</td>\n",
       "      <td>Yes</td>\n",
       "      <td>AWD</td>\n",
       "      <td>Type 2 CCS</td>\n",
       "      <td>SUV</td>\n",
       "      <td>E</td>\n",
       "      <td>5</td>\n",
       "      <td>62000</td>\n",
       "    </tr>\n",
       "  </tbody>\n",
       "</table>\n",
       "</div>"
      ],
      "text/plain": [
       "      Brand                            Model  AccelSec  TopSpeed_KmH  \\\n",
       "98   Nissan                      Ariya 63kWh       7.5           160   \n",
       "99     Audi    e-tron S Sportback 55 quattro       4.5           210   \n",
       "100  Nissan              Ariya e-4ORCE 63kWh       5.9           200   \n",
       "101  Nissan  Ariya e-4ORCE 87kWh Performance       5.1           200   \n",
       "102   Byton                M-Byte 95 kWh 2WD       7.5           190   \n",
       "\n",
       "     Range_Km  Efficiency_WhKm FastCharge_KmH RapidCharge PowerTrain  \\\n",
       "98        330              191            440         Yes        FWD   \n",
       "99        335              258            540         Yes        AWD   \n",
       "100       325              194            440         Yes        AWD   \n",
       "101       375              232            450         Yes        AWD   \n",
       "102       400              238            480         Yes        AWD   \n",
       "\n",
       "       PlugType  BodyStyle Segment  Seats  PriceEuro  \n",
       "98   Type 2 CCS  Hatchback       C      5      45000  \n",
       "99   Type 2 CCS        SUV       E      5      96050  \n",
       "100  Type 2 CCS  Hatchback       C      5      50000  \n",
       "101  Type 2 CCS  Hatchback       C      5      65000  \n",
       "102  Type 2 CCS        SUV       E      5      62000  "
      ]
     },
     "execution_count": 18,
     "metadata": {},
     "output_type": "execute_result"
    }
   ],
   "source": [
    "EV_Data.tail()"
   ]
  },
  {
   "cell_type": "markdown",
   "metadata": {},
   "source": [
    "Si queremos saber el nombre de las columnas o índices, podemos acceder a ellos:"
   ]
  },
  {
   "cell_type": "code",
   "execution_count": 19,
   "metadata": {},
   "outputs": [
    {
     "data": {
      "text/plain": [
       "Index(['Brand', 'Model', 'AccelSec', 'TopSpeed_KmH', 'Range_Km',\n",
       "       'Efficiency_WhKm', 'FastCharge_KmH', 'RapidCharge', 'PowerTrain',\n",
       "       'PlugType', 'BodyStyle', 'Segment', 'Seats', 'PriceEuro'],\n",
       "      dtype='object')"
      ]
     },
     "execution_count": 19,
     "metadata": {},
     "output_type": "execute_result"
    }
   ],
   "source": [
    "EV_Data.columns"
   ]
  },
  {
   "cell_type": "code",
   "execution_count": 20,
   "metadata": {},
   "outputs": [
    {
     "data": {
      "text/plain": [
       "'Range_Km'"
      ]
     },
     "execution_count": 20,
     "metadata": {},
     "output_type": "execute_result"
    }
   ],
   "source": [
    "EV_Data.columns[4]"
   ]
  },
  {
   "cell_type": "code",
   "execution_count": 21,
   "metadata": {},
   "outputs": [
    {
     "data": {
      "text/plain": [
       "RangeIndex(start=0, stop=103, step=1)"
      ]
     },
     "execution_count": 21,
     "metadata": {},
     "output_type": "execute_result"
    }
   ],
   "source": [
    "EV_Data.index"
   ]
  },
  {
   "cell_type": "markdown",
   "metadata": {},
   "source": [
    "Por útlimo, para tener un resumen muy bueno, es muy util el metodo ``describe``"
   ]
  },
  {
   "cell_type": "code",
   "execution_count": 22,
   "metadata": {},
   "outputs": [
    {
     "data": {
      "text/html": [
       "<div>\n",
       "<style scoped>\n",
       "    .dataframe tbody tr th:only-of-type {\n",
       "        vertical-align: middle;\n",
       "    }\n",
       "\n",
       "    .dataframe tbody tr th {\n",
       "        vertical-align: top;\n",
       "    }\n",
       "\n",
       "    .dataframe thead th {\n",
       "        text-align: right;\n",
       "    }\n",
       "</style>\n",
       "<table border=\"1\" class=\"dataframe\">\n",
       "  <thead>\n",
       "    <tr style=\"text-align: right;\">\n",
       "      <th></th>\n",
       "      <th>AccelSec</th>\n",
       "      <th>TopSpeed_KmH</th>\n",
       "      <th>Range_Km</th>\n",
       "      <th>Efficiency_WhKm</th>\n",
       "      <th>Seats</th>\n",
       "      <th>PriceEuro</th>\n",
       "    </tr>\n",
       "  </thead>\n",
       "  <tbody>\n",
       "    <tr>\n",
       "      <th>count</th>\n",
       "      <td>103.000000</td>\n",
       "      <td>103.000000</td>\n",
       "      <td>103.000000</td>\n",
       "      <td>103.000000</td>\n",
       "      <td>103.000000</td>\n",
       "      <td>103.000000</td>\n",
       "    </tr>\n",
       "    <tr>\n",
       "      <th>mean</th>\n",
       "      <td>7.396117</td>\n",
       "      <td>179.194175</td>\n",
       "      <td>338.786408</td>\n",
       "      <td>189.165049</td>\n",
       "      <td>4.883495</td>\n",
       "      <td>55811.563107</td>\n",
       "    </tr>\n",
       "    <tr>\n",
       "      <th>std</th>\n",
       "      <td>3.017430</td>\n",
       "      <td>43.573030</td>\n",
       "      <td>126.014444</td>\n",
       "      <td>29.566839</td>\n",
       "      <td>0.795834</td>\n",
       "      <td>34134.665280</td>\n",
       "    </tr>\n",
       "    <tr>\n",
       "      <th>min</th>\n",
       "      <td>2.100000</td>\n",
       "      <td>123.000000</td>\n",
       "      <td>95.000000</td>\n",
       "      <td>104.000000</td>\n",
       "      <td>2.000000</td>\n",
       "      <td>20129.000000</td>\n",
       "    </tr>\n",
       "    <tr>\n",
       "      <th>25%</th>\n",
       "      <td>5.100000</td>\n",
       "      <td>150.000000</td>\n",
       "      <td>250.000000</td>\n",
       "      <td>168.000000</td>\n",
       "      <td>5.000000</td>\n",
       "      <td>34429.500000</td>\n",
       "    </tr>\n",
       "    <tr>\n",
       "      <th>50%</th>\n",
       "      <td>7.300000</td>\n",
       "      <td>160.000000</td>\n",
       "      <td>340.000000</td>\n",
       "      <td>180.000000</td>\n",
       "      <td>5.000000</td>\n",
       "      <td>45000.000000</td>\n",
       "    </tr>\n",
       "    <tr>\n",
       "      <th>75%</th>\n",
       "      <td>9.000000</td>\n",
       "      <td>200.000000</td>\n",
       "      <td>400.000000</td>\n",
       "      <td>203.000000</td>\n",
       "      <td>5.000000</td>\n",
       "      <td>65000.000000</td>\n",
       "    </tr>\n",
       "    <tr>\n",
       "      <th>max</th>\n",
       "      <td>22.400000</td>\n",
       "      <td>410.000000</td>\n",
       "      <td>970.000000</td>\n",
       "      <td>273.000000</td>\n",
       "      <td>7.000000</td>\n",
       "      <td>215000.000000</td>\n",
       "    </tr>\n",
       "  </tbody>\n",
       "</table>\n",
       "</div>"
      ],
      "text/plain": [
       "         AccelSec  TopSpeed_KmH    Range_Km  Efficiency_WhKm       Seats  \\\n",
       "count  103.000000    103.000000  103.000000       103.000000  103.000000   \n",
       "mean     7.396117    179.194175  338.786408       189.165049    4.883495   \n",
       "std      3.017430     43.573030  126.014444        29.566839    0.795834   \n",
       "min      2.100000    123.000000   95.000000       104.000000    2.000000   \n",
       "25%      5.100000    150.000000  250.000000       168.000000    5.000000   \n",
       "50%      7.300000    160.000000  340.000000       180.000000    5.000000   \n",
       "75%      9.000000    200.000000  400.000000       203.000000    5.000000   \n",
       "max     22.400000    410.000000  970.000000       273.000000    7.000000   \n",
       "\n",
       "           PriceEuro  \n",
       "count     103.000000  \n",
       "mean    55811.563107  \n",
       "std     34134.665280  \n",
       "min     20129.000000  \n",
       "25%     34429.500000  \n",
       "50%     45000.000000  \n",
       "75%     65000.000000  \n",
       "max    215000.000000  "
      ]
     },
     "execution_count": 22,
     "metadata": {},
     "output_type": "execute_result"
    }
   ],
   "source": [
    "EV_Data.describe()"
   ]
  },
  {
   "cell_type": "markdown",
   "metadata": {},
   "source": [
    "### 10.3 Seleccionar datos"
   ]
  },
  {
   "cell_type": "markdown",
   "metadata": {},
   "source": [
    "Si queremos trabajar o seleccionar solo con una parte del dataset, podemos usar **[ ]** después del nombre del dataset, e indicar qué columnas se desean seleccionar."
   ]
  },
  {
   "cell_type": "code",
   "execution_count": 23,
   "metadata": {},
   "outputs": [
    {
     "data": {
      "text/html": [
       "<div>\n",
       "<style scoped>\n",
       "    .dataframe tbody tr th:only-of-type {\n",
       "        vertical-align: middle;\n",
       "    }\n",
       "\n",
       "    .dataframe tbody tr th {\n",
       "        vertical-align: top;\n",
       "    }\n",
       "\n",
       "    .dataframe thead th {\n",
       "        text-align: right;\n",
       "    }\n",
       "</style>\n",
       "<table border=\"1\" class=\"dataframe\">\n",
       "  <thead>\n",
       "    <tr style=\"text-align: right;\">\n",
       "      <th></th>\n",
       "      <th>Model</th>\n",
       "      <th>TopSpeed_KmH</th>\n",
       "      <th>PriceEuro</th>\n",
       "    </tr>\n",
       "  </thead>\n",
       "  <tbody>\n",
       "    <tr>\n",
       "      <th>0</th>\n",
       "      <td>Model 3 Long Range Dual Motor</td>\n",
       "      <td>233</td>\n",
       "      <td>55480</td>\n",
       "    </tr>\n",
       "    <tr>\n",
       "      <th>1</th>\n",
       "      <td>ID.3 Pure</td>\n",
       "      <td>160</td>\n",
       "      <td>30000</td>\n",
       "    </tr>\n",
       "    <tr>\n",
       "      <th>2</th>\n",
       "      <td>2</td>\n",
       "      <td>210</td>\n",
       "      <td>56440</td>\n",
       "    </tr>\n",
       "    <tr>\n",
       "      <th>3</th>\n",
       "      <td>iX3</td>\n",
       "      <td>180</td>\n",
       "      <td>68040</td>\n",
       "    </tr>\n",
       "    <tr>\n",
       "      <th>4</th>\n",
       "      <td>e</td>\n",
       "      <td>145</td>\n",
       "      <td>32997</td>\n",
       "    </tr>\n",
       "    <tr>\n",
       "      <th>5</th>\n",
       "      <td>Air</td>\n",
       "      <td>250</td>\n",
       "      <td>105000</td>\n",
       "    </tr>\n",
       "    <tr>\n",
       "      <th>6</th>\n",
       "      <td>e-Golf</td>\n",
       "      <td>150</td>\n",
       "      <td>31900</td>\n",
       "    </tr>\n",
       "    <tr>\n",
       "      <th>7</th>\n",
       "      <td>e-208</td>\n",
       "      <td>150</td>\n",
       "      <td>29682</td>\n",
       "    </tr>\n",
       "  </tbody>\n",
       "</table>\n",
       "</div>"
      ],
      "text/plain": [
       "                           Model  TopSpeed_KmH  PriceEuro\n",
       "0  Model 3 Long Range Dual Motor           233      55480\n",
       "1                      ID.3 Pure           160      30000\n",
       "2                              2           210      56440\n",
       "3                           iX3            180      68040\n",
       "4                             e            145      32997\n",
       "5                           Air            250     105000\n",
       "6                        e-Golf            150      31900\n",
       "7                         e-208            150      29682"
      ]
     },
     "execution_count": 23,
     "metadata": {},
     "output_type": "execute_result"
    }
   ],
   "source": [
    "EV_Data[['Model','TopSpeed_KmH', 'PriceEuro']].head(8)"
   ]
  },
  {
   "cell_type": "markdown",
   "metadata": {},
   "source": [
    "Si, por el contrario se quiere seleccionar una parte de las filas, se indicará usando *slicing* como en los strings:"
   ]
  },
  {
   "cell_type": "code",
   "execution_count": 24,
   "metadata": {},
   "outputs": [
    {
     "data": {
      "text/plain": [
       "Brand                                      Tesla\n",
       "Model              Model 3 Long Range Dual Motor\n",
       "AccelSec                                     4.6\n",
       "TopSpeed_KmH                                 233\n",
       "Range_Km                                     450\n",
       "Efficiency_WhKm                              161\n",
       "FastCharge_KmH                               940\n",
       "RapidCharge                                  Yes\n",
       "PowerTrain                                   AWD\n",
       "PlugType                              Type 2 CCS\n",
       "BodyStyle                                  Sedan\n",
       "Segment                                        D\n",
       "Seats                                          5\n",
       "PriceEuro                                  55480\n",
       "Name: 0, dtype: object"
      ]
     },
     "execution_count": 24,
     "metadata": {},
     "output_type": "execute_result"
    }
   ],
   "source": [
    "EV_Data.iloc[0]"
   ]
  },
  {
   "cell_type": "markdown",
   "metadata": {},
   "source": [
    "#### loc vs iloc\n",
    "\n",
    "Para seleccionar partes más específicas (más de una columna, varias columnas y solo unas filas de éstas,...), se usará la indexación con el loc o iloc. La única diferencia entre los dos, es que el primero se basa en el *label* de las filas o columnas, mientras que iloc se basa en el *integer* de estas. Con un ejemplo se entiende mejor:"
   ]
  },
  {
   "cell_type": "code",
   "execution_count": 25,
   "metadata": {},
   "outputs": [
    {
     "data": {
      "text/html": [
       "<div>\n",
       "<style scoped>\n",
       "    .dataframe tbody tr th:only-of-type {\n",
       "        vertical-align: middle;\n",
       "    }\n",
       "\n",
       "    .dataframe tbody tr th {\n",
       "        vertical-align: top;\n",
       "    }\n",
       "\n",
       "    .dataframe thead th {\n",
       "        text-align: right;\n",
       "    }\n",
       "</style>\n",
       "<table border=\"1\" class=\"dataframe\">\n",
       "  <thead>\n",
       "    <tr style=\"text-align: right;\">\n",
       "      <th></th>\n",
       "      <th>Model</th>\n",
       "      <th>TopSpeed_KmH</th>\n",
       "      <th>PriceEuro</th>\n",
       "    </tr>\n",
       "  </thead>\n",
       "  <tbody>\n",
       "    <tr>\n",
       "      <th>3</th>\n",
       "      <td>iX3</td>\n",
       "      <td>180</td>\n",
       "      <td>68040</td>\n",
       "    </tr>\n",
       "    <tr>\n",
       "      <th>4</th>\n",
       "      <td>e</td>\n",
       "      <td>145</td>\n",
       "      <td>32997</td>\n",
       "    </tr>\n",
       "    <tr>\n",
       "      <th>5</th>\n",
       "      <td>Air</td>\n",
       "      <td>250</td>\n",
       "      <td>105000</td>\n",
       "    </tr>\n",
       "  </tbody>\n",
       "</table>\n",
       "</div>"
      ],
      "text/plain": [
       "  Model  TopSpeed_KmH  PriceEuro\n",
       "3  iX3            180      68040\n",
       "4    e            145      32997\n",
       "5  Air            250     105000"
      ]
     },
     "execution_count": 25,
     "metadata": {},
     "output_type": "execute_result"
    }
   ],
   "source": [
    "EV_Data.loc[3:5,['Model','TopSpeed_KmH', 'PriceEuro']]"
   ]
  },
  {
   "cell_type": "code",
   "execution_count": 26,
   "metadata": {},
   "outputs": [
    {
     "data": {
      "text/html": [
       "<div>\n",
       "<style scoped>\n",
       "    .dataframe tbody tr th:only-of-type {\n",
       "        vertical-align: middle;\n",
       "    }\n",
       "\n",
       "    .dataframe tbody tr th {\n",
       "        vertical-align: top;\n",
       "    }\n",
       "\n",
       "    .dataframe thead th {\n",
       "        text-align: right;\n",
       "    }\n",
       "</style>\n",
       "<table border=\"1\" class=\"dataframe\">\n",
       "  <thead>\n",
       "    <tr style=\"text-align: right;\">\n",
       "      <th></th>\n",
       "      <th>Model</th>\n",
       "      <th>AccelSec</th>\n",
       "    </tr>\n",
       "  </thead>\n",
       "  <tbody>\n",
       "    <tr>\n",
       "      <th>3</th>\n",
       "      <td>iX3</td>\n",
       "      <td>6.8</td>\n",
       "    </tr>\n",
       "    <tr>\n",
       "      <th>4</th>\n",
       "      <td>e</td>\n",
       "      <td>9.5</td>\n",
       "    </tr>\n",
       "  </tbody>\n",
       "</table>\n",
       "</div>"
      ],
      "text/plain": [
       "  Model  AccelSec\n",
       "3  iX3        6.8\n",
       "4    e        9.5"
      ]
     },
     "execution_count": 26,
     "metadata": {},
     "output_type": "execute_result"
    }
   ],
   "source": [
    "EV_Data.iloc[3:5,1:3]"
   ]
  },
  {
   "cell_type": "markdown",
   "metadata": {},
   "source": [
    "Se debe tener en cuenta que el índice no será siempre un número y puede tratar-se de otro parámetro. Por ejemplo, podemos poner el día como índice."
   ]
  },
  {
   "cell_type": "markdown",
   "metadata": {},
   "source": [
    "### 10.4 Filtrar datos\n",
    "\n",
    "Otra manera de seleccionar solo una parte del dataset es aplicar *Boolena indexing*, que no es nada más que aplicar un filtro a los datos. Por ejemplo, vamos a seleccionar solo aquellos días en los que la energia máxima ha sido mayor a 1."
   ]
  },
  {
   "cell_type": "code",
   "execution_count": 27,
   "metadata": {},
   "outputs": [
    {
     "data": {
      "text/plain": [
       "0       True\n",
       "1      False\n",
       "2       True\n",
       "3       True\n",
       "4      False\n",
       "       ...  \n",
       "98     False\n",
       "99      True\n",
       "100    False\n",
       "101     True\n",
       "102     True\n",
       "Name: PriceEuro, Length: 103, dtype: bool"
      ]
     },
     "execution_count": 27,
     "metadata": {},
     "output_type": "execute_result"
    }
   ],
   "source": [
    "EV_Data['PriceEuro'] > 50000"
   ]
  },
  {
   "cell_type": "markdown",
   "metadata": {},
   "source": [
    "Como se puede observar ahora tenemos seleccionadas aquellas columnas que cumplen nuestra condición. ¿Y si lo ponemos directamente dentro del dataset cuando seleccionamos solo una part?"
   ]
  },
  {
   "cell_type": "code",
   "execution_count": 28,
   "metadata": {},
   "outputs": [
    {
     "data": {
      "text/html": [
       "<div>\n",
       "<style scoped>\n",
       "    .dataframe tbody tr th:only-of-type {\n",
       "        vertical-align: middle;\n",
       "    }\n",
       "\n",
       "    .dataframe tbody tr th {\n",
       "        vertical-align: top;\n",
       "    }\n",
       "\n",
       "    .dataframe thead th {\n",
       "        text-align: right;\n",
       "    }\n",
       "</style>\n",
       "<table border=\"1\" class=\"dataframe\">\n",
       "  <thead>\n",
       "    <tr style=\"text-align: right;\">\n",
       "      <th></th>\n",
       "      <th>Brand</th>\n",
       "      <th>Model</th>\n",
       "      <th>AccelSec</th>\n",
       "      <th>TopSpeed_KmH</th>\n",
       "      <th>Range_Km</th>\n",
       "      <th>Efficiency_WhKm</th>\n",
       "      <th>FastCharge_KmH</th>\n",
       "      <th>RapidCharge</th>\n",
       "      <th>PowerTrain</th>\n",
       "      <th>PlugType</th>\n",
       "      <th>BodyStyle</th>\n",
       "      <th>Segment</th>\n",
       "      <th>Seats</th>\n",
       "      <th>PriceEuro</th>\n",
       "    </tr>\n",
       "  </thead>\n",
       "  <tbody>\n",
       "    <tr>\n",
       "      <th>0</th>\n",
       "      <td>Tesla</td>\n",
       "      <td>Model 3 Long Range Dual Motor</td>\n",
       "      <td>4.6</td>\n",
       "      <td>233</td>\n",
       "      <td>450</td>\n",
       "      <td>161</td>\n",
       "      <td>940</td>\n",
       "      <td>Yes</td>\n",
       "      <td>AWD</td>\n",
       "      <td>Type 2 CCS</td>\n",
       "      <td>Sedan</td>\n",
       "      <td>D</td>\n",
       "      <td>5</td>\n",
       "      <td>55480</td>\n",
       "    </tr>\n",
       "    <tr>\n",
       "      <th>2</th>\n",
       "      <td>Polestar</td>\n",
       "      <td>2</td>\n",
       "      <td>4.7</td>\n",
       "      <td>210</td>\n",
       "      <td>400</td>\n",
       "      <td>181</td>\n",
       "      <td>620</td>\n",
       "      <td>Yes</td>\n",
       "      <td>AWD</td>\n",
       "      <td>Type 2 CCS</td>\n",
       "      <td>Liftback</td>\n",
       "      <td>D</td>\n",
       "      <td>5</td>\n",
       "      <td>56440</td>\n",
       "    </tr>\n",
       "    <tr>\n",
       "      <th>3</th>\n",
       "      <td>BMW</td>\n",
       "      <td>iX3</td>\n",
       "      <td>6.8</td>\n",
       "      <td>180</td>\n",
       "      <td>360</td>\n",
       "      <td>206</td>\n",
       "      <td>560</td>\n",
       "      <td>Yes</td>\n",
       "      <td>RWD</td>\n",
       "      <td>Type 2 CCS</td>\n",
       "      <td>SUV</td>\n",
       "      <td>D</td>\n",
       "      <td>5</td>\n",
       "      <td>68040</td>\n",
       "    </tr>\n",
       "    <tr>\n",
       "      <th>5</th>\n",
       "      <td>Lucid</td>\n",
       "      <td>Air</td>\n",
       "      <td>2.8</td>\n",
       "      <td>250</td>\n",
       "      <td>610</td>\n",
       "      <td>180</td>\n",
       "      <td>620</td>\n",
       "      <td>Yes</td>\n",
       "      <td>AWD</td>\n",
       "      <td>Type 2 CCS</td>\n",
       "      <td>Sedan</td>\n",
       "      <td>F</td>\n",
       "      <td>5</td>\n",
       "      <td>105000</td>\n",
       "    </tr>\n",
       "    <tr>\n",
       "      <th>9</th>\n",
       "      <td>Audi</td>\n",
       "      <td>Q4 e-tron</td>\n",
       "      <td>6.3</td>\n",
       "      <td>180</td>\n",
       "      <td>400</td>\n",
       "      <td>193</td>\n",
       "      <td>540</td>\n",
       "      <td>Yes</td>\n",
       "      <td>AWD</td>\n",
       "      <td>Type 2 CCS</td>\n",
       "      <td>SUV</td>\n",
       "      <td>D</td>\n",
       "      <td>5</td>\n",
       "      <td>55000</td>\n",
       "    </tr>\n",
       "    <tr>\n",
       "      <th>10</th>\n",
       "      <td>Mercedes</td>\n",
       "      <td>EQC 400 4MATIC</td>\n",
       "      <td>5.1</td>\n",
       "      <td>180</td>\n",
       "      <td>370</td>\n",
       "      <td>216</td>\n",
       "      <td>440</td>\n",
       "      <td>Yes</td>\n",
       "      <td>AWD</td>\n",
       "      <td>Type 2 CCS</td>\n",
       "      <td>SUV</td>\n",
       "      <td>D</td>\n",
       "      <td>5</td>\n",
       "      <td>69484</td>\n",
       "    </tr>\n",
       "    <tr>\n",
       "      <th>13</th>\n",
       "      <td>BMW</td>\n",
       "      <td>i4</td>\n",
       "      <td>4.0</td>\n",
       "      <td>200</td>\n",
       "      <td>450</td>\n",
       "      <td>178</td>\n",
       "      <td>650</td>\n",
       "      <td>Yes</td>\n",
       "      <td>RWD</td>\n",
       "      <td>Type 2 CCS</td>\n",
       "      <td>Sedan</td>\n",
       "      <td>D</td>\n",
       "      <td>5</td>\n",
       "      <td>65000</td>\n",
       "    </tr>\n",
       "    <tr>\n",
       "      <th>16</th>\n",
       "      <td>Porsche</td>\n",
       "      <td>Taycan Turbo S</td>\n",
       "      <td>2.8</td>\n",
       "      <td>260</td>\n",
       "      <td>375</td>\n",
       "      <td>223</td>\n",
       "      <td>780</td>\n",
       "      <td>Yes</td>\n",
       "      <td>AWD</td>\n",
       "      <td>Type 2 CCS</td>\n",
       "      <td>Sedan</td>\n",
       "      <td>F</td>\n",
       "      <td>4</td>\n",
       "      <td>180781</td>\n",
       "    </tr>\n",
       "    <tr>\n",
       "      <th>21</th>\n",
       "      <td>Tesla</td>\n",
       "      <td>Model Y Long Range Dual Motor</td>\n",
       "      <td>5.1</td>\n",
       "      <td>217</td>\n",
       "      <td>425</td>\n",
       "      <td>171</td>\n",
       "      <td>930</td>\n",
       "      <td>Yes</td>\n",
       "      <td>AWD</td>\n",
       "      <td>Type 2 CCS</td>\n",
       "      <td>SUV</td>\n",
       "      <td>D</td>\n",
       "      <td>7</td>\n",
       "      <td>58620</td>\n",
       "    </tr>\n",
       "    <tr>\n",
       "      <th>23</th>\n",
       "      <td>Audi</td>\n",
       "      <td>e-tron GT</td>\n",
       "      <td>3.5</td>\n",
       "      <td>240</td>\n",
       "      <td>425</td>\n",
       "      <td>197</td>\n",
       "      <td>850</td>\n",
       "      <td>Yes</td>\n",
       "      <td>AWD</td>\n",
       "      <td>Type 2 CCS</td>\n",
       "      <td>Sedan</td>\n",
       "      <td>F</td>\n",
       "      <td>4</td>\n",
       "      <td>125000</td>\n",
       "    </tr>\n",
       "    <tr>\n",
       "      <th>24</th>\n",
       "      <td>Tesla</td>\n",
       "      <td>Model 3 Long Range Performance</td>\n",
       "      <td>3.4</td>\n",
       "      <td>261</td>\n",
       "      <td>435</td>\n",
       "      <td>167</td>\n",
       "      <td>910</td>\n",
       "      <td>Yes</td>\n",
       "      <td>AWD</td>\n",
       "      <td>Type 2 CCS</td>\n",
       "      <td>Sedan</td>\n",
       "      <td>D</td>\n",
       "      <td>5</td>\n",
       "      <td>61480</td>\n",
       "    </tr>\n",
       "    <tr>\n",
       "      <th>27</th>\n",
       "      <td>Volvo</td>\n",
       "      <td>XC40 P8 AWD Recharge</td>\n",
       "      <td>4.9</td>\n",
       "      <td>180</td>\n",
       "      <td>375</td>\n",
       "      <td>200</td>\n",
       "      <td>470</td>\n",
       "      <td>Yes</td>\n",
       "      <td>AWD</td>\n",
       "      <td>Type 2 CCS</td>\n",
       "      <td>SUV</td>\n",
       "      <td>C</td>\n",
       "      <td>5</td>\n",
       "      <td>60437</td>\n",
       "    </tr>\n",
       "    <tr>\n",
       "      <th>30</th>\n",
       "      <td>Audi</td>\n",
       "      <td>e-tron 50 quattro</td>\n",
       "      <td>6.8</td>\n",
       "      <td>190</td>\n",
       "      <td>280</td>\n",
       "      <td>231</td>\n",
       "      <td>450</td>\n",
       "      <td>Yes</td>\n",
       "      <td>AWD</td>\n",
       "      <td>Type 2 CCS</td>\n",
       "      <td>SUV</td>\n",
       "      <td>E</td>\n",
       "      <td>5</td>\n",
       "      <td>67358</td>\n",
       "    </tr>\n",
       "    <tr>\n",
       "      <th>33</th>\n",
       "      <td>Tesla</td>\n",
       "      <td>Cybertruck Tri Motor</td>\n",
       "      <td>3.0</td>\n",
       "      <td>210</td>\n",
       "      <td>750</td>\n",
       "      <td>267</td>\n",
       "      <td>710</td>\n",
       "      <td>Yes</td>\n",
       "      <td>AWD</td>\n",
       "      <td>Type 2 CCS</td>\n",
       "      <td>Pickup</td>\n",
       "      <td>N</td>\n",
       "      <td>6</td>\n",
       "      <td>75000</td>\n",
       "    </tr>\n",
       "    <tr>\n",
       "      <th>40</th>\n",
       "      <td>Tesla</td>\n",
       "      <td>Model S Long Range</td>\n",
       "      <td>3.8</td>\n",
       "      <td>250</td>\n",
       "      <td>515</td>\n",
       "      <td>184</td>\n",
       "      <td>560</td>\n",
       "      <td>Yes</td>\n",
       "      <td>AWD</td>\n",
       "      <td>Type 2</td>\n",
       "      <td>Liftback</td>\n",
       "      <td>F</td>\n",
       "      <td>5</td>\n",
       "      <td>79990</td>\n",
       "    </tr>\n",
       "    <tr>\n",
       "      <th>42</th>\n",
       "      <td>Audi</td>\n",
       "      <td>e-tron Sportback 55 quattro</td>\n",
       "      <td>5.7</td>\n",
       "      <td>200</td>\n",
       "      <td>380</td>\n",
       "      <td>228</td>\n",
       "      <td>610</td>\n",
       "      <td>Yes</td>\n",
       "      <td>AWD</td>\n",
       "      <td>Type 2 CCS</td>\n",
       "      <td>SUV</td>\n",
       "      <td>E</td>\n",
       "      <td>5</td>\n",
       "      <td>81639</td>\n",
       "    </tr>\n",
       "    <tr>\n",
       "      <th>47</th>\n",
       "      <td>Porsche</td>\n",
       "      <td>Taycan 4S</td>\n",
       "      <td>4.0</td>\n",
       "      <td>250</td>\n",
       "      <td>365</td>\n",
       "      <td>195</td>\n",
       "      <td>730</td>\n",
       "      <td>Yes</td>\n",
       "      <td>AWD</td>\n",
       "      <td>Type 2 CCS</td>\n",
       "      <td>Sedan</td>\n",
       "      <td>F</td>\n",
       "      <td>4</td>\n",
       "      <td>102945</td>\n",
       "    </tr>\n",
       "    <tr>\n",
       "      <th>48</th>\n",
       "      <td>Lightyear</td>\n",
       "      <td>One</td>\n",
       "      <td>10.0</td>\n",
       "      <td>150</td>\n",
       "      <td>575</td>\n",
       "      <td>104</td>\n",
       "      <td>540</td>\n",
       "      <td>Yes</td>\n",
       "      <td>AWD</td>\n",
       "      <td>Type 2 CCS</td>\n",
       "      <td>Liftback</td>\n",
       "      <td>F</td>\n",
       "      <td>5</td>\n",
       "      <td>149000</td>\n",
       "    </tr>\n",
       "    <tr>\n",
       "      <th>50</th>\n",
       "      <td>Audi</td>\n",
       "      <td>e-tron 55 quattro</td>\n",
       "      <td>5.7</td>\n",
       "      <td>200</td>\n",
       "      <td>365</td>\n",
       "      <td>237</td>\n",
       "      <td>590</td>\n",
       "      <td>Yes</td>\n",
       "      <td>AWD</td>\n",
       "      <td>Type 2 CCS</td>\n",
       "      <td>SUV</td>\n",
       "      <td>E</td>\n",
       "      <td>5</td>\n",
       "      <td>79445</td>\n",
       "    </tr>\n",
       "    <tr>\n",
       "      <th>51</th>\n",
       "      <td>Tesla</td>\n",
       "      <td>Roadster</td>\n",
       "      <td>2.1</td>\n",
       "      <td>410</td>\n",
       "      <td>970</td>\n",
       "      <td>206</td>\n",
       "      <td>920</td>\n",
       "      <td>Yes</td>\n",
       "      <td>AWD</td>\n",
       "      <td>Type 2 CCS</td>\n",
       "      <td>Cabrio</td>\n",
       "      <td>S</td>\n",
       "      <td>4</td>\n",
       "      <td>215000</td>\n",
       "    </tr>\n",
       "    <tr>\n",
       "      <th>54</th>\n",
       "      <td>Tesla</td>\n",
       "      <td>Model X Long Range</td>\n",
       "      <td>4.6</td>\n",
       "      <td>250</td>\n",
       "      <td>450</td>\n",
       "      <td>211</td>\n",
       "      <td>490</td>\n",
       "      <td>Yes</td>\n",
       "      <td>AWD</td>\n",
       "      <td>Type 2</td>\n",
       "      <td>SUV</td>\n",
       "      <td>F</td>\n",
       "      <td>7</td>\n",
       "      <td>85990</td>\n",
       "    </tr>\n",
       "    <tr>\n",
       "      <th>59</th>\n",
       "      <td>Tesla</td>\n",
       "      <td>Model S Performance</td>\n",
       "      <td>2.5</td>\n",
       "      <td>261</td>\n",
       "      <td>505</td>\n",
       "      <td>188</td>\n",
       "      <td>550</td>\n",
       "      <td>Yes</td>\n",
       "      <td>AWD</td>\n",
       "      <td>Type 2</td>\n",
       "      <td>Liftback</td>\n",
       "      <td>F</td>\n",
       "      <td>5</td>\n",
       "      <td>96990</td>\n",
       "    </tr>\n",
       "    <tr>\n",
       "      <th>61</th>\n",
       "      <td>Tesla</td>\n",
       "      <td>Model Y Long Range Performance</td>\n",
       "      <td>3.7</td>\n",
       "      <td>241</td>\n",
       "      <td>410</td>\n",
       "      <td>177</td>\n",
       "      <td>900</td>\n",
       "      <td>Yes</td>\n",
       "      <td>AWD</td>\n",
       "      <td>Type 2 CCS</td>\n",
       "      <td>SUV</td>\n",
       "      <td>D</td>\n",
       "      <td>7</td>\n",
       "      <td>65620</td>\n",
       "    </tr>\n",
       "    <tr>\n",
       "      <th>63</th>\n",
       "      <td>Jaguar</td>\n",
       "      <td>I-Pace</td>\n",
       "      <td>4.8</td>\n",
       "      <td>200</td>\n",
       "      <td>365</td>\n",
       "      <td>232</td>\n",
       "      <td>340</td>\n",
       "      <td>Yes</td>\n",
       "      <td>AWD</td>\n",
       "      <td>Type 2 CCS</td>\n",
       "      <td>SUV</td>\n",
       "      <td>E</td>\n",
       "      <td>5</td>\n",
       "      <td>75351</td>\n",
       "    </tr>\n",
       "    <tr>\n",
       "      <th>64</th>\n",
       "      <td>Ford</td>\n",
       "      <td>Mustang Mach-E ER RWD</td>\n",
       "      <td>7.0</td>\n",
       "      <td>180</td>\n",
       "      <td>450</td>\n",
       "      <td>200</td>\n",
       "      <td>430</td>\n",
       "      <td>Yes</td>\n",
       "      <td>RWD</td>\n",
       "      <td>Type 2 CCS</td>\n",
       "      <td>SUV</td>\n",
       "      <td>D</td>\n",
       "      <td>5</td>\n",
       "      <td>54475</td>\n",
       "    </tr>\n",
       "    <tr>\n",
       "      <th>65</th>\n",
       "      <td>Porsche</td>\n",
       "      <td>Taycan 4S Plus</td>\n",
       "      <td>4.0</td>\n",
       "      <td>250</td>\n",
       "      <td>425</td>\n",
       "      <td>197</td>\n",
       "      <td>890</td>\n",
       "      <td>Yes</td>\n",
       "      <td>AWD</td>\n",
       "      <td>Type 2 CCS</td>\n",
       "      <td>Sedan</td>\n",
       "      <td>F</td>\n",
       "      <td>4</td>\n",
       "      <td>109302</td>\n",
       "    </tr>\n",
       "    <tr>\n",
       "      <th>67</th>\n",
       "      <td>Tesla</td>\n",
       "      <td>Cybertruck Dual Motor</td>\n",
       "      <td>5.0</td>\n",
       "      <td>190</td>\n",
       "      <td>460</td>\n",
       "      <td>261</td>\n",
       "      <td>710</td>\n",
       "      <td>Yes</td>\n",
       "      <td>AWD</td>\n",
       "      <td>Type 2 CCS</td>\n",
       "      <td>Pickup</td>\n",
       "      <td>N</td>\n",
       "      <td>6</td>\n",
       "      <td>55000</td>\n",
       "    </tr>\n",
       "    <tr>\n",
       "      <th>69</th>\n",
       "      <td>Ford</td>\n",
       "      <td>Mustang Mach-E ER AWD</td>\n",
       "      <td>6.0</td>\n",
       "      <td>180</td>\n",
       "      <td>430</td>\n",
       "      <td>209</td>\n",
       "      <td>410</td>\n",
       "      <td>Yes</td>\n",
       "      <td>AWD</td>\n",
       "      <td>Type 2 CCS</td>\n",
       "      <td>SUV</td>\n",
       "      <td>D</td>\n",
       "      <td>5</td>\n",
       "      <td>62900</td>\n",
       "    </tr>\n",
       "    <tr>\n",
       "      <th>72</th>\n",
       "      <td>Porsche</td>\n",
       "      <td>Taycan Cross Turismo</td>\n",
       "      <td>3.5</td>\n",
       "      <td>250</td>\n",
       "      <td>385</td>\n",
       "      <td>217</td>\n",
       "      <td>770</td>\n",
       "      <td>Yes</td>\n",
       "      <td>AWD</td>\n",
       "      <td>Type 2 CCS</td>\n",
       "      <td>Station</td>\n",
       "      <td>F</td>\n",
       "      <td>4</td>\n",
       "      <td>150000</td>\n",
       "    </tr>\n",
       "    <tr>\n",
       "      <th>73</th>\n",
       "      <td>Byton</td>\n",
       "      <td>M-Byte 95 kWh 4WD</td>\n",
       "      <td>5.5</td>\n",
       "      <td>190</td>\n",
       "      <td>390</td>\n",
       "      <td>244</td>\n",
       "      <td>460</td>\n",
       "      <td>Yes</td>\n",
       "      <td>AWD</td>\n",
       "      <td>Type 2 CCS</td>\n",
       "      <td>SUV</td>\n",
       "      <td>E</td>\n",
       "      <td>5</td>\n",
       "      <td>64000</td>\n",
       "    </tr>\n",
       "    <tr>\n",
       "      <th>76</th>\n",
       "      <td>Audi</td>\n",
       "      <td>Q4 Sportback e-tron</td>\n",
       "      <td>6.3</td>\n",
       "      <td>180</td>\n",
       "      <td>410</td>\n",
       "      <td>188</td>\n",
       "      <td>550</td>\n",
       "      <td>Yes</td>\n",
       "      <td>AWD</td>\n",
       "      <td>Type 2 CCS</td>\n",
       "      <td>SUV</td>\n",
       "      <td>D</td>\n",
       "      <td>5</td>\n",
       "      <td>57500</td>\n",
       "    </tr>\n",
       "    <tr>\n",
       "      <th>78</th>\n",
       "      <td>Ford</td>\n",
       "      <td>Mustang Mach-E SR AWD</td>\n",
       "      <td>6.0</td>\n",
       "      <td>180</td>\n",
       "      <td>340</td>\n",
       "      <td>206</td>\n",
       "      <td>360</td>\n",
       "      <td>Yes</td>\n",
       "      <td>AWD</td>\n",
       "      <td>Type 2 CCS</td>\n",
       "      <td>SUV</td>\n",
       "      <td>D</td>\n",
       "      <td>5</td>\n",
       "      <td>54000</td>\n",
       "    </tr>\n",
       "    <tr>\n",
       "      <th>79</th>\n",
       "      <td>Porsche</td>\n",
       "      <td>Taycan Turbo</td>\n",
       "      <td>3.2</td>\n",
       "      <td>260</td>\n",
       "      <td>390</td>\n",
       "      <td>215</td>\n",
       "      <td>810</td>\n",
       "      <td>Yes</td>\n",
       "      <td>AWD</td>\n",
       "      <td>Type 2 CCS</td>\n",
       "      <td>Sedan</td>\n",
       "      <td>F</td>\n",
       "      <td>4</td>\n",
       "      <td>148301</td>\n",
       "    </tr>\n",
       "    <tr>\n",
       "      <th>81</th>\n",
       "      <td>Tesla</td>\n",
       "      <td>Model X Performance</td>\n",
       "      <td>2.8</td>\n",
       "      <td>250</td>\n",
       "      <td>440</td>\n",
       "      <td>216</td>\n",
       "      <td>480</td>\n",
       "      <td>Yes</td>\n",
       "      <td>AWD</td>\n",
       "      <td>Type 2</td>\n",
       "      <td>SUV</td>\n",
       "      <td>F</td>\n",
       "      <td>7</td>\n",
       "      <td>102990</td>\n",
       "    </tr>\n",
       "    <tr>\n",
       "      <th>84</th>\n",
       "      <td>Mercedes</td>\n",
       "      <td>EQV 300 Long</td>\n",
       "      <td>10.0</td>\n",
       "      <td>140</td>\n",
       "      <td>330</td>\n",
       "      <td>273</td>\n",
       "      <td>290</td>\n",
       "      <td>Yes</td>\n",
       "      <td>FWD</td>\n",
       "      <td>Type 2 CCS</td>\n",
       "      <td>SPV</td>\n",
       "      <td>N</td>\n",
       "      <td>7</td>\n",
       "      <td>70631</td>\n",
       "    </tr>\n",
       "    <tr>\n",
       "      <th>87</th>\n",
       "      <td>Audi</td>\n",
       "      <td>e-tron Sportback 50 quattro</td>\n",
       "      <td>6.8</td>\n",
       "      <td>190</td>\n",
       "      <td>295</td>\n",
       "      <td>219</td>\n",
       "      <td>470</td>\n",
       "      <td>Yes</td>\n",
       "      <td>AWD</td>\n",
       "      <td>Type 2 CCS</td>\n",
       "      <td>SUV</td>\n",
       "      <td>E</td>\n",
       "      <td>5</td>\n",
       "      <td>69551</td>\n",
       "    </tr>\n",
       "    <tr>\n",
       "      <th>90</th>\n",
       "      <td>Audi</td>\n",
       "      <td>e-tron S 55 quattro</td>\n",
       "      <td>4.5</td>\n",
       "      <td>210</td>\n",
       "      <td>320</td>\n",
       "      <td>270</td>\n",
       "      <td>510</td>\n",
       "      <td>Yes</td>\n",
       "      <td>AWD</td>\n",
       "      <td>Type 2 CCS</td>\n",
       "      <td>SUV</td>\n",
       "      <td>E</td>\n",
       "      <td>5</td>\n",
       "      <td>93800</td>\n",
       "    </tr>\n",
       "    <tr>\n",
       "      <th>93</th>\n",
       "      <td>Nissan</td>\n",
       "      <td>Ariya e-4ORCE 87kWh</td>\n",
       "      <td>5.7</td>\n",
       "      <td>200</td>\n",
       "      <td>420</td>\n",
       "      <td>207</td>\n",
       "      <td>500</td>\n",
       "      <td>Yes</td>\n",
       "      <td>AWD</td>\n",
       "      <td>Type 2 CCS</td>\n",
       "      <td>Hatchback</td>\n",
       "      <td>C</td>\n",
       "      <td>5</td>\n",
       "      <td>57500</td>\n",
       "    </tr>\n",
       "    <tr>\n",
       "      <th>97</th>\n",
       "      <td>Byton</td>\n",
       "      <td>M-Byte 72 kWh 2WD</td>\n",
       "      <td>7.5</td>\n",
       "      <td>190</td>\n",
       "      <td>325</td>\n",
       "      <td>222</td>\n",
       "      <td>420</td>\n",
       "      <td>Yes</td>\n",
       "      <td>RWD</td>\n",
       "      <td>Type 2 CCS</td>\n",
       "      <td>SUV</td>\n",
       "      <td>E</td>\n",
       "      <td>5</td>\n",
       "      <td>53500</td>\n",
       "    </tr>\n",
       "    <tr>\n",
       "      <th>99</th>\n",
       "      <td>Audi</td>\n",
       "      <td>e-tron S Sportback 55 quattro</td>\n",
       "      <td>4.5</td>\n",
       "      <td>210</td>\n",
       "      <td>335</td>\n",
       "      <td>258</td>\n",
       "      <td>540</td>\n",
       "      <td>Yes</td>\n",
       "      <td>AWD</td>\n",
       "      <td>Type 2 CCS</td>\n",
       "      <td>SUV</td>\n",
       "      <td>E</td>\n",
       "      <td>5</td>\n",
       "      <td>96050</td>\n",
       "    </tr>\n",
       "    <tr>\n",
       "      <th>101</th>\n",
       "      <td>Nissan</td>\n",
       "      <td>Ariya e-4ORCE 87kWh Performance</td>\n",
       "      <td>5.1</td>\n",
       "      <td>200</td>\n",
       "      <td>375</td>\n",
       "      <td>232</td>\n",
       "      <td>450</td>\n",
       "      <td>Yes</td>\n",
       "      <td>AWD</td>\n",
       "      <td>Type 2 CCS</td>\n",
       "      <td>Hatchback</td>\n",
       "      <td>C</td>\n",
       "      <td>5</td>\n",
       "      <td>65000</td>\n",
       "    </tr>\n",
       "    <tr>\n",
       "      <th>102</th>\n",
       "      <td>Byton</td>\n",
       "      <td>M-Byte 95 kWh 2WD</td>\n",
       "      <td>7.5</td>\n",
       "      <td>190</td>\n",
       "      <td>400</td>\n",
       "      <td>238</td>\n",
       "      <td>480</td>\n",
       "      <td>Yes</td>\n",
       "      <td>AWD</td>\n",
       "      <td>Type 2 CCS</td>\n",
       "      <td>SUV</td>\n",
       "      <td>E</td>\n",
       "      <td>5</td>\n",
       "      <td>62000</td>\n",
       "    </tr>\n",
       "  </tbody>\n",
       "</table>\n",
       "</div>"
      ],
      "text/plain": [
       "         Brand                            Model  AccelSec  TopSpeed_KmH  \\\n",
       "0        Tesla    Model 3 Long Range Dual Motor       4.6           233   \n",
       "2     Polestar                                2       4.7           210   \n",
       "3          BMW                             iX3        6.8           180   \n",
       "5        Lucid                             Air        2.8           250   \n",
       "9         Audi                       Q4 e-tron        6.3           180   \n",
       "10    Mercedes                   EQC 400 4MATIC       5.1           180   \n",
       "13         BMW                              i4        4.0           200   \n",
       "16     Porsche                   Taycan Turbo S       2.8           260   \n",
       "21       Tesla    Model Y Long Range Dual Motor       5.1           217   \n",
       "23        Audi                       e-tron GT        3.5           240   \n",
       "24       Tesla   Model 3 Long Range Performance       3.4           261   \n",
       "27       Volvo             XC40 P8 AWD Recharge       4.9           180   \n",
       "30        Audi                e-tron 50 quattro       6.8           190   \n",
       "33       Tesla             Cybertruck Tri Motor       3.0           210   \n",
       "40       Tesla               Model S Long Range       3.8           250   \n",
       "42        Audi      e-tron Sportback 55 quattro       5.7           200   \n",
       "47     Porsche                        Taycan 4S       4.0           250   \n",
       "48   Lightyear                             One       10.0           150   \n",
       "50        Audi                e-tron 55 quattro       5.7           200   \n",
       "51       Tesla                        Roadster        2.1           410   \n",
       "54       Tesla               Model X Long Range       4.6           250   \n",
       "59       Tesla              Model S Performance       2.5           261   \n",
       "61       Tesla   Model Y Long Range Performance       3.7           241   \n",
       "63      Jaguar                          I-Pace        4.8           200   \n",
       "64        Ford            Mustang Mach-E ER RWD       7.0           180   \n",
       "65     Porsche                   Taycan 4S Plus       4.0           250   \n",
       "67       Tesla            Cybertruck Dual Motor       5.0           190   \n",
       "69        Ford            Mustang Mach-E ER AWD       6.0           180   \n",
       "72     Porsche            Taycan Cross Turismo        3.5           250   \n",
       "73       Byton                M-Byte 95 kWh 4WD       5.5           190   \n",
       "76        Audi             Q4 Sportback e-tron        6.3           180   \n",
       "78        Ford            Mustang Mach-E SR AWD       6.0           180   \n",
       "79     Porsche                     Taycan Turbo       3.2           260   \n",
       "81       Tesla              Model X Performance       2.8           250   \n",
       "84    Mercedes                     EQV 300 Long      10.0           140   \n",
       "87        Audi      e-tron Sportback 50 quattro       6.8           190   \n",
       "90        Audi              e-tron S 55 quattro       4.5           210   \n",
       "93      Nissan              Ariya e-4ORCE 87kWh       5.7           200   \n",
       "97       Byton                M-Byte 72 kWh 2WD       7.5           190   \n",
       "99        Audi    e-tron S Sportback 55 quattro       4.5           210   \n",
       "101     Nissan  Ariya e-4ORCE 87kWh Performance       5.1           200   \n",
       "102      Byton                M-Byte 95 kWh 2WD       7.5           190   \n",
       "\n",
       "     Range_Km  Efficiency_WhKm FastCharge_KmH RapidCharge PowerTrain  \\\n",
       "0         450              161            940         Yes        AWD   \n",
       "2         400              181            620         Yes        AWD   \n",
       "3         360              206            560         Yes        RWD   \n",
       "5         610              180            620         Yes        AWD   \n",
       "9         400              193            540         Yes        AWD   \n",
       "10        370              216            440         Yes        AWD   \n",
       "13        450              178            650         Yes        RWD   \n",
       "16        375              223            780         Yes        AWD   \n",
       "21        425              171            930         Yes        AWD   \n",
       "23        425              197            850         Yes        AWD   \n",
       "24        435              167            910         Yes        AWD   \n",
       "27        375              200            470         Yes        AWD   \n",
       "30        280              231            450         Yes        AWD   \n",
       "33        750              267            710         Yes        AWD   \n",
       "40        515              184            560         Yes        AWD   \n",
       "42        380              228            610         Yes        AWD   \n",
       "47        365              195            730         Yes        AWD   \n",
       "48        575              104            540         Yes        AWD   \n",
       "50        365              237            590         Yes        AWD   \n",
       "51        970              206            920         Yes        AWD   \n",
       "54        450              211            490         Yes        AWD   \n",
       "59        505              188            550         Yes        AWD   \n",
       "61        410              177            900         Yes        AWD   \n",
       "63        365              232            340         Yes        AWD   \n",
       "64        450              200            430         Yes        RWD   \n",
       "65        425              197            890         Yes        AWD   \n",
       "67        460              261            710         Yes        AWD   \n",
       "69        430              209            410         Yes        AWD   \n",
       "72        385              217            770         Yes        AWD   \n",
       "73        390              244            460         Yes        AWD   \n",
       "76        410              188            550         Yes        AWD   \n",
       "78        340              206            360         Yes        AWD   \n",
       "79        390              215            810         Yes        AWD   \n",
       "81        440              216            480         Yes        AWD   \n",
       "84        330              273            290         Yes        FWD   \n",
       "87        295              219            470         Yes        AWD   \n",
       "90        320              270            510         Yes        AWD   \n",
       "93        420              207            500         Yes        AWD   \n",
       "97        325              222            420         Yes        RWD   \n",
       "99        335              258            540         Yes        AWD   \n",
       "101       375              232            450         Yes        AWD   \n",
       "102       400              238            480         Yes        AWD   \n",
       "\n",
       "       PlugType  BodyStyle Segment  Seats  PriceEuro  \n",
       "0    Type 2 CCS      Sedan       D      5      55480  \n",
       "2    Type 2 CCS   Liftback       D      5      56440  \n",
       "3    Type 2 CCS        SUV       D      5      68040  \n",
       "5    Type 2 CCS      Sedan       F      5     105000  \n",
       "9    Type 2 CCS        SUV       D      5      55000  \n",
       "10   Type 2 CCS        SUV       D      5      69484  \n",
       "13   Type 2 CCS      Sedan       D      5      65000  \n",
       "16   Type 2 CCS      Sedan       F      4     180781  \n",
       "21   Type 2 CCS        SUV       D      7      58620  \n",
       "23   Type 2 CCS      Sedan       F      4     125000  \n",
       "24   Type 2 CCS      Sedan       D      5      61480  \n",
       "27   Type 2 CCS        SUV       C      5      60437  \n",
       "30   Type 2 CCS        SUV       E      5      67358  \n",
       "33   Type 2 CCS     Pickup       N      6      75000  \n",
       "40       Type 2   Liftback       F      5      79990  \n",
       "42   Type 2 CCS        SUV       E      5      81639  \n",
       "47   Type 2 CCS      Sedan       F      4     102945  \n",
       "48   Type 2 CCS   Liftback       F      5     149000  \n",
       "50   Type 2 CCS        SUV       E      5      79445  \n",
       "51   Type 2 CCS     Cabrio       S      4     215000  \n",
       "54       Type 2        SUV       F      7      85990  \n",
       "59       Type 2   Liftback       F      5      96990  \n",
       "61   Type 2 CCS        SUV       D      7      65620  \n",
       "63   Type 2 CCS        SUV       E      5      75351  \n",
       "64   Type 2 CCS        SUV       D      5      54475  \n",
       "65   Type 2 CCS      Sedan       F      4     109302  \n",
       "67   Type 2 CCS     Pickup       N      6      55000  \n",
       "69   Type 2 CCS        SUV       D      5      62900  \n",
       "72   Type 2 CCS    Station       F      4     150000  \n",
       "73   Type 2 CCS        SUV       E      5      64000  \n",
       "76   Type 2 CCS        SUV       D      5      57500  \n",
       "78   Type 2 CCS        SUV       D      5      54000  \n",
       "79   Type 2 CCS      Sedan       F      4     148301  \n",
       "81       Type 2        SUV       F      7     102990  \n",
       "84   Type 2 CCS        SPV       N      7      70631  \n",
       "87   Type 2 CCS        SUV       E      5      69551  \n",
       "90   Type 2 CCS        SUV       E      5      93800  \n",
       "93   Type 2 CCS  Hatchback       C      5      57500  \n",
       "97   Type 2 CCS        SUV       E      5      53500  \n",
       "99   Type 2 CCS        SUV       E      5      96050  \n",
       "101  Type 2 CCS  Hatchback       C      5      65000  \n",
       "102  Type 2 CCS        SUV       E      5      62000  "
      ]
     },
     "execution_count": 28,
     "metadata": {},
     "output_type": "execute_result"
    }
   ],
   "source": [
    "EV_Data[EV_Data['PriceEuro'] > 50000]\n",
    "\n",
    "# \n",
    "# Aquí vemos que ya no salen todos los Vehiculos Eléctricos con Verdadero o Falso\n",
    "# EV_Data[EV_Data['PriceEuro'] < 25000]\n"
   ]
  },
  {
   "cell_type": "markdown",
   "metadata": {},
   "source": [
    "#### Ejercicio\n",
    "\n",
    "Obtener un cuadro resumen de los parámetros para los Vehículos Electricos de Tesla."
   ]
  },
  {
   "cell_type": "code",
   "execution_count": 29,
   "metadata": {},
   "outputs": [],
   "source": [
    "########################################################################\n",
    "# vuestro codigo aquí!\n",
    "# Paso 1: Filtrar por Tipo de Vehiculo Tesla\n",
    "# Paso 2: Añadir la funcion .describe()"
   ]
  },
  {
   "cell_type": "markdown",
   "metadata": {},
   "source": [
    "### 10.5 Funciones básicas interesantes\n",
    "\n",
    "Aquí podeis ver una lista de las funciones más interesantes a mirar en la documentación, con algun ejemplo:\n",
    "\n",
    "| Función   | Quantitativas | Qualitativas|\n",
    "|-----------|---------------|-------------|\n",
    "| count()   |Número de observaciones non-null|  \n",
    "| sum()     |Suma de valores|\n",
    "| mean()    |Media de las observaciones            | \n",
    "| median()  |Mediana de las observaciones             |\n",
    "| min()     |Valor mínimo|\n",
    "| max()     |Valor máximo|\n",
    "| std()     |Desviación standard|\n",
    "| var()     | Varianza|\n",
    "| value_counts()     | Valores unicos en cada columna - tabla de frec|\n",
    "| nunique()          | Número de valores distintos|\n",
    "| isnull()     | Máscara de valores null o Nan|\n",
    "\n",
    "Practicad con alguno de estos parámetros"
   ]
  },
  {
   "cell_type": "code",
   "execution_count": 30,
   "metadata": {},
   "outputs": [],
   "source": [
    "##############################################################\n",
    "# vuestro código aquí!\n",
    "\n",
    "# Valor total de Vehiculos Tesla (suma de precios)\n",
    "\n",
    "\n",
    "# ¿Cuántos vehiculos hay por cada una de las marcas?\n",
    "\n"
   ]
  },
  {
   "cell_type": "code",
   "execution_count": 31,
   "metadata": {},
   "outputs": [
    {
     "data": {
      "text/html": [
       "<div>\n",
       "<style scoped>\n",
       "    .dataframe tbody tr th:only-of-type {\n",
       "        vertical-align: middle;\n",
       "    }\n",
       "\n",
       "    .dataframe tbody tr th {\n",
       "        vertical-align: top;\n",
       "    }\n",
       "\n",
       "    .dataframe thead th {\n",
       "        text-align: right;\n",
       "    }\n",
       "</style>\n",
       "<table border=\"1\" class=\"dataframe\">\n",
       "  <thead>\n",
       "    <tr style=\"text-align: right;\">\n",
       "      <th></th>\n",
       "      <th>Brand</th>\n",
       "      <th>Model</th>\n",
       "      <th>AccelSec</th>\n",
       "      <th>TopSpeed_KmH</th>\n",
       "      <th>Range_Km</th>\n",
       "      <th>Efficiency_WhKm</th>\n",
       "      <th>FastCharge_KmH</th>\n",
       "      <th>RapidCharge</th>\n",
       "      <th>PowerTrain</th>\n",
       "      <th>PlugType</th>\n",
       "      <th>BodyStyle</th>\n",
       "      <th>Segment</th>\n",
       "      <th>Seats</th>\n",
       "      <th>PriceEuro</th>\n",
       "    </tr>\n",
       "  </thead>\n",
       "  <tbody>\n",
       "    <tr>\n",
       "      <th>5</th>\n",
       "      <td>Lucid</td>\n",
       "      <td>Air</td>\n",
       "      <td>2.8</td>\n",
       "      <td>250</td>\n",
       "      <td>610</td>\n",
       "      <td>180</td>\n",
       "      <td>620</td>\n",
       "      <td>Yes</td>\n",
       "      <td>AWD</td>\n",
       "      <td>Type 2 CCS</td>\n",
       "      <td>Sedan</td>\n",
       "      <td>F</td>\n",
       "      <td>5</td>\n",
       "      <td>105000</td>\n",
       "    </tr>\n",
       "    <tr>\n",
       "      <th>16</th>\n",
       "      <td>Porsche</td>\n",
       "      <td>Taycan Turbo S</td>\n",
       "      <td>2.8</td>\n",
       "      <td>260</td>\n",
       "      <td>375</td>\n",
       "      <td>223</td>\n",
       "      <td>780</td>\n",
       "      <td>Yes</td>\n",
       "      <td>AWD</td>\n",
       "      <td>Type 2 CCS</td>\n",
       "      <td>Sedan</td>\n",
       "      <td>F</td>\n",
       "      <td>4</td>\n",
       "      <td>180781</td>\n",
       "    </tr>\n",
       "  </tbody>\n",
       "</table>\n",
       "</div>"
      ],
      "text/plain": [
       "      Brand           Model  AccelSec  TopSpeed_KmH  Range_Km  \\\n",
       "5     Lucid            Air        2.8           250       610   \n",
       "16  Porsche  Taycan Turbo S       2.8           260       375   \n",
       "\n",
       "    Efficiency_WhKm FastCharge_KmH RapidCharge PowerTrain    PlugType  \\\n",
       "5               180            620         Yes        AWD  Type 2 CCS   \n",
       "16              223            780         Yes        AWD  Type 2 CCS   \n",
       "\n",
       "   BodyStyle Segment  Seats  PriceEuro  \n",
       "5      Sedan       F      5     105000  \n",
       "16     Sedan       F      4     180781  "
      ]
     },
     "execution_count": 31,
     "metadata": {},
     "output_type": "execute_result"
    }
   ],
   "source": [
    "#####################################################################\n",
    "# ¿Cuáles son los sedans con menos de 3 seg. de aceleración?\n",
    "\n",
    "Sedan_segment = EV_Data[EV_Data['BodyStyle']=='Sedan']\n",
    "Sedan_segment[Sedan_segment['AccelSec'] < 3]"
   ]
  },
  {
   "cell_type": "code",
   "execution_count": 32,
   "metadata": {},
   "outputs": [
    {
     "data": {
      "text/html": [
       "<div>\n",
       "<style scoped>\n",
       "    .dataframe tbody tr th:only-of-type {\n",
       "        vertical-align: middle;\n",
       "    }\n",
       "\n",
       "    .dataframe tbody tr th {\n",
       "        vertical-align: top;\n",
       "    }\n",
       "\n",
       "    .dataframe thead th {\n",
       "        text-align: right;\n",
       "    }\n",
       "</style>\n",
       "<table border=\"1\" class=\"dataframe\">\n",
       "  <thead>\n",
       "    <tr style=\"text-align: right;\">\n",
       "      <th></th>\n",
       "      <th>Brand</th>\n",
       "      <th>Model</th>\n",
       "      <th>AccelSec</th>\n",
       "      <th>TopSpeed_KmH</th>\n",
       "      <th>Range_Km</th>\n",
       "      <th>Efficiency_WhKm</th>\n",
       "      <th>FastCharge_KmH</th>\n",
       "      <th>RapidCharge</th>\n",
       "      <th>PowerTrain</th>\n",
       "      <th>PlugType</th>\n",
       "      <th>BodyStyle</th>\n",
       "      <th>Segment</th>\n",
       "      <th>Seats</th>\n",
       "      <th>PriceEuro</th>\n",
       "    </tr>\n",
       "  </thead>\n",
       "  <tbody>\n",
       "    <tr>\n",
       "      <th>8</th>\n",
       "      <td>Tesla</td>\n",
       "      <td>Model 3 Standard Range Plus</td>\n",
       "      <td>5.6</td>\n",
       "      <td>225</td>\n",
       "      <td>310</td>\n",
       "      <td>153</td>\n",
       "      <td>650</td>\n",
       "      <td>Yes</td>\n",
       "      <td>RWD</td>\n",
       "      <td>Type 2 CCS</td>\n",
       "      <td>Sedan</td>\n",
       "      <td>D</td>\n",
       "      <td>5</td>\n",
       "      <td>46380</td>\n",
       "    </tr>\n",
       "  </tbody>\n",
       "</table>\n",
       "</div>"
      ],
      "text/plain": [
       "   Brand                        Model  AccelSec  TopSpeed_KmH  Range_Km  \\\n",
       "8  Tesla  Model 3 Standard Range Plus       5.6           225       310   \n",
       "\n",
       "   Efficiency_WhKm FastCharge_KmH RapidCharge PowerTrain    PlugType  \\\n",
       "8              153            650         Yes        RWD  Type 2 CCS   \n",
       "\n",
       "  BodyStyle Segment  Seats  PriceEuro  \n",
       "8     Sedan       D      5      46380  "
      ]
     },
     "execution_count": 32,
     "metadata": {},
     "output_type": "execute_result"
    }
   ],
   "source": [
    "###################################################################################\n",
    "# ¿Cuál es Vehiculo de menor costo del segmento de los Sedans?\n",
    "\n",
    "Sedan_segment = EV_Data[EV_Data['BodyStyle']=='Sedan']\n",
    "Least_Cost = Sedan_segment.PriceEuro.min()\n",
    "\n",
    "Sedan_segment[Sedan_segment['PriceEuro'] == Least_Cost]"
   ]
  },
  {
   "cell_type": "markdown",
   "metadata": {},
   "source": [
    "### 10.6 Manipular dataframes\n",
    "\n",
    "Se puede aplicar una función a alguna columna usando el método *apply* y recordando las fuciones lambda!"
   ]
  },
  {
   "cell_type": "code",
   "execution_count": 33,
   "metadata": {},
   "outputs": [
    {
     "data": {
      "text/html": [
       "<div>\n",
       "<style scoped>\n",
       "    .dataframe tbody tr th:only-of-type {\n",
       "        vertical-align: middle;\n",
       "    }\n",
       "\n",
       "    .dataframe tbody tr th {\n",
       "        vertical-align: top;\n",
       "    }\n",
       "\n",
       "    .dataframe thead th {\n",
       "        text-align: right;\n",
       "    }\n",
       "</style>\n",
       "<table border=\"1\" class=\"dataframe\">\n",
       "  <thead>\n",
       "    <tr style=\"text-align: right;\">\n",
       "      <th></th>\n",
       "      <th>Brand</th>\n",
       "      <th>Model</th>\n",
       "      <th>AccelSec</th>\n",
       "      <th>TopSpeed_KmH</th>\n",
       "      <th>Range_Km</th>\n",
       "      <th>Efficiency_WhKm</th>\n",
       "      <th>FastCharge_KmH</th>\n",
       "      <th>RapidCharge</th>\n",
       "      <th>PowerTrain</th>\n",
       "      <th>PlugType</th>\n",
       "      <th>BodyStyle</th>\n",
       "      <th>Segment</th>\n",
       "      <th>Seats</th>\n",
       "      <th>PriceEuro</th>\n",
       "    </tr>\n",
       "  </thead>\n",
       "  <tbody>\n",
       "    <tr>\n",
       "      <th>0</th>\n",
       "      <td>Tesla</td>\n",
       "      <td>Model 3 Long Range Dual Motor</td>\n",
       "      <td>4.6</td>\n",
       "      <td>233</td>\n",
       "      <td>450</td>\n",
       "      <td>161</td>\n",
       "      <td>940</td>\n",
       "      <td>Yes</td>\n",
       "      <td>AWD</td>\n",
       "      <td>Type 2 CCS</td>\n",
       "      <td>Sedan</td>\n",
       "      <td>D</td>\n",
       "      <td>5</td>\n",
       "      <td>44384.0</td>\n",
       "    </tr>\n",
       "    <tr>\n",
       "      <th>1</th>\n",
       "      <td>Volkswagen</td>\n",
       "      <td>ID.3 Pure</td>\n",
       "      <td>10.0</td>\n",
       "      <td>160</td>\n",
       "      <td>270</td>\n",
       "      <td>167</td>\n",
       "      <td>250</td>\n",
       "      <td>Yes</td>\n",
       "      <td>RWD</td>\n",
       "      <td>Type 2 CCS</td>\n",
       "      <td>Hatchback</td>\n",
       "      <td>C</td>\n",
       "      <td>5</td>\n",
       "      <td>24000.0</td>\n",
       "    </tr>\n",
       "    <tr>\n",
       "      <th>2</th>\n",
       "      <td>Polestar</td>\n",
       "      <td>2</td>\n",
       "      <td>4.7</td>\n",
       "      <td>210</td>\n",
       "      <td>400</td>\n",
       "      <td>181</td>\n",
       "      <td>620</td>\n",
       "      <td>Yes</td>\n",
       "      <td>AWD</td>\n",
       "      <td>Type 2 CCS</td>\n",
       "      <td>Liftback</td>\n",
       "      <td>D</td>\n",
       "      <td>5</td>\n",
       "      <td>45152.0</td>\n",
       "    </tr>\n",
       "    <tr>\n",
       "      <th>3</th>\n",
       "      <td>BMW</td>\n",
       "      <td>iX3</td>\n",
       "      <td>6.8</td>\n",
       "      <td>180</td>\n",
       "      <td>360</td>\n",
       "      <td>206</td>\n",
       "      <td>560</td>\n",
       "      <td>Yes</td>\n",
       "      <td>RWD</td>\n",
       "      <td>Type 2 CCS</td>\n",
       "      <td>SUV</td>\n",
       "      <td>D</td>\n",
       "      <td>5</td>\n",
       "      <td>54432.0</td>\n",
       "    </tr>\n",
       "    <tr>\n",
       "      <th>4</th>\n",
       "      <td>Honda</td>\n",
       "      <td>e</td>\n",
       "      <td>9.5</td>\n",
       "      <td>145</td>\n",
       "      <td>170</td>\n",
       "      <td>168</td>\n",
       "      <td>190</td>\n",
       "      <td>Yes</td>\n",
       "      <td>RWD</td>\n",
       "      <td>Type 2 CCS</td>\n",
       "      <td>Hatchback</td>\n",
       "      <td>B</td>\n",
       "      <td>4</td>\n",
       "      <td>26397.6</td>\n",
       "    </tr>\n",
       "  </tbody>\n",
       "</table>\n",
       "</div>"
      ],
      "text/plain": [
       "        Brand                          Model  AccelSec  TopSpeed_KmH  \\\n",
       "0       Tesla  Model 3 Long Range Dual Motor       4.6           233   \n",
       "1  Volkswagen                      ID.3 Pure      10.0           160   \n",
       "2    Polestar                              2       4.7           210   \n",
       "3         BMW                           iX3        6.8           180   \n",
       "4       Honda                             e        9.5           145   \n",
       "\n",
       "   Range_Km  Efficiency_WhKm FastCharge_KmH RapidCharge PowerTrain  \\\n",
       "0       450              161            940         Yes        AWD   \n",
       "1       270              167            250         Yes        RWD   \n",
       "2       400              181            620         Yes        AWD   \n",
       "3       360              206            560         Yes        RWD   \n",
       "4       170              168            190         Yes        RWD   \n",
       "\n",
       "     PlugType  BodyStyle Segment  Seats  PriceEuro  \n",
       "0  Type 2 CCS      Sedan       D      5    44384.0  \n",
       "1  Type 2 CCS  Hatchback       C      5    24000.0  \n",
       "2  Type 2 CCS   Liftback       D      5    45152.0  \n",
       "3  Type 2 CCS        SUV       D      5    54432.0  \n",
       "4  Type 2 CCS  Hatchback       B      4    26397.6  "
      ]
     },
     "execution_count": 33,
     "metadata": {},
     "output_type": "execute_result"
    }
   ],
   "source": [
    "EV_Data['PriceEuro'] = EV_Data['PriceEuro'].apply(lambda x: x * 0.8)\n",
    "EV_Data.head()"
   ]
  },
  {
   "cell_type": "markdown",
   "metadata": {},
   "source": [
    "#### Ejercicio\n",
    "\n",
    "Crea una columna nueva llamada 'ID Type' con solo el Tipo de Cargador"
   ]
  },
  {
   "cell_type": "code",
   "execution_count": 34,
   "metadata": {},
   "outputs": [],
   "source": [
    "##############################################################\n",
    "# vuestro código aquí!\n"
   ]
  },
  {
   "cell_type": "code",
   "execution_count": 35,
   "metadata": {},
   "outputs": [
    {
     "data": {
      "text/html": [
       "<div>\n",
       "<style scoped>\n",
       "    .dataframe tbody tr th:only-of-type {\n",
       "        vertical-align: middle;\n",
       "    }\n",
       "\n",
       "    .dataframe tbody tr th {\n",
       "        vertical-align: top;\n",
       "    }\n",
       "\n",
       "    .dataframe thead th {\n",
       "        text-align: right;\n",
       "    }\n",
       "</style>\n",
       "<table border=\"1\" class=\"dataframe\">\n",
       "  <thead>\n",
       "    <tr style=\"text-align: right;\">\n",
       "      <th></th>\n",
       "      <th>Brand</th>\n",
       "      <th>Model</th>\n",
       "      <th>AccelSec</th>\n",
       "      <th>TopSpeed_KmH</th>\n",
       "      <th>Range_Km</th>\n",
       "      <th>Efficiency_WhKm</th>\n",
       "      <th>FastCharge_KmH</th>\n",
       "      <th>RapidCharge</th>\n",
       "      <th>PowerTrain</th>\n",
       "      <th>PlugType</th>\n",
       "      <th>BodyStyle</th>\n",
       "      <th>Segment</th>\n",
       "      <th>Seats</th>\n",
       "      <th>PriceEuro</th>\n",
       "    </tr>\n",
       "  </thead>\n",
       "  <tbody>\n",
       "    <tr>\n",
       "      <th>0</th>\n",
       "      <td>Tesla</td>\n",
       "      <td>Model 3 Long Range Dual Motor</td>\n",
       "      <td>4.6</td>\n",
       "      <td>233</td>\n",
       "      <td>450</td>\n",
       "      <td>161</td>\n",
       "      <td>940</td>\n",
       "      <td>Yes</td>\n",
       "      <td>AWD</td>\n",
       "      <td>Type 2 CCS</td>\n",
       "      <td>Sedan</td>\n",
       "      <td>D</td>\n",
       "      <td>5</td>\n",
       "      <td>44384.0</td>\n",
       "    </tr>\n",
       "    <tr>\n",
       "      <th>1</th>\n",
       "      <td>Volkswagen</td>\n",
       "      <td>ID.3 Pure</td>\n",
       "      <td>10.0</td>\n",
       "      <td>160</td>\n",
       "      <td>270</td>\n",
       "      <td>167</td>\n",
       "      <td>250</td>\n",
       "      <td>Yes</td>\n",
       "      <td>RWD</td>\n",
       "      <td>Type 2 CCS</td>\n",
       "      <td>Hatchback</td>\n",
       "      <td>C</td>\n",
       "      <td>5</td>\n",
       "      <td>24000.0</td>\n",
       "    </tr>\n",
       "    <tr>\n",
       "      <th>2</th>\n",
       "      <td>Polestar</td>\n",
       "      <td>2</td>\n",
       "      <td>4.7</td>\n",
       "      <td>210</td>\n",
       "      <td>400</td>\n",
       "      <td>181</td>\n",
       "      <td>620</td>\n",
       "      <td>Yes</td>\n",
       "      <td>AWD</td>\n",
       "      <td>Type 2 CCS</td>\n",
       "      <td>Liftback</td>\n",
       "      <td>D</td>\n",
       "      <td>5</td>\n",
       "      <td>45152.0</td>\n",
       "    </tr>\n",
       "    <tr>\n",
       "      <th>3</th>\n",
       "      <td>BMW</td>\n",
       "      <td>iX3</td>\n",
       "      <td>6.8</td>\n",
       "      <td>180</td>\n",
       "      <td>360</td>\n",
       "      <td>206</td>\n",
       "      <td>560</td>\n",
       "      <td>Yes</td>\n",
       "      <td>RWD</td>\n",
       "      <td>Type 2 CCS</td>\n",
       "      <td>SUV</td>\n",
       "      <td>D</td>\n",
       "      <td>5</td>\n",
       "      <td>54432.0</td>\n",
       "    </tr>\n",
       "    <tr>\n",
       "      <th>4</th>\n",
       "      <td>Honda</td>\n",
       "      <td>e</td>\n",
       "      <td>9.5</td>\n",
       "      <td>145</td>\n",
       "      <td>170</td>\n",
       "      <td>168</td>\n",
       "      <td>190</td>\n",
       "      <td>Yes</td>\n",
       "      <td>RWD</td>\n",
       "      <td>Type 2 CCS</td>\n",
       "      <td>Hatchback</td>\n",
       "      <td>B</td>\n",
       "      <td>4</td>\n",
       "      <td>26397.6</td>\n",
       "    </tr>\n",
       "  </tbody>\n",
       "</table>\n",
       "</div>"
      ],
      "text/plain": [
       "        Brand                          Model  AccelSec  TopSpeed_KmH  \\\n",
       "0       Tesla  Model 3 Long Range Dual Motor       4.6           233   \n",
       "1  Volkswagen                      ID.3 Pure      10.0           160   \n",
       "2    Polestar                              2       4.7           210   \n",
       "3         BMW                           iX3        6.8           180   \n",
       "4       Honda                             e        9.5           145   \n",
       "\n",
       "   Range_Km  Efficiency_WhKm FastCharge_KmH RapidCharge PowerTrain  \\\n",
       "0       450              161            940         Yes        AWD   \n",
       "1       270              167            250         Yes        RWD   \n",
       "2       400              181            620         Yes        AWD   \n",
       "3       360              206            560         Yes        RWD   \n",
       "4       170              168            190         Yes        RWD   \n",
       "\n",
       "     PlugType  BodyStyle Segment  Seats  PriceEuro  \n",
       "0  Type 2 CCS      Sedan       D      5    44384.0  \n",
       "1  Type 2 CCS  Hatchback       C      5    24000.0  \n",
       "2  Type 2 CCS   Liftback       D      5    45152.0  \n",
       "3  Type 2 CCS        SUV       D      5    54432.0  \n",
       "4  Type 2 CCS  Hatchback       B      4    26397.6  "
      ]
     },
     "execution_count": 35,
     "metadata": {},
     "output_type": "execute_result"
    }
   ],
   "source": [
    "EV_Data.head()"
   ]
  },
  {
   "cell_type": "markdown",
   "metadata": {},
   "source": [
    "### 10.7 Ordenar\n",
    "\n",
    "Si se desea ordenar valores, se puede usar ``sort_values``. Con un ejemplo se entenderá mejor:\n"
   ]
  },
  {
   "cell_type": "code",
   "execution_count": 36,
   "metadata": {},
   "outputs": [
    {
     "data": {
      "text/html": [
       "<div>\n",
       "<style scoped>\n",
       "    .dataframe tbody tr th:only-of-type {\n",
       "        vertical-align: middle;\n",
       "    }\n",
       "\n",
       "    .dataframe tbody tr th {\n",
       "        vertical-align: top;\n",
       "    }\n",
       "\n",
       "    .dataframe thead th {\n",
       "        text-align: right;\n",
       "    }\n",
       "</style>\n",
       "<table border=\"1\" class=\"dataframe\">\n",
       "  <thead>\n",
       "    <tr style=\"text-align: right;\">\n",
       "      <th></th>\n",
       "      <th>Brand</th>\n",
       "      <th>Model</th>\n",
       "      <th>AccelSec</th>\n",
       "      <th>TopSpeed_KmH</th>\n",
       "      <th>Range_Km</th>\n",
       "      <th>Efficiency_WhKm</th>\n",
       "      <th>FastCharge_KmH</th>\n",
       "      <th>RapidCharge</th>\n",
       "      <th>PowerTrain</th>\n",
       "      <th>PlugType</th>\n",
       "      <th>BodyStyle</th>\n",
       "      <th>Segment</th>\n",
       "      <th>Seats</th>\n",
       "      <th>PriceEuro</th>\n",
       "    </tr>\n",
       "  </thead>\n",
       "  <tbody>\n",
       "    <tr>\n",
       "      <th>51</th>\n",
       "      <td>Tesla</td>\n",
       "      <td>Roadster</td>\n",
       "      <td>2.1</td>\n",
       "      <td>410</td>\n",
       "      <td>970</td>\n",
       "      <td>206</td>\n",
       "      <td>920</td>\n",
       "      <td>Yes</td>\n",
       "      <td>AWD</td>\n",
       "      <td>Type 2 CCS</td>\n",
       "      <td>Cabrio</td>\n",
       "      <td>S</td>\n",
       "      <td>4</td>\n",
       "      <td>172000.0</td>\n",
       "    </tr>\n",
       "    <tr>\n",
       "      <th>16</th>\n",
       "      <td>Porsche</td>\n",
       "      <td>Taycan Turbo S</td>\n",
       "      <td>2.8</td>\n",
       "      <td>260</td>\n",
       "      <td>375</td>\n",
       "      <td>223</td>\n",
       "      <td>780</td>\n",
       "      <td>Yes</td>\n",
       "      <td>AWD</td>\n",
       "      <td>Type 2 CCS</td>\n",
       "      <td>Sedan</td>\n",
       "      <td>F</td>\n",
       "      <td>4</td>\n",
       "      <td>144624.8</td>\n",
       "    </tr>\n",
       "    <tr>\n",
       "      <th>72</th>\n",
       "      <td>Porsche</td>\n",
       "      <td>Taycan Cross Turismo</td>\n",
       "      <td>3.5</td>\n",
       "      <td>250</td>\n",
       "      <td>385</td>\n",
       "      <td>217</td>\n",
       "      <td>770</td>\n",
       "      <td>Yes</td>\n",
       "      <td>AWD</td>\n",
       "      <td>Type 2 CCS</td>\n",
       "      <td>Station</td>\n",
       "      <td>F</td>\n",
       "      <td>4</td>\n",
       "      <td>120000.0</td>\n",
       "    </tr>\n",
       "    <tr>\n",
       "      <th>48</th>\n",
       "      <td>Lightyear</td>\n",
       "      <td>One</td>\n",
       "      <td>10.0</td>\n",
       "      <td>150</td>\n",
       "      <td>575</td>\n",
       "      <td>104</td>\n",
       "      <td>540</td>\n",
       "      <td>Yes</td>\n",
       "      <td>AWD</td>\n",
       "      <td>Type 2 CCS</td>\n",
       "      <td>Liftback</td>\n",
       "      <td>F</td>\n",
       "      <td>5</td>\n",
       "      <td>119200.0</td>\n",
       "    </tr>\n",
       "    <tr>\n",
       "      <th>79</th>\n",
       "      <td>Porsche</td>\n",
       "      <td>Taycan Turbo</td>\n",
       "      <td>3.2</td>\n",
       "      <td>260</td>\n",
       "      <td>390</td>\n",
       "      <td>215</td>\n",
       "      <td>810</td>\n",
       "      <td>Yes</td>\n",
       "      <td>AWD</td>\n",
       "      <td>Type 2 CCS</td>\n",
       "      <td>Sedan</td>\n",
       "      <td>F</td>\n",
       "      <td>4</td>\n",
       "      <td>118640.8</td>\n",
       "    </tr>\n",
       "  </tbody>\n",
       "</table>\n",
       "</div>"
      ],
      "text/plain": [
       "        Brand                  Model  AccelSec  TopSpeed_KmH  Range_Km  \\\n",
       "51      Tesla              Roadster        2.1           410       970   \n",
       "16    Porsche         Taycan Turbo S       2.8           260       375   \n",
       "72    Porsche  Taycan Cross Turismo        3.5           250       385   \n",
       "48  Lightyear                   One       10.0           150       575   \n",
       "79    Porsche           Taycan Turbo       3.2           260       390   \n",
       "\n",
       "    Efficiency_WhKm FastCharge_KmH RapidCharge PowerTrain    PlugType  \\\n",
       "51              206            920         Yes        AWD  Type 2 CCS   \n",
       "16              223            780         Yes        AWD  Type 2 CCS   \n",
       "72              217            770         Yes        AWD  Type 2 CCS   \n",
       "48              104            540         Yes        AWD  Type 2 CCS   \n",
       "79              215            810         Yes        AWD  Type 2 CCS   \n",
       "\n",
       "   BodyStyle Segment  Seats  PriceEuro  \n",
       "51    Cabrio       S      4   172000.0  \n",
       "16     Sedan       F      4   144624.8  \n",
       "72   Station       F      4   120000.0  \n",
       "48  Liftback       F      5   119200.0  \n",
       "79     Sedan       F      4   118640.8  "
      ]
     },
     "execution_count": 36,
     "metadata": {},
     "output_type": "execute_result"
    }
   ],
   "source": [
    "EV_Data.sort_values(by='PriceEuro', ascending= False, inplace=True)\n",
    "EV_Data.head()"
   ]
  },
  {
   "cell_type": "markdown",
   "metadata": {},
   "source": [
    "### 10.8 Agrupar\n",
    "\n",
    "Por último, una función muy útil es la de agrupar (group_by).\n",
    "\n",
    "Por ejemplo, imagina que quieres agrupar todos los datos por marcas de vehiculos y además contar el numero de elementos por columna especificas.\n",
    "\n",
    "El resultado de esta operación, será otro dataframe con los datos agrupados respeto a una variable. Además también se deberá indicar qué función de *agregación* se desea usar (max, min, mean, count, sum, etc.).\n",
    "\n",
    "Vamos a implementar el ejemplo comentado!"
   ]
  },
  {
   "cell_type": "code",
   "execution_count": 37,
   "metadata": {},
   "outputs": [
    {
     "data": {
      "text/html": [
       "<div>\n",
       "<style scoped>\n",
       "    .dataframe tbody tr th:only-of-type {\n",
       "        vertical-align: middle;\n",
       "    }\n",
       "\n",
       "    .dataframe tbody tr th {\n",
       "        vertical-align: top;\n",
       "    }\n",
       "\n",
       "    .dataframe thead th {\n",
       "        text-align: right;\n",
       "    }\n",
       "</style>\n",
       "<table border=\"1\" class=\"dataframe\">\n",
       "  <thead>\n",
       "    <tr style=\"text-align: right;\">\n",
       "      <th></th>\n",
       "      <th>Segment</th>\n",
       "      <th>PlugType</th>\n",
       "    </tr>\n",
       "    <tr>\n",
       "      <th>Brand</th>\n",
       "      <th></th>\n",
       "      <th></th>\n",
       "    </tr>\n",
       "  </thead>\n",
       "  <tbody>\n",
       "    <tr>\n",
       "      <th>Aiways</th>\n",
       "      <td>1</td>\n",
       "      <td>1</td>\n",
       "    </tr>\n",
       "    <tr>\n",
       "      <th>Audi</th>\n",
       "      <td>9</td>\n",
       "      <td>9</td>\n",
       "    </tr>\n",
       "    <tr>\n",
       "      <th>BMW</th>\n",
       "      <td>4</td>\n",
       "      <td>4</td>\n",
       "    </tr>\n",
       "    <tr>\n",
       "      <th>Byton</th>\n",
       "      <td>3</td>\n",
       "      <td>3</td>\n",
       "    </tr>\n",
       "    <tr>\n",
       "      <th>CUPRA</th>\n",
       "      <td>1</td>\n",
       "      <td>1</td>\n",
       "    </tr>\n",
       "    <tr>\n",
       "      <th>Citroen</th>\n",
       "      <td>1</td>\n",
       "      <td>1</td>\n",
       "    </tr>\n",
       "    <tr>\n",
       "      <th>DS</th>\n",
       "      <td>1</td>\n",
       "      <td>1</td>\n",
       "    </tr>\n",
       "    <tr>\n",
       "      <th>Fiat</th>\n",
       "      <td>2</td>\n",
       "      <td>2</td>\n",
       "    </tr>\n",
       "    <tr>\n",
       "      <th>Ford</th>\n",
       "      <td>4</td>\n",
       "      <td>4</td>\n",
       "    </tr>\n",
       "    <tr>\n",
       "      <th>Honda</th>\n",
       "      <td>2</td>\n",
       "      <td>2</td>\n",
       "    </tr>\n",
       "    <tr>\n",
       "      <th>Hyundai</th>\n",
       "      <td>3</td>\n",
       "      <td>3</td>\n",
       "    </tr>\n",
       "    <tr>\n",
       "      <th>Jaguar</th>\n",
       "      <td>1</td>\n",
       "      <td>1</td>\n",
       "    </tr>\n",
       "    <tr>\n",
       "      <th>Kia</th>\n",
       "      <td>5</td>\n",
       "      <td>5</td>\n",
       "    </tr>\n",
       "    <tr>\n",
       "      <th>Lexus</th>\n",
       "      <td>1</td>\n",
       "      <td>1</td>\n",
       "    </tr>\n",
       "    <tr>\n",
       "      <th>Lightyear</th>\n",
       "      <td>1</td>\n",
       "      <td>1</td>\n",
       "    </tr>\n",
       "    <tr>\n",
       "      <th>Lucid</th>\n",
       "      <td>1</td>\n",
       "      <td>1</td>\n",
       "    </tr>\n",
       "    <tr>\n",
       "      <th>MG</th>\n",
       "      <td>1</td>\n",
       "      <td>1</td>\n",
       "    </tr>\n",
       "    <tr>\n",
       "      <th>Mazda</th>\n",
       "      <td>1</td>\n",
       "      <td>1</td>\n",
       "    </tr>\n",
       "    <tr>\n",
       "      <th>Mercedes</th>\n",
       "      <td>3</td>\n",
       "      <td>3</td>\n",
       "    </tr>\n",
       "    <tr>\n",
       "      <th>Mini</th>\n",
       "      <td>1</td>\n",
       "      <td>1</td>\n",
       "    </tr>\n",
       "    <tr>\n",
       "      <th>Nissan</th>\n",
       "      <td>8</td>\n",
       "      <td>8</td>\n",
       "    </tr>\n",
       "    <tr>\n",
       "      <th>Opel</th>\n",
       "      <td>3</td>\n",
       "      <td>3</td>\n",
       "    </tr>\n",
       "    <tr>\n",
       "      <th>Peugeot</th>\n",
       "      <td>2</td>\n",
       "      <td>2</td>\n",
       "    </tr>\n",
       "    <tr>\n",
       "      <th>Polestar</th>\n",
       "      <td>1</td>\n",
       "      <td>1</td>\n",
       "    </tr>\n",
       "    <tr>\n",
       "      <th>Porsche</th>\n",
       "      <td>5</td>\n",
       "      <td>5</td>\n",
       "    </tr>\n",
       "    <tr>\n",
       "      <th>Renault</th>\n",
       "      <td>5</td>\n",
       "      <td>5</td>\n",
       "    </tr>\n",
       "    <tr>\n",
       "      <th>SEAT</th>\n",
       "      <td>1</td>\n",
       "      <td>1</td>\n",
       "    </tr>\n",
       "    <tr>\n",
       "      <th>Skoda</th>\n",
       "      <td>6</td>\n",
       "      <td>6</td>\n",
       "    </tr>\n",
       "    <tr>\n",
       "      <th>Smart</th>\n",
       "      <td>3</td>\n",
       "      <td>3</td>\n",
       "    </tr>\n",
       "    <tr>\n",
       "      <th>Sono</th>\n",
       "      <td>1</td>\n",
       "      <td>1</td>\n",
       "    </tr>\n",
       "    <tr>\n",
       "      <th>Tesla</th>\n",
       "      <td>13</td>\n",
       "      <td>13</td>\n",
       "    </tr>\n",
       "    <tr>\n",
       "      <th>Volkswagen</th>\n",
       "      <td>8</td>\n",
       "      <td>8</td>\n",
       "    </tr>\n",
       "    <tr>\n",
       "      <th>Volvo</th>\n",
       "      <td>1</td>\n",
       "      <td>1</td>\n",
       "    </tr>\n",
       "  </tbody>\n",
       "</table>\n",
       "</div>"
      ],
      "text/plain": [
       "            Segment  PlugType\n",
       "Brand                        \n",
       "Aiways            1         1\n",
       "Audi              9         9\n",
       "BMW               4         4\n",
       "Byton             3         3\n",
       "CUPRA             1         1\n",
       "Citroen           1         1\n",
       "DS                1         1\n",
       "Fiat              2         2\n",
       "Ford              4         4\n",
       "Honda             2         2\n",
       "Hyundai           3         3\n",
       "Jaguar            1         1\n",
       "Kia               5         5\n",
       "Lexus             1         1\n",
       "Lightyear         1         1\n",
       "Lucid             1         1\n",
       "MG                1         1\n",
       "Mazda             1         1\n",
       "Mercedes          3         3\n",
       "Mini              1         1\n",
       "Nissan            8         8\n",
       "Opel              3         3\n",
       "Peugeot           2         2\n",
       "Polestar          1         1\n",
       "Porsche           5         5\n",
       "Renault           5         5\n",
       "SEAT              1         1\n",
       "Skoda             6         6\n",
       "Smart             3         3\n",
       "Sono              1         1\n",
       "Tesla            13        13\n",
       "Volkswagen        8         8\n",
       "Volvo             1         1"
      ]
     },
     "execution_count": 37,
     "metadata": {},
     "output_type": "execute_result"
    }
   ],
   "source": [
    "Group_Style = EV_Data[['Brand', 'Segment', 'PlugType']].groupby('Brand').count()\n",
    "Group_Style"
   ]
  },
  {
   "cell_type": "code",
   "execution_count": 38,
   "metadata": {},
   "outputs": [
    {
     "data": {
      "text/html": [
       "<div>\n",
       "<style scoped>\n",
       "    .dataframe tbody tr th:only-of-type {\n",
       "        vertical-align: middle;\n",
       "    }\n",
       "\n",
       "    .dataframe tbody tr th {\n",
       "        vertical-align: top;\n",
       "    }\n",
       "\n",
       "    .dataframe thead th {\n",
       "        text-align: right;\n",
       "    }\n",
       "</style>\n",
       "<table border=\"1\" class=\"dataframe\">\n",
       "  <thead>\n",
       "    <tr style=\"text-align: right;\">\n",
       "      <th></th>\n",
       "      <th>TopSpeed_KmH</th>\n",
       "      <th>Range_Km</th>\n",
       "      <th>Efficiency_WhKm</th>\n",
       "      <th>FastCharge_KmH</th>\n",
       "    </tr>\n",
       "    <tr>\n",
       "      <th>Brand</th>\n",
       "      <th></th>\n",
       "      <th></th>\n",
       "      <th></th>\n",
       "      <th></th>\n",
       "    </tr>\n",
       "  </thead>\n",
       "  <tbody>\n",
       "    <tr>\n",
       "      <th>Aiways</th>\n",
       "      <td>150</td>\n",
       "      <td>335</td>\n",
       "      <td>188</td>\n",
       "      <td>350</td>\n",
       "    </tr>\n",
       "    <tr>\n",
       "      <th>Audi</th>\n",
       "      <td>240</td>\n",
       "      <td>425</td>\n",
       "      <td>270</td>\n",
       "      <td>850</td>\n",
       "    </tr>\n",
       "    <tr>\n",
       "      <th>BMW</th>\n",
       "      <td>200</td>\n",
       "      <td>450</td>\n",
       "      <td>206</td>\n",
       "      <td>650</td>\n",
       "    </tr>\n",
       "    <tr>\n",
       "      <th>Byton</th>\n",
       "      <td>190</td>\n",
       "      <td>400</td>\n",
       "      <td>244</td>\n",
       "      <td>480</td>\n",
       "    </tr>\n",
       "    <tr>\n",
       "      <th>CUPRA</th>\n",
       "      <td>160</td>\n",
       "      <td>425</td>\n",
       "      <td>181</td>\n",
       "      <td>570</td>\n",
       "    </tr>\n",
       "    <tr>\n",
       "      <th>Citroen</th>\n",
       "      <td>150</td>\n",
       "      <td>250</td>\n",
       "      <td>180</td>\n",
       "      <td>380</td>\n",
       "    </tr>\n",
       "    <tr>\n",
       "      <th>DS</th>\n",
       "      <td>150</td>\n",
       "      <td>250</td>\n",
       "      <td>180</td>\n",
       "      <td>380</td>\n",
       "    </tr>\n",
       "    <tr>\n",
       "      <th>Fiat</th>\n",
       "      <td>150</td>\n",
       "      <td>250</td>\n",
       "      <td>168</td>\n",
       "      <td>330</td>\n",
       "    </tr>\n",
       "    <tr>\n",
       "      <th>Ford</th>\n",
       "      <td>180</td>\n",
       "      <td>450</td>\n",
       "      <td>209</td>\n",
       "      <td>430</td>\n",
       "    </tr>\n",
       "    <tr>\n",
       "      <th>Honda</th>\n",
       "      <td>145</td>\n",
       "      <td>170</td>\n",
       "      <td>168</td>\n",
       "      <td>190</td>\n",
       "    </tr>\n",
       "    <tr>\n",
       "      <th>Hyundai</th>\n",
       "      <td>167</td>\n",
       "      <td>400</td>\n",
       "      <td>160</td>\n",
       "      <td>380</td>\n",
       "    </tr>\n",
       "    <tr>\n",
       "      <th>Jaguar</th>\n",
       "      <td>200</td>\n",
       "      <td>365</td>\n",
       "      <td>232</td>\n",
       "      <td>340</td>\n",
       "    </tr>\n",
       "    <tr>\n",
       "      <th>Kia</th>\n",
       "      <td>167</td>\n",
       "      <td>370</td>\n",
       "      <td>175</td>\n",
       "      <td>350</td>\n",
       "    </tr>\n",
       "    <tr>\n",
       "      <th>Lexus</th>\n",
       "      <td>160</td>\n",
       "      <td>270</td>\n",
       "      <td>193</td>\n",
       "      <td>190</td>\n",
       "    </tr>\n",
       "    <tr>\n",
       "      <th>Lightyear</th>\n",
       "      <td>150</td>\n",
       "      <td>575</td>\n",
       "      <td>104</td>\n",
       "      <td>540</td>\n",
       "    </tr>\n",
       "    <tr>\n",
       "      <th>Lucid</th>\n",
       "      <td>250</td>\n",
       "      <td>610</td>\n",
       "      <td>180</td>\n",
       "      <td>620</td>\n",
       "    </tr>\n",
       "    <tr>\n",
       "      <th>MG</th>\n",
       "      <td>140</td>\n",
       "      <td>220</td>\n",
       "      <td>193</td>\n",
       "      <td>260</td>\n",
       "    </tr>\n",
       "    <tr>\n",
       "      <th>Mazda</th>\n",
       "      <td>150</td>\n",
       "      <td>180</td>\n",
       "      <td>178</td>\n",
       "      <td>240</td>\n",
       "    </tr>\n",
       "    <tr>\n",
       "      <th>Mercedes</th>\n",
       "      <td>200</td>\n",
       "      <td>370</td>\n",
       "      <td>273</td>\n",
       "      <td>440</td>\n",
       "    </tr>\n",
       "    <tr>\n",
       "      <th>Mini</th>\n",
       "      <td>150</td>\n",
       "      <td>185</td>\n",
       "      <td>156</td>\n",
       "      <td>260</td>\n",
       "    </tr>\n",
       "    <tr>\n",
       "      <th>Nissan</th>\n",
       "      <td>200</td>\n",
       "      <td>440</td>\n",
       "      <td>232</td>\n",
       "      <td>520</td>\n",
       "    </tr>\n",
       "    <tr>\n",
       "      <th>Opel</th>\n",
       "      <td>150</td>\n",
       "      <td>335</td>\n",
       "      <td>176</td>\n",
       "      <td>420</td>\n",
       "    </tr>\n",
       "    <tr>\n",
       "      <th>Peugeot</th>\n",
       "      <td>150</td>\n",
       "      <td>275</td>\n",
       "      <td>180</td>\n",
       "      <td>420</td>\n",
       "    </tr>\n",
       "    <tr>\n",
       "      <th>Polestar</th>\n",
       "      <td>210</td>\n",
       "      <td>400</td>\n",
       "      <td>181</td>\n",
       "      <td>620</td>\n",
       "    </tr>\n",
       "    <tr>\n",
       "      <th>Porsche</th>\n",
       "      <td>260</td>\n",
       "      <td>425</td>\n",
       "      <td>223</td>\n",
       "      <td>890</td>\n",
       "    </tr>\n",
       "    <tr>\n",
       "      <th>Renault</th>\n",
       "      <td>140</td>\n",
       "      <td>315</td>\n",
       "      <td>194</td>\n",
       "      <td>230</td>\n",
       "    </tr>\n",
       "    <tr>\n",
       "      <th>SEAT</th>\n",
       "      <td>130</td>\n",
       "      <td>195</td>\n",
       "      <td>166</td>\n",
       "      <td>170</td>\n",
       "    </tr>\n",
       "    <tr>\n",
       "      <th>Skoda</th>\n",
       "      <td>180</td>\n",
       "      <td>420</td>\n",
       "      <td>193</td>\n",
       "      <td>560</td>\n",
       "    </tr>\n",
       "    <tr>\n",
       "      <th>Smart</th>\n",
       "      <td>130</td>\n",
       "      <td>100</td>\n",
       "      <td>176</td>\n",
       "      <td>-</td>\n",
       "    </tr>\n",
       "    <tr>\n",
       "      <th>Sono</th>\n",
       "      <td>140</td>\n",
       "      <td>225</td>\n",
       "      <td>156</td>\n",
       "      <td>270</td>\n",
       "    </tr>\n",
       "    <tr>\n",
       "      <th>Tesla</th>\n",
       "      <td>410</td>\n",
       "      <td>970</td>\n",
       "      <td>267</td>\n",
       "      <td>940</td>\n",
       "    </tr>\n",
       "    <tr>\n",
       "      <th>Volkswagen</th>\n",
       "      <td>160</td>\n",
       "      <td>440</td>\n",
       "      <td>183</td>\n",
       "      <td>590</td>\n",
       "    </tr>\n",
       "    <tr>\n",
       "      <th>Volvo</th>\n",
       "      <td>180</td>\n",
       "      <td>375</td>\n",
       "      <td>200</td>\n",
       "      <td>470</td>\n",
       "    </tr>\n",
       "  </tbody>\n",
       "</table>\n",
       "</div>"
      ],
      "text/plain": [
       "            TopSpeed_KmH  Range_Km  Efficiency_WhKm FastCharge_KmH\n",
       "Brand                                                             \n",
       "Aiways               150       335              188            350\n",
       "Audi                 240       425              270            850\n",
       "BMW                  200       450              206            650\n",
       "Byton                190       400              244            480\n",
       "CUPRA                160       425              181            570\n",
       "Citroen              150       250              180            380\n",
       "DS                   150       250              180            380\n",
       "Fiat                 150       250              168            330\n",
       "Ford                 180       450              209            430\n",
       "Honda                145       170              168            190\n",
       "Hyundai              167       400              160            380\n",
       "Jaguar               200       365              232            340\n",
       "Kia                  167       370              175            350\n",
       "Lexus                160       270              193            190\n",
       "Lightyear            150       575              104            540\n",
       "Lucid                250       610              180            620\n",
       "MG                   140       220              193            260\n",
       "Mazda                150       180              178            240\n",
       "Mercedes             200       370              273            440\n",
       "Mini                 150       185              156            260\n",
       "Nissan               200       440              232            520\n",
       "Opel                 150       335              176            420\n",
       "Peugeot              150       275              180            420\n",
       "Polestar             210       400              181            620\n",
       "Porsche              260       425              223            890\n",
       "Renault              140       315              194            230\n",
       "SEAT                 130       195              166            170\n",
       "Skoda                180       420              193            560\n",
       "Smart                130       100              176              -\n",
       "Sono                 140       225              156            270\n",
       "Tesla                410       970              267            940\n",
       "Volkswagen           160       440              183            590\n",
       "Volvo                180       375              200            470"
      ]
     },
     "execution_count": 38,
     "metadata": {},
     "output_type": "execute_result"
    }
   ],
   "source": [
    "Group_Style = EV_Data[['Brand', 'TopSpeed_KmH', 'Range_Km', 'Efficiency_WhKm', 'FastCharge_KmH']].groupby('Brand').max()\n",
    "Group_Style"
   ]
  },
  {
   "cell_type": "markdown",
   "metadata": {},
   "source": [
    "### 10.9 Merge\n",
    "\n",
    "Muchas veces tendremos la información deseada en distintas bases de datos, archivos o datasets. Pandas nos ofrece la opción de juntar y fusionar datasets con *merge*.\n",
    "\n",
    "Si cargaos otro dataset con información adicional de cada Vehiculo obtenemos:"
   ]
  },
  {
   "cell_type": "code",
   "execution_count": 39,
   "metadata": {},
   "outputs": [
    {
     "data": {
      "text/html": [
       "<div>\n",
       "<style scoped>\n",
       "    .dataframe tbody tr th:only-of-type {\n",
       "        vertical-align: middle;\n",
       "    }\n",
       "\n",
       "    .dataframe tbody tr th {\n",
       "        vertical-align: top;\n",
       "    }\n",
       "\n",
       "    .dataframe thead th {\n",
       "        text-align: right;\n",
       "    }\n",
       "</style>\n",
       "<table border=\"1\" class=\"dataframe\">\n",
       "  <thead>\n",
       "    <tr style=\"text-align: right;\">\n",
       "      <th></th>\n",
       "      <th>Brand</th>\n",
       "      <th>Model</th>\n",
       "      <th>AccelSec</th>\n",
       "      <th>TopSpeed_KmH</th>\n",
       "      <th>Range_Km</th>\n",
       "      <th>Efficiency_WhKm</th>\n",
       "      <th>FastCharge_KmH</th>\n",
       "      <th>RapidCharge</th>\n",
       "      <th>PowerTrain</th>\n",
       "      <th>PlugType</th>\n",
       "      <th>BodyStyle</th>\n",
       "      <th>Segment</th>\n",
       "      <th>Seats</th>\n",
       "      <th>PriceEuro</th>\n",
       "    </tr>\n",
       "  </thead>\n",
       "  <tbody>\n",
       "    <tr>\n",
       "      <th>0</th>\n",
       "      <td>Tesla</td>\n",
       "      <td>Model 3 Long Range Dual Motor</td>\n",
       "      <td>4.6</td>\n",
       "      <td>233</td>\n",
       "      <td>450</td>\n",
       "      <td>161</td>\n",
       "      <td>940</td>\n",
       "      <td>Yes</td>\n",
       "      <td>AWD</td>\n",
       "      <td>Type 2 CCS</td>\n",
       "      <td>Sedan</td>\n",
       "      <td>D</td>\n",
       "      <td>5</td>\n",
       "      <td>55480</td>\n",
       "    </tr>\n",
       "    <tr>\n",
       "      <th>1</th>\n",
       "      <td>Volkswagen</td>\n",
       "      <td>ID.3 Pure</td>\n",
       "      <td>10.0</td>\n",
       "      <td>160</td>\n",
       "      <td>270</td>\n",
       "      <td>167</td>\n",
       "      <td>250</td>\n",
       "      <td>Yes</td>\n",
       "      <td>RWD</td>\n",
       "      <td>Type 2 CCS</td>\n",
       "      <td>Hatchback</td>\n",
       "      <td>C</td>\n",
       "      <td>5</td>\n",
       "      <td>30000</td>\n",
       "    </tr>\n",
       "    <tr>\n",
       "      <th>2</th>\n",
       "      <td>Polestar</td>\n",
       "      <td>2</td>\n",
       "      <td>4.7</td>\n",
       "      <td>210</td>\n",
       "      <td>400</td>\n",
       "      <td>181</td>\n",
       "      <td>620</td>\n",
       "      <td>Yes</td>\n",
       "      <td>AWD</td>\n",
       "      <td>Type 2 CCS</td>\n",
       "      <td>Liftback</td>\n",
       "      <td>D</td>\n",
       "      <td>5</td>\n",
       "      <td>56440</td>\n",
       "    </tr>\n",
       "    <tr>\n",
       "      <th>3</th>\n",
       "      <td>BMW</td>\n",
       "      <td>iX3</td>\n",
       "      <td>6.8</td>\n",
       "      <td>180</td>\n",
       "      <td>360</td>\n",
       "      <td>206</td>\n",
       "      <td>560</td>\n",
       "      <td>Yes</td>\n",
       "      <td>RWD</td>\n",
       "      <td>Type 2 CCS</td>\n",
       "      <td>SUV</td>\n",
       "      <td>D</td>\n",
       "      <td>5</td>\n",
       "      <td>68040</td>\n",
       "    </tr>\n",
       "    <tr>\n",
       "      <th>4</th>\n",
       "      <td>Honda</td>\n",
       "      <td>e</td>\n",
       "      <td>9.5</td>\n",
       "      <td>145</td>\n",
       "      <td>170</td>\n",
       "      <td>168</td>\n",
       "      <td>190</td>\n",
       "      <td>Yes</td>\n",
       "      <td>RWD</td>\n",
       "      <td>Type 2 CCS</td>\n",
       "      <td>Hatchback</td>\n",
       "      <td>B</td>\n",
       "      <td>4</td>\n",
       "      <td>32997</td>\n",
       "    </tr>\n",
       "    <tr>\n",
       "      <th>5</th>\n",
       "      <td>Lucid</td>\n",
       "      <td>Air</td>\n",
       "      <td>2.8</td>\n",
       "      <td>250</td>\n",
       "      <td>610</td>\n",
       "      <td>180</td>\n",
       "      <td>620</td>\n",
       "      <td>Yes</td>\n",
       "      <td>AWD</td>\n",
       "      <td>Type 2 CCS</td>\n",
       "      <td>Sedan</td>\n",
       "      <td>F</td>\n",
       "      <td>5</td>\n",
       "      <td>105000</td>\n",
       "    </tr>\n",
       "    <tr>\n",
       "      <th>6</th>\n",
       "      <td>Volkswagen</td>\n",
       "      <td>e-Golf</td>\n",
       "      <td>9.6</td>\n",
       "      <td>150</td>\n",
       "      <td>190</td>\n",
       "      <td>168</td>\n",
       "      <td>220</td>\n",
       "      <td>Yes</td>\n",
       "      <td>FWD</td>\n",
       "      <td>Type 2 CCS</td>\n",
       "      <td>Hatchback</td>\n",
       "      <td>C</td>\n",
       "      <td>5</td>\n",
       "      <td>31900</td>\n",
       "    </tr>\n",
       "  </tbody>\n",
       "</table>\n",
       "</div>"
      ],
      "text/plain": [
       "        Brand                          Model  AccelSec  TopSpeed_KmH  \\\n",
       "0       Tesla  Model 3 Long Range Dual Motor       4.6           233   \n",
       "1  Volkswagen                      ID.3 Pure      10.0           160   \n",
       "2    Polestar                              2       4.7           210   \n",
       "3         BMW                           iX3        6.8           180   \n",
       "4       Honda                             e        9.5           145   \n",
       "5       Lucid                           Air        2.8           250   \n",
       "6  Volkswagen                        e-Golf        9.6           150   \n",
       "\n",
       "   Range_Km  Efficiency_WhKm FastCharge_KmH RapidCharge PowerTrain  \\\n",
       "0       450              161            940         Yes        AWD   \n",
       "1       270              167            250         Yes        RWD   \n",
       "2       400              181            620         Yes        AWD   \n",
       "3       360              206            560         Yes        RWD   \n",
       "4       170              168            190         Yes        RWD   \n",
       "5       610              180            620         Yes        AWD   \n",
       "6       190              168            220         Yes        FWD   \n",
       "\n",
       "     PlugType  BodyStyle Segment  Seats  PriceEuro  \n",
       "0  Type 2 CCS      Sedan       D      5      55480  \n",
       "1  Type 2 CCS  Hatchback       C      5      30000  \n",
       "2  Type 2 CCS   Liftback       D      5      56440  \n",
       "3  Type 2 CCS        SUV       D      5      68040  \n",
       "4  Type 2 CCS  Hatchback       B      4      32997  \n",
       "5  Type 2 CCS      Sedan       F      5     105000  \n",
       "6  Type 2 CCS  Hatchback       C      5      31900  "
      ]
     },
     "execution_count": 39,
     "metadata": {},
     "output_type": "execute_result"
    }
   ],
   "source": [
    "import pandas as pd\n",
    "\n",
    "EV_Data = pd.read_csv('Data/ElectricCarData_Clean.csv')  #Data set original\n",
    "EV_Data.head(7)"
   ]
  },
  {
   "cell_type": "code",
   "execution_count": 40,
   "metadata": {},
   "outputs": [
    {
     "data": {
      "text/html": [
       "<div>\n",
       "<style scoped>\n",
       "    .dataframe tbody tr th:only-of-type {\n",
       "        vertical-align: middle;\n",
       "    }\n",
       "\n",
       "    .dataframe tbody tr th {\n",
       "        vertical-align: top;\n",
       "    }\n",
       "\n",
       "    .dataframe thead th {\n",
       "        text-align: right;\n",
       "    }\n",
       "</style>\n",
       "<table border=\"1\" class=\"dataframe\">\n",
       "  <thead>\n",
       "    <tr style=\"text-align: right;\">\n",
       "      <th></th>\n",
       "      <th>Brand</th>\n",
       "      <th>Model</th>\n",
       "      <th>PowerTrain_Meanning</th>\n",
       "      <th>PriceEuro_Promo</th>\n",
       "    </tr>\n",
       "  </thead>\n",
       "  <tbody>\n",
       "    <tr>\n",
       "      <th>0</th>\n",
       "      <td>Tesla</td>\n",
       "      <td>Model 3 Long Range Dual Motor</td>\n",
       "      <td>All Wheel Drive</td>\n",
       "      <td>41610.00</td>\n",
       "    </tr>\n",
       "    <tr>\n",
       "      <th>1</th>\n",
       "      <td>Volkswagen</td>\n",
       "      <td>ID.3 Pure</td>\n",
       "      <td>Rear Wheel Drive</td>\n",
       "      <td>22500.00</td>\n",
       "    </tr>\n",
       "    <tr>\n",
       "      <th>2</th>\n",
       "      <td>BMW</td>\n",
       "      <td>iX3</td>\n",
       "      <td>Rear Wheel Drive</td>\n",
       "      <td>51030.00</td>\n",
       "    </tr>\n",
       "    <tr>\n",
       "      <th>3</th>\n",
       "      <td>Honda</td>\n",
       "      <td>e</td>\n",
       "      <td>Rear Wheel Drive</td>\n",
       "      <td>24747.75</td>\n",
       "    </tr>\n",
       "    <tr>\n",
       "      <th>4</th>\n",
       "      <td>Volkswagen</td>\n",
       "      <td>e-Golf</td>\n",
       "      <td>Front Wheel Drive</td>\n",
       "      <td>23925.00</td>\n",
       "    </tr>\n",
       "    <tr>\n",
       "      <th>5</th>\n",
       "      <td>Tesla</td>\n",
       "      <td>Model 3 Standard Range Plus</td>\n",
       "      <td>Rear Wheel Drive</td>\n",
       "      <td>34785.00</td>\n",
       "    </tr>\n",
       "    <tr>\n",
       "      <th>6</th>\n",
       "      <td>Audi</td>\n",
       "      <td>Q4 e-tron</td>\n",
       "      <td>All Wheel Drive</td>\n",
       "      <td>41250.00</td>\n",
       "    </tr>\n",
       "  </tbody>\n",
       "</table>\n",
       "</div>"
      ],
      "text/plain": [
       "         Brand                          Model PowerTrain_Meanning  \\\n",
       "0       Tesla   Model 3 Long Range Dual Motor     All Wheel Drive   \n",
       "1  Volkswagen                       ID.3 Pure    Rear Wheel Drive   \n",
       "2         BMW                            iX3     Rear Wheel Drive   \n",
       "3       Honda                              e     Rear Wheel Drive   \n",
       "4  Volkswagen                         e-Golf    Front Wheel Drive   \n",
       "5       Tesla     Model 3 Standard Range Plus    Rear Wheel Drive   \n",
       "6        Audi                      Q4 e-tron      All Wheel Drive   \n",
       "\n",
       "   PriceEuro_Promo  \n",
       "0         41610.00  \n",
       "1         22500.00  \n",
       "2         51030.00  \n",
       "3         24747.75  \n",
       "4         23925.00  \n",
       "5         34785.00  \n",
       "6         41250.00  "
      ]
     },
     "execution_count": 40,
     "metadata": {},
     "output_type": "execute_result"
    }
   ],
   "source": [
    "EV_Data_MERGE = pd.read_csv('Data/ElectricCarData_MERGE.csv')\n",
    "EV_Data_MERGE.head(7)"
   ]
  },
  {
   "cell_type": "markdown",
   "metadata": {},
   "source": [
    "Podemos ver como para algunos de los modelos, nos da información adicional, organizada en nuevas columnas. Para saber más sobre estos, ir directamente al repositorio de este dataset e inspeccionar con detalle.\n",
    "\n",
    "De todos modos, si queremos juntar toda la información en un mismo dataset, tendríamos que hacer un merge:\n",
    "\n",
    "<img src=\"Figures/Panda Data Wrangling Cheat Sheet 2.jpeg\" alt=\"Drawing\" style=\"width: 500px;\"/>\n",
    "\n",
    "\n",
    "Donde los modos *how* posibles se refieren a:\n",
    "\n",
    "<img src=\"Figures/merge_options.png\" alt=\"Drawing\" style=\"width: 500px;\"/>\n"
   ]
  },
  {
   "cell_type": "code",
   "execution_count": 41,
   "metadata": {},
   "outputs": [
    {
     "data": {
      "text/html": [
       "<div>\n",
       "<style scoped>\n",
       "    .dataframe tbody tr th:only-of-type {\n",
       "        vertical-align: middle;\n",
       "    }\n",
       "\n",
       "    .dataframe tbody tr th {\n",
       "        vertical-align: top;\n",
       "    }\n",
       "\n",
       "    .dataframe thead th {\n",
       "        text-align: right;\n",
       "    }\n",
       "</style>\n",
       "<table border=\"1\" class=\"dataframe\">\n",
       "  <thead>\n",
       "    <tr style=\"text-align: right;\">\n",
       "      <th></th>\n",
       "      <th>Brand_x</th>\n",
       "      <th>Model</th>\n",
       "      <th>AccelSec</th>\n",
       "      <th>TopSpeed_KmH</th>\n",
       "      <th>Range_Km</th>\n",
       "      <th>Efficiency_WhKm</th>\n",
       "      <th>FastCharge_KmH</th>\n",
       "      <th>RapidCharge</th>\n",
       "      <th>PowerTrain</th>\n",
       "      <th>PlugType</th>\n",
       "      <th>BodyStyle</th>\n",
       "      <th>Segment</th>\n",
       "      <th>Seats</th>\n",
       "      <th>PriceEuro</th>\n",
       "      <th>Brand_y</th>\n",
       "      <th>PowerTrain_Meanning</th>\n",
       "      <th>PriceEuro_Promo</th>\n",
       "    </tr>\n",
       "  </thead>\n",
       "  <tbody>\n",
       "    <tr>\n",
       "      <th>0</th>\n",
       "      <td>Tesla</td>\n",
       "      <td>Model 3 Long Range Dual Motor</td>\n",
       "      <td>4.6</td>\n",
       "      <td>233</td>\n",
       "      <td>450</td>\n",
       "      <td>161</td>\n",
       "      <td>940</td>\n",
       "      <td>Yes</td>\n",
       "      <td>AWD</td>\n",
       "      <td>Type 2 CCS</td>\n",
       "      <td>Sedan</td>\n",
       "      <td>D</td>\n",
       "      <td>5</td>\n",
       "      <td>55480</td>\n",
       "      <td>Tesla</td>\n",
       "      <td>All Wheel Drive</td>\n",
       "      <td>41610.00</td>\n",
       "    </tr>\n",
       "    <tr>\n",
       "      <th>1</th>\n",
       "      <td>Volkswagen</td>\n",
       "      <td>ID.3 Pure</td>\n",
       "      <td>10.0</td>\n",
       "      <td>160</td>\n",
       "      <td>270</td>\n",
       "      <td>167</td>\n",
       "      <td>250</td>\n",
       "      <td>Yes</td>\n",
       "      <td>RWD</td>\n",
       "      <td>Type 2 CCS</td>\n",
       "      <td>Hatchback</td>\n",
       "      <td>C</td>\n",
       "      <td>5</td>\n",
       "      <td>30000</td>\n",
       "      <td>Volkswagen</td>\n",
       "      <td>Rear Wheel Drive</td>\n",
       "      <td>22500.00</td>\n",
       "    </tr>\n",
       "    <tr>\n",
       "      <th>2</th>\n",
       "      <td>Polestar</td>\n",
       "      <td>2</td>\n",
       "      <td>4.7</td>\n",
       "      <td>210</td>\n",
       "      <td>400</td>\n",
       "      <td>181</td>\n",
       "      <td>620</td>\n",
       "      <td>Yes</td>\n",
       "      <td>AWD</td>\n",
       "      <td>Type 2 CCS</td>\n",
       "      <td>Liftback</td>\n",
       "      <td>D</td>\n",
       "      <td>5</td>\n",
       "      <td>56440</td>\n",
       "      <td>NaN</td>\n",
       "      <td>NaN</td>\n",
       "      <td>NaN</td>\n",
       "    </tr>\n",
       "    <tr>\n",
       "      <th>3</th>\n",
       "      <td>BMW</td>\n",
       "      <td>iX3</td>\n",
       "      <td>6.8</td>\n",
       "      <td>180</td>\n",
       "      <td>360</td>\n",
       "      <td>206</td>\n",
       "      <td>560</td>\n",
       "      <td>Yes</td>\n",
       "      <td>RWD</td>\n",
       "      <td>Type 2 CCS</td>\n",
       "      <td>SUV</td>\n",
       "      <td>D</td>\n",
       "      <td>5</td>\n",
       "      <td>68040</td>\n",
       "      <td>BMW</td>\n",
       "      <td>Rear Wheel Drive</td>\n",
       "      <td>51030.00</td>\n",
       "    </tr>\n",
       "    <tr>\n",
       "      <th>4</th>\n",
       "      <td>Honda</td>\n",
       "      <td>e</td>\n",
       "      <td>9.5</td>\n",
       "      <td>145</td>\n",
       "      <td>170</td>\n",
       "      <td>168</td>\n",
       "      <td>190</td>\n",
       "      <td>Yes</td>\n",
       "      <td>RWD</td>\n",
       "      <td>Type 2 CCS</td>\n",
       "      <td>Hatchback</td>\n",
       "      <td>B</td>\n",
       "      <td>4</td>\n",
       "      <td>32997</td>\n",
       "      <td>Honda</td>\n",
       "      <td>Rear Wheel Drive</td>\n",
       "      <td>24747.75</td>\n",
       "    </tr>\n",
       "    <tr>\n",
       "      <th>5</th>\n",
       "      <td>Lucid</td>\n",
       "      <td>Air</td>\n",
       "      <td>2.8</td>\n",
       "      <td>250</td>\n",
       "      <td>610</td>\n",
       "      <td>180</td>\n",
       "      <td>620</td>\n",
       "      <td>Yes</td>\n",
       "      <td>AWD</td>\n",
       "      <td>Type 2 CCS</td>\n",
       "      <td>Sedan</td>\n",
       "      <td>F</td>\n",
       "      <td>5</td>\n",
       "      <td>105000</td>\n",
       "      <td>NaN</td>\n",
       "      <td>NaN</td>\n",
       "      <td>NaN</td>\n",
       "    </tr>\n",
       "    <tr>\n",
       "      <th>6</th>\n",
       "      <td>Volkswagen</td>\n",
       "      <td>e-Golf</td>\n",
       "      <td>9.6</td>\n",
       "      <td>150</td>\n",
       "      <td>190</td>\n",
       "      <td>168</td>\n",
       "      <td>220</td>\n",
       "      <td>Yes</td>\n",
       "      <td>FWD</td>\n",
       "      <td>Type 2 CCS</td>\n",
       "      <td>Hatchback</td>\n",
       "      <td>C</td>\n",
       "      <td>5</td>\n",
       "      <td>31900</td>\n",
       "      <td>Volkswagen</td>\n",
       "      <td>Front Wheel Drive</td>\n",
       "      <td>23925.00</td>\n",
       "    </tr>\n",
       "    <tr>\n",
       "      <th>7</th>\n",
       "      <td>Peugeot</td>\n",
       "      <td>e-208</td>\n",
       "      <td>8.1</td>\n",
       "      <td>150</td>\n",
       "      <td>275</td>\n",
       "      <td>164</td>\n",
       "      <td>420</td>\n",
       "      <td>Yes</td>\n",
       "      <td>FWD</td>\n",
       "      <td>Type 2 CCS</td>\n",
       "      <td>Hatchback</td>\n",
       "      <td>B</td>\n",
       "      <td>5</td>\n",
       "      <td>29682</td>\n",
       "      <td>NaN</td>\n",
       "      <td>NaN</td>\n",
       "      <td>NaN</td>\n",
       "    </tr>\n",
       "    <tr>\n",
       "      <th>8</th>\n",
       "      <td>Tesla</td>\n",
       "      <td>Model 3 Standard Range Plus</td>\n",
       "      <td>5.6</td>\n",
       "      <td>225</td>\n",
       "      <td>310</td>\n",
       "      <td>153</td>\n",
       "      <td>650</td>\n",
       "      <td>Yes</td>\n",
       "      <td>RWD</td>\n",
       "      <td>Type 2 CCS</td>\n",
       "      <td>Sedan</td>\n",
       "      <td>D</td>\n",
       "      <td>5</td>\n",
       "      <td>46380</td>\n",
       "      <td>Tesla</td>\n",
       "      <td>Rear Wheel Drive</td>\n",
       "      <td>34785.00</td>\n",
       "    </tr>\n",
       "  </tbody>\n",
       "</table>\n",
       "</div>"
      ],
      "text/plain": [
       "      Brand_x                          Model  AccelSec  TopSpeed_KmH  \\\n",
       "0       Tesla  Model 3 Long Range Dual Motor       4.6           233   \n",
       "1  Volkswagen                      ID.3 Pure      10.0           160   \n",
       "2    Polestar                              2       4.7           210   \n",
       "3         BMW                           iX3        6.8           180   \n",
       "4       Honda                             e        9.5           145   \n",
       "5       Lucid                           Air        2.8           250   \n",
       "6  Volkswagen                        e-Golf        9.6           150   \n",
       "7     Peugeot                         e-208        8.1           150   \n",
       "8       Tesla    Model 3 Standard Range Plus       5.6           225   \n",
       "\n",
       "   Range_Km  Efficiency_WhKm FastCharge_KmH RapidCharge PowerTrain  \\\n",
       "0       450              161            940         Yes        AWD   \n",
       "1       270              167            250         Yes        RWD   \n",
       "2       400              181            620         Yes        AWD   \n",
       "3       360              206            560         Yes        RWD   \n",
       "4       170              168            190         Yes        RWD   \n",
       "5       610              180            620         Yes        AWD   \n",
       "6       190              168            220         Yes        FWD   \n",
       "7       275              164            420         Yes        FWD   \n",
       "8       310              153            650         Yes        RWD   \n",
       "\n",
       "     PlugType  BodyStyle Segment  Seats  PriceEuro      Brand_y  \\\n",
       "0  Type 2 CCS      Sedan       D      5      55480       Tesla    \n",
       "1  Type 2 CCS  Hatchback       C      5      30000  Volkswagen    \n",
       "2  Type 2 CCS   Liftback       D      5      56440          NaN   \n",
       "3  Type 2 CCS        SUV       D      5      68040         BMW    \n",
       "4  Type 2 CCS  Hatchback       B      4      32997       Honda    \n",
       "5  Type 2 CCS      Sedan       F      5     105000          NaN   \n",
       "6  Type 2 CCS  Hatchback       C      5      31900  Volkswagen    \n",
       "7  Type 2 CCS  Hatchback       B      5      29682          NaN   \n",
       "8  Type 2 CCS      Sedan       D      5      46380       Tesla    \n",
       "\n",
       "  PowerTrain_Meanning  PriceEuro_Promo  \n",
       "0     All Wheel Drive         41610.00  \n",
       "1    Rear Wheel Drive         22500.00  \n",
       "2                 NaN              NaN  \n",
       "3    Rear Wheel Drive         51030.00  \n",
       "4    Rear Wheel Drive         24747.75  \n",
       "5                 NaN              NaN  \n",
       "6   Front Wheel Drive         23925.00  \n",
       "7                 NaN              NaN  \n",
       "8    Rear Wheel Drive         34785.00  "
      ]
     },
     "execution_count": 41,
     "metadata": {},
     "output_type": "execute_result"
    }
   ],
   "source": [
    "combinado = pd.merge(EV_Data, EV_Data_MERGE, how='left', on='Model')\n",
    "combinado.head(9)"
   ]
  },
  {
   "cell_type": "markdown",
   "metadata": {},
   "source": [
    "### 10.10 Otros\n",
    "\n",
    "Hay muchas más funciones que se pueden usar con Pandas. Os animamos a mirar en su documentación, foros, cheat sheets, cursos,...\n",
    "\n",
    "https://pandas.pydata.org/pandas-docs/stable/index.html"
   ]
  },
  {
   "cell_type": "markdown",
   "metadata": {},
   "source": [
    "## 11. Creación de gáficos\n",
    "\n",
    "En Python existen diversas librerías para crear gráficos como Bokeh, altair, Pandas o Matplotlib\n",
    "\n",
    "<img src=\"Figures/four_logos.png\" alt=\"Drawing\" style=\"width: 800px;\"/>\n",
    "\n",
    "En este curso aprenderemos las funciones básicas de matplotlib, ya que las otras librerías siempre estan basadas en esta y nos ayudará a luego saber usarlas también."
   ]
  },
  {
   "cell_type": "markdown",
   "metadata": {},
   "source": [
    "### 11.1 Matplotlib.pyplot\n",
    "\n",
    "El módulo que se usa es el pyplot de matplotlib. Toda su documentación se puede encontrar aquí:\n",
    "\n",
    "https://matplotlib.org/api/pyplot_api.html#module-matplotlib.pyplot\n",
    "\n",
    "Vaamos a importarla!"
   ]
  },
  {
   "cell_type": "code",
   "execution_count": 42,
   "metadata": {},
   "outputs": [],
   "source": [
    "import matplotlib.pyplot as plt"
   ]
  },
  {
   "cell_type": "markdown",
   "metadata": {},
   "source": [
    "Las dos instancias más importantes en pyplot son\n",
    "* figure: en matplotlib.figure.Figure, una *figure* ser dónde iran los gráficos. Es el lienzo donde puede haber uno o varios gráficos.\n",
    "* axes: eb matplotlib.axes.Axes, econtramos dode iran los gráficos en sí\n",
    "\n",
    "Vamos a crear un primer gráfico de prueba:"
   ]
  },
  {
   "cell_type": "code",
   "execution_count": 43,
   "metadata": {},
   "outputs": [
    {
     "data": {
      "image/png": "[encoded data removed]",
      "text/plain": [
       "<Figure size 432x288 with 1 Axes>"
      ]
     },
     "metadata": {
      "needs_background": "light"
     },
     "output_type": "display_data"
    }
   ],
   "source": [
    "import matplotlib.pyplot as plt\n",
    "import numpy as np\n",
    "\n",
    "plt.plot([1,2,3,4],[1,4,8,16])\n",
    "plt.show()"
   ]
  },
  {
   "cell_type": "markdown",
   "metadata": {},
   "source": [
    "En este caso hemos creado un gráfico usando *plot*, donde el primer argumento es el eje de las x y el segundo el de las y (deben ser de la smismas dimensiones). \n",
    "\n",
    "Podemos añadir otra información como título y nombre de los ejes:"
   ]
  },
  {
   "cell_type": "code",
   "execution_count": 44,
   "metadata": {},
   "outputs": [
    {
     "data": {
      "image/png": "[encoded data removed]",
      "text/plain": [
       "<Figure size 432x288 with 1 Axes>"
      ]
     },
     "metadata": {
      "needs_background": "light"
     },
     "output_type": "display_data"
    }
   ],
   "source": [
    "import matplotlib.pyplot as plt\n",
    "\n",
    "plt.plot([1,2,3,4],[1,4,8,16])\n",
    "plt.title('Nuestro primer plot!')\n",
    "plt.xlabel('eje X')\n",
    "plt.ylabel('eje Y')\n",
    "plt.show()"
   ]
  },
  {
   "cell_type": "markdown",
   "metadata": {},
   "source": [
    "### 11.2 Crear ventanas\n",
    "\n",
    "Si se quiere modificar el tamaño del gráfico, es dóde tendremos que usar el término *figure* comentdo anteriormente. Recordamos que *figure* era el lienzo donde poníamos uno o más gráficos. En este caso, solo ponemos uno.\n",
    "\n",
    "Aquí podemos ver como se puede configurar una *figure* con unas medidas predeterminadas:"
   ]
  },
  {
   "cell_type": "code",
   "execution_count": 45,
   "metadata": {},
   "outputs": [
    {
     "data": {
      "image/png": "[encoded data removed]",
      "text/plain": [
       "<Figure size 1440x360 with 1 Axes>"
      ]
     },
     "metadata": {
      "needs_background": "light"
     },
     "output_type": "display_data"
    }
   ],
   "source": [
    "plt.figure(figsize=(20,5))\n",
    "plt.plot([1,2,3,4],[1,4,8,16])\n",
    "plt.show()"
   ]
  },
  {
   "cell_type": "markdown",
   "metadata": {},
   "source": [
    "Para cada gráfico también se puede determinar el estilo del gráfico con un tercer argumento:"
   ]
  },
  {
   "cell_type": "code",
   "execution_count": 46,
   "metadata": {},
   "outputs": [
    {
     "data": {
      "image/png": "[encoded data removed]",
      "text/plain": [
       "<Figure size 432x288 with 1 Axes>"
      ]
     },
     "metadata": {
      "needs_background": "light"
     },
     "output_type": "display_data"
    }
   ],
   "source": [
    "plt.plot([1,2,3,4],[1,4,8,16],'bo')  #Blue and circle\n",
    "plt.show()\n",
    "\n",
    "# https://matplotlib.org/stable/api/_as_gen/matplotlib.pyplot.plot.html\n",
    "\n",
    "# character\tdescription\n",
    "# '.'\tpoint marker\n",
    "# ','\tpixel marker\n",
    "# 'o'\tcircle marker\n",
    "# 'v'\ttriangle_down marker\n",
    "# '^'\ttriangle_up marker\n",
    "# '<'\ttriangle_left marker\n",
    "# '>'\ttriangle_right marker\n",
    "# '1'\ttri_down marker\n",
    "# '2'\ttri_up marker\n",
    "# '3'\ttri_left marker\n",
    "# '4'\ttri_right marker\n",
    "# '8'\toctagon marker\n",
    "# 's'\tsquare marker\n",
    "# 'p'\tpentagon marker\n",
    "# 'P'\tplus (filled) marker\n",
    "# '*'\tstar marker\n",
    "# 'h'\thexagon1 marker\n",
    "# 'H'\thexagon2 marker\n",
    "# '+'\tplus marker\n",
    "# 'x'\tx marker\n",
    "# 'X'\tx (filled) marker\n",
    "# 'D'\tdiamond marker\n",
    "# 'd'\tthin_diamond marker\n",
    "# '|'\tvline marker\n",
    "# '_'\thline marker"
   ]
  },
  {
   "cell_type": "markdown",
   "metadata": {},
   "source": [
    "Y podemos poner más de un gráfico en el mismo plot, indicando en la leyenda que es cada cosa:"
   ]
  },
  {
   "cell_type": "code",
   "execution_count": 62,
   "metadata": {},
   "outputs": [
    {
     "data": {
      "image/png": "[encoded data removed]",
      "text/plain": [
       "<Figure size 432x288 with 1 Axes>"
      ]
     },
     "metadata": {
      "needs_background": "light"
     },
     "output_type": "display_data"
    }
   ],
   "source": [
    "plt.plot([1,2,3,4],[1,4,8,16],'g-',label='primero')\n",
    "plt.plot([1,2,3,4],[1,6,12,6],'r-', label='segundo')\n",
    "plt.title('Ahora son dos!')\n",
    "plt.xlabel('eje X')\n",
    "plt.ylabel('eje Y')\n",
    "plt.legend()\n",
    "plt.show()"
   ]
  },
  {
   "cell_type": "markdown",
   "metadata": {},
   "source": [
    "### 11.3 Subplots\n",
    "\n",
    "Para poner distintos gráficos con distintos ejes se puede usar Subplots. El métdodo `subplot` tiene 3 argumentos: número de filas, número de columnas e índice. Veamos con un ejemplo como se usa:"
   ]
  },
  {
   "cell_type": "code",
   "execution_count": 48,
   "metadata": {},
   "outputs": [
    {
     "data": {
      "text/plain": [
       "Text(0, 0.5, 'otro eje Y')"
      ]
     },
     "execution_count": 48,
     "metadata": {},
     "output_type": "execute_result"
    },
    {
     "data": {
      "image/png": "[encoded data removed]",
      "text/plain": [
       "<Figure size 1080x144 with 2 Axes>"
      ]
     },
     "metadata": {
      "needs_background": "light"
     },
     "output_type": "display_data"
    }
   ],
   "source": [
    "plt.figure(figsize=(15,2))\n",
    "\n",
    "plt.subplot(1,2,1)\n",
    "plt.plot([1,2,3,4],[1,4,9,16],'go')\n",
    "plt.title('Izquierda')\n",
    "plt.xlabel('un eje X')\n",
    "plt.ylabel('un eje Y')\n",
    "\n",
    "plt.subplot(1,2,2)\n",
    "plt.plot([1,2,3,4],[1,6,12,6],'r-')\n",
    "plt.title('Derecha')\n",
    "plt.xlabel('otro eje X')\n",
    "plt.ylabel('otro eje Y')"
   ]
  },
  {
   "cell_type": "markdown",
   "metadata": {},
   "source": [
    "O, por ejemplo:"
   ]
  },
  {
   "cell_type": "code",
   "execution_count": 49,
   "metadata": {},
   "outputs": [
    {
     "data": {
      "text/plain": [
       "Text(0, 0.5, 'otro eje Y')"
      ]
     },
     "execution_count": 49,
     "metadata": {},
     "output_type": "execute_result"
    },
    {
     "data": {
      "image/png": "[encoded data removed]",
      "text/plain": [
       "<Figure size 720x720 with 2 Axes>"
      ]
     },
     "metadata": {
      "needs_background": "light"
     },
     "output_type": "display_data"
    }
   ],
   "source": [
    "plt.figure(figsize=(10,10))\n",
    "\n",
    "plt.subplot(2,1,1)\n",
    "plt.plot([1,2,3,4],[1,4,9,16],'go')\n",
    "plt.title('Arriba')\n",
    "plt.xlabel('un eje X')\n",
    "plt.ylabel('un eje Y')\n",
    "\n",
    "plt.subplot(2,1,2)\n",
    "plt.plot([1,2,3,4],[1,6,12,6],'r-')\n",
    "plt.title('Abajo')\n",
    "plt.xlabel('otro eje X')\n",
    "plt.ylabel('otro eje Y')"
   ]
  },
  {
   "cell_type": "markdown",
   "metadata": {},
   "source": [
    "### 11.4 Gráfico de barras\n",
    "\n",
    "Para hacer un gráfico de barras en vez de `plot`usaremos `bar`, siguendo una estructura muy parecida.\n",
    "\n",
    "Recordemos el dataset de antes:"
   ]
  },
  {
   "cell_type": "code",
   "execution_count": 50,
   "metadata": {},
   "outputs": [
    {
     "data": {
      "text/html": [
       "<div>\n",
       "<style scoped>\n",
       "    .dataframe tbody tr th:only-of-type {\n",
       "        vertical-align: middle;\n",
       "    }\n",
       "\n",
       "    .dataframe tbody tr th {\n",
       "        vertical-align: top;\n",
       "    }\n",
       "\n",
       "    .dataframe thead th {\n",
       "        text-align: right;\n",
       "    }\n",
       "</style>\n",
       "<table border=\"1\" class=\"dataframe\">\n",
       "  <thead>\n",
       "    <tr style=\"text-align: right;\">\n",
       "      <th></th>\n",
       "      <th>TopSpeed_KmH</th>\n",
       "      <th>Range_Km</th>\n",
       "      <th>Efficiency_WhKm</th>\n",
       "      <th>FastCharge_KmH</th>\n",
       "    </tr>\n",
       "    <tr>\n",
       "      <th>Brand</th>\n",
       "      <th></th>\n",
       "      <th></th>\n",
       "      <th></th>\n",
       "      <th></th>\n",
       "    </tr>\n",
       "  </thead>\n",
       "  <tbody>\n",
       "    <tr>\n",
       "      <th>Aiways</th>\n",
       "      <td>150</td>\n",
       "      <td>335</td>\n",
       "      <td>188</td>\n",
       "      <td>350</td>\n",
       "    </tr>\n",
       "    <tr>\n",
       "      <th>Audi</th>\n",
       "      <td>240</td>\n",
       "      <td>425</td>\n",
       "      <td>270</td>\n",
       "      <td>850</td>\n",
       "    </tr>\n",
       "    <tr>\n",
       "      <th>BMW</th>\n",
       "      <td>200</td>\n",
       "      <td>450</td>\n",
       "      <td>206</td>\n",
       "      <td>650</td>\n",
       "    </tr>\n",
       "    <tr>\n",
       "      <th>Byton</th>\n",
       "      <td>190</td>\n",
       "      <td>400</td>\n",
       "      <td>244</td>\n",
       "      <td>480</td>\n",
       "    </tr>\n",
       "    <tr>\n",
       "      <th>CUPRA</th>\n",
       "      <td>160</td>\n",
       "      <td>425</td>\n",
       "      <td>181</td>\n",
       "      <td>570</td>\n",
       "    </tr>\n",
       "  </tbody>\n",
       "</table>\n",
       "</div>"
      ],
      "text/plain": [
       "        TopSpeed_KmH  Range_Km  Efficiency_WhKm FastCharge_KmH\n",
       "Brand                                                         \n",
       "Aiways           150       335              188            350\n",
       "Audi             240       425              270            850\n",
       "BMW              200       450              206            650\n",
       "Byton            190       400              244            480\n",
       "CUPRA            160       425              181            570"
      ]
     },
     "execution_count": 50,
     "metadata": {},
     "output_type": "execute_result"
    }
   ],
   "source": [
    "Group_Style = EV_Data[['Brand', 'TopSpeed_KmH', 'Range_Km', 'Efficiency_WhKm', 'FastCharge_KmH']].groupby('Brand').max()\n",
    "Group_Style.head()"
   ]
  },
  {
   "cell_type": "markdown",
   "metadata": {},
   "source": [
    "Podemo hacer una gràfica de barras:"
   ]
  },
  {
   "cell_type": "code",
   "execution_count": 51,
   "metadata": {},
   "outputs": [
    {
     "data": {
      "text/plain": [
       "Text(0, 0.5, 'Capacidad de la Bateria (kM)')"
      ]
     },
     "execution_count": 51,
     "metadata": {},
     "output_type": "execute_result"
    },
    {
     "data": {
      "image/png": "[encoded data removed]",
      "text/plain": [
       "<Figure size 1440x720 with 1 Axes>"
      ]
     },
     "metadata": {
      "needs_background": "light"
     },
     "output_type": "display_data"
    }
   ],
   "source": [
    "divisiones=Group_Style.index[:18]\n",
    "marcas=Group_Style['Range_Km'][:18]\n",
    "\n",
    "plt.figure(figsize=(20,10))\n",
    "plt.bar(divisiones, marcas, color = 'blue')\n",
    "plt.xlabel('Marca de Vehiculo')\n",
    "plt.ylabel('Capacidad de la Bateria (kM)')"
   ]
  },
  {
   "cell_type": "markdown",
   "metadata": {},
   "source": [
    "O en barras horizontales, usando `barh`:"
   ]
  },
  {
   "cell_type": "code",
   "execution_count": 63,
   "metadata": {},
   "outputs": [
    {
     "data": {
      "text/plain": [
       "Text(0.5, 0, 'Capacidad de Batería')"
      ]
     },
     "execution_count": 63,
     "metadata": {},
     "output_type": "execute_result"
    },
    {
     "data": {
      "image/png": "[encoded data removed]",
      "text/plain": [
       "<Figure size 1440x720 with 1 Axes>"
      ]
     },
     "metadata": {
      "needs_background": "light"
     },
     "output_type": "display_data"
    }
   ],
   "source": [
    "divisiones=Group_Style.index[:18]\n",
    "marcas=Group_Style['Range_Km'][:18]\n",
    "\n",
    "plt.figure(figsize=(20,10))\n",
    "plt.barh(divisiones, marcas, color = 'blue')\n",
    "plt.ylabel('Marca de Vehiculo')\n",
    "plt.xlabel('Capacidad de Batería')"
   ]
  },
  {
   "cell_type": "markdown",
   "metadata": {},
   "source": [
    "### 11.5 Histograma\n",
    "\n",
    "Veamos con un ejemplo como hacer un histograma:"
   ]
  },
  {
   "cell_type": "code",
   "execution_count": 53,
   "metadata": {},
   "outputs": [
    {
     "data": {
      "text/plain": [
       "(array([ 4., 11., 21., 45., 57., 51., 31., 23.,  5.,  2.]),\n",
       " array([143.80187566, 149.13045818, 154.45904071, 159.78762323,\n",
       "        165.11620576, 170.44478828, 175.77337081, 181.10195334,\n",
       "        186.43053586, 191.75911839, 197.08770091]),\n",
       " <BarContainer object of 10 artists>)"
      ]
     },
     "execution_count": 53,
     "metadata": {},
     "output_type": "execute_result"
    },
    {
     "data": {
      "image/png": "[encoded data removed]",
      "text/plain": [
       "<Figure size 432x288 with 1 Axes>"
      ]
     },
     "metadata": {
      "needs_background": "light"
     },
     "output_type": "display_data"
    }
   ],
   "source": [
    "import numpy as np\n",
    "\n",
    "x = np.random.normal(170, 10, 250)\n",
    "\n",
    "# Generate an array with 250 values, where the values will concentrate around 170, and the standard deviation is 10 (Normal Distribution).\n",
    "\n",
    "plt.hist(x)"
   ]
  },
  {
   "cell_type": "code",
   "execution_count": 54,
   "metadata": {},
   "outputs": [
    {
     "data": {
      "text/html": [
       "<div>\n",
       "<style scoped>\n",
       "    .dataframe tbody tr th:only-of-type {\n",
       "        vertical-align: middle;\n",
       "    }\n",
       "\n",
       "    .dataframe tbody tr th {\n",
       "        vertical-align: top;\n",
       "    }\n",
       "\n",
       "    .dataframe thead th {\n",
       "        text-align: right;\n",
       "    }\n",
       "</style>\n",
       "<table border=\"1\" class=\"dataframe\">\n",
       "  <thead>\n",
       "    <tr style=\"text-align: right;\">\n",
       "      <th></th>\n",
       "      <th>Brand</th>\n",
       "      <th>Model</th>\n",
       "      <th>AccelSec</th>\n",
       "      <th>TopSpeed_KmH</th>\n",
       "      <th>Range_Km</th>\n",
       "      <th>Efficiency_WhKm</th>\n",
       "      <th>FastCharge_KmH</th>\n",
       "      <th>RapidCharge</th>\n",
       "      <th>PowerTrain</th>\n",
       "      <th>PlugType</th>\n",
       "      <th>BodyStyle</th>\n",
       "      <th>Segment</th>\n",
       "      <th>Seats</th>\n",
       "      <th>PriceEuro</th>\n",
       "    </tr>\n",
       "  </thead>\n",
       "  <tbody>\n",
       "    <tr>\n",
       "      <th>51</th>\n",
       "      <td>Tesla</td>\n",
       "      <td>Roadster</td>\n",
       "      <td>2.1</td>\n",
       "      <td>410</td>\n",
       "      <td>970</td>\n",
       "      <td>206</td>\n",
       "      <td>920</td>\n",
       "      <td>Yes</td>\n",
       "      <td>AWD</td>\n",
       "      <td>Type 2 CCS</td>\n",
       "      <td>Cabrio</td>\n",
       "      <td>S</td>\n",
       "      <td>4</td>\n",
       "      <td>215000</td>\n",
       "    </tr>\n",
       "    <tr>\n",
       "      <th>33</th>\n",
       "      <td>Tesla</td>\n",
       "      <td>Cybertruck Tri Motor</td>\n",
       "      <td>3.0</td>\n",
       "      <td>210</td>\n",
       "      <td>750</td>\n",
       "      <td>267</td>\n",
       "      <td>710</td>\n",
       "      <td>Yes</td>\n",
       "      <td>AWD</td>\n",
       "      <td>Type 2 CCS</td>\n",
       "      <td>Pickup</td>\n",
       "      <td>N</td>\n",
       "      <td>6</td>\n",
       "      <td>75000</td>\n",
       "    </tr>\n",
       "    <tr>\n",
       "      <th>40</th>\n",
       "      <td>Tesla</td>\n",
       "      <td>Model S Long Range</td>\n",
       "      <td>3.8</td>\n",
       "      <td>250</td>\n",
       "      <td>515</td>\n",
       "      <td>184</td>\n",
       "      <td>560</td>\n",
       "      <td>Yes</td>\n",
       "      <td>AWD</td>\n",
       "      <td>Type 2</td>\n",
       "      <td>Liftback</td>\n",
       "      <td>F</td>\n",
       "      <td>5</td>\n",
       "      <td>79990</td>\n",
       "    </tr>\n",
       "    <tr>\n",
       "      <th>59</th>\n",
       "      <td>Tesla</td>\n",
       "      <td>Model S Performance</td>\n",
       "      <td>2.5</td>\n",
       "      <td>261</td>\n",
       "      <td>505</td>\n",
       "      <td>188</td>\n",
       "      <td>550</td>\n",
       "      <td>Yes</td>\n",
       "      <td>AWD</td>\n",
       "      <td>Type 2</td>\n",
       "      <td>Liftback</td>\n",
       "      <td>F</td>\n",
       "      <td>5</td>\n",
       "      <td>96990</td>\n",
       "    </tr>\n",
       "    <tr>\n",
       "      <th>67</th>\n",
       "      <td>Tesla</td>\n",
       "      <td>Cybertruck Dual Motor</td>\n",
       "      <td>5.0</td>\n",
       "      <td>190</td>\n",
       "      <td>460</td>\n",
       "      <td>261</td>\n",
       "      <td>710</td>\n",
       "      <td>Yes</td>\n",
       "      <td>AWD</td>\n",
       "      <td>Type 2 CCS</td>\n",
       "      <td>Pickup</td>\n",
       "      <td>N</td>\n",
       "      <td>6</td>\n",
       "      <td>55000</td>\n",
       "    </tr>\n",
       "    <tr>\n",
       "      <th>0</th>\n",
       "      <td>Tesla</td>\n",
       "      <td>Model 3 Long Range Dual Motor</td>\n",
       "      <td>4.6</td>\n",
       "      <td>233</td>\n",
       "      <td>450</td>\n",
       "      <td>161</td>\n",
       "      <td>940</td>\n",
       "      <td>Yes</td>\n",
       "      <td>AWD</td>\n",
       "      <td>Type 2 CCS</td>\n",
       "      <td>Sedan</td>\n",
       "      <td>D</td>\n",
       "      <td>5</td>\n",
       "      <td>55480</td>\n",
       "    </tr>\n",
       "    <tr>\n",
       "      <th>54</th>\n",
       "      <td>Tesla</td>\n",
       "      <td>Model X Long Range</td>\n",
       "      <td>4.6</td>\n",
       "      <td>250</td>\n",
       "      <td>450</td>\n",
       "      <td>211</td>\n",
       "      <td>490</td>\n",
       "      <td>Yes</td>\n",
       "      <td>AWD</td>\n",
       "      <td>Type 2</td>\n",
       "      <td>SUV</td>\n",
       "      <td>F</td>\n",
       "      <td>7</td>\n",
       "      <td>85990</td>\n",
       "    </tr>\n",
       "    <tr>\n",
       "      <th>81</th>\n",
       "      <td>Tesla</td>\n",
       "      <td>Model X Performance</td>\n",
       "      <td>2.8</td>\n",
       "      <td>250</td>\n",
       "      <td>440</td>\n",
       "      <td>216</td>\n",
       "      <td>480</td>\n",
       "      <td>Yes</td>\n",
       "      <td>AWD</td>\n",
       "      <td>Type 2</td>\n",
       "      <td>SUV</td>\n",
       "      <td>F</td>\n",
       "      <td>7</td>\n",
       "      <td>102990</td>\n",
       "    </tr>\n",
       "    <tr>\n",
       "      <th>24</th>\n",
       "      <td>Tesla</td>\n",
       "      <td>Model 3 Long Range Performance</td>\n",
       "      <td>3.4</td>\n",
       "      <td>261</td>\n",
       "      <td>435</td>\n",
       "      <td>167</td>\n",
       "      <td>910</td>\n",
       "      <td>Yes</td>\n",
       "      <td>AWD</td>\n",
       "      <td>Type 2 CCS</td>\n",
       "      <td>Sedan</td>\n",
       "      <td>D</td>\n",
       "      <td>5</td>\n",
       "      <td>61480</td>\n",
       "    </tr>\n",
       "    <tr>\n",
       "      <th>21</th>\n",
       "      <td>Tesla</td>\n",
       "      <td>Model Y Long Range Dual Motor</td>\n",
       "      <td>5.1</td>\n",
       "      <td>217</td>\n",
       "      <td>425</td>\n",
       "      <td>171</td>\n",
       "      <td>930</td>\n",
       "      <td>Yes</td>\n",
       "      <td>AWD</td>\n",
       "      <td>Type 2 CCS</td>\n",
       "      <td>SUV</td>\n",
       "      <td>D</td>\n",
       "      <td>7</td>\n",
       "      <td>58620</td>\n",
       "    </tr>\n",
       "    <tr>\n",
       "      <th>61</th>\n",
       "      <td>Tesla</td>\n",
       "      <td>Model Y Long Range Performance</td>\n",
       "      <td>3.7</td>\n",
       "      <td>241</td>\n",
       "      <td>410</td>\n",
       "      <td>177</td>\n",
       "      <td>900</td>\n",
       "      <td>Yes</td>\n",
       "      <td>AWD</td>\n",
       "      <td>Type 2 CCS</td>\n",
       "      <td>SUV</td>\n",
       "      <td>D</td>\n",
       "      <td>7</td>\n",
       "      <td>65620</td>\n",
       "    </tr>\n",
       "    <tr>\n",
       "      <th>86</th>\n",
       "      <td>Tesla</td>\n",
       "      <td>Cybertruck Single Motor</td>\n",
       "      <td>7.0</td>\n",
       "      <td>180</td>\n",
       "      <td>390</td>\n",
       "      <td>256</td>\n",
       "      <td>740</td>\n",
       "      <td>Yes</td>\n",
       "      <td>RWD</td>\n",
       "      <td>Type 2 CCS</td>\n",
       "      <td>Pickup</td>\n",
       "      <td>N</td>\n",
       "      <td>6</td>\n",
       "      <td>45000</td>\n",
       "    </tr>\n",
       "    <tr>\n",
       "      <th>8</th>\n",
       "      <td>Tesla</td>\n",
       "      <td>Model 3 Standard Range Plus</td>\n",
       "      <td>5.6</td>\n",
       "      <td>225</td>\n",
       "      <td>310</td>\n",
       "      <td>153</td>\n",
       "      <td>650</td>\n",
       "      <td>Yes</td>\n",
       "      <td>RWD</td>\n",
       "      <td>Type 2 CCS</td>\n",
       "      <td>Sedan</td>\n",
       "      <td>D</td>\n",
       "      <td>5</td>\n",
       "      <td>46380</td>\n",
       "    </tr>\n",
       "  </tbody>\n",
       "</table>\n",
       "</div>"
      ],
      "text/plain": [
       "    Brand                           Model  AccelSec  TopSpeed_KmH  Range_Km  \\\n",
       "51  Tesla                       Roadster        2.1           410       970   \n",
       "33  Tesla            Cybertruck Tri Motor       3.0           210       750   \n",
       "40  Tesla              Model S Long Range       3.8           250       515   \n",
       "59  Tesla             Model S Performance       2.5           261       505   \n",
       "67  Tesla           Cybertruck Dual Motor       5.0           190       460   \n",
       "0   Tesla   Model 3 Long Range Dual Motor       4.6           233       450   \n",
       "54  Tesla              Model X Long Range       4.6           250       450   \n",
       "81  Tesla             Model X Performance       2.8           250       440   \n",
       "24  Tesla  Model 3 Long Range Performance       3.4           261       435   \n",
       "21  Tesla   Model Y Long Range Dual Motor       5.1           217       425   \n",
       "61  Tesla  Model Y Long Range Performance       3.7           241       410   \n",
       "86  Tesla         Cybertruck Single Motor       7.0           180       390   \n",
       "8   Tesla     Model 3 Standard Range Plus       5.6           225       310   \n",
       "\n",
       "    Efficiency_WhKm FastCharge_KmH RapidCharge PowerTrain    PlugType  \\\n",
       "51              206            920         Yes        AWD  Type 2 CCS   \n",
       "33              267            710         Yes        AWD  Type 2 CCS   \n",
       "40              184            560         Yes        AWD      Type 2   \n",
       "59              188            550         Yes        AWD      Type 2   \n",
       "67              261            710         Yes        AWD  Type 2 CCS   \n",
       "0               161            940         Yes        AWD  Type 2 CCS   \n",
       "54              211            490         Yes        AWD      Type 2   \n",
       "81              216            480         Yes        AWD      Type 2   \n",
       "24              167            910         Yes        AWD  Type 2 CCS   \n",
       "21              171            930         Yes        AWD  Type 2 CCS   \n",
       "61              177            900         Yes        AWD  Type 2 CCS   \n",
       "86              256            740         Yes        RWD  Type 2 CCS   \n",
       "8               153            650         Yes        RWD  Type 2 CCS   \n",
       "\n",
       "   BodyStyle Segment  Seats  PriceEuro  \n",
       "51    Cabrio       S      4     215000  \n",
       "33    Pickup       N      6      75000  \n",
       "40  Liftback       F      5      79990  \n",
       "59  Liftback       F      5      96990  \n",
       "67    Pickup       N      6      55000  \n",
       "0      Sedan       D      5      55480  \n",
       "54       SUV       F      7      85990  \n",
       "81       SUV       F      7     102990  \n",
       "24     Sedan       D      5      61480  \n",
       "21       SUV       D      7      58620  \n",
       "61       SUV       D      7      65620  \n",
       "86    Pickup       N      6      45000  \n",
       "8      Sedan       D      5      46380  "
      ]
     },
     "execution_count": 54,
     "metadata": {},
     "output_type": "execute_result"
    }
   ],
   "source": [
    "## Ejercicio\n",
    "## Generar un histograma de las capacidades de Bateria de los Vehiculos Tesla\n",
    "\n",
    "#dataset londres filtrando solo un la Marca Tesla\n",
    "EV_Tesla = EV_Data[EV_Data['Brand']=='Tesla']\n",
    "EV_Tesla.sort_values('Range_Km', ascending=False)\n"
   ]
  },
  {
   "cell_type": "code",
   "execution_count": 64,
   "metadata": {},
   "outputs": [
    {
     "data": {
      "text/plain": [
       "(array([1., 5., 4., 1., 0., 0., 1., 0., 0., 1.]),\n",
       " array([310., 376., 442., 508., 574., 640., 706., 772., 838., 904., 970.]),\n",
       " <BarContainer object of 10 artists>)"
      ]
     },
     "execution_count": 64,
     "metadata": {},
     "output_type": "execute_result"
    },
    {
     "data": {
      "image/png": "[encoded data removed]",
      "text/plain": [
       "<Figure size 432x288 with 1 Axes>"
      ]
     },
     "metadata": {
      "needs_background": "light"
     },
     "output_type": "display_data"
    }
   ],
   "source": [
    "#Rango màximo de la batería\n",
    "e_max = EV_Tesla['Range_Km']\n",
    "plt.hist(e_max.values, 10) #Divide Min and Max Values into 10 elementes range"
   ]
  },
  {
   "cell_type": "code",
   "execution_count": 56,
   "metadata": {},
   "outputs": [
    {
     "data": {
      "text/plain": [
       "<AxesSubplot:>"
      ]
     },
     "execution_count": 56,
     "metadata": {},
     "output_type": "execute_result"
    },
    {
     "data": {
      "image/png": "[encoded data removed]",
      "text/plain": [
       "<Figure size 432x288 with 1 Axes>"
      ]
     },
     "metadata": {
      "needs_background": "light"
     },
     "output_type": "display_data"
    }
   ],
   "source": [
    "#plot\n",
    "e_max.hist()"
   ]
  },
  {
   "cell_type": "code",
   "execution_count": 57,
   "metadata": {},
   "outputs": [
    {
     "data": {
      "text/plain": [
       "<AxesSubplot:ylabel='Density'>"
      ]
     },
     "execution_count": 57,
     "metadata": {},
     "output_type": "execute_result"
    },
    {
     "data": {
      "image/png": "[encoded data removed]",
      "text/plain": [
       "<Figure size 432x288 with 1 Axes>"
      ]
     },
     "metadata": {
      "needs_background": "light"
     },
     "output_type": "display_data"
    }
   ],
   "source": [
    "e_max.plot.density()"
   ]
  },
  {
   "cell_type": "code",
   "execution_count": 58,
   "metadata": {},
   "outputs": [],
   "source": [
    "#import plotly.express as px"
   ]
  },
  {
   "cell_type": "code",
   "execution_count": 60,
   "metadata": {},
   "outputs": [
    {
     "name": "stdout",
     "output_type": "stream",
     "text": [
      "Requirement already satisfied: plotly in c:\\users\\anton\\anaconda3\\lib\\site-packages (5.11.0)\n",
      "Requirement already satisfied: tenacity>=6.2.0 in c:\\users\\anton\\anaconda3\\lib\\site-packages (from plotly) (8.1.0)\n"
     ]
    }
   ],
   "source": [
    "!pip install plotly\n",
    "#pip install plotly"
   ]
  },
  {
   "cell_type": "markdown",
   "metadata": {},
   "source": [
    "## Plots interactivos: Plotly"
   ]
  },
  {
   "cell_type": "markdown",
   "metadata": {},
   "source": [
    "Existen plots interactivos, donde se puede hacer zoom, seleccionar datos,etc. "
   ]
  },
  {
   "cell_type": "code",
   "execution_count": 65,
   "metadata": {},
   "outputs": [
    {
     "data": {
      "application/vnd.plotly.v1+json": {
       "config": {
        "plotlyServerURL": "https://plot.ly"
       },
       "data": [
        {
         "mode": "lines",
         "name": "Range_Km - lines",
         "type": "scatter",
         "x": [
          "Model 3 Long Range Dual Motor",
          "Model 3 Standard Range Plus",
          "Model Y Long Range Dual Motor",
          "Model 3 Long Range Performance",
          "Cybertruck Tri Motor",
          "Model S Long Range",
          "Roadster ",
          "Model X Long Range",
          "Model S Performance",
          "Model Y Long Range Performance",
          "Cybertruck Dual Motor",
          "Model X Performance",
          "Cybertruck Single Motor"
         ],
         "y": [
          450,
          310,
          425,
          435,
          750,
          515,
          970,
          450,
          505,
          410,
          460,
          440,
          390
         ]
        },
        {
         "mode": "lines+markers",
         "name": "Top Speed - lines+markers",
         "type": "scatter",
         "x": [
          "Model 3 Long Range Dual Motor",
          "Model 3 Standard Range Plus",
          "Model Y Long Range Dual Motor",
          "Model 3 Long Range Performance",
          "Cybertruck Tri Motor",
          "Model S Long Range",
          "Roadster ",
          "Model X Long Range",
          "Model S Performance",
          "Model Y Long Range Performance",
          "Cybertruck Dual Motor",
          "Model X Performance",
          "Cybertruck Single Motor"
         ],
         "y": [
          233,
          225,
          217,
          261,
          210,
          250,
          410,
          250,
          261,
          241,
          190,
          250,
          180
         ]
        }
       ],
       "layout": {
        "template": {
         "data": {
          "bar": [
           {
            "error_x": {
             "color": "#2a3f5f"
            },
            "error_y": {
             "color": "#2a3f5f"
            },
            "marker": {
             "line": {
              "color": "#E5ECF6",
              "width": 0.5
             },
             "pattern": {
              "fillmode": "overlay",
              "size": 10,
              "solidity": 0.2
             }
            },
            "type": "bar"
           }
          ],
          "barpolar": [
           {
            "marker": {
             "line": {
              "color": "#E5ECF6",
              "width": 0.5
             },
             "pattern": {
              "fillmode": "overlay",
              "size": 10,
              "solidity": 0.2
             }
            },
            "type": "barpolar"
           }
          ],
          "carpet": [
           {
            "aaxis": {
             "endlinecolor": "#2a3f5f",
             "gridcolor": "white",
             "linecolor": "white",
             "minorgridcolor": "white",
             "startlinecolor": "#2a3f5f"
            },
            "baxis": {
             "endlinecolor": "#2a3f5f",
             "gridcolor": "white",
             "linecolor": "white",
             "minorgridcolor": "white",
             "startlinecolor": "#2a3f5f"
            },
            "type": "carpet"
           }
          ],
          "choropleth": [
           {
            "colorbar": {
             "outlinewidth": 0,
             "ticks": ""
            },
            "type": "choropleth"
           }
          ],
          "contour": [
           {
            "colorbar": {
             "outlinewidth": 0,
             "ticks": ""
            },
            "colorscale": [
             [
              0,
              "#0d0887"
             ],
             [
              0.1111111111111111,
              "#46039f"
             ],
             [
              0.2222222222222222,
              "#7201a8"
             ],
             [
              0.3333333333333333,
              "#9c179e"
             ],
             [
              0.4444444444444444,
              "#bd3786"
             ],
             [
              0.5555555555555556,
              "#d8576b"
             ],
             [
              0.6666666666666666,
              "#ed7953"
             ],
             [
              0.7777777777777778,
              "#fb9f3a"
             ],
             [
              0.8888888888888888,
              "#fdca26"
             ],
             [
              1,
              "#f0f921"
             ]
            ],
            "type": "contour"
           }
          ],
          "contourcarpet": [
           {
            "colorbar": {
             "outlinewidth": 0,
             "ticks": ""
            },
            "type": "contourcarpet"
           }
          ],
          "heatmap": [
           {
            "colorbar": {
             "outlinewidth": 0,
             "ticks": ""
            },
            "colorscale": [
             [
              0,
              "#0d0887"
             ],
             [
              0.1111111111111111,
              "#46039f"
             ],
             [
              0.2222222222222222,
              "#7201a8"
             ],
             [
              0.3333333333333333,
              "#9c179e"
             ],
             [
              0.4444444444444444,
              "#bd3786"
             ],
             [
              0.5555555555555556,
              "#d8576b"
             ],
             [
              0.6666666666666666,
              "#ed7953"
             ],
             [
              0.7777777777777778,
              "#fb9f3a"
             ],
             [
              0.8888888888888888,
              "#fdca26"
             ],
             [
              1,
              "#f0f921"
             ]
            ],
            "type": "heatmap"
           }
          ],
          "heatmapgl": [
           {
            "colorbar": {
             "outlinewidth": 0,
             "ticks": ""
            },
            "colorscale": [
             [
              0,
              "#0d0887"
             ],
             [
              0.1111111111111111,
              "#46039f"
             ],
             [
              0.2222222222222222,
              "#7201a8"
             ],
             [
              0.3333333333333333,
              "#9c179e"
             ],
             [
              0.4444444444444444,
              "#bd3786"
             ],
             [
              0.5555555555555556,
              "#d8576b"
             ],
             [
              0.6666666666666666,
              "#ed7953"
             ],
             [
              0.7777777777777778,
              "#fb9f3a"
             ],
             [
              0.8888888888888888,
              "#fdca26"
             ],
             [
              1,
              "#f0f921"
             ]
            ],
            "type": "heatmapgl"
           }
          ],
          "histogram": [
           {
            "marker": {
             "pattern": {
              "fillmode": "overlay",
              "size": 10,
              "solidity": 0.2
             }
            },
            "type": "histogram"
           }
          ],
          "histogram2d": [
           {
            "colorbar": {
             "outlinewidth": 0,
             "ticks": ""
            },
            "colorscale": [
             [
              0,
              "#0d0887"
             ],
             [
              0.1111111111111111,
              "#46039f"
             ],
             [
              0.2222222222222222,
              "#7201a8"
             ],
             [
              0.3333333333333333,
              "#9c179e"
             ],
             [
              0.4444444444444444,
              "#bd3786"
             ],
             [
              0.5555555555555556,
              "#d8576b"
             ],
             [
              0.6666666666666666,
              "#ed7953"
             ],
             [
              0.7777777777777778,
              "#fb9f3a"
             ],
             [
              0.8888888888888888,
              "#fdca26"
             ],
             [
              1,
              "#f0f921"
             ]
            ],
            "type": "histogram2d"
           }
          ],
          "histogram2dcontour": [
           {
            "colorbar": {
             "outlinewidth": 0,
             "ticks": ""
            },
            "colorscale": [
             [
              0,
              "#0d0887"
             ],
             [
              0.1111111111111111,
              "#46039f"
             ],
             [
              0.2222222222222222,
              "#7201a8"
             ],
             [
              0.3333333333333333,
              "#9c179e"
             ],
             [
              0.4444444444444444,
              "#bd3786"
             ],
             [
              0.5555555555555556,
              "#d8576b"
             ],
             [
              0.6666666666666666,
              "#ed7953"
             ],
             [
              0.7777777777777778,
              "#fb9f3a"
             ],
             [
              0.8888888888888888,
              "#fdca26"
             ],
             [
              1,
              "#f0f921"
             ]
            ],
            "type": "histogram2dcontour"
           }
          ],
          "mesh3d": [
           {
            "colorbar": {
             "outlinewidth": 0,
             "ticks": ""
            },
            "type": "mesh3d"
           }
          ],
          "parcoords": [
           {
            "line": {
             "colorbar": {
              "outlinewidth": 0,
              "ticks": ""
             }
            },
            "type": "parcoords"
           }
          ],
          "pie": [
           {
            "automargin": true,
            "type": "pie"
           }
          ],
          "scatter": [
           {
            "fillpattern": {
             "fillmode": "overlay",
             "size": 10,
             "solidity": 0.2
            },
            "type": "scatter"
           }
          ],
          "scatter3d": [
           {
            "line": {
             "colorbar": {
              "outlinewidth": 0,
              "ticks": ""
             }
            },
            "marker": {
             "colorbar": {
              "outlinewidth": 0,
              "ticks": ""
             }
            },
            "type": "scatter3d"
           }
          ],
          "scattercarpet": [
           {
            "marker": {
             "colorbar": {
              "outlinewidth": 0,
              "ticks": ""
             }
            },
            "type": "scattercarpet"
           }
          ],
          "scattergeo": [
           {
            "marker": {
             "colorbar": {
              "outlinewidth": 0,
              "ticks": ""
             }
            },
            "type": "scattergeo"
           }
          ],
          "scattergl": [
           {
            "marker": {
             "colorbar": {
              "outlinewidth": 0,
              "ticks": ""
             }
            },
            "type": "scattergl"
           }
          ],
          "scattermapbox": [
           {
            "marker": {
             "colorbar": {
              "outlinewidth": 0,
              "ticks": ""
             }
            },
            "type": "scattermapbox"
           }
          ],
          "scatterpolar": [
           {
            "marker": {
             "colorbar": {
              "outlinewidth": 0,
              "ticks": ""
             }
            },
            "type": "scatterpolar"
           }
          ],
          "scatterpolargl": [
           {
            "marker": {
             "colorbar": {
              "outlinewidth": 0,
              "ticks": ""
             }
            },
            "type": "scatterpolargl"
           }
          ],
          "scatterternary": [
           {
            "marker": {
             "colorbar": {
              "outlinewidth": 0,
              "ticks": ""
             }
            },
            "type": "scatterternary"
           }
          ],
          "surface": [
           {
            "colorbar": {
             "outlinewidth": 0,
             "ticks": ""
            },
            "colorscale": [
             [
              0,
              "#0d0887"
             ],
             [
              0.1111111111111111,
              "#46039f"
             ],
             [
              0.2222222222222222,
              "#7201a8"
             ],
             [
              0.3333333333333333,
              "#9c179e"
             ],
             [
              0.4444444444444444,
              "#bd3786"
             ],
             [
              0.5555555555555556,
              "#d8576b"
             ],
             [
              0.6666666666666666,
              "#ed7953"
             ],
             [
              0.7777777777777778,
              "#fb9f3a"
             ],
             [
              0.8888888888888888,
              "#fdca26"
             ],
             [
              1,
              "#f0f921"
             ]
            ],
            "type": "surface"
           }
          ],
          "table": [
           {
            "cells": {
             "fill": {
              "color": "#EBF0F8"
             },
             "line": {
              "color": "white"
             }
            },
            "header": {
             "fill": {
              "color": "#C8D4E3"
             },
             "line": {
              "color": "white"
             }
            },
            "type": "table"
           }
          ]
         },
         "layout": {
          "annotationdefaults": {
           "arrowcolor": "#2a3f5f",
           "arrowhead": 0,
           "arrowwidth": 1
          },
          "autotypenumbers": "strict",
          "coloraxis": {
           "colorbar": {
            "outlinewidth": 0,
            "ticks": ""
           }
          },
          "colorscale": {
           "diverging": [
            [
             0,
             "#8e0152"
            ],
            [
             0.1,
             "#c51b7d"
            ],
            [
             0.2,
             "#de77ae"
            ],
            [
             0.3,
             "#f1b6da"
            ],
            [
             0.4,
             "#fde0ef"
            ],
            [
             0.5,
             "#f7f7f7"
            ],
            [
             0.6,
             "#e6f5d0"
            ],
            [
             0.7,
             "#b8e186"
            ],
            [
             0.8,
             "#7fbc41"
            ],
            [
             0.9,
             "#4d9221"
            ],
            [
             1,
             "#276419"
            ]
           ],
           "sequential": [
            [
             0,
             "#0d0887"
            ],
            [
             0.1111111111111111,
             "#46039f"
            ],
            [
             0.2222222222222222,
             "#7201a8"
            ],
            [
             0.3333333333333333,
             "#9c179e"
            ],
            [
             0.4444444444444444,
             "#bd3786"
            ],
            [
             0.5555555555555556,
             "#d8576b"
            ],
            [
             0.6666666666666666,
             "#ed7953"
            ],
            [
             0.7777777777777778,
             "#fb9f3a"
            ],
            [
             0.8888888888888888,
             "#fdca26"
            ],
            [
             1,
             "#f0f921"
            ]
           ],
           "sequentialminus": [
            [
             0,
             "#0d0887"
            ],
            [
             0.1111111111111111,
             "#46039f"
            ],
            [
             0.2222222222222222,
             "#7201a8"
            ],
            [
             0.3333333333333333,
             "#9c179e"
            ],
            [
             0.4444444444444444,
             "#bd3786"
            ],
            [
             0.5555555555555556,
             "#d8576b"
            ],
            [
             0.6666666666666666,
             "#ed7953"
            ],
            [
             0.7777777777777778,
             "#fb9f3a"
            ],
            [
             0.8888888888888888,
             "#fdca26"
            ],
            [
             1,
             "#f0f921"
            ]
           ]
          },
          "colorway": [
           "#636efa",
           "#EF553B",
           "#00cc96",
           "#ab63fa",
           "#FFA15A",
           "#19d3f3",
           "#FF6692",
           "#B6E880",
           "#FF97FF",
           "#FECB52"
          ],
          "font": {
           "color": "#2a3f5f"
          },
          "geo": {
           "bgcolor": "white",
           "lakecolor": "white",
           "landcolor": "#E5ECF6",
           "showlakes": true,
           "showland": true,
           "subunitcolor": "white"
          },
          "hoverlabel": {
           "align": "left"
          },
          "hovermode": "closest",
          "mapbox": {
           "style": "light"
          },
          "paper_bgcolor": "white",
          "plot_bgcolor": "#E5ECF6",
          "polar": {
           "angularaxis": {
            "gridcolor": "white",
            "linecolor": "white",
            "ticks": ""
           },
           "bgcolor": "#E5ECF6",
           "radialaxis": {
            "gridcolor": "white",
            "linecolor": "white",
            "ticks": ""
           }
          },
          "scene": {
           "xaxis": {
            "backgroundcolor": "#E5ECF6",
            "gridcolor": "white",
            "gridwidth": 2,
            "linecolor": "white",
            "showbackground": true,
            "ticks": "",
            "zerolinecolor": "white"
           },
           "yaxis": {
            "backgroundcolor": "#E5ECF6",
            "gridcolor": "white",
            "gridwidth": 2,
            "linecolor": "white",
            "showbackground": true,
            "ticks": "",
            "zerolinecolor": "white"
           },
           "zaxis": {
            "backgroundcolor": "#E5ECF6",
            "gridcolor": "white",
            "gridwidth": 2,
            "linecolor": "white",
            "showbackground": true,
            "ticks": "",
            "zerolinecolor": "white"
           }
          },
          "shapedefaults": {
           "line": {
            "color": "#2a3f5f"
           }
          },
          "ternary": {
           "aaxis": {
            "gridcolor": "white",
            "linecolor": "white",
            "ticks": ""
           },
           "baxis": {
            "gridcolor": "white",
            "linecolor": "white",
            "ticks": ""
           },
           "bgcolor": "#E5ECF6",
           "caxis": {
            "gridcolor": "white",
            "linecolor": "white",
            "ticks": ""
           }
          },
          "title": {
           "x": 0.05
          },
          "xaxis": {
           "automargin": true,
           "gridcolor": "white",
           "linecolor": "white",
           "ticks": "",
           "title": {
            "standoff": 15
           },
           "zerolinecolor": "white",
           "zerolinewidth": 2
          },
          "yaxis": {
           "automargin": true,
           "gridcolor": "white",
           "linecolor": "white",
           "ticks": "",
           "title": {
            "standoff": 15
           },
           "zerolinecolor": "white",
           "zerolinewidth": 2
          }
         }
        },
        "title": {
         "text": "Resumen Vehiculos Tesla"
        },
        "xaxis": {
         "title": {
          "text": "Modelos"
         }
        },
        "yaxis": {
         "title": {
          "text": "Km - Km/h"
         }
        }
       }
      },
      "text/html": [
       "<div>                            <div id=\"3c52dd02-b4aa-41a1-839f-02b25d0c4aaf\" class=\"plotly-graph-div\" style=\"height:525px; width:100%;\"></div>            <script type=\"text/javascript\">                require([\"plotly\"], function(Plotly) {                    window.PLOTLYENV=window.PLOTLYENV || {};                                    if (document.getElementById(\"3c52dd02-b4aa-41a1-839f-02b25d0c4aaf\")) {                    Plotly.newPlot(                        \"3c52dd02-b4aa-41a1-839f-02b25d0c4aaf\",                        [{\"mode\":\"lines\",\"name\":\"Range_Km - lines\",\"x\":[\"Model 3 Long Range Dual Motor\",\"Model 3 Standard Range Plus\",\"Model Y Long Range Dual Motor\",\"Model 3 Long Range Performance\",\"Cybertruck Tri Motor\",\"Model S Long Range\",\"Roadster \",\"Model X Long Range\",\"Model S Performance\",\"Model Y Long Range Performance\",\"Cybertruck Dual Motor\",\"Model X Performance\",\"Cybertruck Single Motor\"],\"y\":[450,310,425,435,750,515,970,450,505,410,460,440,390],\"type\":\"scatter\"},{\"mode\":\"lines+markers\",\"name\":\"Top Speed - lines+markers\",\"x\":[\"Model 3 Long Range Dual Motor\",\"Model 3 Standard Range Plus\",\"Model Y Long Range Dual Motor\",\"Model 3 Long Range Performance\",\"Cybertruck Tri Motor\",\"Model S Long Range\",\"Roadster \",\"Model X Long Range\",\"Model S Performance\",\"Model Y Long Range Performance\",\"Cybertruck Dual Motor\",\"Model X Performance\",\"Cybertruck Single Motor\"],\"y\":[233,225,217,261,210,250,410,250,261,241,190,250,180],\"type\":\"scatter\"}],                        {\"template\":{\"data\":{\"histogram2dcontour\":[{\"type\":\"histogram2dcontour\",\"colorbar\":{\"outlinewidth\":0,\"ticks\":\"\"},\"colorscale\":[[0.0,\"#0d0887\"],[0.1111111111111111,\"#46039f\"],[0.2222222222222222,\"#7201a8\"],[0.3333333333333333,\"#9c179e\"],[0.4444444444444444,\"#bd3786\"],[0.5555555555555556,\"#d8576b\"],[0.6666666666666666,\"#ed7953\"],[0.7777777777777778,\"#fb9f3a\"],[0.8888888888888888,\"#fdca26\"],[1.0,\"#f0f921\"]]}],\"choropleth\":[{\"type\":\"choropleth\",\"colorbar\":{\"outlinewidth\":0,\"ticks\":\"\"}}],\"histogram2d\":[{\"type\":\"histogram2d\",\"colorbar\":{\"outlinewidth\":0,\"ticks\":\"\"},\"colorscale\":[[0.0,\"#0d0887\"],[0.1111111111111111,\"#46039f\"],[0.2222222222222222,\"#7201a8\"],[0.3333333333333333,\"#9c179e\"],[0.4444444444444444,\"#bd3786\"],[0.5555555555555556,\"#d8576b\"],[0.6666666666666666,\"#ed7953\"],[0.7777777777777778,\"#fb9f3a\"],[0.8888888888888888,\"#fdca26\"],[1.0,\"#f0f921\"]]}],\"heatmap\":[{\"type\":\"heatmap\",\"colorbar\":{\"outlinewidth\":0,\"ticks\":\"\"},\"colorscale\":[[0.0,\"#0d0887\"],[0.1111111111111111,\"#46039f\"],[0.2222222222222222,\"#7201a8\"],[0.3333333333333333,\"#9c179e\"],[0.4444444444444444,\"#bd3786\"],[0.5555555555555556,\"#d8576b\"],[0.6666666666666666,\"#ed7953\"],[0.7777777777777778,\"#fb9f3a\"],[0.8888888888888888,\"#fdca26\"],[1.0,\"#f0f921\"]]}],\"heatmapgl\":[{\"type\":\"heatmapgl\",\"colorbar\":{\"outlinewidth\":0,\"ticks\":\"\"},\"colorscale\":[[0.0,\"#0d0887\"],[0.1111111111111111,\"#46039f\"],[0.2222222222222222,\"#7201a8\"],[0.3333333333333333,\"#9c179e\"],[0.4444444444444444,\"#bd3786\"],[0.5555555555555556,\"#d8576b\"],[0.6666666666666666,\"#ed7953\"],[0.7777777777777778,\"#fb9f3a\"],[0.8888888888888888,\"#fdca26\"],[1.0,\"#f0f921\"]]}],\"contourcarpet\":[{\"type\":\"contourcarpet\",\"colorbar\":{\"outlinewidth\":0,\"ticks\":\"\"}}],\"contour\":[{\"type\":\"contour\",\"colorbar\":{\"outlinewidth\":0,\"ticks\":\"\"},\"colorscale\":[[0.0,\"#0d0887\"],[0.1111111111111111,\"#46039f\"],[0.2222222222222222,\"#7201a8\"],[0.3333333333333333,\"#9c179e\"],[0.4444444444444444,\"#bd3786\"],[0.5555555555555556,\"#d8576b\"],[0.6666666666666666,\"#ed7953\"],[0.7777777777777778,\"#fb9f3a\"],[0.8888888888888888,\"#fdca26\"],[1.0,\"#f0f921\"]]}],\"surface\":[{\"type\":\"surface\",\"colorbar\":{\"outlinewidth\":0,\"ticks\":\"\"},\"colorscale\":[[0.0,\"#0d0887\"],[0.1111111111111111,\"#46039f\"],[0.2222222222222222,\"#7201a8\"],[0.3333333333333333,\"#9c179e\"],[0.4444444444444444,\"#bd3786\"],[0.5555555555555556,\"#d8576b\"],[0.6666666666666666,\"#ed7953\"],[0.7777777777777778,\"#fb9f3a\"],[0.8888888888888888,\"#fdca26\"],[1.0,\"#f0f921\"]]}],\"mesh3d\":[{\"type\":\"mesh3d\",\"colorbar\":{\"outlinewidth\":0,\"ticks\":\"\"}}],\"scatter\":[{\"fillpattern\":{\"fillmode\":\"overlay\",\"size\":10,\"solidity\":0.2},\"type\":\"scatter\"}],\"parcoords\":[{\"type\":\"parcoords\",\"line\":{\"colorbar\":{\"outlinewidth\":0,\"ticks\":\"\"}}}],\"scatterpolargl\":[{\"type\":\"scatterpolargl\",\"marker\":{\"colorbar\":{\"outlinewidth\":0,\"ticks\":\"\"}}}],\"bar\":[{\"error_x\":{\"color\":\"#2a3f5f\"},\"error_y\":{\"color\":\"#2a3f5f\"},\"marker\":{\"line\":{\"color\":\"#E5ECF6\",\"width\":0.5},\"pattern\":{\"fillmode\":\"overlay\",\"size\":10,\"solidity\":0.2}},\"type\":\"bar\"}],\"scattergeo\":[{\"type\":\"scattergeo\",\"marker\":{\"colorbar\":{\"outlinewidth\":0,\"ticks\":\"\"}}}],\"scatterpolar\":[{\"type\":\"scatterpolar\",\"marker\":{\"colorbar\":{\"outlinewidth\":0,\"ticks\":\"\"}}}],\"histogram\":[{\"marker\":{\"pattern\":{\"fillmode\":\"overlay\",\"size\":10,\"solidity\":0.2}},\"type\":\"histogram\"}],\"scattergl\":[{\"type\":\"scattergl\",\"marker\":{\"colorbar\":{\"outlinewidth\":0,\"ticks\":\"\"}}}],\"scatter3d\":[{\"type\":\"scatter3d\",\"line\":{\"colorbar\":{\"outlinewidth\":0,\"ticks\":\"\"}},\"marker\":{\"colorbar\":{\"outlinewidth\":0,\"ticks\":\"\"}}}],\"scattermapbox\":[{\"type\":\"scattermapbox\",\"marker\":{\"colorbar\":{\"outlinewidth\":0,\"ticks\":\"\"}}}],\"scatterternary\":[{\"type\":\"scatterternary\",\"marker\":{\"colorbar\":{\"outlinewidth\":0,\"ticks\":\"\"}}}],\"scattercarpet\":[{\"type\":\"scattercarpet\",\"marker\":{\"colorbar\":{\"outlinewidth\":0,\"ticks\":\"\"}}}],\"carpet\":[{\"aaxis\":{\"endlinecolor\":\"#2a3f5f\",\"gridcolor\":\"white\",\"linecolor\":\"white\",\"minorgridcolor\":\"white\",\"startlinecolor\":\"#2a3f5f\"},\"baxis\":{\"endlinecolor\":\"#2a3f5f\",\"gridcolor\":\"white\",\"linecolor\":\"white\",\"minorgridcolor\":\"white\",\"startlinecolor\":\"#2a3f5f\"},\"type\":\"carpet\"}],\"table\":[{\"cells\":{\"fill\":{\"color\":\"#EBF0F8\"},\"line\":{\"color\":\"white\"}},\"header\":{\"fill\":{\"color\":\"#C8D4E3\"},\"line\":{\"color\":\"white\"}},\"type\":\"table\"}],\"barpolar\":[{\"marker\":{\"line\":{\"color\":\"#E5ECF6\",\"width\":0.5},\"pattern\":{\"fillmode\":\"overlay\",\"size\":10,\"solidity\":0.2}},\"type\":\"barpolar\"}],\"pie\":[{\"automargin\":true,\"type\":\"pie\"}]},\"layout\":{\"autotypenumbers\":\"strict\",\"colorway\":[\"#636efa\",\"#EF553B\",\"#00cc96\",\"#ab63fa\",\"#FFA15A\",\"#19d3f3\",\"#FF6692\",\"#B6E880\",\"#FF97FF\",\"#FECB52\"],\"font\":{\"color\":\"#2a3f5f\"},\"hovermode\":\"closest\",\"hoverlabel\":{\"align\":\"left\"},\"paper_bgcolor\":\"white\",\"plot_bgcolor\":\"#E5ECF6\",\"polar\":{\"bgcolor\":\"#E5ECF6\",\"angularaxis\":{\"gridcolor\":\"white\",\"linecolor\":\"white\",\"ticks\":\"\"},\"radialaxis\":{\"gridcolor\":\"white\",\"linecolor\":\"white\",\"ticks\":\"\"}},\"ternary\":{\"bgcolor\":\"#E5ECF6\",\"aaxis\":{\"gridcolor\":\"white\",\"linecolor\":\"white\",\"ticks\":\"\"},\"baxis\":{\"gridcolor\":\"white\",\"linecolor\":\"white\",\"ticks\":\"\"},\"caxis\":{\"gridcolor\":\"white\",\"linecolor\":\"white\",\"ticks\":\"\"}},\"coloraxis\":{\"colorbar\":{\"outlinewidth\":0,\"ticks\":\"\"}},\"colorscale\":{\"sequential\":[[0.0,\"#0d0887\"],[0.1111111111111111,\"#46039f\"],[0.2222222222222222,\"#7201a8\"],[0.3333333333333333,\"#9c179e\"],[0.4444444444444444,\"#bd3786\"],[0.5555555555555556,\"#d8576b\"],[0.6666666666666666,\"#ed7953\"],[0.7777777777777778,\"#fb9f3a\"],[0.8888888888888888,\"#fdca26\"],[1.0,\"#f0f921\"]],\"sequentialminus\":[[0.0,\"#0d0887\"],[0.1111111111111111,\"#46039f\"],[0.2222222222222222,\"#7201a8\"],[0.3333333333333333,\"#9c179e\"],[0.4444444444444444,\"#bd3786\"],[0.5555555555555556,\"#d8576b\"],[0.6666666666666666,\"#ed7953\"],[0.7777777777777778,\"#fb9f3a\"],[0.8888888888888888,\"#fdca26\"],[1.0,\"#f0f921\"]],\"diverging\":[[0,\"#8e0152\"],[0.1,\"#c51b7d\"],[0.2,\"#de77ae\"],[0.3,\"#f1b6da\"],[0.4,\"#fde0ef\"],[0.5,\"#f7f7f7\"],[0.6,\"#e6f5d0\"],[0.7,\"#b8e186\"],[0.8,\"#7fbc41\"],[0.9,\"#4d9221\"],[1,\"#276419\"]]},\"xaxis\":{\"gridcolor\":\"white\",\"linecolor\":\"white\",\"ticks\":\"\",\"title\":{\"standoff\":15},\"zerolinecolor\":\"white\",\"automargin\":true,\"zerolinewidth\":2},\"yaxis\":{\"gridcolor\":\"white\",\"linecolor\":\"white\",\"ticks\":\"\",\"title\":{\"standoff\":15},\"zerolinecolor\":\"white\",\"automargin\":true,\"zerolinewidth\":2},\"scene\":{\"xaxis\":{\"backgroundcolor\":\"#E5ECF6\",\"gridcolor\":\"white\",\"linecolor\":\"white\",\"showbackground\":true,\"ticks\":\"\",\"zerolinecolor\":\"white\",\"gridwidth\":2},\"yaxis\":{\"backgroundcolor\":\"#E5ECF6\",\"gridcolor\":\"white\",\"linecolor\":\"white\",\"showbackground\":true,\"ticks\":\"\",\"zerolinecolor\":\"white\",\"gridwidth\":2},\"zaxis\":{\"backgroundcolor\":\"#E5ECF6\",\"gridcolor\":\"white\",\"linecolor\":\"white\",\"showbackground\":true,\"ticks\":\"\",\"zerolinecolor\":\"white\",\"gridwidth\":2}},\"shapedefaults\":{\"line\":{\"color\":\"#2a3f5f\"}},\"annotationdefaults\":{\"arrowcolor\":\"#2a3f5f\",\"arrowhead\":0,\"arrowwidth\":1},\"geo\":{\"bgcolor\":\"white\",\"landcolor\":\"#E5ECF6\",\"subunitcolor\":\"white\",\"showland\":true,\"showlakes\":true,\"lakecolor\":\"white\"},\"title\":{\"x\":0.05},\"mapbox\":{\"style\":\"light\"}}},\"title\":{\"text\":\"Resumen Vehiculos Tesla\"},\"xaxis\":{\"title\":{\"text\":\"Modelos\"}},\"yaxis\":{\"title\":{\"text\":\"Km - Km/h\"}}},                        {\"responsive\": true}                    ).then(function(){\n",
       "                            \n",
       "var gd = document.getElementById('3c52dd02-b4aa-41a1-839f-02b25d0c4aaf');\n",
       "var x = new MutationObserver(function (mutations, observer) {{\n",
       "        var display = window.getComputedStyle(gd).display;\n",
       "        if (!display || display === 'none') {{\n",
       "            console.log([gd, 'removed!']);\n",
       "            Plotly.purge(gd);\n",
       "            observer.disconnect();\n",
       "        }}\n",
       "}});\n",
       "\n",
       "// Listen for the removal of the full notebook cells\n",
       "var notebookContainer = gd.closest('#notebook-container');\n",
       "if (notebookContainer) {{\n",
       "    x.observe(notebookContainer, {childList: true});\n",
       "}}\n",
       "\n",
       "// Listen for the clearing of the current output cell\n",
       "var outputEl = gd.closest('.output');\n",
       "if (outputEl) {{\n",
       "    x.observe(outputEl, {childList: true});\n",
       "}}\n",
       "\n",
       "                        })                };                });            </script>        </div>"
      ]
     },
     "metadata": {},
     "output_type": "display_data"
    }
   ],
   "source": [
    "import plotly.graph_objects as go\n",
    "\n",
    "# Create traces\n",
    "fig = go.Figure()\n",
    "fig.add_trace(go.Scatter(x=EV_Tesla['Model'], y=EV_Tesla['Range_Km'],\n",
    "                    mode='lines',\n",
    "                    name='Range_Km - lines'))\n",
    "fig.add_trace(go.Scatter(x=EV_Tesla['Model'], y=EV_Tesla['TopSpeed_KmH'],\n",
    "                    mode='lines+markers',\n",
    "                    name='Top Speed - lines+markers'))\n",
    "\n",
    "# Edit the layout\n",
    "fig.update_layout(title='Resumen Vehiculos Tesla',\n",
    "                   xaxis_title='Modelos',\n",
    "                   yaxis_title='Km - Km/h')\n",
    "\n",
    "\n",
    "fig.show()"
   ]
  },
  {
   "cell_type": "code",
   "execution_count": 66,
   "metadata": {},
   "outputs": [],
   "source": []
  }
 ],
 "metadata": {
  "kernelspec": {
   "display_name": "Python 3",
   "language": "python",
   "name": "python3"
  },
  "language_info": {
   "codemirror_mode": {
    "name": "ipython",
    "version": 3
   },
   "file_extension": ".py",
   "mimetype": "text/x-python",
   "name": "python",
   "nbconvert_exporter": "python",
   "pygments_lexer": "ipython3",
   "version": "3.8.5"
  },
  "widgets": {
   "state": {},
   "version": "1.1.1"
  }
 },
 "nbformat": 4,
 "nbformat_minor": 1
}
