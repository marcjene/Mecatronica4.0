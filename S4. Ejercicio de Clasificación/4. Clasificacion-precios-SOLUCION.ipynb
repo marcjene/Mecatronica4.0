{
 "cells": [
  {
   "cell_type": "markdown",
   "metadata": {},
   "source": [
    "<img src=\"Figures/top_ML.png\" alt=\"Drawing\" style=\"width: 1000px;\"/>"
   ]
  },
  {
   "cell_type": "markdown",
   "metadata": {},
   "source": [
    "# Aprendizaje supervisado: Clasificación.\n",
    "\n",
    "## *Clasificación binaria de precios de electricidad en el Mercado Diario*"
   ]
  },
  {
   "cell_type": "markdown",
   "metadata": {},
   "source": [
    "**Objetivo:** Imaginando que estamos a medioados de 2020, predecir en qué horas el precio de la electricidad en el Mercado Diario será elevado, siendo la **clase 0** para valores menores a 40 €, y **clase 1** para valores mayores a 40 €.  Se utilizará el contexto y datos históricos del **2020** de la variable target que queremos clasificar y de otros atributos (features) que pueden ayudar a predecir modelo.\n",
    "\n",
    "\n",
    "### Antes de empezar:\n",
    "\n",
    "* En el archivo **S4-data-precios.xlsx** se encuentra el conjunto de datos de entrada de este ejemplo (atributos + etiqueta). \n",
    "* Datos del 2 de enero 2020 al 26 de junio de 2020.\n"
   ]
  },
  {
   "cell_type": "markdown",
   "metadata": {},
   "source": [
    "## **1. Importar librerías y datos**\n"
   ]
  },
  {
   "cell_type": "code",
   "execution_count": 1,
   "metadata": {},
   "outputs": [],
   "source": [
    "# Importamos las librerías\n",
    "import sklearn                                     # Machine Learning Library\n",
    "import pandas as pd                                # Data analysis and manipulation library\n",
    "import matplotlib.pyplot as plt                    # Plot library\n",
    "import numpy as np                                 # For n-dimentional arrays\n",
    "import warnings\n",
    "warnings.filterwarnings('ignore')\n",
    "\n",
    "# Cargamos el conjunto de datos de entrada\n",
    "dataset = pd.read_excel('Data/S4-data-precios.xlsx')"
   ]
  },
  {
   "cell_type": "markdown",
   "metadata": {},
   "source": [
    "## **2. Comprender los datos**\n",
    "\n",
    "Es necesario visualizar y comprender los datos con los que vamos a trabajar, así como conocer sus características. \n",
    "\n",
    "1. ¿Cuántos datos hay? ¿Cuántos atributos hay en los datos?  \n",
    "2. ¿Qué significan?\n",
    "3. ¿Falta algún dato?\n",
    "4. ¿Están balanceadas las etiquetas? \n",
    "4. Resumen estadístico del conjunto de datos de entrada."
   ]
  },
  {
   "cell_type": "markdown",
   "metadata": {},
   "source": [
    "**1. ¿Cuántos datos hay?**  \n",
    "Tenemos 4223 filas y 14 columnas\n",
    "\n",
    "**¿Cuántos atributos hay en los datos?** \n",
    "Hay 13 posibles \"features\" y 1 columna que será el \"target\" o \"etiqueta\" (lo que queremos predecir). "
   ]
  },
  {
   "cell_type": "code",
   "execution_count": 2,
   "metadata": {},
   "outputs": [
    {
     "data": {
      "text/plain": [
       "(4223, 14)"
      ]
     },
     "execution_count": 2,
     "metadata": {},
     "output_type": "execute_result"
    }
   ],
   "source": [
    "# Filasxcolumnas de los datos\n",
    "dataset.shape"
   ]
  },
  {
   "cell_type": "code",
   "execution_count": 3,
   "metadata": {},
   "outputs": [
    {
     "data": {
      "text/html": [
       "<div>\n",
       "<style scoped>\n",
       "    .dataframe tbody tr th:only-of-type {\n",
       "        vertical-align: middle;\n",
       "    }\n",
       "\n",
       "    .dataframe tbody tr th {\n",
       "        vertical-align: top;\n",
       "    }\n",
       "\n",
       "    .dataframe thead th {\n",
       "        text-align: right;\n",
       "    }\n",
       "</style>\n",
       "<table border=\"1\" class=\"dataframe\">\n",
       "  <thead>\n",
       "    <tr style=\"text-align: right;\">\n",
       "      <th></th>\n",
       "      <th>hora</th>\n",
       "      <th>dia</th>\n",
       "      <th>mes</th>\n",
       "      <th>hidraul</th>\n",
       "      <th>eolica</th>\n",
       "      <th>demanda</th>\n",
       "      <th>ciclocomb</th>\n",
       "      <th>cogener</th>\n",
       "      <th>nuclear</th>\n",
       "      <th>carbon</th>\n",
       "      <th>biomas</th>\n",
       "      <th>precio-elect-dia-anterior</th>\n",
       "      <th>MIBGAS-dia-anterior</th>\n",
       "      <th>precio</th>\n",
       "    </tr>\n",
       "  </thead>\n",
       "  <tbody>\n",
       "    <tr>\n",
       "      <th>0</th>\n",
       "      <td>0</td>\n",
       "      <td>2</td>\n",
       "      <td>1</td>\n",
       "      <td>5221.1</td>\n",
       "      <td>1639.0</td>\n",
       "      <td>13290.5</td>\n",
       "      <td>2500.5</td>\n",
       "      <td>2493.8</td>\n",
       "      <td>7093.6</td>\n",
       "      <td>430.0</td>\n",
       "      <td>270</td>\n",
       "      <td>41.88</td>\n",
       "      <td>11.27</td>\n",
       "      <td>menor que  40 euros</td>\n",
       "    </tr>\n",
       "    <tr>\n",
       "      <th>1</th>\n",
       "      <td>1</td>\n",
       "      <td>2</td>\n",
       "      <td>1</td>\n",
       "      <td>4928.5</td>\n",
       "      <td>1568.4</td>\n",
       "      <td>12720.1</td>\n",
       "      <td>2411.5</td>\n",
       "      <td>2447.8</td>\n",
       "      <td>7091.6</td>\n",
       "      <td>430.0</td>\n",
       "      <td>243</td>\n",
       "      <td>38.60</td>\n",
       "      <td>11.27</td>\n",
       "      <td>menor que  40 euros</td>\n",
       "    </tr>\n",
       "    <tr>\n",
       "      <th>2</th>\n",
       "      <td>2</td>\n",
       "      <td>2</td>\n",
       "      <td>1</td>\n",
       "      <td>4860.3</td>\n",
       "      <td>1566.3</td>\n",
       "      <td>12558.6</td>\n",
       "      <td>2307.5</td>\n",
       "      <td>2446.6</td>\n",
       "      <td>7092.6</td>\n",
       "      <td>417.0</td>\n",
       "      <td>362</td>\n",
       "      <td>36.55</td>\n",
       "      <td>11.27</td>\n",
       "      <td>menor que  40 euros</td>\n",
       "    </tr>\n",
       "    <tr>\n",
       "      <th>3</th>\n",
       "      <td>3</td>\n",
       "      <td>2</td>\n",
       "      <td>1</td>\n",
       "      <td>4980.8</td>\n",
       "      <td>1781.5</td>\n",
       "      <td>12837.5</td>\n",
       "      <td>2307.5</td>\n",
       "      <td>2436.7</td>\n",
       "      <td>7092.6</td>\n",
       "      <td>387.0</td>\n",
       "      <td>369</td>\n",
       "      <td>32.32</td>\n",
       "      <td>11.27</td>\n",
       "      <td>menor que  40 euros</td>\n",
       "    </tr>\n",
       "    <tr>\n",
       "      <th>4</th>\n",
       "      <td>4</td>\n",
       "      <td>2</td>\n",
       "      <td>1</td>\n",
       "      <td>4984.3</td>\n",
       "      <td>1998.2</td>\n",
       "      <td>13100.9</td>\n",
       "      <td>2374.2</td>\n",
       "      <td>2448.3</td>\n",
       "      <td>7094.6</td>\n",
       "      <td>387.0</td>\n",
       "      <td>413</td>\n",
       "      <td>30.85</td>\n",
       "      <td>11.27</td>\n",
       "      <td>menor que  40 euros</td>\n",
       "    </tr>\n",
       "  </tbody>\n",
       "</table>\n",
       "</div>"
      ],
      "text/plain": [
       "   hora  dia  mes  hidraul  eolica  demanda  ciclocomb  cogener  nuclear  \\\n",
       "0     0    2    1   5221.1  1639.0  13290.5     2500.5   2493.8   7093.6   \n",
       "1     1    2    1   4928.5  1568.4  12720.1     2411.5   2447.8   7091.6   \n",
       "2     2    2    1   4860.3  1566.3  12558.6     2307.5   2446.6   7092.6   \n",
       "3     3    2    1   4980.8  1781.5  12837.5     2307.5   2436.7   7092.6   \n",
       "4     4    2    1   4984.3  1998.2  13100.9     2374.2   2448.3   7094.6   \n",
       "\n",
       "   carbon  biomas  precio-elect-dia-anterior  MIBGAS-dia-anterior  \\\n",
       "0   430.0     270                      41.88                11.27   \n",
       "1   430.0     243                      38.60                11.27   \n",
       "2   417.0     362                      36.55                11.27   \n",
       "3   387.0     369                      32.32                11.27   \n",
       "4   387.0     413                      30.85                11.27   \n",
       "\n",
       "                precio  \n",
       "0  menor que  40 euros  \n",
       "1  menor que  40 euros  \n",
       "2  menor que  40 euros  \n",
       "3  menor que  40 euros  \n",
       "4  menor que  40 euros  "
      ]
     },
     "execution_count": 3,
     "metadata": {},
     "output_type": "execute_result"
    }
   ],
   "source": [
    "# Observa las primeras 5 filas de los datos\n",
    "dataset.head()"
   ]
  },
  {
   "cell_type": "markdown",
   "metadata": {},
   "source": [
    "**2. ¿Qué significan?** \n",
    "* ***[Hora, Día, Mes]*** Hora, día y mes de cada una de las observaciones. Son valores enteros *int64*.\n",
    "\n",
    "* ***[Hidraul, Eolica, Ciclocomb, Cogener, Nuclear, Carbon, Biomas]*** se refiere a la energía programada MW/hora del programa PVP en el mercado diario por tipo de producción del día anterior.  Son valores reales *float*.\n",
    "\n",
    "* ***[Demanda]*** es la totalidad de energía programada en el mercado diario eléctrico en España el día anterior.  Son valores reales *float*.\n",
    "\n",
    "* ***[precio-elect-dia-anterior]*** precio de la electricidad el día anterior. Son valores reales *float*.\n",
    "\n",
    "* ***[MIBGAS-dia-anterior]*** precio del gas natural el día anterior. Son valores reales *float*.\n",
    "\n",
    "* ***[Precio]*** son las etiquetas de precio que queremos predecir. Son valores *string*. Tendremos que transformarlas en número. \n",
    "\n",
    "\n"
   ]
  },
  {
   "cell_type": "markdown",
   "metadata": {},
   "source": [
    "**[INFO]** El .dtypes nos ayuda a identificar qué columnas habrá que transformar ya que son de tipo string. También detecta las columnas de tipo datetime (fecha y hora). Como habíamos comentado en el punto anterior, la columna \"precio\" es de tipo object (es decir, string). "
   ]
  },
  {
   "cell_type": "code",
   "execution_count": 4,
   "metadata": {
    "scrolled": true
   },
   "outputs": [
    {
     "data": {
      "text/plain": [
       "hora                           int64\n",
       "dia                            int64\n",
       "mes                            int64\n",
       "hidraul                      float64\n",
       "eolica                       float64\n",
       "demanda                      float64\n",
       "ciclocomb                    float64\n",
       "cogener                      float64\n",
       "nuclear                      float64\n",
       "carbon                       float64\n",
       "biomas                         int64\n",
       "precio-elect-dia-anterior    float64\n",
       "MIBGAS-dia-anterior          float64\n",
       "precio                        object\n",
       "dtype: object"
      ]
     },
     "execution_count": 4,
     "metadata": {},
     "output_type": "execute_result"
    }
   ],
   "source": [
    "# Formato de los datos .info()\n",
    "dataset.dtypes"
   ]
  },
  {
   "cell_type": "markdown",
   "metadata": {},
   "source": [
    "**3. ¿Falta algún dato? De ser así, indica cuántos y en que atributo** \n",
    "\n",
    "Faltan datos en las columnas *demanda* y *carbón*. Por lo tanto, deberemos de imputarle un valor a estas celdas o eliminar toda la fila (incluyendo el resto de columnas). \n",
    "\n"
   ]
  },
  {
   "cell_type": "code",
   "execution_count": 5,
   "metadata": {
    "scrolled": true
   },
   "outputs": [
    {
     "data": {
      "text/plain": [
       "hora                         0\n",
       "dia                          0\n",
       "mes                          0\n",
       "hidraul                      0\n",
       "eolica                       0\n",
       "demanda                      3\n",
       "ciclocomb                    0\n",
       "cogener                      0\n",
       "nuclear                      0\n",
       "carbon                       3\n",
       "biomas                       0\n",
       "precio-elect-dia-anterior    0\n",
       "MIBGAS-dia-anterior          0\n",
       "precio                       0\n",
       "dtype: int64"
      ]
     },
     "execution_count": 5,
     "metadata": {},
     "output_type": "execute_result"
    }
   ],
   "source": [
    "# Comprobar si falta algún dato y en qué atributo\n",
    "dataset.isna().sum()"
   ]
  },
  {
   "cell_type": "code",
   "execution_count": 6,
   "metadata": {
    "scrolled": true
   },
   "outputs": [
    {
     "data": {
      "text/html": [
       "<div>\n",
       "<style scoped>\n",
       "    .dataframe tbody tr th:only-of-type {\n",
       "        vertical-align: middle;\n",
       "    }\n",
       "\n",
       "    .dataframe tbody tr th {\n",
       "        vertical-align: top;\n",
       "    }\n",
       "\n",
       "    .dataframe thead th {\n",
       "        text-align: right;\n",
       "    }\n",
       "</style>\n",
       "<table border=\"1\" class=\"dataframe\">\n",
       "  <thead>\n",
       "    <tr style=\"text-align: right;\">\n",
       "      <th></th>\n",
       "      <th>hora</th>\n",
       "      <th>dia</th>\n",
       "      <th>mes</th>\n",
       "      <th>hidraul</th>\n",
       "      <th>eolica</th>\n",
       "      <th>demanda</th>\n",
       "      <th>ciclocomb</th>\n",
       "      <th>cogener</th>\n",
       "      <th>nuclear</th>\n",
       "      <th>carbon</th>\n",
       "      <th>biomas</th>\n",
       "      <th>precio-elect-dia-anterior</th>\n",
       "      <th>MIBGAS-dia-anterior</th>\n",
       "      <th>precio</th>\n",
       "    </tr>\n",
       "  </thead>\n",
       "  <tbody>\n",
       "    <tr>\n",
       "      <th>2</th>\n",
       "      <td>2</td>\n",
       "      <td>2</td>\n",
       "      <td>1</td>\n",
       "      <td>4860.3</td>\n",
       "      <td>1566.3</td>\n",
       "      <td>12558.6</td>\n",
       "      <td>2307.5</td>\n",
       "      <td>2446.6</td>\n",
       "      <td>7092.6</td>\n",
       "      <td>417.0</td>\n",
       "      <td>362</td>\n",
       "      <td>36.55</td>\n",
       "      <td>11.27</td>\n",
       "      <td>menor que  40 euros</td>\n",
       "    </tr>\n",
       "    <tr>\n",
       "      <th>3</th>\n",
       "      <td>3</td>\n",
       "      <td>2</td>\n",
       "      <td>1</td>\n",
       "      <td>4980.8</td>\n",
       "      <td>1781.5</td>\n",
       "      <td>12837.5</td>\n",
       "      <td>2307.5</td>\n",
       "      <td>2436.7</td>\n",
       "      <td>7092.6</td>\n",
       "      <td>387.0</td>\n",
       "      <td>369</td>\n",
       "      <td>32.32</td>\n",
       "      <td>11.27</td>\n",
       "      <td>menor que  40 euros</td>\n",
       "    </tr>\n",
       "  </tbody>\n",
       "</table>\n",
       "</div>"
      ],
      "text/plain": [
       "   hora  dia  mes  hidraul  eolica  demanda  ciclocomb  cogener  nuclear  \\\n",
       "2     2    2    1   4860.3  1566.3  12558.6     2307.5   2446.6   7092.6   \n",
       "3     3    2    1   4980.8  1781.5  12837.5     2307.5   2436.7   7092.6   \n",
       "\n",
       "   carbon  biomas  precio-elect-dia-anterior  MIBGAS-dia-anterior  \\\n",
       "2   417.0     362                      36.55                11.27   \n",
       "3   387.0     369                      32.32                11.27   \n",
       "\n",
       "                precio  \n",
       "2  menor que  40 euros  \n",
       "3  menor que  40 euros  "
      ]
     },
     "execution_count": 6,
     "metadata": {},
     "output_type": "execute_result"
    }
   ],
   "source": [
    "dataset.drop([0, 1], axis=0).head(2) #Eliminar columnas de dataframe axis = 0 para filas y axis = 1 para columnas."
   ]
  },
  {
   "cell_type": "code",
   "execution_count": 7,
   "metadata": {
    "scrolled": true
   },
   "outputs": [
    {
     "data": {
      "text/html": [
       "<div>\n",
       "<style scoped>\n",
       "    .dataframe tbody tr th:only-of-type {\n",
       "        vertical-align: middle;\n",
       "    }\n",
       "\n",
       "    .dataframe tbody tr th {\n",
       "        vertical-align: top;\n",
       "    }\n",
       "\n",
       "    .dataframe thead th {\n",
       "        text-align: right;\n",
       "    }\n",
       "</style>\n",
       "<table border=\"1\" class=\"dataframe\">\n",
       "  <thead>\n",
       "    <tr style=\"text-align: right;\">\n",
       "      <th></th>\n",
       "      <th>hora</th>\n",
       "      <th>dia</th>\n",
       "      <th>mes</th>\n",
       "      <th>hidraul</th>\n",
       "      <th>eolica</th>\n",
       "      <th>demanda</th>\n",
       "      <th>ciclocomb</th>\n",
       "      <th>cogener</th>\n",
       "      <th>nuclear</th>\n",
       "      <th>carbon</th>\n",
       "      <th>biomas</th>\n",
       "      <th>precio-elect-dia-anterior</th>\n",
       "      <th>MIBGAS-dia-anterior</th>\n",
       "      <th>precio</th>\n",
       "    </tr>\n",
       "  </thead>\n",
       "  <tbody>\n",
       "    <tr>\n",
       "      <th>0</th>\n",
       "      <td>0</td>\n",
       "      <td>2</td>\n",
       "      <td>1</td>\n",
       "      <td>5221.1</td>\n",
       "      <td>1639.0</td>\n",
       "      <td>13290.5</td>\n",
       "      <td>2500.5</td>\n",
       "      <td>2493.8</td>\n",
       "      <td>7093.6</td>\n",
       "      <td>430.0</td>\n",
       "      <td>270</td>\n",
       "      <td>41.88</td>\n",
       "      <td>11.27</td>\n",
       "      <td>menor que  40 euros</td>\n",
       "    </tr>\n",
       "    <tr>\n",
       "      <th>1</th>\n",
       "      <td>1</td>\n",
       "      <td>2</td>\n",
       "      <td>1</td>\n",
       "      <td>4928.5</td>\n",
       "      <td>1568.4</td>\n",
       "      <td>12720.1</td>\n",
       "      <td>2411.5</td>\n",
       "      <td>2447.8</td>\n",
       "      <td>7091.6</td>\n",
       "      <td>430.0</td>\n",
       "      <td>243</td>\n",
       "      <td>38.60</td>\n",
       "      <td>11.27</td>\n",
       "      <td>menor que  40 euros</td>\n",
       "    </tr>\n",
       "  </tbody>\n",
       "</table>\n",
       "</div>"
      ],
      "text/plain": [
       "   hora  dia  mes  hidraul  eolica  demanda  ciclocomb  cogener  nuclear  \\\n",
       "0     0    2    1   5221.1  1639.0  13290.5     2500.5   2493.8   7093.6   \n",
       "1     1    2    1   4928.5  1568.4  12720.1     2411.5   2447.8   7091.6   \n",
       "\n",
       "   carbon  biomas  precio-elect-dia-anterior  MIBGAS-dia-anterior  \\\n",
       "0   430.0     270                      41.88                11.27   \n",
       "1   430.0     243                      38.60                11.27   \n",
       "\n",
       "                precio  \n",
       "0  menor que  40 euros  \n",
       "1  menor que  40 euros  "
      ]
     },
     "execution_count": 7,
     "metadata": {},
     "output_type": "execute_result"
    }
   ],
   "source": [
    "dataset.dropna(axis=0).head(2) #Elimina de forma automatica las filas o columnas con na values. "
   ]
  },
  {
   "cell_type": "markdown",
   "metadata": {},
   "source": [
    "**4. ¿Están balanceadas las etiquetas?** \n",
    "\n",
    "Las etiquetas no están balanceadas. Si los resultados de train y test no fueran satisfactorios, se podría utilizar alguna de las tácticas para balancear las clases (over-sampling, under-sampling). En este caso, la mejor opción sería oversampling de la clase minoritaria, ya que no hay muchas muestras disponibles. "
   ]
  },
  {
   "cell_type": "code",
   "execution_count": 8,
   "metadata": {},
   "outputs": [
    {
     "name": "stdout",
     "output_type": "stream",
     "text": [
      "menor que  40 euros    3507\n",
      "mayor que  40 euros     716\n",
      "Name: precio, dtype: int64\n"
     ]
    },
    {
     "data": {
      "text/plain": [
       "<AxesSubplot:ylabel='precio'>"
      ]
     },
     "execution_count": 8,
     "metadata": {},
     "output_type": "execute_result"
    },
    {
     "data": {
      "image/png": "[encoded data removed]",
      "text/plain": [
       "<Figure size 432x288 with 1 Axes>"
      ]
     },
     "metadata": {},
     "output_type": "display_data"
    }
   ],
   "source": [
    "# Comprobar si las etiquetas están desvalanceadas\n",
    "balance_clases = dataset['precio'].value_counts()\n",
    "print(balance_clases)\n",
    "\n",
    "# Gráfico del balance de clases\n",
    "balance_clases.plot.pie()"
   ]
  },
  {
   "cell_type": "markdown",
   "metadata": {},
   "source": [
    "**5. Resumen estadístico del conjunto de datos de entrada:** La estadística descriptiva recolecta y analiza el conjunto de datos de entrada con el objetivo de describir las características y comportamientos de este conjunto mediante las siguientes medidas resumen: número total de observaciones (count), media (mean), desviación estándar (std), valor mínimo (min), valor máximo (max) y los valores de los diferentes cuartiles (25%, 50%, 75%)."
   ]
  },
  {
   "cell_type": "code",
   "execution_count": 9,
   "metadata": {},
   "outputs": [
    {
     "data": {
      "text/html": [
       "<div>\n",
       "<style scoped>\n",
       "    .dataframe tbody tr th:only-of-type {\n",
       "        vertical-align: middle;\n",
       "    }\n",
       "\n",
       "    .dataframe tbody tr th {\n",
       "        vertical-align: top;\n",
       "    }\n",
       "\n",
       "    .dataframe thead th {\n",
       "        text-align: right;\n",
       "    }\n",
       "</style>\n",
       "<table border=\"1\" class=\"dataframe\">\n",
       "  <thead>\n",
       "    <tr style=\"text-align: right;\">\n",
       "      <th></th>\n",
       "      <th>hora</th>\n",
       "      <th>dia</th>\n",
       "      <th>mes</th>\n",
       "      <th>hidraul</th>\n",
       "      <th>eolica</th>\n",
       "      <th>demanda</th>\n",
       "      <th>ciclocomb</th>\n",
       "      <th>cogener</th>\n",
       "      <th>nuclear</th>\n",
       "      <th>carbon</th>\n",
       "      <th>biomas</th>\n",
       "      <th>precio-elect-dia-anterior</th>\n",
       "      <th>MIBGAS-dia-anterior</th>\n",
       "    </tr>\n",
       "  </thead>\n",
       "  <tbody>\n",
       "    <tr>\n",
       "      <th>count</th>\n",
       "      <td>4223.000000</td>\n",
       "      <td>4223.000000</td>\n",
       "      <td>4223.000000</td>\n",
       "      <td>4223.000000</td>\n",
       "      <td>4223.000000</td>\n",
       "      <td>4220.000000</td>\n",
       "      <td>4223.000000</td>\n",
       "      <td>4223.000000</td>\n",
       "      <td>4223.000000</td>\n",
       "      <td>4220.000000</td>\n",
       "      <td>4223.000000</td>\n",
       "      <td>4223.000000</td>\n",
       "      <td>4223.000000</td>\n",
       "    </tr>\n",
       "    <tr>\n",
       "      <th>mean</th>\n",
       "      <td>11.502250</td>\n",
       "      <td>15.411556</td>\n",
       "      <td>3.443287</td>\n",
       "      <td>3090.683495</td>\n",
       "      <td>6142.901373</td>\n",
       "      <td>20223.538578</td>\n",
       "      <td>2337.097135</td>\n",
       "      <td>3059.788942</td>\n",
       "      <td>6019.210466</td>\n",
       "      <td>674.060308</td>\n",
       "      <td>374.144684</td>\n",
       "      <td>28.813694</td>\n",
       "      <td>8.288518</td>\n",
       "    </tr>\n",
       "    <tr>\n",
       "      <th>std</th>\n",
       "      <td>6.922282</td>\n",
       "      <td>8.598094</td>\n",
       "      <td>1.674775</td>\n",
       "      <td>1398.795645</td>\n",
       "      <td>3488.275912</td>\n",
       "      <td>3945.242127</td>\n",
       "      <td>1488.503359</td>\n",
       "      <td>282.994453</td>\n",
       "      <td>1212.068728</td>\n",
       "      <td>444.206117</td>\n",
       "      <td>102.061931</td>\n",
       "      <td>10.929161</td>\n",
       "      <td>2.347374</td>\n",
       "    </tr>\n",
       "    <tr>\n",
       "      <th>min</th>\n",
       "      <td>0.000000</td>\n",
       "      <td>1.000000</td>\n",
       "      <td>1.000000</td>\n",
       "      <td>856.600000</td>\n",
       "      <td>614.400000</td>\n",
       "      <td>0.000000</td>\n",
       "      <td>460.000000</td>\n",
       "      <td>1825.500000</td>\n",
       "      <td>3410.200000</td>\n",
       "      <td>0.000000</td>\n",
       "      <td>197.000000</td>\n",
       "      <td>1.020000</td>\n",
       "      <td>4.170000</td>\n",
       "    </tr>\n",
       "    <tr>\n",
       "      <th>25%</th>\n",
       "      <td>6.000000</td>\n",
       "      <td>8.000000</td>\n",
       "      <td>2.000000</td>\n",
       "      <td>1924.150000</td>\n",
       "      <td>3447.650000</td>\n",
       "      <td>17123.000000</td>\n",
       "      <td>1255.600000</td>\n",
       "      <td>2909.150000</td>\n",
       "      <td>4886.200000</td>\n",
       "      <td>413.000000</td>\n",
       "      <td>287.000000</td>\n",
       "      <td>21.080000</td>\n",
       "      <td>6.040000</td>\n",
       "    </tr>\n",
       "    <tr>\n",
       "      <th>50%</th>\n",
       "      <td>12.000000</td>\n",
       "      <td>15.000000</td>\n",
       "      <td>3.000000</td>\n",
       "      <td>2760.400000</td>\n",
       "      <td>5394.900000</td>\n",
       "      <td>20094.500000</td>\n",
       "      <td>1962.600000</td>\n",
       "      <td>3089.300000</td>\n",
       "      <td>6730.500000</td>\n",
       "      <td>530.000000</td>\n",
       "      <td>373.000000</td>\n",
       "      <td>28.410000</td>\n",
       "      <td>8.180000</td>\n",
       "    </tr>\n",
       "    <tr>\n",
       "      <th>75%</th>\n",
       "      <td>17.500000</td>\n",
       "      <td>23.000000</td>\n",
       "      <td>5.000000</td>\n",
       "      <td>4126.450000</td>\n",
       "      <td>8229.350000</td>\n",
       "      <td>22871.725000</td>\n",
       "      <td>2893.350000</td>\n",
       "      <td>3238.150000</td>\n",
       "      <td>7089.500000</td>\n",
       "      <td>973.000000</td>\n",
       "      <td>462.000000</td>\n",
       "      <td>36.670000</td>\n",
       "      <td>9.975000</td>\n",
       "    </tr>\n",
       "    <tr>\n",
       "      <th>max</th>\n",
       "      <td>23.000000</td>\n",
       "      <td>31.000000</td>\n",
       "      <td>6.000000</td>\n",
       "      <td>7411.900000</td>\n",
       "      <td>18996.300000</td>\n",
       "      <td>35458.900000</td>\n",
       "      <td>9078.400000</td>\n",
       "      <td>3696.800000</td>\n",
       "      <td>7100.500000</td>\n",
       "      <td>2065.000000</td>\n",
       "      <td>551.000000</td>\n",
       "      <td>62.480000</td>\n",
       "      <td>14.480000</td>\n",
       "    </tr>\n",
       "  </tbody>\n",
       "</table>\n",
       "</div>"
      ],
      "text/plain": [
       "              hora          dia          mes      hidraul        eolica  \\\n",
       "count  4223.000000  4223.000000  4223.000000  4223.000000   4223.000000   \n",
       "mean     11.502250    15.411556     3.443287  3090.683495   6142.901373   \n",
       "std       6.922282     8.598094     1.674775  1398.795645   3488.275912   \n",
       "min       0.000000     1.000000     1.000000   856.600000    614.400000   \n",
       "25%       6.000000     8.000000     2.000000  1924.150000   3447.650000   \n",
       "50%      12.000000    15.000000     3.000000  2760.400000   5394.900000   \n",
       "75%      17.500000    23.000000     5.000000  4126.450000   8229.350000   \n",
       "max      23.000000    31.000000     6.000000  7411.900000  18996.300000   \n",
       "\n",
       "            demanda    ciclocomb      cogener      nuclear       carbon  \\\n",
       "count   4220.000000  4223.000000  4223.000000  4223.000000  4220.000000   \n",
       "mean   20223.538578  2337.097135  3059.788942  6019.210466   674.060308   \n",
       "std     3945.242127  1488.503359   282.994453  1212.068728   444.206117   \n",
       "min        0.000000   460.000000  1825.500000  3410.200000     0.000000   \n",
       "25%    17123.000000  1255.600000  2909.150000  4886.200000   413.000000   \n",
       "50%    20094.500000  1962.600000  3089.300000  6730.500000   530.000000   \n",
       "75%    22871.725000  2893.350000  3238.150000  7089.500000   973.000000   \n",
       "max    35458.900000  9078.400000  3696.800000  7100.500000  2065.000000   \n",
       "\n",
       "            biomas  precio-elect-dia-anterior  MIBGAS-dia-anterior  \n",
       "count  4223.000000                4223.000000          4223.000000  \n",
       "mean    374.144684                  28.813694             8.288518  \n",
       "std     102.061931                  10.929161             2.347374  \n",
       "min     197.000000                   1.020000             4.170000  \n",
       "25%     287.000000                  21.080000             6.040000  \n",
       "50%     373.000000                  28.410000             8.180000  \n",
       "75%     462.000000                  36.670000             9.975000  \n",
       "max     551.000000                  62.480000            14.480000  "
      ]
     },
     "execution_count": 9,
     "metadata": {},
     "output_type": "execute_result"
    }
   ],
   "source": [
    "# Datos estadísticos de cada uno de los atributos\n",
    "dataset.describe()"
   ]
  },
  {
   "cell_type": "markdown",
   "metadata": {},
   "source": [
    "## **3. Visualizar los datos**\n",
    "\n",
    "Una manera visual de entender los datos de entrada. \n",
    "1. Histograma\n",
    "2. Curva de densidad\n",
    "3. Boxplots\n",
    "4. Matriz de correlación\n"
   ]
  },
  {
   "cell_type": "markdown",
   "metadata": {},
   "source": [
    "**1. Histograma**\n",
    "\n",
    "Respresentación gráfica de cada uno de los atributos en forma de barras, donde la superficie de la barra es proporcional a la frecuencia de los valores representados.\n",
    "Aquí observamos que la generación eólica sigue la distribución de Weibull. Tambíen se aprecia en la generación nuclear cuando se prduce la parada de alguna central nuclear debido a mantenimiento o cambio de combustible. Sin embargo, no aparece el histograma de la etiqueta (precio), ya que se trata de un string, no número. "
   ]
  },
  {
   "cell_type": "code",
   "execution_count": 10,
   "metadata": {},
   "outputs": [
    {
     "data": {
      "image/png": "[encoded data removed]",
      "text/plain": [
       "<Figure size 1080x720 with 16 Axes>"
      ]
     },
     "metadata": {
      "needs_background": "light"
     },
     "output_type": "display_data"
    }
   ],
   "source": [
    "histograma = dataset.hist(xlabelsize=10, ylabelsize=10, bins=50, figsize=(15, 10))"
   ]
  },
  {
   "cell_type": "markdown",
   "metadata": {},
   "source": [
    "**2. Gráfico de densidades**\n",
    "\n",
    "Visualiza la distribución de los datos. Es una variable del histograma, pero elimina el ruido, por lo que son mejores para determinar la forma de distribución de un atributo. Lo picos del gráfico de densidad ayudan a mostrar dónde los valores se concentran más. "
   ]
  },
  {
   "cell_type": "code",
   "execution_count": 11,
   "metadata": {},
   "outputs": [
    {
     "data": {
      "image/png": "[encoded data removed]",
      "text/plain": [
       "<Figure size 1224x864 with 16 Axes>"
      ]
     },
     "metadata": {
      "needs_background": "light"
     },
     "output_type": "display_data"
    }
   ],
   "source": [
    "density = dataset.plot(kind='kde', x=4, subplots=True, legend=True, layout=(4, 4), figsize=(17, 12), sharex=False,\n",
    "                        fontsize=8, stacked=True) "
   ]
  },
  {
   "cell_type": "markdown",
   "metadata": {},
   "source": [
    "**3. Boxplots** \n",
    "\n",
    "El boxplot (diagrama de caja) nos permite identificar los valores atípicos y comparar distribuciones. Además, se conoce como se distribuyen el 50% de los valores (dentro de la caja).\n",
    "\n",
    "* **¿Que atributo llama la atención por sus valores atípicos?**. \n",
    "La eólica y el ciclo combinado. Podría pensarse que estos outliers deberían de ser eliminados, pero es todo lo contrario: para días con una generación eólica inusualmente alta, esto será un indicativo muy importante a la hora de predecir el precio, ya que probablemente sea bajo. Sucede al contrario en la generación de ciclo combinado: un valor inusualmente alto de generación de ciclo combinado, indicará probablemente unos altos precios. "
   ]
  },
  {
   "cell_type": "code",
   "execution_count": 12,
   "metadata": {},
   "outputs": [
    {
     "data": {
      "image/png": "[encoded data removed]",
      "text/plain": [
       "<Figure size 1080x720 with 16 Axes>"
      ]
     },
     "metadata": {
      "needs_background": "light"
     },
     "output_type": "display_data"
    }
   ],
   "source": [
    "atributos_boxplot = dataset.plot(kind='box', subplots=True, layout=(4, 4), figsize=(15, 10), sharex=False,\n",
    "                                 sharey=False, fontsize=10)"
   ]
  },
  {
   "cell_type": "code",
   "execution_count": 13,
   "metadata": {
    "scrolled": false
   },
   "outputs": [
    {
     "data": {
      "image/png": "[encoded data removed]",
      "text/plain": [
       "<Figure size 864x864 with 2 Axes>"
      ]
     },
     "metadata": {
      "needs_background": "light"
     },
     "output_type": "display_data"
    }
   ],
   "source": [
    "# Otra librería de visualización de datos\n",
    "import seaborn as sns\n",
    "\n",
    "# Cálculo de coeficientes de correlación\n",
    "corr_matrix = dataset.corr(method='pearson') \n",
    "\n",
    "\n",
    "# Quitar valores repetidos\n",
    "mask = np.zeros_like(corr_matrix, dtype=np.bool)\n",
    "mask[np.triu_indices_from(mask)] = True\n",
    "\n",
    "  \n",
    "f, ax = plt.subplots(figsize=(12, 12))\n",
    "#Generar Heat Map,\n",
    "sns.heatmap(corr_matrix, annot=True, fmt=\".2f\" , mask=mask,)\n",
    "    # xticks\n",
    "plt.xticks(range(len(corr_matrix.columns)), corr_matrix.columns);\n",
    "    # yticks\n",
    "plt.yticks(range(len(corr_matrix.columns)), corr_matrix.columns)\n",
    "    # plot\n",
    "plt.show()"
   ]
  },
  {
   "cell_type": "markdown",
   "metadata": {},
   "source": [
    "No podemos ver la correlación con el precio, debemos pasarlo a numérico [LabelEncoder] \n",
    "\n",
    "[LabelEncoder]: https://scikit-learn.org/stable/modules/generated/sklearn.preprocessing.LabelEncoder.html\n",
    "\n",
    "<div class=\"alert alert-success\">\n",
    "\n",
    "### Label Encoder vs One Hot Encoder\n",
    "Cuando trabajamos con Python y Sklearn, necesitamos que todos los datos que vamos a modelizar sean númericos. Si tenemos variables de tipo string necesitamos previamente transformarlas a números. La forma más rápida para realizar esta tarea es emplear preprocesing de sklearn *LabelEncoder* o *OnehotEncoding*. \n",
    "Hay que tener cuidado con el orden de las codificaciones porque es un orden léxico-gráfico, no va por orden de aparición.\n",
    "    \n",
    "Leer más sobre esto: [TowardsDataScience]\n",
    "    \n",
    "[TowardsDataScience]: https://towardsdatascience.com/choosing-the-right-encoding-method-label-vs-onehot-encoder-a4434493149b\n",
    "</div> \n",
    "\n",
    "<img src=\"Figures/label-hot.jfif\" alt=\"Drawing\" width=\"700\"/>"
   ]
  },
  {
   "cell_type": "code",
   "execution_count": 14,
   "metadata": {},
   "outputs": [
    {
     "name": "stdout",
     "output_type": "stream",
     "text": [
      "['mayor que  40 euros' 'menor que  40 euros']\n",
      "      hora  dia  mes  hidraul  eolica  demanda  ciclocomb  cogener  nuclear  \\\n",
      "0        0    2    1   5221.1  1639.0  13290.5     2500.5   2493.8   7093.6   \n",
      "1        1    2    1   4928.5  1568.4  12720.1     2411.5   2447.8   7091.6   \n",
      "2        2    2    1   4860.3  1566.3  12558.6     2307.5   2446.6   7092.6   \n",
      "3        3    2    1   4980.8  1781.5  12837.5     2307.5   2436.7   7092.6   \n",
      "4        4    2    1   4984.3  1998.2  13100.9     2374.2   2448.3   7094.6   \n",
      "...    ...  ...  ...      ...     ...      ...        ...      ...      ...   \n",
      "4218    19   26    6   4230.5  3680.1  29267.6     7090.4   3200.0   5061.4   \n",
      "4219    20   26    6   4479.3  3828.2  29025.5     7130.7   3203.2   5063.4   \n",
      "4220    21   26    6   3800.5  3712.7  29266.4     6764.1   3217.7   5062.4   \n",
      "4221    22   26    6   3529.7  3780.1  28711.2     6745.1   3215.0   5064.4   \n",
      "4222    23   26    6   2650.6  3676.9  26581.4     6650.9   3209.0   5065.4   \n",
      "\n",
      "      carbon  biomas  precio-elect-dia-anterior  MIBGAS-dia-anterior  precio  \n",
      "0      430.0     270                      41.88                11.27       1  \n",
      "1      430.0     243                      38.60                11.27       1  \n",
      "2      417.0     362                      36.55                11.27       1  \n",
      "3      387.0     369                      32.32                11.27       1  \n",
      "4      387.0     413                      30.85                11.27       1  \n",
      "...      ...     ...                        ...                  ...     ...  \n",
      "4218   946.0     365                      40.44                 7.28       1  \n",
      "4219   946.0     453                      41.23                 7.28       0  \n",
      "4220   946.0     362                      40.24                 7.28       1  \n",
      "4221   946.0     424                      40.10                 7.28       0  \n",
      "4222   946.0     358                      38.63                 7.28       1  \n",
      "\n",
      "[4223 rows x 14 columns]\n"
     ]
    }
   ],
   "source": [
    "from sklearn.preprocessing import LabelEncoder\n",
    "\n",
    "lab_encoder = LabelEncoder() \n",
    "lab_encoder.fit(dataset['precio'])  \n",
    "print(lab_encoder.classes_)  # Muestra las clases diferentes que hay\n",
    "\n",
    "dataset['precio'] = lab_encoder.transform(dataset['precio'])\n",
    "print(dataset)"
   ]
  },
  {
   "cell_type": "code",
   "execution_count": 15,
   "metadata": {},
   "outputs": [],
   "source": [
    "# replace column values 0: menor que 40; 1: mayor que 40. \n",
    "\n",
    "dataset['precio'] = dataset['precio'].map({0:1, 1:0})\n"
   ]
  },
  {
   "cell_type": "code",
   "execution_count": 16,
   "metadata": {
    "scrolled": true
   },
   "outputs": [
    {
     "data": {
      "text/html": [
       "<div>\n",
       "<style scoped>\n",
       "    .dataframe tbody tr th:only-of-type {\n",
       "        vertical-align: middle;\n",
       "    }\n",
       "\n",
       "    .dataframe tbody tr th {\n",
       "        vertical-align: top;\n",
       "    }\n",
       "\n",
       "    .dataframe thead th {\n",
       "        text-align: right;\n",
       "    }\n",
       "</style>\n",
       "<table border=\"1\" class=\"dataframe\">\n",
       "  <thead>\n",
       "    <tr style=\"text-align: right;\">\n",
       "      <th></th>\n",
       "      <th>hora</th>\n",
       "      <th>dia</th>\n",
       "      <th>mes</th>\n",
       "      <th>hidraul</th>\n",
       "      <th>eolica</th>\n",
       "      <th>demanda</th>\n",
       "      <th>ciclocomb</th>\n",
       "      <th>cogener</th>\n",
       "      <th>nuclear</th>\n",
       "      <th>carbon</th>\n",
       "      <th>biomas</th>\n",
       "      <th>precio-elect-dia-anterior</th>\n",
       "      <th>MIBGAS-dia-anterior</th>\n",
       "      <th>precio</th>\n",
       "    </tr>\n",
       "  </thead>\n",
       "  <tbody>\n",
       "    <tr>\n",
       "      <th>0</th>\n",
       "      <td>0</td>\n",
       "      <td>2</td>\n",
       "      <td>1</td>\n",
       "      <td>5221.1</td>\n",
       "      <td>1639.0</td>\n",
       "      <td>13290.5</td>\n",
       "      <td>2500.5</td>\n",
       "      <td>2493.8</td>\n",
       "      <td>7093.6</td>\n",
       "      <td>430.0</td>\n",
       "      <td>270</td>\n",
       "      <td>41.88</td>\n",
       "      <td>11.27</td>\n",
       "      <td>0</td>\n",
       "    </tr>\n",
       "    <tr>\n",
       "      <th>1</th>\n",
       "      <td>1</td>\n",
       "      <td>2</td>\n",
       "      <td>1</td>\n",
       "      <td>4928.5</td>\n",
       "      <td>1568.4</td>\n",
       "      <td>12720.1</td>\n",
       "      <td>2411.5</td>\n",
       "      <td>2447.8</td>\n",
       "      <td>7091.6</td>\n",
       "      <td>430.0</td>\n",
       "      <td>243</td>\n",
       "      <td>38.60</td>\n",
       "      <td>11.27</td>\n",
       "      <td>0</td>\n",
       "    </tr>\n",
       "    <tr>\n",
       "      <th>2</th>\n",
       "      <td>2</td>\n",
       "      <td>2</td>\n",
       "      <td>1</td>\n",
       "      <td>4860.3</td>\n",
       "      <td>1566.3</td>\n",
       "      <td>12558.6</td>\n",
       "      <td>2307.5</td>\n",
       "      <td>2446.6</td>\n",
       "      <td>7092.6</td>\n",
       "      <td>417.0</td>\n",
       "      <td>362</td>\n",
       "      <td>36.55</td>\n",
       "      <td>11.27</td>\n",
       "      <td>0</td>\n",
       "    </tr>\n",
       "    <tr>\n",
       "      <th>3</th>\n",
       "      <td>3</td>\n",
       "      <td>2</td>\n",
       "      <td>1</td>\n",
       "      <td>4980.8</td>\n",
       "      <td>1781.5</td>\n",
       "      <td>12837.5</td>\n",
       "      <td>2307.5</td>\n",
       "      <td>2436.7</td>\n",
       "      <td>7092.6</td>\n",
       "      <td>387.0</td>\n",
       "      <td>369</td>\n",
       "      <td>32.32</td>\n",
       "      <td>11.27</td>\n",
       "      <td>0</td>\n",
       "    </tr>\n",
       "    <tr>\n",
       "      <th>4</th>\n",
       "      <td>4</td>\n",
       "      <td>2</td>\n",
       "      <td>1</td>\n",
       "      <td>4984.3</td>\n",
       "      <td>1998.2</td>\n",
       "      <td>13100.9</td>\n",
       "      <td>2374.2</td>\n",
       "      <td>2448.3</td>\n",
       "      <td>7094.6</td>\n",
       "      <td>387.0</td>\n",
       "      <td>413</td>\n",
       "      <td>30.85</td>\n",
       "      <td>11.27</td>\n",
       "      <td>0</td>\n",
       "    </tr>\n",
       "    <tr>\n",
       "      <th>...</th>\n",
       "      <td>...</td>\n",
       "      <td>...</td>\n",
       "      <td>...</td>\n",
       "      <td>...</td>\n",
       "      <td>...</td>\n",
       "      <td>...</td>\n",
       "      <td>...</td>\n",
       "      <td>...</td>\n",
       "      <td>...</td>\n",
       "      <td>...</td>\n",
       "      <td>...</td>\n",
       "      <td>...</td>\n",
       "      <td>...</td>\n",
       "      <td>...</td>\n",
       "    </tr>\n",
       "    <tr>\n",
       "      <th>4218</th>\n",
       "      <td>19</td>\n",
       "      <td>26</td>\n",
       "      <td>6</td>\n",
       "      <td>4230.5</td>\n",
       "      <td>3680.1</td>\n",
       "      <td>29267.6</td>\n",
       "      <td>7090.4</td>\n",
       "      <td>3200.0</td>\n",
       "      <td>5061.4</td>\n",
       "      <td>946.0</td>\n",
       "      <td>365</td>\n",
       "      <td>40.44</td>\n",
       "      <td>7.28</td>\n",
       "      <td>0</td>\n",
       "    </tr>\n",
       "    <tr>\n",
       "      <th>4219</th>\n",
       "      <td>20</td>\n",
       "      <td>26</td>\n",
       "      <td>6</td>\n",
       "      <td>4479.3</td>\n",
       "      <td>3828.2</td>\n",
       "      <td>29025.5</td>\n",
       "      <td>7130.7</td>\n",
       "      <td>3203.2</td>\n",
       "      <td>5063.4</td>\n",
       "      <td>946.0</td>\n",
       "      <td>453</td>\n",
       "      <td>41.23</td>\n",
       "      <td>7.28</td>\n",
       "      <td>1</td>\n",
       "    </tr>\n",
       "    <tr>\n",
       "      <th>4220</th>\n",
       "      <td>21</td>\n",
       "      <td>26</td>\n",
       "      <td>6</td>\n",
       "      <td>3800.5</td>\n",
       "      <td>3712.7</td>\n",
       "      <td>29266.4</td>\n",
       "      <td>6764.1</td>\n",
       "      <td>3217.7</td>\n",
       "      <td>5062.4</td>\n",
       "      <td>946.0</td>\n",
       "      <td>362</td>\n",
       "      <td>40.24</td>\n",
       "      <td>7.28</td>\n",
       "      <td>0</td>\n",
       "    </tr>\n",
       "    <tr>\n",
       "      <th>4221</th>\n",
       "      <td>22</td>\n",
       "      <td>26</td>\n",
       "      <td>6</td>\n",
       "      <td>3529.7</td>\n",
       "      <td>3780.1</td>\n",
       "      <td>28711.2</td>\n",
       "      <td>6745.1</td>\n",
       "      <td>3215.0</td>\n",
       "      <td>5064.4</td>\n",
       "      <td>946.0</td>\n",
       "      <td>424</td>\n",
       "      <td>40.10</td>\n",
       "      <td>7.28</td>\n",
       "      <td>1</td>\n",
       "    </tr>\n",
       "    <tr>\n",
       "      <th>4222</th>\n",
       "      <td>23</td>\n",
       "      <td>26</td>\n",
       "      <td>6</td>\n",
       "      <td>2650.6</td>\n",
       "      <td>3676.9</td>\n",
       "      <td>26581.4</td>\n",
       "      <td>6650.9</td>\n",
       "      <td>3209.0</td>\n",
       "      <td>5065.4</td>\n",
       "      <td>946.0</td>\n",
       "      <td>358</td>\n",
       "      <td>38.63</td>\n",
       "      <td>7.28</td>\n",
       "      <td>0</td>\n",
       "    </tr>\n",
       "  </tbody>\n",
       "</table>\n",
       "<p>4223 rows × 14 columns</p>\n",
       "</div>"
      ],
      "text/plain": [
       "      hora  dia  mes  hidraul  eolica  demanda  ciclocomb  cogener  nuclear  \\\n",
       "0        0    2    1   5221.1  1639.0  13290.5     2500.5   2493.8   7093.6   \n",
       "1        1    2    1   4928.5  1568.4  12720.1     2411.5   2447.8   7091.6   \n",
       "2        2    2    1   4860.3  1566.3  12558.6     2307.5   2446.6   7092.6   \n",
       "3        3    2    1   4980.8  1781.5  12837.5     2307.5   2436.7   7092.6   \n",
       "4        4    2    1   4984.3  1998.2  13100.9     2374.2   2448.3   7094.6   \n",
       "...    ...  ...  ...      ...     ...      ...        ...      ...      ...   \n",
       "4218    19   26    6   4230.5  3680.1  29267.6     7090.4   3200.0   5061.4   \n",
       "4219    20   26    6   4479.3  3828.2  29025.5     7130.7   3203.2   5063.4   \n",
       "4220    21   26    6   3800.5  3712.7  29266.4     6764.1   3217.7   5062.4   \n",
       "4221    22   26    6   3529.7  3780.1  28711.2     6745.1   3215.0   5064.4   \n",
       "4222    23   26    6   2650.6  3676.9  26581.4     6650.9   3209.0   5065.4   \n",
       "\n",
       "      carbon  biomas  precio-elect-dia-anterior  MIBGAS-dia-anterior  precio  \n",
       "0      430.0     270                      41.88                11.27       0  \n",
       "1      430.0     243                      38.60                11.27       0  \n",
       "2      417.0     362                      36.55                11.27       0  \n",
       "3      387.0     369                      32.32                11.27       0  \n",
       "4      387.0     413                      30.85                11.27       0  \n",
       "...      ...     ...                        ...                  ...     ...  \n",
       "4218   946.0     365                      40.44                 7.28       0  \n",
       "4219   946.0     453                      41.23                 7.28       1  \n",
       "4220   946.0     362                      40.24                 7.28       0  \n",
       "4221   946.0     424                      40.10                 7.28       1  \n",
       "4222   946.0     358                      38.63                 7.28       0  \n",
       "\n",
       "[4223 rows x 14 columns]"
      ]
     },
     "execution_count": 16,
     "metadata": {},
     "output_type": "execute_result"
    }
   ],
   "source": [
    "dataset"
   ]
  },
  {
   "cell_type": "markdown",
   "metadata": {},
   "source": [
    "## *4. Preparar los datos*\n",
    "\n",
    "1. Missing data\n",
    "2. Data cleaning (eliminar outliers).\n",
    "3. LabelEncoding (ya lo hemos hecho)\n",
    "4. Feature engineering\n",
    "5. Transformación."
   ]
  },
  {
   "cell_type": "markdown",
   "metadata": {},
   "source": [
    "Primero, divido los datos en:\n",
    "\n",
    "* **Features/características/atributos/variables de entrada**: **X**\n",
    "* **Target/etiquetas**: y \n",
    "\n",
    "<img src=\"Figures/X_y.png\" alt=\"Drawing\" style=\"width: 700px;\"/>"
   ]
  },
  {
   "cell_type": "code",
   "execution_count": 17,
   "metadata": {},
   "outputs": [
    {
     "name": "stdout",
     "output_type": "stream",
     "text": [
      "<class 'pandas.core.frame.DataFrame'>\n",
      "RangeIndex: 4223 entries, 0 to 4222\n",
      "Data columns (total 13 columns):\n",
      " #   Column                     Non-Null Count  Dtype  \n",
      "---  ------                     --------------  -----  \n",
      " 0   hora                       4223 non-null   int64  \n",
      " 1   dia                        4223 non-null   int64  \n",
      " 2   mes                        4223 non-null   int64  \n",
      " 3   hidraul                    4223 non-null   float64\n",
      " 4   eolica                     4223 non-null   float64\n",
      " 5   demanda                    4220 non-null   float64\n",
      " 6   ciclocomb                  4223 non-null   float64\n",
      " 7   cogener                    4223 non-null   float64\n",
      " 8   nuclear                    4223 non-null   float64\n",
      " 9   carbon                     4220 non-null   float64\n",
      " 10  biomas                     4223 non-null   int64  \n",
      " 11  precio-elect-dia-anterior  4223 non-null   float64\n",
      " 12  MIBGAS-dia-anterior        4223 non-null   float64\n",
      "dtypes: float64(9), int64(4)\n",
      "memory usage: 429.0 KB\n"
     ]
    }
   ],
   "source": [
    "# Atributos X (features); etiquetas y (target)\n",
    "X = dataset.drop(['precio'], axis=1) \n",
    "y = dataset[['precio']]\n",
    "X.info()"
   ]
  },
  {
   "cell_type": "code",
   "execution_count": 18,
   "metadata": {},
   "outputs": [
    {
     "name": "stdout",
     "output_type": "stream",
     "text": [
      "<class 'pandas.core.frame.DataFrame'>\n",
      "RangeIndex: 4223 entries, 0 to 4222\n",
      "Data columns (total 1 columns):\n",
      " #   Column  Non-Null Count  Dtype\n",
      "---  ------  --------------  -----\n",
      " 0   precio  4223 non-null   int64\n",
      "dtypes: int64(1)\n",
      "memory usage: 33.1 KB\n"
     ]
    }
   ],
   "source": [
    "# Imprimo el target \"precio\"\n",
    "y.info()"
   ]
  },
  {
   "cell_type": "markdown",
   "metadata": {},
   "source": [
    "**Missing data**\n",
    "\n",
    "Comprobar si exisiten Nan en los datos de entrada. \n",
    "\n",
    "- Se utiliza el método [fillna] de Pandas.\n",
    "\n",
    "- Más información acerca de cómo imputar valores con [Scikit Learn]\n",
    "\n",
    "[Scikit Learn]: https://scikit-learn.org/stable/modules/impute.html\n",
    "[fillna]: https://pandas.pydata.org/pandas-docs/stable/reference/api/pandas.DataFrame.fillna.html\n",
    "\n",
    "\n",
    "\n"
   ]
  },
  {
   "cell_type": "code",
   "execution_count": 19,
   "metadata": {},
   "outputs": [
    {
     "data": {
      "text/plain": [
       "hora                         0\n",
       "dia                          0\n",
       "mes                          0\n",
       "hidraul                      0\n",
       "eolica                       0\n",
       "demanda                      3\n",
       "ciclocomb                    0\n",
       "cogener                      0\n",
       "nuclear                      0\n",
       "carbon                       3\n",
       "biomas                       0\n",
       "precio-elect-dia-anterior    0\n",
       "MIBGAS-dia-anterior          0\n",
       "dtype: int64"
      ]
     },
     "execution_count": 19,
     "metadata": {},
     "output_type": "execute_result"
    }
   ],
   "source": [
    "# Comprobar si faltan datos en los atributos\n",
    "X.isna().sum()"
   ]
  },
  {
   "cell_type": "code",
   "execution_count": 20,
   "metadata": {
    "scrolled": true
   },
   "outputs": [],
   "source": [
    "# Relleno los missing values de cada atributo con el valor anterior del atributo. \n",
    "X[\"demanda\"].fillna(method='ffill', inplace=True)\n",
    "X[\"carbon\"].interpolate(method='linear', inplace=True)"
   ]
  },
  {
   "cell_type": "code",
   "execution_count": 21,
   "metadata": {},
   "outputs": [
    {
     "data": {
      "text/plain": [
       "precio    0\n",
       "dtype: int64"
      ]
     },
     "execution_count": 21,
     "metadata": {},
     "output_type": "execute_result"
    }
   ],
   "source": [
    "# Comprobar si faltan datos en el target\n",
    "y.isna().sum()"
   ]
  },
  {
   "cell_type": "code",
   "execution_count": 22,
   "metadata": {},
   "outputs": [
    {
     "data": {
      "text/plain": [
       "hora                         0\n",
       "dia                          0\n",
       "mes                          0\n",
       "hidraul                      0\n",
       "eolica                       0\n",
       "demanda                      0\n",
       "ciclocomb                    0\n",
       "cogener                      0\n",
       "nuclear                      0\n",
       "carbon                       0\n",
       "biomas                       0\n",
       "precio-elect-dia-anterior    0\n",
       "MIBGAS-dia-anterior          0\n",
       "dtype: int64"
      ]
     },
     "execution_count": 22,
     "metadata": {},
     "output_type": "execute_result"
    }
   ],
   "source": [
    "# Comprueba que no falta ningún valor\n",
    "X.isna().sum()"
   ]
  },
  {
   "cell_type": "markdown",
   "metadata": {},
   "source": [
    "**3. Feature engineering**\n",
    "\n",
    "Utilizando la matriz de correlación, eliminar los atributos con una correlacion cercana a 0 con la etiqueta **\"precio\"**. \n",
    "\n",
    "* **¿Qué atributo(s) se elimana(n)?** "
   ]
  },
  {
   "cell_type": "code",
   "execution_count": 23,
   "metadata": {},
   "outputs": [],
   "source": [
    "# Elimino el atributo\n",
    "X.drop(['biomas', 'dia', 'eolica', 'mes'], axis='columns', inplace=True)"
   ]
  },
  {
   "cell_type": "markdown",
   "metadata": {},
   "source": [
    "## *5. Dividir los datos*\n",
    "\n",
    "\n",
    "<img src=\"Figures/train-val-test.png\" alt=\"Drawing\" style=\"width: 20px;\"/>\n",
    " "
   ]
  },
  {
   "cell_type": "markdown",
   "metadata": {},
   "source": [
    "\n",
    "<div class=\"alert alert-success\">\n",
    "\n",
    "### ¿En qué proporción dividir el conjunto de datos?\n",
    "\n",
    "A menudo se pregunta en qué proporción hay que dividir el conjunto de datos en conjuntos de entrenamiento, validación y prueba.\n",
    "\n",
    "Esta decisión depende principalmente de dos cosas: i) el número total de muestras de sus datos, ii) del modelo que esté entrenando.\n",
    "\n",
    "* Algunos modelos necesitan un número considerable de datos para entrenarse, por lo que en este caso se optimizarían los conjuntos de entrenamiento más amplios.\n",
    "* Los modelos con muy pocos hiperparámetros serán fáciles de validar y ajustar, por lo que probablemente pueda reducir el tamaño de su conjunto de validación.\n",
    "* Pero si su modelo tiene muchos hiperparámetros, querrá tener también un conjunto de validación significativo.\n",
    "    \n",
    "Como orientación, 65% train, 15% validación, 20% test.\n",
    "    \n",
    "</div> \n"
   ]
  },
  {
   "cell_type": "code",
   "execution_count": 24,
   "metadata": {},
   "outputs": [],
   "source": [
    "from sklearn.model_selection import train_test_split\n",
    "\n",
    "test_size = 0.2  # porcentaje de los datos de entrada que utilizaré para validar el modelo\n",
    "\n",
    "# Divido los datos en datos de entreno, validación y prueba\n",
    "X_train, X_test, y_train, y_test = train_test_split(X, y, test_size=test_size, shuffle=False)\n",
    "\n",
    "X_train, X_val, y_train, y_val = train_test_split(X_train, y_train, test_size=test_size, shuffle=False)"
   ]
  },
  {
   "cell_type": "markdown",
   "metadata": {},
   "source": [
    "**4. Transformación (escalado)**. \n",
    "\n",
    "* **Escalar los datos utilizando el método de *MinMaxScaler()* dentro del rango [0,1].**"
   ]
  },
  {
   "cell_type": "markdown",
   "metadata": {},
   "source": [
    "<div class=\"alert alert-success\">\n",
    "    \n",
    "Hemos hablado previamente de que varios algoritmos de aprendizaje automático son sensibles cuando los datos no están escalados. Hay varios algoritmos de aprendizaje automático que se basan totalmente en el mapeo de la distancia entre los puntos de datos. COmo por ejemplo:\n",
    "    \n",
    "* SVM\n",
    "* KNN\n",
    "* K-means (unsupervised)\n",
    "* Principal Component Analysis (PCA) (Unsupervised)\n",
    "* Redes Neuronales (MLP)\n",
    "\n",
    "RandonForest, CART, Gradient Boosted Decision Trees no necesitan de escalado. \n",
    "\n",
    "Las técnicas más comunes de escalado de características son la **normalización** y la **estandarización**.\n",
    "\n",
    "* La normalización se utiliza cuando queremos acotar nuestros valores entre dos números, normalmente, entre [0,1] o [-1,1].\n",
    "* La estandarización transforma los datos para que tengan una media cero y una varianza de 1. \n",
    "\n",
    "    \n",
    "Más [información]\n",
    "    \n",
    "[información]: https://towardsdatascience.com/all-about-feature-scaling-bcc0ad75cb35\n",
    "    \n",
    "<img src=\"Figures/scaling.png\" alt=\"Drawing\" width=\"700\"/>\n",
    "    \n",
    "</div> "
   ]
  },
  {
   "cell_type": "markdown",
   "metadata": {},
   "source": [
    "<div class=\"alert alert-success\">\n",
    "\n",
    "### Importante!!\n",
    "\n",
    "* Divide los datos (train, validation, test)\n",
    "* Escala los datos de entreno\n",
    "* Escala los datos de test/validación con los parámetros de entreno. \n",
    "\n",
    "</div> "
   ]
  },
  {
   "cell_type": "code",
   "execution_count": 25,
   "metadata": {
    "scrolled": true
   },
   "outputs": [
    {
     "data": {
      "text/html": [
       "<div>\n",
       "<style scoped>\n",
       "    .dataframe tbody tr th:only-of-type {\n",
       "        vertical-align: middle;\n",
       "    }\n",
       "\n",
       "    .dataframe tbody tr th {\n",
       "        vertical-align: top;\n",
       "    }\n",
       "\n",
       "    .dataframe thead th {\n",
       "        text-align: right;\n",
       "    }\n",
       "</style>\n",
       "<table border=\"1\" class=\"dataframe\">\n",
       "  <thead>\n",
       "    <tr style=\"text-align: right;\">\n",
       "      <th></th>\n",
       "      <th>hora</th>\n",
       "      <th>hidraul</th>\n",
       "      <th>demanda</th>\n",
       "      <th>ciclocomb</th>\n",
       "      <th>cogener</th>\n",
       "      <th>nuclear</th>\n",
       "      <th>carbon</th>\n",
       "      <th>precio-elect-dia-anterior</th>\n",
       "      <th>MIBGAS-dia-anterior</th>\n",
       "    </tr>\n",
       "  </thead>\n",
       "  <tbody>\n",
       "    <tr>\n",
       "      <th>0</th>\n",
       "      <td>0.000000</td>\n",
       "      <td>0.665797</td>\n",
       "      <td>0.031960</td>\n",
       "      <td>0.236761</td>\n",
       "      <td>0.357131</td>\n",
       "      <td>0.996590</td>\n",
       "      <td>0.208232</td>\n",
       "      <td>0.659673</td>\n",
       "      <td>0.574271</td>\n",
       "    </tr>\n",
       "    <tr>\n",
       "      <th>1</th>\n",
       "      <td>0.043478</td>\n",
       "      <td>0.621162</td>\n",
       "      <td>0.007052</td>\n",
       "      <td>0.226434</td>\n",
       "      <td>0.332550</td>\n",
       "      <td>0.995602</td>\n",
       "      <td>0.208232</td>\n",
       "      <td>0.605485</td>\n",
       "      <td>0.574271</td>\n",
       "    </tr>\n",
       "    <tr>\n",
       "      <th>2</th>\n",
       "      <td>0.086957</td>\n",
       "      <td>0.610758</td>\n",
       "      <td>0.000000</td>\n",
       "      <td>0.214367</td>\n",
       "      <td>0.331908</td>\n",
       "      <td>0.996096</td>\n",
       "      <td>0.201937</td>\n",
       "      <td>0.571617</td>\n",
       "      <td>0.574271</td>\n",
       "    </tr>\n",
       "    <tr>\n",
       "      <th>3</th>\n",
       "      <td>0.130435</td>\n",
       "      <td>0.629140</td>\n",
       "      <td>0.012179</td>\n",
       "      <td>0.214367</td>\n",
       "      <td>0.326618</td>\n",
       "      <td>0.996096</td>\n",
       "      <td>0.187409</td>\n",
       "      <td>0.501735</td>\n",
       "      <td>0.574271</td>\n",
       "    </tr>\n",
       "    <tr>\n",
       "      <th>4</th>\n",
       "      <td>0.173913</td>\n",
       "      <td>0.629674</td>\n",
       "      <td>0.023681</td>\n",
       "      <td>0.222106</td>\n",
       "      <td>0.332817</td>\n",
       "      <td>0.997084</td>\n",
       "      <td>0.187409</td>\n",
       "      <td>0.477449</td>\n",
       "      <td>0.574271</td>\n",
       "    </tr>\n",
       "  </tbody>\n",
       "</table>\n",
       "</div>"
      ],
      "text/plain": [
       "       hora   hidraul   demanda  ciclocomb   cogener   nuclear    carbon  \\\n",
       "0  0.000000  0.665797  0.031960   0.236761  0.357131  0.996590  0.208232   \n",
       "1  0.043478  0.621162  0.007052   0.226434  0.332550  0.995602  0.208232   \n",
       "2  0.086957  0.610758  0.000000   0.214367  0.331908  0.996096  0.201937   \n",
       "3  0.130435  0.629140  0.012179   0.214367  0.326618  0.996096  0.187409   \n",
       "4  0.173913  0.629674  0.023681   0.222106  0.332817  0.997084  0.187409   \n",
       "\n",
       "   precio-elect-dia-anterior  MIBGAS-dia-anterior  \n",
       "0                   0.659673             0.574271  \n",
       "1                   0.605485             0.574271  \n",
       "2                   0.571617             0.574271  \n",
       "3                   0.501735             0.574271  \n",
       "4                   0.477449             0.574271  "
      ]
     },
     "execution_count": 25,
     "metadata": {},
     "output_type": "execute_result"
    }
   ],
   "source": [
    "from sklearn.preprocessing import MinMaxScaler\n",
    "\n",
    "scaler = MinMaxScaler()\n",
    "X_train_sc = X_train.copy()\n",
    "X_train_sc = pd.DataFrame(scaler.fit_transform(X_train))  # FIT() + TRANSFORM()\n",
    "X_train_sc.columns = X_train.columns\n",
    "X_train_sc.head()"
   ]
  },
  {
   "cell_type": "markdown",
   "metadata": {},
   "source": [
    "## *6. Construcción y evaluación de modelos*"
   ]
  },
  {
   "cell_type": "markdown",
   "metadata": {},
   "source": [
    "* Seleccionamos **[balanced_accuracy]** como métrica de evaluación. \n",
    "* Métricas de evaluación disponibles en [Scikit-Learn].\n",
    "\n",
    "\n",
    "[Scikit-Learn]: https://scikit-learn.org/stable/modules/model_evaluation.html\n",
    "\n",
    "[balanced_accuracy]: https://scikit-learn.org/stable/modules/generated/sklearn.metrics.balanced_accuracy_score.html\n",
    "\n",
    "* Recordar utilizar siempre el mismo random_state para poder comparar resultados. "
   ]
  },
  {
   "cell_type": "code",
   "execution_count": 26,
   "metadata": {},
   "outputs": [
    {
     "name": "stdout",
     "output_type": "stream",
     "text": [
      "Requirement already satisfied: xgboost in c:\\users\\anton\\anaconda3\\lib\\site-packages (1.7.2)\n",
      "Requirement already satisfied: scipy in c:\\users\\anton\\anaconda3\\lib\\site-packages (from xgboost) (1.7.1)\n",
      "Requirement already satisfied: numpy in c:\\users\\anton\\anaconda3\\lib\\site-packages (from xgboost) (1.20.3)\n"
     ]
    }
   ],
   "source": [
    "!pip install xgboost\n"
   ]
  },
  {
   "cell_type": "code",
   "execution_count": 27,
   "metadata": {},
   "outputs": [],
   "source": [
    "from sklearn.linear_model import LogisticRegression\n",
    "from sklearn.ensemble import RandomForestClassifier\n",
    "from sklearn.neighbors import KNeighborsClassifier\n",
    "from sklearn.neural_network import MLPClassifier\n",
    "import xgboost as xgb  \n",
    "\n",
    "num_folds = 5\n",
    "error_metrics = {'balanced_accuracy'}\n",
    "models = { ('LR', LogisticRegression()), \n",
    "          ('KNN', KNeighborsClassifier()),\n",
    "           ('RF', RandomForestClassifier())\n",
    "         }\n",
    "\n",
    "results = [] # guarda los resultados de las métricas de evaluación\n",
    "names = []  # Nombre de cada algoritmo\n",
    "msg = []  # imprime el resumen del método de cross-validation\n"
   ]
  },
  {
   "cell_type": "markdown",
   "metadata": {},
   "source": [
    "* **¿Cuál obtiene mejores resultados?** \n",
    "* **¿Qué balanced_accuracy obtiene?** El Random Forest obtiene mejores resultados, con un balance accuracy superior a 0.85"
   ]
  },
  {
   "cell_type": "code",
   "execution_count": 28,
   "metadata": {
    "scrolled": true
   },
   "outputs": [
    {
     "name": "stdout",
     "output_type": "stream",
     "text": [
      "Métrica de evaluación:  balanced_accuracy\n",
      "Modelo  LR\n",
      "Modelo  RF\n",
      "Modelo  KNN\n",
      "[('LR', 0.8361014216207675, 0.13336039470456285), ('RF', 0.8113700778873527, 0.15226202284310075), ('KNN', 0.7852913773917098, 0.12873043713577842)]\n"
     ]
    },
    {
     "data": {
      "image/png": "[encoded data removed]",
      "text/plain": [
       "<Figure size 576x360 with 1 Axes>"
      ]
     },
     "metadata": {},
     "output_type": "display_data"
    }
   ],
   "source": [
    "from sklearn.model_selection import cross_val_score, GridSearchCV\n",
    "from sklearn.model_selection import StratifiedKFold, TimeSeriesSplit\n",
    "\n",
    "# Entreno con validación cruzada\n",
    "for scoring in error_metrics:\n",
    "    print('Métrica de evaluación: ', scoring)\n",
    "    for name, model in models:\n",
    "        print('Modelo ', name)\n",
    "        cross_validation = TimeSeriesSplit(n_splits=num_folds)\n",
    "        cv_results = cross_val_score(model, X_train, y_train, cv=cross_validation, scoring=scoring)\n",
    "        results.append(cv_results)\n",
    "        names.append(name)\n",
    "        resume = (name, cv_results.mean(), cv_results.std())\n",
    "        msg.append(resume)\n",
    "    print(msg)\n",
    "\n",
    "    # Comparar resultados entre algoritmos\n",
    "    sns.set(rc={'figure.figsize':(8,5)})\n",
    "    fig = plt.figure()\n",
    "    fig.suptitle('Comparación de algoritmos con métrica de evaluación: %s' %scoring)\n",
    "    ax = fig.add_subplot(111)\n",
    "    ax.set_xlabel('Modelos candidatos')\n",
    "    ax.set_ylabel('%s' %scoring)\n",
    "    plt.boxplot(results)\n",
    "    ax.set_xticklabels(names)\n",
    "    plt.show()\n",
    "\n",
    "    results = []\n"
   ]
  },
  {
   "cell_type": "markdown",
   "metadata": {},
   "source": [
    "## *7. Ajustar hiperparámetros*\n",
    "\n",
    "Pasos para realizar el hiperajuste de los parámetros:\n",
    "[RandomForest] parámeteros\n",
    "\n",
    "* Métrica para optimizar: *balanced_accuracy*\n",
    "* Definir los rangos de los parámetros de búsqueda: *params*\n",
    "* Entrenar con los datos de validación: *X_val*\n",
    "* Escalar los valores de validación (aunque en RF no sería necesario)\n",
    "\n",
    "[RandomForest]:https://scikit-learn.org/stable/modules/generated/sklearn.ensemble.RandomForestClassifier.html"
   ]
  },
  {
   "cell_type": "code",
   "execution_count": 29,
   "metadata": {},
   "outputs": [
    {
     "name": "stdout",
     "output_type": "stream",
     "text": [
      "Fitting 10 folds for each of 12 candidates, totalling 120 fits\n",
      "[CV] END bootstrap=True, min_samples_split=2, n_estimators=100; total time=   0.0s\n",
      "[CV] END bootstrap=True, min_samples_split=2, n_estimators=100; total time=   0.0s\n",
      "[CV] END bootstrap=True, min_samples_split=2, n_estimators=100; total time=   0.0s\n",
      "[CV] END bootstrap=True, min_samples_split=2, n_estimators=100; total time=   0.0s\n",
      "[CV] END bootstrap=True, min_samples_split=2, n_estimators=100; total time=   0.0s\n",
      "[CV] END bootstrap=True, min_samples_split=2, n_estimators=100; total time=   0.0s\n",
      "[CV] END bootstrap=True, min_samples_split=2, n_estimators=100; total time=   0.0s\n",
      "[CV] END bootstrap=True, min_samples_split=2, n_estimators=100; total time=   0.0s\n",
      "[CV] END bootstrap=True, min_samples_split=2, n_estimators=100; total time=   0.0s\n",
      "[CV] END bootstrap=True, min_samples_split=2, n_estimators=100; total time=   0.0s\n",
      "[CV] END bootstrap=True, min_samples_split=2, n_estimators=500; total time=   0.5s\n",
      "[CV] END bootstrap=True, min_samples_split=2, n_estimators=500; total time=   0.5s\n",
      "[CV] END bootstrap=True, min_samples_split=2, n_estimators=500; total time=   0.5s\n",
      "[CV] END bootstrap=True, min_samples_split=2, n_estimators=500; total time=   0.5s\n",
      "[CV] END bootstrap=True, min_samples_split=2, n_estimators=500; total time=   0.5s\n",
      "[CV] END bootstrap=True, min_samples_split=2, n_estimators=500; total time=   0.5s\n",
      "[CV] END bootstrap=True, min_samples_split=2, n_estimators=500; total time=   0.5s\n",
      "[CV] END bootstrap=True, min_samples_split=2, n_estimators=500; total time=   0.5s\n",
      "[CV] END bootstrap=True, min_samples_split=2, n_estimators=500; total time=   0.5s\n",
      "[CV] END bootstrap=True, min_samples_split=2, n_estimators=500; total time=   0.5s\n",
      "[CV] END bootstrap=True, min_samples_split=2, n_estimators=800; total time=   0.9s\n",
      "[CV] END bootstrap=True, min_samples_split=2, n_estimators=800; total time=   0.9s\n",
      "[CV] END bootstrap=True, min_samples_split=2, n_estimators=800; total time=   0.9s\n",
      "[CV] END bootstrap=True, min_samples_split=2, n_estimators=800; total time=   0.9s\n",
      "[CV] END bootstrap=True, min_samples_split=2, n_estimators=800; total time=   0.9s\n",
      "[CV] END bootstrap=True, min_samples_split=2, n_estimators=800; total time=   0.9s\n",
      "[CV] END bootstrap=True, min_samples_split=2, n_estimators=800; total time=   0.9s\n",
      "[CV] END bootstrap=True, min_samples_split=2, n_estimators=800; total time=   0.9s\n",
      "[CV] END bootstrap=True, min_samples_split=2, n_estimators=800; total time=   0.9s\n",
      "[CV] END bootstrap=True, min_samples_split=2, n_estimators=800; total time=   0.9s\n",
      "[CV] END bootstrap=True, min_samples_split=4, n_estimators=100; total time=   0.0s\n",
      "[CV] END bootstrap=True, min_samples_split=4, n_estimators=100; total time=   0.0s\n",
      "[CV] END bootstrap=True, min_samples_split=4, n_estimators=100; total time=   0.0s\n",
      "[CV] END bootstrap=True, min_samples_split=4, n_estimators=100; total time=   0.0s\n",
      "[CV] END bootstrap=True, min_samples_split=4, n_estimators=100; total time=   0.0s\n",
      "[CV] END bootstrap=True, min_samples_split=4, n_estimators=100; total time=   0.0s\n",
      "[CV] END bootstrap=True, min_samples_split=4, n_estimators=100; total time=   0.0s\n",
      "[CV] END bootstrap=True, min_samples_split=4, n_estimators=100; total time=   0.0s\n",
      "[CV] END bootstrap=True, min_samples_split=4, n_estimators=100; total time=   0.0s\n",
      "[CV] END bootstrap=True, min_samples_split=4, n_estimators=100; total time=   0.0s\n",
      "[CV] END bootstrap=True, min_samples_split=4, n_estimators=500; total time=   0.5s\n",
      "[CV] END bootstrap=True, min_samples_split=4, n_estimators=500; total time=   0.5s\n",
      "[CV] END bootstrap=True, min_samples_split=4, n_estimators=500; total time=   0.5s\n",
      "[CV] END bootstrap=True, min_samples_split=4, n_estimators=500; total time=   0.5s\n",
      "[CV] END bootstrap=True, min_samples_split=4, n_estimators=500; total time=   0.5s\n",
      "[CV] END bootstrap=True, min_samples_split=4, n_estimators=500; total time=   0.5s\n",
      "[CV] END bootstrap=True, min_samples_split=4, n_estimators=500; total time=   0.5s\n",
      "[CV] END bootstrap=True, min_samples_split=4, n_estimators=500; total time=   0.5s\n",
      "[CV] END bootstrap=True, min_samples_split=4, n_estimators=500; total time=   0.5s\n",
      "[CV] END bootstrap=True, min_samples_split=4, n_estimators=500; total time=   0.5s\n",
      "[CV] END bootstrap=True, min_samples_split=4, n_estimators=800; total time=   0.9s\n",
      "[CV] END bootstrap=True, min_samples_split=4, n_estimators=800; total time=   0.9s\n",
      "[CV] END bootstrap=True, min_samples_split=4, n_estimators=800; total time=   0.9s\n",
      "[CV] END bootstrap=True, min_samples_split=4, n_estimators=800; total time=   0.9s\n",
      "[CV] END bootstrap=True, min_samples_split=4, n_estimators=800; total time=   0.9s\n",
      "[CV] END bootstrap=True, min_samples_split=4, n_estimators=800; total time=   0.9s\n",
      "[CV] END bootstrap=True, min_samples_split=4, n_estimators=800; total time=   0.9s\n",
      "[CV] END bootstrap=True, min_samples_split=4, n_estimators=800; total time=   0.9s\n",
      "[CV] END bootstrap=True, min_samples_split=4, n_estimators=800; total time=   1.0s\n",
      "[CV] END bootstrap=True, min_samples_split=4, n_estimators=800; total time=   0.9s\n",
      "[CV] END bootstrap=False, min_samples_split=2, n_estimators=100; total time=   0.0s\n",
      "[CV] END bootstrap=False, min_samples_split=2, n_estimators=100; total time=   0.0s\n",
      "[CV] END bootstrap=False, min_samples_split=2, n_estimators=100; total time=   0.0s\n",
      "[CV] END bootstrap=False, min_samples_split=2, n_estimators=100; total time=   0.0s\n",
      "[CV] END bootstrap=False, min_samples_split=2, n_estimators=100; total time=   0.0s\n",
      "[CV] END bootstrap=False, min_samples_split=2, n_estimators=100; total time=   0.0s\n",
      "[CV] END bootstrap=False, min_samples_split=2, n_estimators=100; total time=   0.0s\n",
      "[CV] END bootstrap=False, min_samples_split=2, n_estimators=100; total time=   0.0s\n",
      "[CV] END bootstrap=False, min_samples_split=2, n_estimators=100; total time=   0.0s\n",
      "[CV] END bootstrap=False, min_samples_split=2, n_estimators=100; total time=   0.0s\n",
      "[CV] END bootstrap=False, min_samples_split=2, n_estimators=500; total time=   0.4s\n",
      "[CV] END bootstrap=False, min_samples_split=2, n_estimators=500; total time=   0.4s\n",
      "[CV] END bootstrap=False, min_samples_split=2, n_estimators=500; total time=   0.4s\n",
      "[CV] END bootstrap=False, min_samples_split=2, n_estimators=500; total time=   0.4s\n",
      "[CV] END bootstrap=False, min_samples_split=2, n_estimators=500; total time=   0.4s\n",
      "[CV] END bootstrap=False, min_samples_split=2, n_estimators=500; total time=   0.4s\n",
      "[CV] END bootstrap=False, min_samples_split=2, n_estimators=500; total time=   0.4s\n",
      "[CV] END bootstrap=False, min_samples_split=2, n_estimators=500; total time=   0.4s\n",
      "[CV] END bootstrap=False, min_samples_split=2, n_estimators=500; total time=   0.4s\n",
      "[CV] END bootstrap=False, min_samples_split=2, n_estimators=500; total time=   0.4s\n",
      "[CV] END bootstrap=False, min_samples_split=2, n_estimators=800; total time=   0.6s\n",
      "[CV] END bootstrap=False, min_samples_split=2, n_estimators=800; total time=   0.6s\n",
      "[CV] END bootstrap=False, min_samples_split=2, n_estimators=800; total time=   0.6s\n",
      "[CV] END bootstrap=False, min_samples_split=2, n_estimators=800; total time=   0.6s\n",
      "[CV] END bootstrap=False, min_samples_split=2, n_estimators=800; total time=   0.6s\n",
      "[CV] END bootstrap=False, min_samples_split=2, n_estimators=800; total time=   0.6s\n",
      "[CV] END bootstrap=False, min_samples_split=2, n_estimators=800; total time=   0.7s\n",
      "[CV] END bootstrap=False, min_samples_split=2, n_estimators=800; total time=   0.7s\n",
      "[CV] END bootstrap=False, min_samples_split=2, n_estimators=800; total time=   0.6s\n",
      "[CV] END bootstrap=False, min_samples_split=2, n_estimators=800; total time=   0.7s\n",
      "[CV] END bootstrap=False, min_samples_split=4, n_estimators=100; total time=   0.0s\n",
      "[CV] END bootstrap=False, min_samples_split=4, n_estimators=100; total time=   0.0s\n",
      "[CV] END bootstrap=False, min_samples_split=4, n_estimators=100; total time=   0.0s\n",
      "[CV] END bootstrap=False, min_samples_split=4, n_estimators=100; total time=   0.0s\n",
      "[CV] END bootstrap=False, min_samples_split=4, n_estimators=100; total time=   0.0s\n",
      "[CV] END bootstrap=False, min_samples_split=4, n_estimators=100; total time=   0.0s\n",
      "[CV] END bootstrap=False, min_samples_split=4, n_estimators=100; total time=   0.0s\n",
      "[CV] END bootstrap=False, min_samples_split=4, n_estimators=100; total time=   0.0s\n"
     ]
    },
    {
     "name": "stdout",
     "output_type": "stream",
     "text": [
      "[CV] END bootstrap=False, min_samples_split=4, n_estimators=100; total time=   0.0s\n",
      "[CV] END bootstrap=False, min_samples_split=4, n_estimators=100; total time=   0.0s\n",
      "[CV] END bootstrap=False, min_samples_split=4, n_estimators=500; total time=   0.4s\n",
      "[CV] END bootstrap=False, min_samples_split=4, n_estimators=500; total time=   0.4s\n",
      "[CV] END bootstrap=False, min_samples_split=4, n_estimators=500; total time=   0.4s\n",
      "[CV] END bootstrap=False, min_samples_split=4, n_estimators=500; total time=   0.4s\n",
      "[CV] END bootstrap=False, min_samples_split=4, n_estimators=500; total time=   0.4s\n",
      "[CV] END bootstrap=False, min_samples_split=4, n_estimators=500; total time=   0.4s\n",
      "[CV] END bootstrap=False, min_samples_split=4, n_estimators=500; total time=   0.4s\n",
      "[CV] END bootstrap=False, min_samples_split=4, n_estimators=500; total time=   0.4s\n",
      "[CV] END bootstrap=False, min_samples_split=4, n_estimators=500; total time=   0.4s\n",
      "[CV] END bootstrap=False, min_samples_split=4, n_estimators=500; total time=   0.4s\n",
      "[CV] END bootstrap=False, min_samples_split=4, n_estimators=800; total time=   0.6s\n",
      "[CV] END bootstrap=False, min_samples_split=4, n_estimators=800; total time=   0.6s\n",
      "[CV] END bootstrap=False, min_samples_split=4, n_estimators=800; total time=   0.6s\n",
      "[CV] END bootstrap=False, min_samples_split=4, n_estimators=800; total time=   0.6s\n",
      "[CV] END bootstrap=False, min_samples_split=4, n_estimators=800; total time=   0.6s\n",
      "[CV] END bootstrap=False, min_samples_split=4, n_estimators=800; total time=   0.6s\n",
      "[CV] END bootstrap=False, min_samples_split=4, n_estimators=800; total time=   0.6s\n",
      "[CV] END bootstrap=False, min_samples_split=4, n_estimators=800; total time=   0.7s\n",
      "[CV] END bootstrap=False, min_samples_split=4, n_estimators=800; total time=   0.6s\n",
      "[CV] END bootstrap=False, min_samples_split=4, n_estimators=800; total time=   0.7s\n",
      "Mejor resultado: 1.000000 utilizando los siguientes hiperparámetros {'bootstrap': True, 'min_samples_split': 2, 'n_estimators': 100}\n"
     ]
    }
   ],
   "source": [
    "\n",
    "from sklearn.model_selection import TimeSeriesSplit\n",
    "\n",
    "X_val_sc = scaler.transform(X_val)  # Aquí aplico solo el .transform(), no el .fit() -- para usar los parámetros de train. \n",
    "\n",
    "# RF\n",
    "modelo = RandomForestClassifier()\n",
    "hyperparams = {\n",
    "     'n_estimators': [100, 500, 800], #default=100\n",
    "     'min_samples_split': [2, 4], #default=2\n",
    "     'bootstrap': [True, False],  #default=True\n",
    " }\n",
    "\n",
    "scoring='balanced_accuracy'\n",
    "cross_validation = TimeSeriesSplit(n_splits=10)\n",
    "my_cv = cross_validation.split(X_val_sc, y_val)\n",
    "gsearch = GridSearchCV(estimator=modelo, param_grid=hyperparams, scoring=scoring, cv=my_cv, verbose=2) \n",
    "gsearch.fit(X_val_sc, y_val)\n",
    "\n",
    "print(\"Mejor resultado: %f utilizando los siguientes hiperparámetros %s\" % (gsearch.best_score_, gsearch.best_params_))\n",
    "means = gsearch.cv_results_['mean_test_score']\n",
    "stds = gsearch.cv_results_['std_test_score']\n",
    "params = gsearch.cv_results_['params']\n",
    "# for mean, stdev, param in zip(means, stds, params):\n",
    "#     print(\"%f (%f) with: %r\" % (mean, stdev, param))"
   ]
  },
  {
   "cell_type": "markdown",
   "metadata": {},
   "source": [
    "## *8. Evaluación final del modelo*\n",
    "\n"
   ]
  },
  {
   "cell_type": "markdown",
   "metadata": {},
   "source": [
    "Métricas de evaluación:\n",
    "  * 1. Matriz de confusión\n",
    "  * 2. Coeficiente de Matthews (MCC)\n",
    "\n",
    "    \n",
    "**Entrena el modelo con los hiperparámetros óptimos encontrados en el apartado anterior y realiza las predicciones.** "
   ]
  },
  {
   "cell_type": "code",
   "execution_count": 30,
   "metadata": {},
   "outputs": [],
   "source": [
    "# modelo_final = RandomForestClassifier(max_features='sqrt', min_samples_split=5,  n_estimators=400, class_weight={0:1,1:5})\n",
    "modelo_final =RandomForestClassifier(bootstrap=False, min_samples_split=2, n_estimators= 800)\n",
    "modelo_final.fit(X_train_sc,y_train)  # Se entrena al modelo RF con los hiperparámetros seleccionados.\n",
    "\n",
    "# Escalo el test data\n",
    "X_test_sc = scaler.transform(X_test)\n",
    "\n",
    "# Realizo las predicciones\n",
    "y_predict = modelo_final.predict(X_test_sc)  # Se calculan las predicciones\n"
   ]
  },
  {
   "cell_type": "code",
   "execution_count": 31,
   "metadata": {},
   "outputs": [
    {
     "name": "stdout",
     "output_type": "stream",
     "text": [
      "Requirement already satisfied: shap in c:\\users\\anton\\anaconda3\\lib\\site-packages (0.41.0)\n",
      "Requirement already satisfied: scipy in c:\\users\\anton\\anaconda3\\lib\\site-packages (from shap) (1.7.1)\n",
      "Requirement already satisfied: tqdm>4.25.0 in c:\\users\\anton\\anaconda3\\lib\\site-packages (from shap) (4.62.3)\n",
      "Requirement already satisfied: cloudpickle in c:\\users\\anton\\anaconda3\\lib\\site-packages (from shap) (2.0.0)\n",
      "Requirement already satisfied: pandas in c:\\users\\anton\\anaconda3\\lib\\site-packages (from shap) (1.3.4)\n",
      "Requirement already satisfied: packaging>20.9 in c:\\users\\anton\\anaconda3\\lib\\site-packages (from shap) (22.0)\n",
      "Requirement already satisfied: numpy in c:\\users\\anton\\anaconda3\\lib\\site-packages (from shap) (1.20.3)\n",
      "Requirement already satisfied: numba in c:\\users\\anton\\anaconda3\\lib\\site-packages (from shap) (0.54.1)\n",
      "Requirement already satisfied: scikit-learn in c:\\users\\anton\\anaconda3\\lib\\site-packages (from shap) (0.24.2)\n",
      "Requirement already satisfied: slicer==0.0.7 in c:\\users\\anton\\anaconda3\\lib\\site-packages (from shap) (0.0.7)\n",
      "Requirement already satisfied: colorama in c:\\users\\anton\\anaconda3\\lib\\site-packages (from tqdm>4.25.0->shap) (0.4.4)\n",
      "Requirement already satisfied: llvmlite<0.38,>=0.37.0rc1 in c:\\users\\anton\\anaconda3\\lib\\site-packages (from numba->shap) (0.37.0)\n",
      "Requirement already satisfied: setuptools in c:\\users\\anton\\anaconda3\\lib\\site-packages (from numba->shap) (58.0.4)\n",
      "Requirement already satisfied: python-dateutil>=2.7.3 in c:\\users\\anton\\anaconda3\\lib\\site-packages (from pandas->shap) (2.8.2)\n",
      "Requirement already satisfied: pytz>=2017.3 in c:\\users\\anton\\anaconda3\\lib\\site-packages (from pandas->shap) (2021.3)\n",
      "Requirement already satisfied: six>=1.5 in c:\\users\\anton\\anaconda3\\lib\\site-packages (from python-dateutil>=2.7.3->pandas->shap) (1.16.0)\n",
      "Requirement already satisfied: joblib>=0.11 in c:\\users\\anton\\anaconda3\\lib\\site-packages (from scikit-learn->shap) (1.1.0)\n",
      "Requirement already satisfied: threadpoolctl>=2.0.0 in c:\\users\\anton\\anaconda3\\lib\\site-packages (from scikit-learn->shap) (2.2.0)\n"
     ]
    }
   ],
   "source": [
    "# Instalamos la librería shap para realizar un gráfico\n",
    "!pip install shap"
   ]
  },
  {
   "cell_type": "markdown",
   "metadata": {},
   "source": [
    "## Métricas de Evaluación"
   ]
  },
  {
   "cell_type": "markdown",
   "metadata": {},
   "source": [
    "**1. Matriz de confusión**\n",
    "\n",
    "La matriz de confusión es una herramienta muy útil para valorar cómo de bueno es un modelo clasificación basado en aprendizaje automático. En particular, sirve para mostrar de forma explícita cuándo una clase es confundida con otra, lo cual nos, permite trabajar de forma separada con distintos tipos de error. "
   ]
  },
  {
   "cell_type": "code",
   "execution_count": 32,
   "metadata": {},
   "outputs": [
    {
     "name": "stdout",
     "output_type": "stream",
     "text": [
      "              precision    recall  f1-score   support\n",
      "\n",
      "           0       0.99      1.00      0.99       838\n",
      "           1       0.33      0.29      0.31         7\n",
      "\n",
      "    accuracy                           0.99       845\n",
      "   macro avg       0.66      0.64      0.65       845\n",
      "weighted avg       0.99      0.99      0.99       845\n",
      "\n",
      "[[834   4]\n",
      " [  5   2]]\n"
     ]
    }
   ],
   "source": [
    "from sklearn.metrics import confusion_matrix, classification_report, plot_confusion_matrix\n",
    "\n",
    "confusion_matrix = confusion_matrix(y_test, y_predict)\n",
    "print(classification_report(y_test, y_predict))\n",
    "print(confusion_matrix)"
   ]
  },
  {
   "cell_type": "code",
   "execution_count": 33,
   "metadata": {},
   "outputs": [
    {
     "data": {
      "image/png": "[encoded data removed]",
      "text/plain": [
       "<Figure size 576x360 with 2 Axes>"
      ]
     },
     "metadata": {},
     "output_type": "display_data"
    }
   ],
   "source": [
    "# Gráfico no normalizado de la martiz de confusión\n",
    "\n",
    "disp = plot_confusion_matrix(modelo_final, X_test_sc, y_test,\n",
    "                                 cmap=plt.cm.Blues, values_format = '')\n",
    "sns.set(rc={'figure.figsize':(5,5)})"
   ]
  },
  {
   "cell_type": "markdown",
   "metadata": {},
   "source": [
    "**3. Curva ROC / AUC**.\n",
    "\n",
    "* Curva ROC: Curva de la tasa de verdaderos positivos frente a la tasa de falsos positivos con diferentes umbrales de clasificación.\n",
    "\n",
    "* AUC: (Área bajo la curva): El área bajo la curva (AUC) ROC es la probabilidad de que un clasificador tenga más confianza en que un ejemplo positivo elegido al azar sea realmente positivo en relación con que un ejemplo negativo elegido al azar sea positivo."
   ]
  },
  {
   "cell_type": "code",
   "execution_count": 34,
   "metadata": {},
   "outputs": [
    {
     "data": {
      "image/png": "[encoded data removed]",
      "text/plain": [
       "<Figure size 360x360 with 1 Axes>"
      ]
     },
     "metadata": {},
     "output_type": "display_data"
    }
   ],
   "source": [
    "from sklearn.metrics import roc_auc_score, plot_roc_curve, roc_curve, auc\n",
    "\n",
    "plot_roc_curve(modelo_final, X_test_sc, y_test)\n",
    "auc = roc_auc_score(y_test, y_predict)"
   ]
  }
 ],
 "metadata": {
  "kernelspec": {
   "display_name": "Python 3 (ipykernel)",
   "language": "python",
   "name": "python3"
  },
  "language_info": {
   "codemirror_mode": {
    "name": "ipython",
    "version": 3
   },
   "file_extension": ".py",
   "mimetype": "text/x-python",
   "name": "python",
   "nbconvert_exporter": "python",
   "pygments_lexer": "ipython3",
   "version": "3.9.7"
  }
 },
 "nbformat": 4,
 "nbformat_minor": 2
}
